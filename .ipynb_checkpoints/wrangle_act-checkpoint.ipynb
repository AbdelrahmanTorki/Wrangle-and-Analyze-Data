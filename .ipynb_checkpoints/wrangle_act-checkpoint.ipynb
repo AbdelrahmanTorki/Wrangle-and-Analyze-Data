{
 "cells": [
  {
   "cell_type": "markdown",
   "metadata": {},
   "source": [
    "## Data Wrangling"
   ]
  },
  {
   "cell_type": "code",
   "execution_count": 3619,
   "metadata": {},
   "outputs": [],
   "source": [
    "import pandas as pd\n",
    "import numpy as np\n",
    "import matplotlib.pyplot as plt\n",
    "import tweepy\n",
    "import requests"
   ]
  },
  {
   "cell_type": "markdown",
   "metadata": {},
   "source": [
    "#### Importing archive File"
   ]
  },
  {
   "cell_type": "code",
   "execution_count": 3620,
   "metadata": {},
   "outputs": [
    {
     "data": {
      "text/html": [
       "<div>\n",
       "<style scoped>\n",
       "    .dataframe tbody tr th:only-of-type {\n",
       "        vertical-align: middle;\n",
       "    }\n",
       "\n",
       "    .dataframe tbody tr th {\n",
       "        vertical-align: top;\n",
       "    }\n",
       "\n",
       "    .dataframe thead th {\n",
       "        text-align: right;\n",
       "    }\n",
       "</style>\n",
       "<table border=\"1\" class=\"dataframe\">\n",
       "  <thead>\n",
       "    <tr style=\"text-align: right;\">\n",
       "      <th></th>\n",
       "      <th>tweet_id</th>\n",
       "      <th>in_reply_to_status_id</th>\n",
       "      <th>in_reply_to_user_id</th>\n",
       "      <th>timestamp</th>\n",
       "      <th>source</th>\n",
       "      <th>text</th>\n",
       "      <th>retweeted_status_id</th>\n",
       "      <th>retweeted_status_user_id</th>\n",
       "      <th>retweeted_status_timestamp</th>\n",
       "      <th>expanded_urls</th>\n",
       "      <th>rating_numerator</th>\n",
       "      <th>rating_denominator</th>\n",
       "      <th>name</th>\n",
       "      <th>doggo</th>\n",
       "      <th>floofer</th>\n",
       "      <th>pupper</th>\n",
       "      <th>puppo</th>\n",
       "    </tr>\n",
       "  </thead>\n",
       "  <tbody>\n",
       "    <tr>\n",
       "      <th>0</th>\n",
       "      <td>892420643555336193</td>\n",
       "      <td>NaN</td>\n",
       "      <td>NaN</td>\n",
       "      <td>2017-08-01 16:23:56 +0000</td>\n",
       "      <td>&lt;a href=\"http://twitter.com/download/iphone\" rel=\"nofollow\"&gt;Twitter for iPhone&lt;/a&gt;</td>\n",
       "      <td>This is Phineas. He's a mystical boy. Only ever appears in the hole of a donut. 13/10 https://t.co/MgUWQ76dJU</td>\n",
       "      <td>NaN</td>\n",
       "      <td>NaN</td>\n",
       "      <td>NaN</td>\n",
       "      <td>https://twitter.com/dog_rates/status/892420643555336193/photo/1</td>\n",
       "      <td>13</td>\n",
       "      <td>10</td>\n",
       "      <td>Phineas</td>\n",
       "      <td>None</td>\n",
       "      <td>None</td>\n",
       "      <td>None</td>\n",
       "      <td>None</td>\n",
       "    </tr>\n",
       "    <tr>\n",
       "      <th>1</th>\n",
       "      <td>892177421306343426</td>\n",
       "      <td>NaN</td>\n",
       "      <td>NaN</td>\n",
       "      <td>2017-08-01 00:17:27 +0000</td>\n",
       "      <td>&lt;a href=\"http://twitter.com/download/iphone\" rel=\"nofollow\"&gt;Twitter for iPhone&lt;/a&gt;</td>\n",
       "      <td>This is Tilly. She's just checking pup on you. Hopes you're doing ok. If not, she's available for pats, snugs, boops, the whole bit. 13/10 https://t.co/0Xxu71qeIV</td>\n",
       "      <td>NaN</td>\n",
       "      <td>NaN</td>\n",
       "      <td>NaN</td>\n",
       "      <td>https://twitter.com/dog_rates/status/892177421306343426/photo/1</td>\n",
       "      <td>13</td>\n",
       "      <td>10</td>\n",
       "      <td>Tilly</td>\n",
       "      <td>None</td>\n",
       "      <td>None</td>\n",
       "      <td>None</td>\n",
       "      <td>None</td>\n",
       "    </tr>\n",
       "    <tr>\n",
       "      <th>2</th>\n",
       "      <td>891815181378084864</td>\n",
       "      <td>NaN</td>\n",
       "      <td>NaN</td>\n",
       "      <td>2017-07-31 00:18:03 +0000</td>\n",
       "      <td>&lt;a href=\"http://twitter.com/download/iphone\" rel=\"nofollow\"&gt;Twitter for iPhone&lt;/a&gt;</td>\n",
       "      <td>This is Archie. He is a rare Norwegian Pouncing Corgo. Lives in the tall grass. You never know when one may strike. 12/10 https://t.co/wUnZnhtVJB</td>\n",
       "      <td>NaN</td>\n",
       "      <td>NaN</td>\n",
       "      <td>NaN</td>\n",
       "      <td>https://twitter.com/dog_rates/status/891815181378084864/photo/1</td>\n",
       "      <td>12</td>\n",
       "      <td>10</td>\n",
       "      <td>Archie</td>\n",
       "      <td>None</td>\n",
       "      <td>None</td>\n",
       "      <td>None</td>\n",
       "      <td>None</td>\n",
       "    </tr>\n",
       "    <tr>\n",
       "      <th>3</th>\n",
       "      <td>891689557279858688</td>\n",
       "      <td>NaN</td>\n",
       "      <td>NaN</td>\n",
       "      <td>2017-07-30 15:58:51 +0000</td>\n",
       "      <td>&lt;a href=\"http://twitter.com/download/iphone\" rel=\"nofollow\"&gt;Twitter for iPhone&lt;/a&gt;</td>\n",
       "      <td>This is Darla. She commenced a snooze mid meal. 13/10 happens to the best of us https://t.co/tD36da7qLQ</td>\n",
       "      <td>NaN</td>\n",
       "      <td>NaN</td>\n",
       "      <td>NaN</td>\n",
       "      <td>https://twitter.com/dog_rates/status/891689557279858688/photo/1</td>\n",
       "      <td>13</td>\n",
       "      <td>10</td>\n",
       "      <td>Darla</td>\n",
       "      <td>None</td>\n",
       "      <td>None</td>\n",
       "      <td>None</td>\n",
       "      <td>None</td>\n",
       "    </tr>\n",
       "    <tr>\n",
       "      <th>4</th>\n",
       "      <td>891327558926688256</td>\n",
       "      <td>NaN</td>\n",
       "      <td>NaN</td>\n",
       "      <td>2017-07-29 16:00:24 +0000</td>\n",
       "      <td>&lt;a href=\"http://twitter.com/download/iphone\" rel=\"nofollow\"&gt;Twitter for iPhone&lt;/a&gt;</td>\n",
       "      <td>This is Franklin. He would like you to stop calling him \"cute.\" He is a very fierce shark and should be respected as such. 12/10 #BarkWeek https://t.co/AtUZn91f7f</td>\n",
       "      <td>NaN</td>\n",
       "      <td>NaN</td>\n",
       "      <td>NaN</td>\n",
       "      <td>https://twitter.com/dog_rates/status/891327558926688256/photo/1,https://twitter.com/dog_rates/status/891327558926688256/photo/1</td>\n",
       "      <td>12</td>\n",
       "      <td>10</td>\n",
       "      <td>Franklin</td>\n",
       "      <td>None</td>\n",
       "      <td>None</td>\n",
       "      <td>None</td>\n",
       "      <td>None</td>\n",
       "    </tr>\n",
       "  </tbody>\n",
       "</table>\n",
       "</div>"
      ],
      "text/plain": [
       "             tweet_id  in_reply_to_status_id  in_reply_to_user_id  \\\n",
       "0  892420643555336193 NaN                    NaN                    \n",
       "1  892177421306343426 NaN                    NaN                    \n",
       "2  891815181378084864 NaN                    NaN                    \n",
       "3  891689557279858688 NaN                    NaN                    \n",
       "4  891327558926688256 NaN                    NaN                    \n",
       "\n",
       "                   timestamp  \\\n",
       "0  2017-08-01 16:23:56 +0000   \n",
       "1  2017-08-01 00:17:27 +0000   \n",
       "2  2017-07-31 00:18:03 +0000   \n",
       "3  2017-07-30 15:58:51 +0000   \n",
       "4  2017-07-29 16:00:24 +0000   \n",
       "\n",
       "                                                                               source  \\\n",
       "0  <a href=\"http://twitter.com/download/iphone\" rel=\"nofollow\">Twitter for iPhone</a>   \n",
       "1  <a href=\"http://twitter.com/download/iphone\" rel=\"nofollow\">Twitter for iPhone</a>   \n",
       "2  <a href=\"http://twitter.com/download/iphone\" rel=\"nofollow\">Twitter for iPhone</a>   \n",
       "3  <a href=\"http://twitter.com/download/iphone\" rel=\"nofollow\">Twitter for iPhone</a>   \n",
       "4  <a href=\"http://twitter.com/download/iphone\" rel=\"nofollow\">Twitter for iPhone</a>   \n",
       "\n",
       "                                                                                                                                                                 text  \\\n",
       "0  This is Phineas. He's a mystical boy. Only ever appears in the hole of a donut. 13/10 https://t.co/MgUWQ76dJU                                                        \n",
       "1  This is Tilly. She's just checking pup on you. Hopes you're doing ok. If not, she's available for pats, snugs, boops, the whole bit. 13/10 https://t.co/0Xxu71qeIV   \n",
       "2  This is Archie. He is a rare Norwegian Pouncing Corgo. Lives in the tall grass. You never know when one may strike. 12/10 https://t.co/wUnZnhtVJB                    \n",
       "3  This is Darla. She commenced a snooze mid meal. 13/10 happens to the best of us https://t.co/tD36da7qLQ                                                              \n",
       "4  This is Franklin. He would like you to stop calling him \"cute.\" He is a very fierce shark and should be respected as such. 12/10 #BarkWeek https://t.co/AtUZn91f7f   \n",
       "\n",
       "   retweeted_status_id  retweeted_status_user_id retweeted_status_timestamp  \\\n",
       "0 NaN                  NaN                        NaN                         \n",
       "1 NaN                  NaN                        NaN                         \n",
       "2 NaN                  NaN                        NaN                         \n",
       "3 NaN                  NaN                        NaN                         \n",
       "4 NaN                  NaN                        NaN                         \n",
       "\n",
       "                                                                                                                     expanded_urls  \\\n",
       "0  https://twitter.com/dog_rates/status/892420643555336193/photo/1                                                                   \n",
       "1  https://twitter.com/dog_rates/status/892177421306343426/photo/1                                                                   \n",
       "2  https://twitter.com/dog_rates/status/891815181378084864/photo/1                                                                   \n",
       "3  https://twitter.com/dog_rates/status/891689557279858688/photo/1                                                                   \n",
       "4  https://twitter.com/dog_rates/status/891327558926688256/photo/1,https://twitter.com/dog_rates/status/891327558926688256/photo/1   \n",
       "\n",
       "   rating_numerator  rating_denominator      name doggo floofer pupper puppo  \n",
       "0  13                10                  Phineas   None  None    None   None  \n",
       "1  13                10                  Tilly     None  None    None   None  \n",
       "2  12                10                  Archie    None  None    None   None  \n",
       "3  13                10                  Darla     None  None    None   None  \n",
       "4  12                10                  Franklin  None  None    None   None  "
      ]
     },
     "execution_count": 3620,
     "metadata": {},
     "output_type": "execute_result"
    }
   ],
   "source": [
    "dogs_df = pd.read_csv('twitter-archive-enhanced.csv')\n",
    "dogs_df.head()"
   ]
  },
  {
   "cell_type": "code",
   "execution_count": 3621,
   "metadata": {
    "scrolled": false
   },
   "outputs": [
    {
     "name": "stdout",
     "output_type": "stream",
     "text": [
      "<class 'pandas.core.frame.DataFrame'>\n",
      "RangeIndex: 2356 entries, 0 to 2355\n",
      "Data columns (total 17 columns):\n",
      "tweet_id                      2356 non-null int64\n",
      "in_reply_to_status_id         78 non-null float64\n",
      "in_reply_to_user_id           78 non-null float64\n",
      "timestamp                     2356 non-null object\n",
      "source                        2356 non-null object\n",
      "text                          2356 non-null object\n",
      "retweeted_status_id           181 non-null float64\n",
      "retweeted_status_user_id      181 non-null float64\n",
      "retweeted_status_timestamp    181 non-null object\n",
      "expanded_urls                 2297 non-null object\n",
      "rating_numerator              2356 non-null int64\n",
      "rating_denominator            2356 non-null int64\n",
      "name                          2356 non-null object\n",
      "doggo                         2356 non-null object\n",
      "floofer                       2356 non-null object\n",
      "pupper                        2356 non-null object\n",
      "puppo                         2356 non-null object\n",
      "dtypes: float64(4), int64(3), object(10)\n",
      "memory usage: 313.0+ KB\n"
     ]
    }
   ],
   "source": [
    "dogs_df.info()"
   ]
  },
  {
   "cell_type": "code",
   "execution_count": 3626,
   "metadata": {},
   "outputs": [],
   "source": [
    "## Checking that all tweet_ids are unique, no duplicate tweets\n",
    "\n",
    "assert dogs_df.tweet_id.nunique() == dogs_df.shape[0]"
   ]
  },
  {
   "cell_type": "markdown",
   "metadata": {},
   "source": [
    "#### Wrangling tweet image prediction image_predictions.tsv file from Udacity URL"
   ]
  },
  {
   "cell_type": "code",
   "execution_count": 3627,
   "metadata": {},
   "outputs": [],
   "source": [
    "url = 'https://d17h27t6h515a5.cloudfront.net/topher/2017/August/599fd2ad_image-predictions/image-predictions.tsv'\n",
    "r = requests.get(url)\n",
    "\n",
    "with open('image_predictions.tsv', 'wb') as file:\n",
    "    file.write(r.content)"
   ]
  },
  {
   "cell_type": "code",
   "execution_count": 3628,
   "metadata": {
    "scrolled": false
   },
   "outputs": [
    {
     "data": {
      "text/html": [
       "<div>\n",
       "<style scoped>\n",
       "    .dataframe tbody tr th:only-of-type {\n",
       "        vertical-align: middle;\n",
       "    }\n",
       "\n",
       "    .dataframe tbody tr th {\n",
       "        vertical-align: top;\n",
       "    }\n",
       "\n",
       "    .dataframe thead th {\n",
       "        text-align: right;\n",
       "    }\n",
       "</style>\n",
       "<table border=\"1\" class=\"dataframe\">\n",
       "  <thead>\n",
       "    <tr style=\"text-align: right;\">\n",
       "      <th></th>\n",
       "      <th>tweet_id</th>\n",
       "      <th>jpg_url</th>\n",
       "      <th>img_num</th>\n",
       "      <th>p1</th>\n",
       "      <th>p1_conf</th>\n",
       "      <th>p1_dog</th>\n",
       "      <th>p2</th>\n",
       "      <th>p2_conf</th>\n",
       "      <th>p2_dog</th>\n",
       "      <th>p3</th>\n",
       "      <th>p3_conf</th>\n",
       "      <th>p3_dog</th>\n",
       "    </tr>\n",
       "  </thead>\n",
       "  <tbody>\n",
       "    <tr>\n",
       "      <th>0</th>\n",
       "      <td>666020888022790149</td>\n",
       "      <td>https://pbs.twimg.com/media/CT4udn0WwAA0aMy.jpg</td>\n",
       "      <td>1</td>\n",
       "      <td>Welsh_springer_spaniel</td>\n",
       "      <td>0.465074</td>\n",
       "      <td>True</td>\n",
       "      <td>collie</td>\n",
       "      <td>0.156665</td>\n",
       "      <td>True</td>\n",
       "      <td>Shetland_sheepdog</td>\n",
       "      <td>0.061428</td>\n",
       "      <td>True</td>\n",
       "    </tr>\n",
       "    <tr>\n",
       "      <th>1</th>\n",
       "      <td>666029285002620928</td>\n",
       "      <td>https://pbs.twimg.com/media/CT42GRgUYAA5iDo.jpg</td>\n",
       "      <td>1</td>\n",
       "      <td>redbone</td>\n",
       "      <td>0.506826</td>\n",
       "      <td>True</td>\n",
       "      <td>miniature_pinscher</td>\n",
       "      <td>0.074192</td>\n",
       "      <td>True</td>\n",
       "      <td>Rhodesian_ridgeback</td>\n",
       "      <td>0.072010</td>\n",
       "      <td>True</td>\n",
       "    </tr>\n",
       "    <tr>\n",
       "      <th>2</th>\n",
       "      <td>666033412701032449</td>\n",
       "      <td>https://pbs.twimg.com/media/CT4521TWwAEvMyu.jpg</td>\n",
       "      <td>1</td>\n",
       "      <td>German_shepherd</td>\n",
       "      <td>0.596461</td>\n",
       "      <td>True</td>\n",
       "      <td>malinois</td>\n",
       "      <td>0.138584</td>\n",
       "      <td>True</td>\n",
       "      <td>bloodhound</td>\n",
       "      <td>0.116197</td>\n",
       "      <td>True</td>\n",
       "    </tr>\n",
       "    <tr>\n",
       "      <th>3</th>\n",
       "      <td>666044226329800704</td>\n",
       "      <td>https://pbs.twimg.com/media/CT5Dr8HUEAA-lEu.jpg</td>\n",
       "      <td>1</td>\n",
       "      <td>Rhodesian_ridgeback</td>\n",
       "      <td>0.408143</td>\n",
       "      <td>True</td>\n",
       "      <td>redbone</td>\n",
       "      <td>0.360687</td>\n",
       "      <td>True</td>\n",
       "      <td>miniature_pinscher</td>\n",
       "      <td>0.222752</td>\n",
       "      <td>True</td>\n",
       "    </tr>\n",
       "    <tr>\n",
       "      <th>4</th>\n",
       "      <td>666049248165822465</td>\n",
       "      <td>https://pbs.twimg.com/media/CT5IQmsXIAAKY4A.jpg</td>\n",
       "      <td>1</td>\n",
       "      <td>miniature_pinscher</td>\n",
       "      <td>0.560311</td>\n",
       "      <td>True</td>\n",
       "      <td>Rottweiler</td>\n",
       "      <td>0.243682</td>\n",
       "      <td>True</td>\n",
       "      <td>Doberman</td>\n",
       "      <td>0.154629</td>\n",
       "      <td>True</td>\n",
       "    </tr>\n",
       "  </tbody>\n",
       "</table>\n",
       "</div>"
      ],
      "text/plain": [
       "             tweet_id                                          jpg_url  \\\n",
       "0  666020888022790149  https://pbs.twimg.com/media/CT4udn0WwAA0aMy.jpg   \n",
       "1  666029285002620928  https://pbs.twimg.com/media/CT42GRgUYAA5iDo.jpg   \n",
       "2  666033412701032449  https://pbs.twimg.com/media/CT4521TWwAEvMyu.jpg   \n",
       "3  666044226329800704  https://pbs.twimg.com/media/CT5Dr8HUEAA-lEu.jpg   \n",
       "4  666049248165822465  https://pbs.twimg.com/media/CT5IQmsXIAAKY4A.jpg   \n",
       "\n",
       "   img_num                      p1   p1_conf  p1_dog                  p2  \\\n",
       "0  1        Welsh_springer_spaniel  0.465074  True    collie               \n",
       "1  1        redbone                 0.506826  True    miniature_pinscher   \n",
       "2  1        German_shepherd         0.596461  True    malinois             \n",
       "3  1        Rhodesian_ridgeback     0.408143  True    redbone              \n",
       "4  1        miniature_pinscher      0.560311  True    Rottweiler           \n",
       "\n",
       "    p2_conf  p2_dog                   p3   p3_conf  p3_dog  \n",
       "0  0.156665  True    Shetland_sheepdog    0.061428  True    \n",
       "1  0.074192  True    Rhodesian_ridgeback  0.072010  True    \n",
       "2  0.138584  True    bloodhound           0.116197  True    \n",
       "3  0.360687  True    miniature_pinscher   0.222752  True    \n",
       "4  0.243682  True    Doberman             0.154629  True    "
      ]
     },
     "execution_count": 3628,
     "metadata": {},
     "output_type": "execute_result"
    }
   ],
   "source": [
    "predict_df = pd.read_csv('image_predictions.tsv', sep='\\t')\n",
    "predict_df.head()"
   ]
  },
  {
   "cell_type": "markdown",
   "metadata": {},
   "source": [
    "#### Wrangling twitter retweets and likes using twiter API"
   ]
  },
  {
   "cell_type": "code",
   "execution_count": 7,
   "metadata": {},
   "outputs": [],
   "source": [
    "consumer_key = '*************************'\n",
    "consumer_secret = '**************************************************'\n",
    "\n",
    "access_token = '**************************************************'\n",
    "access_secret = '*********************************************'\n",
    "\n",
    "auth = tweepy.OAuthHandler(consumer_key, consumer_secret)\n",
    "auth.set_access_token(access_token, access_secret)\n",
    "\n",
    "api = tweepy.API(auth, wait_on_rate_limit= True, wait_on_rate_limit_notify  = True)"
   ]
  },
  {
   "cell_type": "code",
   "execution_count": 8,
   "metadata": {},
   "outputs": [],
   "source": [
    "from pprint import pprint\n",
    "import json\n",
    "import os\n",
    "import time\n",
    "\n",
    "def dump_tweet_json(tweet_id, file):\n",
    "    \"\"\"\n",
    "    query the tweet json file specified by twitter id 'tweet_id'\n",
    "    using twitter API tweepy, parse the json object and write it to the\n",
    "    file 'file'\n",
    "    \n",
    "    Warning! file is assumed open in writing mode\n",
    "    \"\"\"\n",
    "    tweet_status = api.get_status(tweet_id, tweet_mode='extended')\n",
    "    json.dump(tweet_status._json, file)\n",
    "    "
   ]
  },
  {
   "cell_type": "code",
   "execution_count": 9,
   "metadata": {
    "scrolled": false
   },
   "outputs": [
    {
     "name": "stdout",
     "output_type": "stream",
     "text": [
      "[{'code': 144, 'message': 'No status found with that ID.'}]   888202515573088257\n",
      "[{'code': 144, 'message': 'No status found with that ID.'}]   873697596434513921\n",
      "[{'code': 144, 'message': 'No status found with that ID.'}]   872668790621863937\n",
      "[{'code': 144, 'message': 'No status found with that ID.'}]   872261713294495745\n",
      "[{'code': 144, 'message': 'No status found with that ID.'}]   869988702071779329\n",
      "[{'code': 144, 'message': 'No status found with that ID.'}]   866816280283807744\n",
      "[{'code': 144, 'message': 'No status found with that ID.'}]   861769973181624320\n",
      "[{'code': 144, 'message': 'No status found with that ID.'}]   856602993587888130\n",
      "[{'code': 144, 'message': 'No status found with that ID.'}]   845459076796616705\n",
      "[{'code': 144, 'message': 'No status found with that ID.'}]   844704788403113984\n",
      "[{'code': 144, 'message': 'No status found with that ID.'}]   842892208864923648\n",
      "[{'code': 144, 'message': 'No status found with that ID.'}]   837012587749474308\n",
      "[{'code': 144, 'message': 'No status found with that ID.'}]   827228250799742977\n",
      "[{'code': 144, 'message': 'No status found with that ID.'}]   812747805718642688\n",
      "[{'code': 144, 'message': 'No status found with that ID.'}]   802247111496568832\n",
      "[{'code': 144, 'message': 'No status found with that ID.'}]   775096608509886464\n",
      "[{'code': 144, 'message': 'No status found with that ID.'}]   770743923962707968\n"
     ]
    },
    {
     "name": "stderr",
     "output_type": "stream",
     "text": [
      "Rate limit reached. Sleeping for: 309\n"
     ]
    },
    {
     "name": "stdout",
     "output_type": "stream",
     "text": [
      "[{'code': 144, 'message': 'No status found with that ID.'}]   754011816964026368\n",
      "[{'code': 144, 'message': 'No status found with that ID.'}]   680055455951884288\n"
     ]
    },
    {
     "name": "stderr",
     "output_type": "stream",
     "text": [
      "Rate limit reached. Sleeping for: 320\n"
     ]
    }
   ],
   "source": [
    "deleted_tweets_ids = []\n",
    "rate_limit_exceeded_tweets  = []\n",
    "\n",
    "with open('tweet_json.txt', 'w') as file:\n",
    "    \n",
    "    ## First Path of Querying tweets\n",
    "    ## collecting deleted tweets ids and rate_limit_exceeded_tweets\n",
    "    file.write('[\\n')\n",
    "    for tweet_id in dogs_df.tweet_id:\n",
    "        try:\n",
    "            \n",
    "            dump_tweet_json(tweet_id, file)\n",
    "            file.write(',\\n')\n",
    "        \n",
    "        except tweepy.error.RateLimitError:\n",
    "            rate_limit_exceeded_tweets.append(tweet_id)\n",
    "        \n",
    "        except Exception as e:\n",
    "            deleted_tweets_ids.append(tweet_id)\n",
    "            print(e,' ', tweet_id)\n",
    "    \n",
    "    ## Second Path of Querying tweets\n",
    "    ## Making sure to collect rate_limit_exceeded_tweets if any \n",
    "    \n",
    "    while rate_limit_exceeded_tweets:\n",
    "        try:\n",
    "            tweet_id = rate_limit_exceeded_tweets[0]\n",
    "            dump_tweet_json(tweet_id, file)\n",
    "            file.write(',\\n')\n",
    "            rate_limit_exceeded_tweets.pop(0)\n",
    "            \n",
    "        except tweepy.error.RateLimitError:\n",
    "            time.sleep(60)\n",
    "            \n",
    "        except tweepy.error.TweepError as tr:\n",
    "            if tr.message[0]['code'] == 144:\n",
    "                rate_limit_exceeded_tweets.pop(0)\n",
    "            else:\n",
    "                print('Twitter Error: ', twitter_err)\n",
    "        \n",
    "        except Exception as e:\n",
    "            print(e)\n",
    "            \n",
    "    file.seek(file.tell() - 3, os.SEEK_SET)\n",
    "    file.write('\\n]')"
   ]
  },
  {
   "cell_type": "code",
   "execution_count": 3629,
   "metadata": {},
   "outputs": [],
   "source": [
    "deleted_tweets_ids = [888202515573088257, 873697596434513921,   872668790621863937,   872261713294495745,   869988702071779329,  \n",
    "     866816280283807744,   861769973181624320,  856602993587888130,   845459076796616705,  844704788403113984,\n",
    "     842892208864923648, 837012587749474308, 827228250799742977, 812747805718642688, 802247111496568832, 775096608509886464, \n",
    "     770743923962707968, 754011816964026368, 680055455951884288]"
   ]
  },
  {
   "cell_type": "code",
   "execution_count": 3630,
   "metadata": {},
   "outputs": [],
   "source": [
    "## Checking whether all deleted tweets are the same character length \n",
    "\n",
    "len_del = len(str(deleted_tweets_ids[5]))\n",
    "for del_tweet in deleted_tweets_ids:\n",
    "    assert len(str(del_tweet)) == len_del"
   ]
  },
  {
   "cell_type": "code",
   "execution_count": 3633,
   "metadata": {},
   "outputs": [
    {
     "data": {
      "text/html": [
       "<div>\n",
       "<style scoped>\n",
       "    .dataframe tbody tr th:only-of-type {\n",
       "        vertical-align: middle;\n",
       "    }\n",
       "\n",
       "    .dataframe tbody tr th {\n",
       "        vertical-align: top;\n",
       "    }\n",
       "\n",
       "    .dataframe thead th {\n",
       "        text-align: right;\n",
       "    }\n",
       "</style>\n",
       "<table border=\"1\" class=\"dataframe\">\n",
       "  <thead>\n",
       "    <tr style=\"text-align: right;\">\n",
       "      <th></th>\n",
       "      <th>contributors</th>\n",
       "      <th>coordinates</th>\n",
       "      <th>created_at</th>\n",
       "      <th>display_text_range</th>\n",
       "      <th>entities</th>\n",
       "      <th>extended_entities</th>\n",
       "      <th>favorite_count</th>\n",
       "      <th>favorited</th>\n",
       "      <th>full_text</th>\n",
       "      <th>geo</th>\n",
       "      <th>id</th>\n",
       "      <th>id_str</th>\n",
       "      <th>in_reply_to_screen_name</th>\n",
       "      <th>in_reply_to_status_id</th>\n",
       "      <th>in_reply_to_status_id_str</th>\n",
       "      <th>in_reply_to_user_id</th>\n",
       "      <th>in_reply_to_user_id_str</th>\n",
       "      <th>is_quote_status</th>\n",
       "      <th>lang</th>\n",
       "      <th>place</th>\n",
       "      <th>possibly_sensitive</th>\n",
       "      <th>possibly_sensitive_appealable</th>\n",
       "      <th>quoted_status</th>\n",
       "      <th>quoted_status_id</th>\n",
       "      <th>quoted_status_id_str</th>\n",
       "      <th>quoted_status_permalink</th>\n",
       "      <th>retweet_count</th>\n",
       "      <th>retweeted</th>\n",
       "      <th>retweeted_status</th>\n",
       "      <th>source</th>\n",
       "      <th>truncated</th>\n",
       "      <th>user</th>\n",
       "    </tr>\n",
       "  </thead>\n",
       "  <tbody>\n",
       "    <tr>\n",
       "      <th>1441</th>\n",
       "      <td>NaN</td>\n",
       "      <td>NaN</td>\n",
       "      <td>2016-02-04 02:00:27</td>\n",
       "      <td>[0, 138]</td>\n",
       "      <td>{'hashtags': [], 'symbols': [], 'user_mentions': [], 'urls': [], 'media': [{'id': 695064251149508610, 'id_str': '695064251149508610', 'indices': [115, 138], 'media_url': 'http://pbs.twimg.com/ext_tw_video_thumb/695064251149508610/pu/img/0OPED0aUurb9Z16a.jpg', 'media_url_https': 'https://pbs.twimg.com/ext_tw_video_thumb/695064251149508610/pu/img/0OPED0aUurb9Z16a.jpg', 'url': 'https://t.co/uaJmNgXR2P', 'display_url': 'pic.twitter.com/uaJmNgXR2P', 'expanded_url': 'https://twitter.com/dog_rates/status/695064344191721472/video/1', 'type': 'photo', 'sizes': {'thumb': {'w': 150, 'h': 150, 'resize': 'crop'}, 'small': {'w': 383, 'h': 680, 'resize': 'fit'}, 'large': {'w': 720, 'h': 1280, 'resize': 'fit'}, 'medium': {'w': 675, 'h': 1200, 'resize': 'fit'}}}]}</td>\n",
       "      <td>{'media': [{'id': 695064251149508610, 'id_str': '695064251149508610', 'indices': [115, 138], 'media_url': 'http://pbs.twimg.com/ext_tw_video_thumb/695064251149508610/pu/img/0OPED0aUurb9Z16a.jpg', 'media_url_https': 'https://pbs.twimg.com/ext_tw_video_thumb/695064251149508610/pu/img/0OPED0aUurb9Z16a.jpg', 'url': 'https://t.co/uaJmNgXR2P', 'display_url': 'pic.twitter.com/uaJmNgXR2P', 'expanded_url': 'https://twitter.com/dog_rates/status/695064344191721472/video/1', 'type': 'video', 'sizes': {'thumb': {'w': 150, 'h': 150, 'resize': 'crop'}, 'small': {'w': 383, 'h': 680, 'resize': 'fit'}, 'large': {'w': 720, 'h': 1280, 'resize': 'fit'}, 'medium': {'w': 675, 'h': 1200, 'resize': 'fit'}}, 'video_info': {'aspect_ratio': [9, 16], 'duration_millis': 9691, 'variants': [{'bitrate': 2176000, 'content_type': 'video/mp4', 'url': 'https://video.twimg.com/ext_tw_video/695064251149508610/pu/vid/720x1280/kTHA4PRWxrVFUn9o.mp4'}, {'content_type': 'application/x-mpegURL', 'url': 'https://video.twimg.com/ext_tw_video/695064251149508610/pu/pl/1mUmCn4Nd5KyYeiS.m3u8'}, {'bitrate': 320000, 'content_type': 'video/mp4', 'url': 'https://video.twimg.com/ext_tw_video/695064251149508610/pu/vid/180x320/R_0ImrocctvLO1wj.mp4'}, {'bitrate': 832000, 'content_type': 'video/mp4', 'url': 'https://video.twimg.com/ext_tw_video/695064251149508610/pu/vid/360x640/xxi8eopv6x3J5DKg.mp4'}]}, 'additional_media_info': {'monetizable': False}}]}</td>\n",
       "      <td>1658</td>\n",
       "      <td>False</td>\n",
       "      <td>This may be the greatest video I've ever been sent. 4/10 for Charles the puppy, 13/10 overall. (Vid by @stevenxx_) https://t.co/uaJmNgXR2P</td>\n",
       "      <td>NaN</td>\n",
       "      <td>695064344191721472</td>\n",
       "      <td>695064344191721472</td>\n",
       "      <td>None</td>\n",
       "      <td>NaN</td>\n",
       "      <td>NaN</td>\n",
       "      <td>NaN</td>\n",
       "      <td>NaN</td>\n",
       "      <td>False</td>\n",
       "      <td>en</td>\n",
       "      <td>None</td>\n",
       "      <td>0.0</td>\n",
       "      <td>0.0</td>\n",
       "      <td>NaN</td>\n",
       "      <td>NaN</td>\n",
       "      <td>NaN</td>\n",
       "      <td>NaN</td>\n",
       "      <td>632</td>\n",
       "      <td>False</td>\n",
       "      <td>NaN</td>\n",
       "      <td>&lt;a href=\"http://twitter.com/download/iphone\" rel=\"nofollow\"&gt;Twitter for iPhone&lt;/a&gt;</td>\n",
       "      <td>False</td>\n",
       "      <td>{'id': 4196983835, 'id_str': '4196983835', 'name': 'WeRateDogs™', 'screen_name': 'dog_rates', 'location': '「 DM YOUR DOGS 」', 'description': 'Your Only Source For Professional Dog Ratings Instagram and Facebook ➪ WeRateDogs partnerships@weratedogs.com ⠀⠀⠀⠀⠀⠀⠀⠀⠀⠀⠀⠀', 'url': 'https://t.co/N7sNNHSfPq', 'entities': {'url': {'urls': [{'url': 'https://t.co/N7sNNHSfPq', 'expanded_url': 'http://weratedogs.com', 'display_url': 'weratedogs.com', 'indices': [0, 23]}]}, 'description': {'urls': []}}, 'protected': False, 'followers_count': 8026639, 'friends_count': 12, 'listed_count': 6187, 'created_at': 'Sun Nov 15 21:41:29 +0000 2015', 'favourites_count': 141917, 'utc_offset': None, 'time_zone': None, 'geo_enabled': True, 'verified': True, 'statuses_count': 10170, 'lang': 'en', 'contributors_enabled': False, 'is_translator': False, 'is_translation_enabled': False, 'profile_background_color': '000000', 'profile_background_image_url': 'http://abs.twimg.com/images/themes/theme1/bg.png', 'profile_background_image_url_https': 'https://abs.twimg.com/images/themes/theme1/bg.png', 'profile_background_tile': False, 'profile_image_url': 'http://pbs.twimg.com/profile_images/1112594177961844736/qQK8NJT-_normal.jpg', 'profile_image_url_https': 'https://pbs.twimg.com/profile_images/1112594177961844736/qQK8NJT-_normal.jpg', 'profile_banner_url': 'https://pbs.twimg.com/profile_banners/4196983835/1557267612', 'profile_link_color': 'F5ABB5', 'profile_sidebar_border_color': '000000', 'profile_sidebar_fill_color': '000000', 'profile_text_color': '000000', 'profile_use_background_image': False, 'has_extended_profile': False, 'default_profile': False, 'default_profile_image': False, 'following': False, 'follow_request_sent': False, 'notifications': False, 'translator_type': 'none'}</td>\n",
       "    </tr>\n",
       "  </tbody>\n",
       "</table>\n",
       "</div>"
      ],
      "text/plain": [
       "      contributors  coordinates          created_at display_text_range  \\\n",
       "1441 NaN           NaN          2016-02-04 02:00:27  [0, 138]            \n",
       "\n",
       "                                                                                                                                                                                                                                                                                                                                                                                                                                                                                                                                                                                                                                                                                                                                                                                   entities  \\\n",
       "1441  {'hashtags': [], 'symbols': [], 'user_mentions': [], 'urls': [], 'media': [{'id': 695064251149508610, 'id_str': '695064251149508610', 'indices': [115, 138], 'media_url': 'http://pbs.twimg.com/ext_tw_video_thumb/695064251149508610/pu/img/0OPED0aUurb9Z16a.jpg', 'media_url_https': 'https://pbs.twimg.com/ext_tw_video_thumb/695064251149508610/pu/img/0OPED0aUurb9Z16a.jpg', 'url': 'https://t.co/uaJmNgXR2P', 'display_url': 'pic.twitter.com/uaJmNgXR2P', 'expanded_url': 'https://twitter.com/dog_rates/status/695064344191721472/video/1', 'type': 'photo', 'sizes': {'thumb': {'w': 150, 'h': 150, 'resize': 'crop'}, 'small': {'w': 383, 'h': 680, 'resize': 'fit'}, 'large': {'w': 720, 'h': 1280, 'resize': 'fit'}, 'medium': {'w': 675, 'h': 1200, 'resize': 'fit'}}}]}   \n",
       "\n",
       "                                                                                                                                                                                                                                                                                                                                                                                                                                                                                                                                                                                                                                                                                                                                                                                                                                                                                                                                                                                                                                                                                                                                                                                                                                                                                                                                                                                                                                                              extended_entities  \\\n",
       "1441  {'media': [{'id': 695064251149508610, 'id_str': '695064251149508610', 'indices': [115, 138], 'media_url': 'http://pbs.twimg.com/ext_tw_video_thumb/695064251149508610/pu/img/0OPED0aUurb9Z16a.jpg', 'media_url_https': 'https://pbs.twimg.com/ext_tw_video_thumb/695064251149508610/pu/img/0OPED0aUurb9Z16a.jpg', 'url': 'https://t.co/uaJmNgXR2P', 'display_url': 'pic.twitter.com/uaJmNgXR2P', 'expanded_url': 'https://twitter.com/dog_rates/status/695064344191721472/video/1', 'type': 'video', 'sizes': {'thumb': {'w': 150, 'h': 150, 'resize': 'crop'}, 'small': {'w': 383, 'h': 680, 'resize': 'fit'}, 'large': {'w': 720, 'h': 1280, 'resize': 'fit'}, 'medium': {'w': 675, 'h': 1200, 'resize': 'fit'}}, 'video_info': {'aspect_ratio': [9, 16], 'duration_millis': 9691, 'variants': [{'bitrate': 2176000, 'content_type': 'video/mp4', 'url': 'https://video.twimg.com/ext_tw_video/695064251149508610/pu/vid/720x1280/kTHA4PRWxrVFUn9o.mp4'}, {'content_type': 'application/x-mpegURL', 'url': 'https://video.twimg.com/ext_tw_video/695064251149508610/pu/pl/1mUmCn4Nd5KyYeiS.m3u8'}, {'bitrate': 320000, 'content_type': 'video/mp4', 'url': 'https://video.twimg.com/ext_tw_video/695064251149508610/pu/vid/180x320/R_0ImrocctvLO1wj.mp4'}, {'bitrate': 832000, 'content_type': 'video/mp4', 'url': 'https://video.twimg.com/ext_tw_video/695064251149508610/pu/vid/360x640/xxi8eopv6x3J5DKg.mp4'}]}, 'additional_media_info': {'monetizable': False}}]}   \n",
       "\n",
       "      favorite_count  favorited  \\\n",
       "1441  1658            False       \n",
       "\n",
       "                                                                                                                                       full_text  \\\n",
       "1441  This may be the greatest video I've ever been sent. 4/10 for Charles the puppy, 13/10 overall. (Vid by @stevenxx_) https://t.co/uaJmNgXR2P   \n",
       "\n",
       "      geo                  id              id_str in_reply_to_screen_name  \\\n",
       "1441 NaN   695064344191721472  695064344191721472  None                     \n",
       "\n",
       "      in_reply_to_status_id  in_reply_to_status_id_str  in_reply_to_user_id  \\\n",
       "1441 NaN                    NaN                        NaN                    \n",
       "\n",
       "      in_reply_to_user_id_str  is_quote_status lang place  possibly_sensitive  \\\n",
       "1441 NaN                       False            en   None  0.0                  \n",
       "\n",
       "      possibly_sensitive_appealable quoted_status  quoted_status_id  \\\n",
       "1441  0.0                            NaN          NaN                 \n",
       "\n",
       "      quoted_status_id_str quoted_status_permalink  retweet_count  retweeted  \\\n",
       "1441 NaN                    NaN                     632            False       \n",
       "\n",
       "     retweeted_status  \\\n",
       "1441  NaN               \n",
       "\n",
       "                                                                                  source  \\\n",
       "1441  <a href=\"http://twitter.com/download/iphone\" rel=\"nofollow\">Twitter for iPhone</a>   \n",
       "\n",
       "      truncated  \\\n",
       "1441  False       \n",
       "\n",
       "                                                                                                                                                                                                                                                                                                                                                                                                                                                                                                                                                                                                                                                                                                                                                                                                                                                                                                                                                                                                                                                                                                                                                                                                                                                                                                                                                                                                                                                                                                                                                                                                                                                                                                                                                                                                                                                    user  \n",
       "1441  {'id': 4196983835, 'id_str': '4196983835', 'name': 'WeRateDogs™', 'screen_name': 'dog_rates', 'location': '「 DM YOUR DOGS 」', 'description': 'Your Only Source For Professional Dog Ratings Instagram and Facebook ➪ WeRateDogs partnerships@weratedogs.com ⠀⠀⠀⠀⠀⠀⠀⠀⠀⠀⠀⠀', 'url': 'https://t.co/N7sNNHSfPq', 'entities': {'url': {'urls': [{'url': 'https://t.co/N7sNNHSfPq', 'expanded_url': 'http://weratedogs.com', 'display_url': 'weratedogs.com', 'indices': [0, 23]}]}, 'description': {'urls': []}}, 'protected': False, 'followers_count': 8026639, 'friends_count': 12, 'listed_count': 6187, 'created_at': 'Sun Nov 15 21:41:29 +0000 2015', 'favourites_count': 141917, 'utc_offset': None, 'time_zone': None, 'geo_enabled': True, 'verified': True, 'statuses_count': 10170, 'lang': 'en', 'contributors_enabled': False, 'is_translator': False, 'is_translation_enabled': False, 'profile_background_color': '000000', 'profile_background_image_url': 'http://abs.twimg.com/images/themes/theme1/bg.png', 'profile_background_image_url_https': 'https://abs.twimg.com/images/themes/theme1/bg.png', 'profile_background_tile': False, 'profile_image_url': 'http://pbs.twimg.com/profile_images/1112594177961844736/qQK8NJT-_normal.jpg', 'profile_image_url_https': 'https://pbs.twimg.com/profile_images/1112594177961844736/qQK8NJT-_normal.jpg', 'profile_banner_url': 'https://pbs.twimg.com/profile_banners/4196983835/1557267612', 'profile_link_color': 'F5ABB5', 'profile_sidebar_border_color': '000000', 'profile_sidebar_fill_color': '000000', 'profile_text_color': '000000', 'profile_use_background_image': False, 'has_extended_profile': False, 'default_profile': False, 'default_profile_image': False, 'following': False, 'follow_request_sent': False, 'notifications': False, 'translator_type': 'none'}  "
      ]
     },
     "execution_count": 3633,
     "metadata": {},
     "output_type": "execute_result"
    }
   ],
   "source": [
    "## Reading needed information from tweet_json to a dataframe\n",
    "## needed info.: retweet_count, favorite_count\n",
    "\n",
    "df = pd.read_json('tweet_json.txt')\n",
    "df.sample(1)"
   ]
  },
  {
   "cell_type": "code",
   "execution_count": 3634,
   "metadata": {},
   "outputs": [],
   "source": [
    "## Checking completeness of wrangled parsed data and given data \n",
    "## After parsing the dataframe obs should be smaller than the given original data obs\n",
    "## by just the deleted tweets\n",
    "\n",
    "assert dogs_df.shape[0] == len(deleted_tweets_ids) + df.shape[0]"
   ]
  },
  {
   "cell_type": "code",
   "execution_count": 3637,
   "metadata": {},
   "outputs": [
    {
     "data": {
      "text/html": [
       "<div>\n",
       "<style scoped>\n",
       "    .dataframe tbody tr th:only-of-type {\n",
       "        vertical-align: middle;\n",
       "    }\n",
       "\n",
       "    .dataframe tbody tr th {\n",
       "        vertical-align: top;\n",
       "    }\n",
       "\n",
       "    .dataframe thead th {\n",
       "        text-align: right;\n",
       "    }\n",
       "</style>\n",
       "<table border=\"1\" class=\"dataframe\">\n",
       "  <thead>\n",
       "    <tr style=\"text-align: right;\">\n",
       "      <th></th>\n",
       "      <th>id</th>\n",
       "      <th>retweet_count</th>\n",
       "      <th>favorite_count</th>\n",
       "    </tr>\n",
       "  </thead>\n",
       "  <tbody>\n",
       "    <tr>\n",
       "      <th>0</th>\n",
       "      <td>892420643555336193</td>\n",
       "      <td>8193</td>\n",
       "      <td>37554</td>\n",
       "    </tr>\n",
       "    <tr>\n",
       "      <th>1</th>\n",
       "      <td>892177421306343426</td>\n",
       "      <td>6060</td>\n",
       "      <td>32278</td>\n",
       "    </tr>\n",
       "    <tr>\n",
       "      <th>2</th>\n",
       "      <td>891815181378084864</td>\n",
       "      <td>4008</td>\n",
       "      <td>24320</td>\n",
       "    </tr>\n",
       "  </tbody>\n",
       "</table>\n",
       "</div>"
      ],
      "text/plain": [
       "                   id  retweet_count  favorite_count\n",
       "0  892420643555336193  8193           37554         \n",
       "1  892177421306343426  6060           32278         \n",
       "2  891815181378084864  4008           24320         "
      ]
     },
     "execution_count": 3637,
     "metadata": {},
     "output_type": "execute_result"
    }
   ],
   "source": [
    "## Interested tweets info \n",
    "\n",
    "tweets_add_df = df[['id', 'retweet_count' , 'favorite_count']]\n",
    "\n",
    "tweets_add_df.head(3)"
   ]
  },
  {
   "cell_type": "markdown",
   "metadata": {},
   "source": [
    "<hr>"
   ]
  },
  {
   "cell_type": "markdown",
   "metadata": {},
   "source": [
    "## Assessing and Defining Issues in the Data"
   ]
  },
  {
   "cell_type": "code",
   "execution_count": 3638,
   "metadata": {},
   "outputs": [
    {
     "data": {
      "text/html": [
       "<div>\n",
       "<style scoped>\n",
       "    .dataframe tbody tr th:only-of-type {\n",
       "        vertical-align: middle;\n",
       "    }\n",
       "\n",
       "    .dataframe tbody tr th {\n",
       "        vertical-align: top;\n",
       "    }\n",
       "\n",
       "    .dataframe thead th {\n",
       "        text-align: right;\n",
       "    }\n",
       "</style>\n",
       "<table border=\"1\" class=\"dataframe\">\n",
       "  <thead>\n",
       "    <tr style=\"text-align: right;\">\n",
       "      <th></th>\n",
       "      <th>tweet_id</th>\n",
       "      <th>in_reply_to_status_id</th>\n",
       "      <th>in_reply_to_user_id</th>\n",
       "      <th>timestamp</th>\n",
       "      <th>source</th>\n",
       "      <th>text</th>\n",
       "      <th>retweeted_status_id</th>\n",
       "      <th>retweeted_status_user_id</th>\n",
       "      <th>retweeted_status_timestamp</th>\n",
       "      <th>expanded_urls</th>\n",
       "      <th>rating_numerator</th>\n",
       "      <th>rating_denominator</th>\n",
       "      <th>name</th>\n",
       "      <th>doggo</th>\n",
       "      <th>floofer</th>\n",
       "      <th>pupper</th>\n",
       "      <th>puppo</th>\n",
       "    </tr>\n",
       "  </thead>\n",
       "  <tbody>\n",
       "    <tr>\n",
       "      <th>0</th>\n",
       "      <td>892420643555336193</td>\n",
       "      <td>NaN</td>\n",
       "      <td>NaN</td>\n",
       "      <td>2017-08-01 16:23:56 +0000</td>\n",
       "      <td>&lt;a href=\"http://twitter.com/download/iphone\" rel=\"nofollow\"&gt;Twitter for iPhone&lt;/a&gt;</td>\n",
       "      <td>This is Phineas. He's a mystical boy. Only ever appears in the hole of a donut. 13/10 https://t.co/MgUWQ76dJU</td>\n",
       "      <td>NaN</td>\n",
       "      <td>NaN</td>\n",
       "      <td>NaN</td>\n",
       "      <td>https://twitter.com/dog_rates/status/892420643555336193/photo/1</td>\n",
       "      <td>13</td>\n",
       "      <td>10</td>\n",
       "      <td>Phineas</td>\n",
       "      <td>None</td>\n",
       "      <td>None</td>\n",
       "      <td>None</td>\n",
       "      <td>None</td>\n",
       "    </tr>\n",
       "    <tr>\n",
       "      <th>1</th>\n",
       "      <td>892177421306343426</td>\n",
       "      <td>NaN</td>\n",
       "      <td>NaN</td>\n",
       "      <td>2017-08-01 00:17:27 +0000</td>\n",
       "      <td>&lt;a href=\"http://twitter.com/download/iphone\" rel=\"nofollow\"&gt;Twitter for iPhone&lt;/a&gt;</td>\n",
       "      <td>This is Tilly. She's just checking pup on you. Hopes you're doing ok. If not, she's available for pats, snugs, boops, the whole bit. 13/10 https://t.co/0Xxu71qeIV</td>\n",
       "      <td>NaN</td>\n",
       "      <td>NaN</td>\n",
       "      <td>NaN</td>\n",
       "      <td>https://twitter.com/dog_rates/status/892177421306343426/photo/1</td>\n",
       "      <td>13</td>\n",
       "      <td>10</td>\n",
       "      <td>Tilly</td>\n",
       "      <td>None</td>\n",
       "      <td>None</td>\n",
       "      <td>None</td>\n",
       "      <td>None</td>\n",
       "    </tr>\n",
       "  </tbody>\n",
       "</table>\n",
       "</div>"
      ],
      "text/plain": [
       "             tweet_id  in_reply_to_status_id  in_reply_to_user_id  \\\n",
       "0  892420643555336193 NaN                    NaN                    \n",
       "1  892177421306343426 NaN                    NaN                    \n",
       "\n",
       "                   timestamp  \\\n",
       "0  2017-08-01 16:23:56 +0000   \n",
       "1  2017-08-01 00:17:27 +0000   \n",
       "\n",
       "                                                                               source  \\\n",
       "0  <a href=\"http://twitter.com/download/iphone\" rel=\"nofollow\">Twitter for iPhone</a>   \n",
       "1  <a href=\"http://twitter.com/download/iphone\" rel=\"nofollow\">Twitter for iPhone</a>   \n",
       "\n",
       "                                                                                                                                                                 text  \\\n",
       "0  This is Phineas. He's a mystical boy. Only ever appears in the hole of a donut. 13/10 https://t.co/MgUWQ76dJU                                                        \n",
       "1  This is Tilly. She's just checking pup on you. Hopes you're doing ok. If not, she's available for pats, snugs, boops, the whole bit. 13/10 https://t.co/0Xxu71qeIV   \n",
       "\n",
       "   retweeted_status_id  retweeted_status_user_id retweeted_status_timestamp  \\\n",
       "0 NaN                  NaN                        NaN                         \n",
       "1 NaN                  NaN                        NaN                         \n",
       "\n",
       "                                                     expanded_urls  \\\n",
       "0  https://twitter.com/dog_rates/status/892420643555336193/photo/1   \n",
       "1  https://twitter.com/dog_rates/status/892177421306343426/photo/1   \n",
       "\n",
       "   rating_numerator  rating_denominator     name doggo floofer pupper puppo  \n",
       "0  13                10                  Phineas  None  None    None   None  \n",
       "1  13                10                  Tilly    None  None    None   None  "
      ]
     },
     "execution_count": 3638,
     "metadata": {},
     "output_type": "execute_result"
    }
   ],
   "source": [
    "dogs_df.head(2)"
   ]
  },
  {
   "cell_type": "code",
   "execution_count": 3639,
   "metadata": {},
   "outputs": [
    {
     "data": {
      "text/html": [
       "<div>\n",
       "<style scoped>\n",
       "    .dataframe tbody tr th:only-of-type {\n",
       "        vertical-align: middle;\n",
       "    }\n",
       "\n",
       "    .dataframe tbody tr th {\n",
       "        vertical-align: top;\n",
       "    }\n",
       "\n",
       "    .dataframe thead th {\n",
       "        text-align: right;\n",
       "    }\n",
       "</style>\n",
       "<table border=\"1\" class=\"dataframe\">\n",
       "  <thead>\n",
       "    <tr style=\"text-align: right;\">\n",
       "      <th></th>\n",
       "      <th>id</th>\n",
       "      <th>retweet_count</th>\n",
       "      <th>favorite_count</th>\n",
       "    </tr>\n",
       "  </thead>\n",
       "  <tbody>\n",
       "    <tr>\n",
       "      <th>0</th>\n",
       "      <td>892420643555336193</td>\n",
       "      <td>8193</td>\n",
       "      <td>37554</td>\n",
       "    </tr>\n",
       "    <tr>\n",
       "      <th>1</th>\n",
       "      <td>892177421306343426</td>\n",
       "      <td>6060</td>\n",
       "      <td>32278</td>\n",
       "    </tr>\n",
       "    <tr>\n",
       "      <th>2</th>\n",
       "      <td>891815181378084864</td>\n",
       "      <td>4008</td>\n",
       "      <td>24320</td>\n",
       "    </tr>\n",
       "    <tr>\n",
       "      <th>3</th>\n",
       "      <td>891689557279858688</td>\n",
       "      <td>8347</td>\n",
       "      <td>40905</td>\n",
       "    </tr>\n",
       "    <tr>\n",
       "      <th>4</th>\n",
       "      <td>891327558926688256</td>\n",
       "      <td>9040</td>\n",
       "      <td>39097</td>\n",
       "    </tr>\n",
       "  </tbody>\n",
       "</table>\n",
       "</div>"
      ],
      "text/plain": [
       "                   id  retweet_count  favorite_count\n",
       "0  892420643555336193  8193           37554         \n",
       "1  892177421306343426  6060           32278         \n",
       "2  891815181378084864  4008           24320         \n",
       "3  891689557279858688  8347           40905         \n",
       "4  891327558926688256  9040           39097         "
      ]
     },
     "execution_count": 3639,
     "metadata": {},
     "output_type": "execute_result"
    }
   ],
   "source": [
    "tweets_add_df.head()"
   ]
  },
  {
   "cell_type": "code",
   "execution_count": 3640,
   "metadata": {},
   "outputs": [
    {
     "data": {
      "text/html": [
       "<div>\n",
       "<style scoped>\n",
       "    .dataframe tbody tr th:only-of-type {\n",
       "        vertical-align: middle;\n",
       "    }\n",
       "\n",
       "    .dataframe tbody tr th {\n",
       "        vertical-align: top;\n",
       "    }\n",
       "\n",
       "    .dataframe thead th {\n",
       "        text-align: right;\n",
       "    }\n",
       "</style>\n",
       "<table border=\"1\" class=\"dataframe\">\n",
       "  <thead>\n",
       "    <tr style=\"text-align: right;\">\n",
       "      <th></th>\n",
       "      <th>tweet_id</th>\n",
       "      <th>jpg_url</th>\n",
       "      <th>img_num</th>\n",
       "      <th>p1</th>\n",
       "      <th>p1_conf</th>\n",
       "      <th>p1_dog</th>\n",
       "      <th>p2</th>\n",
       "      <th>p2_conf</th>\n",
       "      <th>p2_dog</th>\n",
       "      <th>p3</th>\n",
       "      <th>p3_conf</th>\n",
       "      <th>p3_dog</th>\n",
       "    </tr>\n",
       "  </thead>\n",
       "  <tbody>\n",
       "    <tr>\n",
       "      <th>0</th>\n",
       "      <td>666020888022790149</td>\n",
       "      <td>https://pbs.twimg.com/media/CT4udn0WwAA0aMy.jpg</td>\n",
       "      <td>1</td>\n",
       "      <td>Welsh_springer_spaniel</td>\n",
       "      <td>0.465074</td>\n",
       "      <td>True</td>\n",
       "      <td>collie</td>\n",
       "      <td>0.156665</td>\n",
       "      <td>True</td>\n",
       "      <td>Shetland_sheepdog</td>\n",
       "      <td>0.061428</td>\n",
       "      <td>True</td>\n",
       "    </tr>\n",
       "    <tr>\n",
       "      <th>1</th>\n",
       "      <td>666029285002620928</td>\n",
       "      <td>https://pbs.twimg.com/media/CT42GRgUYAA5iDo.jpg</td>\n",
       "      <td>1</td>\n",
       "      <td>redbone</td>\n",
       "      <td>0.506826</td>\n",
       "      <td>True</td>\n",
       "      <td>miniature_pinscher</td>\n",
       "      <td>0.074192</td>\n",
       "      <td>True</td>\n",
       "      <td>Rhodesian_ridgeback</td>\n",
       "      <td>0.072010</td>\n",
       "      <td>True</td>\n",
       "    </tr>\n",
       "    <tr>\n",
       "      <th>2</th>\n",
       "      <td>666033412701032449</td>\n",
       "      <td>https://pbs.twimg.com/media/CT4521TWwAEvMyu.jpg</td>\n",
       "      <td>1</td>\n",
       "      <td>German_shepherd</td>\n",
       "      <td>0.596461</td>\n",
       "      <td>True</td>\n",
       "      <td>malinois</td>\n",
       "      <td>0.138584</td>\n",
       "      <td>True</td>\n",
       "      <td>bloodhound</td>\n",
       "      <td>0.116197</td>\n",
       "      <td>True</td>\n",
       "    </tr>\n",
       "    <tr>\n",
       "      <th>3</th>\n",
       "      <td>666044226329800704</td>\n",
       "      <td>https://pbs.twimg.com/media/CT5Dr8HUEAA-lEu.jpg</td>\n",
       "      <td>1</td>\n",
       "      <td>Rhodesian_ridgeback</td>\n",
       "      <td>0.408143</td>\n",
       "      <td>True</td>\n",
       "      <td>redbone</td>\n",
       "      <td>0.360687</td>\n",
       "      <td>True</td>\n",
       "      <td>miniature_pinscher</td>\n",
       "      <td>0.222752</td>\n",
       "      <td>True</td>\n",
       "    </tr>\n",
       "    <tr>\n",
       "      <th>4</th>\n",
       "      <td>666049248165822465</td>\n",
       "      <td>https://pbs.twimg.com/media/CT5IQmsXIAAKY4A.jpg</td>\n",
       "      <td>1</td>\n",
       "      <td>miniature_pinscher</td>\n",
       "      <td>0.560311</td>\n",
       "      <td>True</td>\n",
       "      <td>Rottweiler</td>\n",
       "      <td>0.243682</td>\n",
       "      <td>True</td>\n",
       "      <td>Doberman</td>\n",
       "      <td>0.154629</td>\n",
       "      <td>True</td>\n",
       "    </tr>\n",
       "  </tbody>\n",
       "</table>\n",
       "</div>"
      ],
      "text/plain": [
       "             tweet_id                                          jpg_url  \\\n",
       "0  666020888022790149  https://pbs.twimg.com/media/CT4udn0WwAA0aMy.jpg   \n",
       "1  666029285002620928  https://pbs.twimg.com/media/CT42GRgUYAA5iDo.jpg   \n",
       "2  666033412701032449  https://pbs.twimg.com/media/CT4521TWwAEvMyu.jpg   \n",
       "3  666044226329800704  https://pbs.twimg.com/media/CT5Dr8HUEAA-lEu.jpg   \n",
       "4  666049248165822465  https://pbs.twimg.com/media/CT5IQmsXIAAKY4A.jpg   \n",
       "\n",
       "   img_num                      p1   p1_conf  p1_dog                  p2  \\\n",
       "0  1        Welsh_springer_spaniel  0.465074  True    collie               \n",
       "1  1        redbone                 0.506826  True    miniature_pinscher   \n",
       "2  1        German_shepherd         0.596461  True    malinois             \n",
       "3  1        Rhodesian_ridgeback     0.408143  True    redbone              \n",
       "4  1        miniature_pinscher      0.560311  True    Rottweiler           \n",
       "\n",
       "    p2_conf  p2_dog                   p3   p3_conf  p3_dog  \n",
       "0  0.156665  True    Shetland_sheepdog    0.061428  True    \n",
       "1  0.074192  True    Rhodesian_ridgeback  0.072010  True    \n",
       "2  0.138584  True    bloodhound           0.116197  True    \n",
       "3  0.360687  True    miniature_pinscher   0.222752  True    \n",
       "4  0.243682  True    Doberman             0.154629  True    "
      ]
     },
     "execution_count": 3640,
     "metadata": {},
     "output_type": "execute_result"
    }
   ],
   "source": [
    "predict_df.head()"
   ]
  },
  {
   "cell_type": "markdown",
   "metadata": {},
   "source": [
    "### Assessing dogs_df"
   ]
  },
  {
   "cell_type": "markdown",
   "metadata": {},
   "source": [
    "> In this section, I will assess the data. In every step, I may find an issue and will document it in markdown cells, \n",
    "at the end of the section, all issues will be summarized and classified."
   ]
  },
  {
   "cell_type": "code",
   "execution_count": 3641,
   "metadata": {},
   "outputs": [],
   "source": [
    "pd.set_option('display.max_columns', None)\n",
    "pd.set_option('display.max_colwidth', -1)"
   ]
  },
  {
   "cell_type": "code",
   "execution_count": 3642,
   "metadata": {
    "scrolled": false
   },
   "outputs": [
    {
     "data": {
      "text/html": [
       "<div>\n",
       "<style scoped>\n",
       "    .dataframe tbody tr th:only-of-type {\n",
       "        vertical-align: middle;\n",
       "    }\n",
       "\n",
       "    .dataframe tbody tr th {\n",
       "        vertical-align: top;\n",
       "    }\n",
       "\n",
       "    .dataframe thead th {\n",
       "        text-align: right;\n",
       "    }\n",
       "</style>\n",
       "<table border=\"1\" class=\"dataframe\">\n",
       "  <thead>\n",
       "    <tr style=\"text-align: right;\">\n",
       "      <th></th>\n",
       "      <th>tweet_id</th>\n",
       "      <th>in_reply_to_status_id</th>\n",
       "      <th>in_reply_to_user_id</th>\n",
       "      <th>timestamp</th>\n",
       "      <th>source</th>\n",
       "      <th>text</th>\n",
       "      <th>retweeted_status_id</th>\n",
       "      <th>retweeted_status_user_id</th>\n",
       "      <th>retweeted_status_timestamp</th>\n",
       "      <th>expanded_urls</th>\n",
       "      <th>rating_numerator</th>\n",
       "      <th>rating_denominator</th>\n",
       "      <th>name</th>\n",
       "      <th>doggo</th>\n",
       "      <th>floofer</th>\n",
       "      <th>pupper</th>\n",
       "      <th>puppo</th>\n",
       "    </tr>\n",
       "  </thead>\n",
       "  <tbody>\n",
       "    <tr>\n",
       "      <th>0</th>\n",
       "      <td>892420643555336193</td>\n",
       "      <td>NaN</td>\n",
       "      <td>NaN</td>\n",
       "      <td>2017-08-01 16:23:56 +0000</td>\n",
       "      <td>&lt;a href=\"http://twitter.com/download/iphone\" rel=\"nofollow\"&gt;Twitter for iPhone&lt;/a&gt;</td>\n",
       "      <td>This is Phineas. He's a mystical boy. Only ever appears in the hole of a donut. 13/10 https://t.co/MgUWQ76dJU</td>\n",
       "      <td>NaN</td>\n",
       "      <td>NaN</td>\n",
       "      <td>NaN</td>\n",
       "      <td>https://twitter.com/dog_rates/status/892420643555336193/photo/1</td>\n",
       "      <td>13</td>\n",
       "      <td>10</td>\n",
       "      <td>Phineas</td>\n",
       "      <td>None</td>\n",
       "      <td>None</td>\n",
       "      <td>None</td>\n",
       "      <td>None</td>\n",
       "    </tr>\n",
       "    <tr>\n",
       "      <th>1</th>\n",
       "      <td>892177421306343426</td>\n",
       "      <td>NaN</td>\n",
       "      <td>NaN</td>\n",
       "      <td>2017-08-01 00:17:27 +0000</td>\n",
       "      <td>&lt;a href=\"http://twitter.com/download/iphone\" rel=\"nofollow\"&gt;Twitter for iPhone&lt;/a&gt;</td>\n",
       "      <td>This is Tilly. She's just checking pup on you. Hopes you're doing ok. If not, she's available for pats, snugs, boops, the whole bit. 13/10 https://t.co/0Xxu71qeIV</td>\n",
       "      <td>NaN</td>\n",
       "      <td>NaN</td>\n",
       "      <td>NaN</td>\n",
       "      <td>https://twitter.com/dog_rates/status/892177421306343426/photo/1</td>\n",
       "      <td>13</td>\n",
       "      <td>10</td>\n",
       "      <td>Tilly</td>\n",
       "      <td>None</td>\n",
       "      <td>None</td>\n",
       "      <td>None</td>\n",
       "      <td>None</td>\n",
       "    </tr>\n",
       "    <tr>\n",
       "      <th>2</th>\n",
       "      <td>891815181378084864</td>\n",
       "      <td>NaN</td>\n",
       "      <td>NaN</td>\n",
       "      <td>2017-07-31 00:18:03 +0000</td>\n",
       "      <td>&lt;a href=\"http://twitter.com/download/iphone\" rel=\"nofollow\"&gt;Twitter for iPhone&lt;/a&gt;</td>\n",
       "      <td>This is Archie. He is a rare Norwegian Pouncing Corgo. Lives in the tall grass. You never know when one may strike. 12/10 https://t.co/wUnZnhtVJB</td>\n",
       "      <td>NaN</td>\n",
       "      <td>NaN</td>\n",
       "      <td>NaN</td>\n",
       "      <td>https://twitter.com/dog_rates/status/891815181378084864/photo/1</td>\n",
       "      <td>12</td>\n",
       "      <td>10</td>\n",
       "      <td>Archie</td>\n",
       "      <td>None</td>\n",
       "      <td>None</td>\n",
       "      <td>None</td>\n",
       "      <td>None</td>\n",
       "    </tr>\n",
       "    <tr>\n",
       "      <th>3</th>\n",
       "      <td>891689557279858688</td>\n",
       "      <td>NaN</td>\n",
       "      <td>NaN</td>\n",
       "      <td>2017-07-30 15:58:51 +0000</td>\n",
       "      <td>&lt;a href=\"http://twitter.com/download/iphone\" rel=\"nofollow\"&gt;Twitter for iPhone&lt;/a&gt;</td>\n",
       "      <td>This is Darla. She commenced a snooze mid meal. 13/10 happens to the best of us https://t.co/tD36da7qLQ</td>\n",
       "      <td>NaN</td>\n",
       "      <td>NaN</td>\n",
       "      <td>NaN</td>\n",
       "      <td>https://twitter.com/dog_rates/status/891689557279858688/photo/1</td>\n",
       "      <td>13</td>\n",
       "      <td>10</td>\n",
       "      <td>Darla</td>\n",
       "      <td>None</td>\n",
       "      <td>None</td>\n",
       "      <td>None</td>\n",
       "      <td>None</td>\n",
       "    </tr>\n",
       "    <tr>\n",
       "      <th>4</th>\n",
       "      <td>891327558926688256</td>\n",
       "      <td>NaN</td>\n",
       "      <td>NaN</td>\n",
       "      <td>2017-07-29 16:00:24 +0000</td>\n",
       "      <td>&lt;a href=\"http://twitter.com/download/iphone\" rel=\"nofollow\"&gt;Twitter for iPhone&lt;/a&gt;</td>\n",
       "      <td>This is Franklin. He would like you to stop calling him \"cute.\" He is a very fierce shark and should be respected as such. 12/10 #BarkWeek https://t.co/AtUZn91f7f</td>\n",
       "      <td>NaN</td>\n",
       "      <td>NaN</td>\n",
       "      <td>NaN</td>\n",
       "      <td>https://twitter.com/dog_rates/status/891327558926688256/photo/1,https://twitter.com/dog_rates/status/891327558926688256/photo/1</td>\n",
       "      <td>12</td>\n",
       "      <td>10</td>\n",
       "      <td>Franklin</td>\n",
       "      <td>None</td>\n",
       "      <td>None</td>\n",
       "      <td>None</td>\n",
       "      <td>None</td>\n",
       "    </tr>\n",
       "  </tbody>\n",
       "</table>\n",
       "</div>"
      ],
      "text/plain": [
       "             tweet_id  in_reply_to_status_id  in_reply_to_user_id  \\\n",
       "0  892420643555336193 NaN                    NaN                    \n",
       "1  892177421306343426 NaN                    NaN                    \n",
       "2  891815181378084864 NaN                    NaN                    \n",
       "3  891689557279858688 NaN                    NaN                    \n",
       "4  891327558926688256 NaN                    NaN                    \n",
       "\n",
       "                   timestamp  \\\n",
       "0  2017-08-01 16:23:56 +0000   \n",
       "1  2017-08-01 00:17:27 +0000   \n",
       "2  2017-07-31 00:18:03 +0000   \n",
       "3  2017-07-30 15:58:51 +0000   \n",
       "4  2017-07-29 16:00:24 +0000   \n",
       "\n",
       "                                                                               source  \\\n",
       "0  <a href=\"http://twitter.com/download/iphone\" rel=\"nofollow\">Twitter for iPhone</a>   \n",
       "1  <a href=\"http://twitter.com/download/iphone\" rel=\"nofollow\">Twitter for iPhone</a>   \n",
       "2  <a href=\"http://twitter.com/download/iphone\" rel=\"nofollow\">Twitter for iPhone</a>   \n",
       "3  <a href=\"http://twitter.com/download/iphone\" rel=\"nofollow\">Twitter for iPhone</a>   \n",
       "4  <a href=\"http://twitter.com/download/iphone\" rel=\"nofollow\">Twitter for iPhone</a>   \n",
       "\n",
       "                                                                                                                                                                 text  \\\n",
       "0  This is Phineas. He's a mystical boy. Only ever appears in the hole of a donut. 13/10 https://t.co/MgUWQ76dJU                                                        \n",
       "1  This is Tilly. She's just checking pup on you. Hopes you're doing ok. If not, she's available for pats, snugs, boops, the whole bit. 13/10 https://t.co/0Xxu71qeIV   \n",
       "2  This is Archie. He is a rare Norwegian Pouncing Corgo. Lives in the tall grass. You never know when one may strike. 12/10 https://t.co/wUnZnhtVJB                    \n",
       "3  This is Darla. She commenced a snooze mid meal. 13/10 happens to the best of us https://t.co/tD36da7qLQ                                                              \n",
       "4  This is Franklin. He would like you to stop calling him \"cute.\" He is a very fierce shark and should be respected as such. 12/10 #BarkWeek https://t.co/AtUZn91f7f   \n",
       "\n",
       "   retweeted_status_id  retweeted_status_user_id retweeted_status_timestamp  \\\n",
       "0 NaN                  NaN                        NaN                         \n",
       "1 NaN                  NaN                        NaN                         \n",
       "2 NaN                  NaN                        NaN                         \n",
       "3 NaN                  NaN                        NaN                         \n",
       "4 NaN                  NaN                        NaN                         \n",
       "\n",
       "                                                                                                                     expanded_urls  \\\n",
       "0  https://twitter.com/dog_rates/status/892420643555336193/photo/1                                                                   \n",
       "1  https://twitter.com/dog_rates/status/892177421306343426/photo/1                                                                   \n",
       "2  https://twitter.com/dog_rates/status/891815181378084864/photo/1                                                                   \n",
       "3  https://twitter.com/dog_rates/status/891689557279858688/photo/1                                                                   \n",
       "4  https://twitter.com/dog_rates/status/891327558926688256/photo/1,https://twitter.com/dog_rates/status/891327558926688256/photo/1   \n",
       "\n",
       "   rating_numerator  rating_denominator      name doggo floofer pupper puppo  \n",
       "0  13                10                  Phineas   None  None    None   None  \n",
       "1  13                10                  Tilly     None  None    None   None  \n",
       "2  12                10                  Archie    None  None    None   None  \n",
       "3  13                10                  Darla     None  None    None   None  \n",
       "4  12                10                  Franklin  None  None    None   None  "
      ]
     },
     "execution_count": 3642,
     "metadata": {},
     "output_type": "execute_result"
    }
   ],
   "source": [
    "dogs_df.head()"
   ]
  },
  {
   "cell_type": "code",
   "execution_count": 3643,
   "metadata": {
    "scrolled": false
   },
   "outputs": [
    {
     "data": {
      "text/html": [
       "<div>\n",
       "<style scoped>\n",
       "    .dataframe tbody tr th:only-of-type {\n",
       "        vertical-align: middle;\n",
       "    }\n",
       "\n",
       "    .dataframe tbody tr th {\n",
       "        vertical-align: top;\n",
       "    }\n",
       "\n",
       "    .dataframe thead th {\n",
       "        text-align: right;\n",
       "    }\n",
       "</style>\n",
       "<table border=\"1\" class=\"dataframe\">\n",
       "  <thead>\n",
       "    <tr style=\"text-align: right;\">\n",
       "      <th></th>\n",
       "      <th>tweet_id</th>\n",
       "      <th>in_reply_to_status_id</th>\n",
       "      <th>in_reply_to_user_id</th>\n",
       "      <th>timestamp</th>\n",
       "      <th>source</th>\n",
       "      <th>text</th>\n",
       "      <th>retweeted_status_id</th>\n",
       "      <th>retweeted_status_user_id</th>\n",
       "      <th>retweeted_status_timestamp</th>\n",
       "      <th>expanded_urls</th>\n",
       "      <th>rating_numerator</th>\n",
       "      <th>rating_denominator</th>\n",
       "      <th>name</th>\n",
       "      <th>doggo</th>\n",
       "      <th>floofer</th>\n",
       "      <th>pupper</th>\n",
       "      <th>puppo</th>\n",
       "    </tr>\n",
       "  </thead>\n",
       "  <tbody>\n",
       "    <tr>\n",
       "      <th>2351</th>\n",
       "      <td>666049248165822465</td>\n",
       "      <td>NaN</td>\n",
       "      <td>NaN</td>\n",
       "      <td>2015-11-16 00:24:50 +0000</td>\n",
       "      <td>&lt;a href=\"http://twitter.com/download/iphone\" rel=\"nofollow\"&gt;Twitter for iPhone&lt;/a&gt;</td>\n",
       "      <td>Here we have a 1949 1st generation vulpix. Enjoys sweat tea and Fox News. Cannot be phased. 5/10 https://t.co/4B7cOc1EDq</td>\n",
       "      <td>NaN</td>\n",
       "      <td>NaN</td>\n",
       "      <td>NaN</td>\n",
       "      <td>https://twitter.com/dog_rates/status/666049248165822465/photo/1</td>\n",
       "      <td>5</td>\n",
       "      <td>10</td>\n",
       "      <td>None</td>\n",
       "      <td>None</td>\n",
       "      <td>None</td>\n",
       "      <td>None</td>\n",
       "      <td>None</td>\n",
       "    </tr>\n",
       "    <tr>\n",
       "      <th>2352</th>\n",
       "      <td>666044226329800704</td>\n",
       "      <td>NaN</td>\n",
       "      <td>NaN</td>\n",
       "      <td>2015-11-16 00:04:52 +0000</td>\n",
       "      <td>&lt;a href=\"http://twitter.com/download/iphone\" rel=\"nofollow\"&gt;Twitter for iPhone&lt;/a&gt;</td>\n",
       "      <td>This is a purebred Piers Morgan. Loves to Netflix and chill. Always looks like he forgot to unplug the iron. 6/10 https://t.co/DWnyCjf2mx</td>\n",
       "      <td>NaN</td>\n",
       "      <td>NaN</td>\n",
       "      <td>NaN</td>\n",
       "      <td>https://twitter.com/dog_rates/status/666044226329800704/photo/1</td>\n",
       "      <td>6</td>\n",
       "      <td>10</td>\n",
       "      <td>a</td>\n",
       "      <td>None</td>\n",
       "      <td>None</td>\n",
       "      <td>None</td>\n",
       "      <td>None</td>\n",
       "    </tr>\n",
       "    <tr>\n",
       "      <th>2353</th>\n",
       "      <td>666033412701032449</td>\n",
       "      <td>NaN</td>\n",
       "      <td>NaN</td>\n",
       "      <td>2015-11-15 23:21:54 +0000</td>\n",
       "      <td>&lt;a href=\"http://twitter.com/download/iphone\" rel=\"nofollow\"&gt;Twitter for iPhone&lt;/a&gt;</td>\n",
       "      <td>Here is a very happy pup. Big fan of well-maintained decks. Just look at that tongue. 9/10 would cuddle af https://t.co/y671yMhoiR</td>\n",
       "      <td>NaN</td>\n",
       "      <td>NaN</td>\n",
       "      <td>NaN</td>\n",
       "      <td>https://twitter.com/dog_rates/status/666033412701032449/photo/1</td>\n",
       "      <td>9</td>\n",
       "      <td>10</td>\n",
       "      <td>a</td>\n",
       "      <td>None</td>\n",
       "      <td>None</td>\n",
       "      <td>None</td>\n",
       "      <td>None</td>\n",
       "    </tr>\n",
       "    <tr>\n",
       "      <th>2354</th>\n",
       "      <td>666029285002620928</td>\n",
       "      <td>NaN</td>\n",
       "      <td>NaN</td>\n",
       "      <td>2015-11-15 23:05:30 +0000</td>\n",
       "      <td>&lt;a href=\"http://twitter.com/download/iphone\" rel=\"nofollow\"&gt;Twitter for iPhone&lt;/a&gt;</td>\n",
       "      <td>This is a western brown Mitsubishi terrier. Upset about leaf. Actually 2 dogs here. 7/10 would walk the shit out of https://t.co/r7mOb2m0UI</td>\n",
       "      <td>NaN</td>\n",
       "      <td>NaN</td>\n",
       "      <td>NaN</td>\n",
       "      <td>https://twitter.com/dog_rates/status/666029285002620928/photo/1</td>\n",
       "      <td>7</td>\n",
       "      <td>10</td>\n",
       "      <td>a</td>\n",
       "      <td>None</td>\n",
       "      <td>None</td>\n",
       "      <td>None</td>\n",
       "      <td>None</td>\n",
       "    </tr>\n",
       "    <tr>\n",
       "      <th>2355</th>\n",
       "      <td>666020888022790149</td>\n",
       "      <td>NaN</td>\n",
       "      <td>NaN</td>\n",
       "      <td>2015-11-15 22:32:08 +0000</td>\n",
       "      <td>&lt;a href=\"http://twitter.com/download/iphone\" rel=\"nofollow\"&gt;Twitter for iPhone&lt;/a&gt;</td>\n",
       "      <td>Here we have a Japanese Irish Setter. Lost eye in Vietnam (?). Big fan of relaxing on stair. 8/10 would pet https://t.co/BLDqew2Ijj</td>\n",
       "      <td>NaN</td>\n",
       "      <td>NaN</td>\n",
       "      <td>NaN</td>\n",
       "      <td>https://twitter.com/dog_rates/status/666020888022790149/photo/1</td>\n",
       "      <td>8</td>\n",
       "      <td>10</td>\n",
       "      <td>None</td>\n",
       "      <td>None</td>\n",
       "      <td>None</td>\n",
       "      <td>None</td>\n",
       "      <td>None</td>\n",
       "    </tr>\n",
       "  </tbody>\n",
       "</table>\n",
       "</div>"
      ],
      "text/plain": [
       "                tweet_id  in_reply_to_status_id  in_reply_to_user_id  \\\n",
       "2351  666049248165822465 NaN                    NaN                    \n",
       "2352  666044226329800704 NaN                    NaN                    \n",
       "2353  666033412701032449 NaN                    NaN                    \n",
       "2354  666029285002620928 NaN                    NaN                    \n",
       "2355  666020888022790149 NaN                    NaN                    \n",
       "\n",
       "                      timestamp  \\\n",
       "2351  2015-11-16 00:24:50 +0000   \n",
       "2352  2015-11-16 00:04:52 +0000   \n",
       "2353  2015-11-15 23:21:54 +0000   \n",
       "2354  2015-11-15 23:05:30 +0000   \n",
       "2355  2015-11-15 22:32:08 +0000   \n",
       "\n",
       "                                                                                  source  \\\n",
       "2351  <a href=\"http://twitter.com/download/iphone\" rel=\"nofollow\">Twitter for iPhone</a>   \n",
       "2352  <a href=\"http://twitter.com/download/iphone\" rel=\"nofollow\">Twitter for iPhone</a>   \n",
       "2353  <a href=\"http://twitter.com/download/iphone\" rel=\"nofollow\">Twitter for iPhone</a>   \n",
       "2354  <a href=\"http://twitter.com/download/iphone\" rel=\"nofollow\">Twitter for iPhone</a>   \n",
       "2355  <a href=\"http://twitter.com/download/iphone\" rel=\"nofollow\">Twitter for iPhone</a>   \n",
       "\n",
       "                                                                                                                                             text  \\\n",
       "2351  Here we have a 1949 1st generation vulpix. Enjoys sweat tea and Fox News. Cannot be phased. 5/10 https://t.co/4B7cOc1EDq                      \n",
       "2352  This is a purebred Piers Morgan. Loves to Netflix and chill. Always looks like he forgot to unplug the iron. 6/10 https://t.co/DWnyCjf2mx     \n",
       "2353  Here is a very happy pup. Big fan of well-maintained decks. Just look at that tongue. 9/10 would cuddle af https://t.co/y671yMhoiR            \n",
       "2354  This is a western brown Mitsubishi terrier. Upset about leaf. Actually 2 dogs here. 7/10 would walk the shit out of https://t.co/r7mOb2m0UI   \n",
       "2355  Here we have a Japanese Irish Setter. Lost eye in Vietnam (?). Big fan of relaxing on stair. 8/10 would pet https://t.co/BLDqew2Ijj           \n",
       "\n",
       "      retweeted_status_id  retweeted_status_user_id  \\\n",
       "2351 NaN                  NaN                         \n",
       "2352 NaN                  NaN                         \n",
       "2353 NaN                  NaN                         \n",
       "2354 NaN                  NaN                         \n",
       "2355 NaN                  NaN                         \n",
       "\n",
       "     retweeted_status_timestamp  \\\n",
       "2351  NaN                         \n",
       "2352  NaN                         \n",
       "2353  NaN                         \n",
       "2354  NaN                         \n",
       "2355  NaN                         \n",
       "\n",
       "                                                        expanded_urls  \\\n",
       "2351  https://twitter.com/dog_rates/status/666049248165822465/photo/1   \n",
       "2352  https://twitter.com/dog_rates/status/666044226329800704/photo/1   \n",
       "2353  https://twitter.com/dog_rates/status/666033412701032449/photo/1   \n",
       "2354  https://twitter.com/dog_rates/status/666029285002620928/photo/1   \n",
       "2355  https://twitter.com/dog_rates/status/666020888022790149/photo/1   \n",
       "\n",
       "      rating_numerator  rating_denominator  name doggo floofer pupper puppo  \n",
       "2351  5                 10                  None  None  None    None   None  \n",
       "2352  6                 10                  a     None  None    None   None  \n",
       "2353  9                 10                  a     None  None    None   None  \n",
       "2354  7                 10                  a     None  None    None   None  \n",
       "2355  8                 10                  None  None  None    None   None  "
      ]
     },
     "execution_count": 3643,
     "metadata": {},
     "output_type": "execute_result"
    }
   ],
   "source": [
    "dogs_df.tail()"
   ]
  },
  {
   "cell_type": "code",
   "execution_count": 3644,
   "metadata": {
    "scrolled": false
   },
   "outputs": [
    {
     "data": {
      "text/html": [
       "<div>\n",
       "<style scoped>\n",
       "    .dataframe tbody tr th:only-of-type {\n",
       "        vertical-align: middle;\n",
       "    }\n",
       "\n",
       "    .dataframe tbody tr th {\n",
       "        vertical-align: top;\n",
       "    }\n",
       "\n",
       "    .dataframe thead th {\n",
       "        text-align: right;\n",
       "    }\n",
       "</style>\n",
       "<table border=\"1\" class=\"dataframe\">\n",
       "  <thead>\n",
       "    <tr style=\"text-align: right;\">\n",
       "      <th></th>\n",
       "      <th>tweet_id</th>\n",
       "      <th>in_reply_to_status_id</th>\n",
       "      <th>in_reply_to_user_id</th>\n",
       "      <th>timestamp</th>\n",
       "      <th>source</th>\n",
       "      <th>text</th>\n",
       "      <th>retweeted_status_id</th>\n",
       "      <th>retweeted_status_user_id</th>\n",
       "      <th>retweeted_status_timestamp</th>\n",
       "      <th>expanded_urls</th>\n",
       "      <th>rating_numerator</th>\n",
       "      <th>rating_denominator</th>\n",
       "      <th>name</th>\n",
       "      <th>doggo</th>\n",
       "      <th>floofer</th>\n",
       "      <th>pupper</th>\n",
       "      <th>puppo</th>\n",
       "    </tr>\n",
       "  </thead>\n",
       "  <tbody>\n",
       "    <tr>\n",
       "      <th>2238</th>\n",
       "      <td>668113020489474048</td>\n",
       "      <td>NaN</td>\n",
       "      <td>NaN</td>\n",
       "      <td>2015-11-21 17:05:31 +0000</td>\n",
       "      <td>&lt;a href=\"http://twitter.com/download/iphone\" rel=\"nofollow\"&gt;Twitter for iPhone&lt;/a&gt;</td>\n",
       "      <td>This is Alfie. He's that one hypocritical gym teacher who made you run laps. Great posture. Cool bench. 6/10 https://t.co/GCJzm3YsfX</td>\n",
       "      <td>NaN</td>\n",
       "      <td>NaN</td>\n",
       "      <td>NaN</td>\n",
       "      <td>https://twitter.com/dog_rates/status/668113020489474048/photo/1</td>\n",
       "      <td>6</td>\n",
       "      <td>10</td>\n",
       "      <td>Alfie</td>\n",
       "      <td>None</td>\n",
       "      <td>None</td>\n",
       "      <td>None</td>\n",
       "      <td>None</td>\n",
       "    </tr>\n",
       "    <tr>\n",
       "      <th>506</th>\n",
       "      <td>812747805718642688</td>\n",
       "      <td>NaN</td>\n",
       "      <td>NaN</td>\n",
       "      <td>2016-12-24 19:52:31 +0000</td>\n",
       "      <td>&lt;a href=\"http://twitter.com/download/iphone\" rel=\"nofollow\"&gt;Twitter for iPhone&lt;/a&gt;</td>\n",
       "      <td>RT @dog_rates: Meet Sammy. At first I was like \"that's a snowflake. we only rate dogs,\" but he would've melted by now, so 10/10 https://t.c…</td>\n",
       "      <td>6.800555e+17</td>\n",
       "      <td>4.196984e+09</td>\n",
       "      <td>2015-12-24 16:00:30 +0000</td>\n",
       "      <td>https://twitter.com/dog_rates/status/680055455951884288/photo/1</td>\n",
       "      <td>10</td>\n",
       "      <td>10</td>\n",
       "      <td>Sammy</td>\n",
       "      <td>None</td>\n",
       "      <td>None</td>\n",
       "      <td>None</td>\n",
       "      <td>None</td>\n",
       "    </tr>\n",
       "    <tr>\n",
       "      <th>1577</th>\n",
       "      <td>687399393394311168</td>\n",
       "      <td>NaN</td>\n",
       "      <td>NaN</td>\n",
       "      <td>2016-01-13 22:22:41 +0000</td>\n",
       "      <td>&lt;a href=\"http://vine.co\" rel=\"nofollow\"&gt;Vine - Make a Scene&lt;/a&gt;</td>\n",
       "      <td>This is Barry. He's very fast. I hope he finds what he's looking for. 10/10 (vid by @KeeganWolfe33) https://t.co/nTAsyvbIiO</td>\n",
       "      <td>NaN</td>\n",
       "      <td>NaN</td>\n",
       "      <td>NaN</td>\n",
       "      <td>https://vine.co/v/iM2hLu9LU5i</td>\n",
       "      <td>10</td>\n",
       "      <td>10</td>\n",
       "      <td>Barry</td>\n",
       "      <td>None</td>\n",
       "      <td>None</td>\n",
       "      <td>None</td>\n",
       "      <td>None</td>\n",
       "    </tr>\n",
       "    <tr>\n",
       "      <th>1739</th>\n",
       "      <td>679511351870550016</td>\n",
       "      <td>NaN</td>\n",
       "      <td>NaN</td>\n",
       "      <td>2015-12-23 03:58:25 +0000</td>\n",
       "      <td>&lt;a href=\"http://twitter.com/download/iphone\" rel=\"nofollow\"&gt;Twitter for iPhone&lt;/a&gt;</td>\n",
       "      <td>Say hello to William. He makes fun of others because he's terrified of his own deep-seated insecurities. 7/10 https://t.co/bwuV6FlRxr</td>\n",
       "      <td>NaN</td>\n",
       "      <td>NaN</td>\n",
       "      <td>NaN</td>\n",
       "      <td>https://twitter.com/dog_rates/status/679511351870550016/photo/1</td>\n",
       "      <td>7</td>\n",
       "      <td>10</td>\n",
       "      <td>William</td>\n",
       "      <td>None</td>\n",
       "      <td>None</td>\n",
       "      <td>None</td>\n",
       "      <td>None</td>\n",
       "    </tr>\n",
       "    <tr>\n",
       "      <th>961</th>\n",
       "      <td>751132876104687617</td>\n",
       "      <td>NaN</td>\n",
       "      <td>NaN</td>\n",
       "      <td>2016-07-07 19:16:47 +0000</td>\n",
       "      <td>&lt;a href=\"http://twitter.com/download/iphone\" rel=\"nofollow\"&gt;Twitter for iPhone&lt;/a&gt;</td>\n",
       "      <td>This is Cooper. He's just so damn happy. 10/10 what's your secret puppo? https://t.co/yToDwVXEpA</td>\n",
       "      <td>NaN</td>\n",
       "      <td>NaN</td>\n",
       "      <td>NaN</td>\n",
       "      <td>https://twitter.com/dog_rates/status/751132876104687617/photo/1,https://twitter.com/dog_rates/status/751132876104687617/photo/1</td>\n",
       "      <td>10</td>\n",
       "      <td>10</td>\n",
       "      <td>Cooper</td>\n",
       "      <td>None</td>\n",
       "      <td>None</td>\n",
       "      <td>None</td>\n",
       "      <td>puppo</td>\n",
       "    </tr>\n",
       "  </tbody>\n",
       "</table>\n",
       "</div>"
      ],
      "text/plain": [
       "                tweet_id  in_reply_to_status_id  in_reply_to_user_id  \\\n",
       "2238  668113020489474048 NaN                    NaN                    \n",
       "506   812747805718642688 NaN                    NaN                    \n",
       "1577  687399393394311168 NaN                    NaN                    \n",
       "1739  679511351870550016 NaN                    NaN                    \n",
       "961   751132876104687617 NaN                    NaN                    \n",
       "\n",
       "                      timestamp  \\\n",
       "2238  2015-11-21 17:05:31 +0000   \n",
       "506   2016-12-24 19:52:31 +0000   \n",
       "1577  2016-01-13 22:22:41 +0000   \n",
       "1739  2015-12-23 03:58:25 +0000   \n",
       "961   2016-07-07 19:16:47 +0000   \n",
       "\n",
       "                                                                                  source  \\\n",
       "2238  <a href=\"http://twitter.com/download/iphone\" rel=\"nofollow\">Twitter for iPhone</a>   \n",
       "506   <a href=\"http://twitter.com/download/iphone\" rel=\"nofollow\">Twitter for iPhone</a>   \n",
       "1577  <a href=\"http://vine.co\" rel=\"nofollow\">Vine - Make a Scene</a>                      \n",
       "1739  <a href=\"http://twitter.com/download/iphone\" rel=\"nofollow\">Twitter for iPhone</a>   \n",
       "961   <a href=\"http://twitter.com/download/iphone\" rel=\"nofollow\">Twitter for iPhone</a>   \n",
       "\n",
       "                                                                                                                                              text  \\\n",
       "2238  This is Alfie. He's that one hypocritical gym teacher who made you run laps. Great posture. Cool bench. 6/10 https://t.co/GCJzm3YsfX           \n",
       "506   RT @dog_rates: Meet Sammy. At first I was like \"that's a snowflake. we only rate dogs,\" but he would've melted by now, so 10/10 https://t.c…   \n",
       "1577  This is Barry. He's very fast. I hope he finds what he's looking for. 10/10 (vid by @KeeganWolfe33) https://t.co/nTAsyvbIiO                    \n",
       "1739  Say hello to William. He makes fun of others because he's terrified of his own deep-seated insecurities. 7/10 https://t.co/bwuV6FlRxr          \n",
       "961   This is Cooper. He's just so damn happy. 10/10 what's your secret puppo? https://t.co/yToDwVXEpA                                               \n",
       "\n",
       "      retweeted_status_id  retweeted_status_user_id  \\\n",
       "2238 NaN                  NaN                         \n",
       "506   6.800555e+17         4.196984e+09               \n",
       "1577 NaN                  NaN                         \n",
       "1739 NaN                  NaN                         \n",
       "961  NaN                  NaN                         \n",
       "\n",
       "     retweeted_status_timestamp  \\\n",
       "2238  NaN                         \n",
       "506   2015-12-24 16:00:30 +0000   \n",
       "1577  NaN                         \n",
       "1739  NaN                         \n",
       "961   NaN                         \n",
       "\n",
       "                                                                                                                        expanded_urls  \\\n",
       "2238  https://twitter.com/dog_rates/status/668113020489474048/photo/1                                                                   \n",
       "506   https://twitter.com/dog_rates/status/680055455951884288/photo/1                                                                   \n",
       "1577  https://vine.co/v/iM2hLu9LU5i                                                                                                     \n",
       "1739  https://twitter.com/dog_rates/status/679511351870550016/photo/1                                                                   \n",
       "961   https://twitter.com/dog_rates/status/751132876104687617/photo/1,https://twitter.com/dog_rates/status/751132876104687617/photo/1   \n",
       "\n",
       "      rating_numerator  rating_denominator     name doggo floofer pupper  \\\n",
       "2238  6                 10                  Alfie    None  None    None    \n",
       "506   10                10                  Sammy    None  None    None    \n",
       "1577  10                10                  Barry    None  None    None    \n",
       "1739  7                 10                  William  None  None    None    \n",
       "961   10                10                  Cooper   None  None    None    \n",
       "\n",
       "      puppo  \n",
       "2238  None   \n",
       "506   None   \n",
       "1577  None   \n",
       "1739  None   \n",
       "961   puppo  "
      ]
     },
     "execution_count": 3644,
     "metadata": {},
     "output_type": "execute_result"
    }
   ],
   "source": [
    "dogs_df.sample(5)"
   ]
  },
  {
   "cell_type": "code",
   "execution_count": 3645,
   "metadata": {},
   "outputs": [
    {
     "name": "stdout",
     "output_type": "stream",
     "text": [
      "<class 'pandas.core.frame.DataFrame'>\n",
      "RangeIndex: 2356 entries, 0 to 2355\n",
      "Data columns (total 17 columns):\n",
      "tweet_id                      2356 non-null int64\n",
      "in_reply_to_status_id         78 non-null float64\n",
      "in_reply_to_user_id           78 non-null float64\n",
      "timestamp                     2356 non-null object\n",
      "source                        2356 non-null object\n",
      "text                          2356 non-null object\n",
      "retweeted_status_id           181 non-null float64\n",
      "retweeted_status_user_id      181 non-null float64\n",
      "retweeted_status_timestamp    181 non-null object\n",
      "expanded_urls                 2297 non-null object\n",
      "rating_numerator              2356 non-null int64\n",
      "rating_denominator            2356 non-null int64\n",
      "name                          2356 non-null object\n",
      "doggo                         2356 non-null object\n",
      "floofer                       2356 non-null object\n",
      "pupper                        2356 non-null object\n",
      "puppo                         2356 non-null object\n",
      "dtypes: float64(4), int64(3), object(10)\n",
      "memory usage: 313.0+ KB\n"
     ]
    }
   ],
   "source": [
    "dogs_df.info()"
   ]
  },
  {
   "cell_type": "markdown",
   "metadata": {
    "slideshow": {
     "slide_type": "fragment"
    }
   },
   "source": [
    "From visual assessment and info() function:\n",
    "* the source column contains an html link tag that contians three types of information in one column, the source of the tweet, link of the source, 'rel' attribute.\n",
    "* The doggo, pupper and puppo are all possible dog stage, so it's better  of to represent them by one column e.g dog_stage column and the stage_column should be categorized.\n",
    "* Column doggo, pupper, and puppo sometimes are all Nones while a dog should be really in one of the three stages or sometimes big doggo is considered woofer, but here in the system, it seems dogs are categorized between only pupper, doggo and puppo and from further investigation visual assessment, it seems that the category of the dog is extracted from the text, so when the tweet text doesn't contain any of these words or use different words or abbreviations like 'pup', the values are none.\n",
    "* Not all ratings numerators are higher than 10, some ratings actually below 10, from visual assessment, and seeing the dates, it seems all lower than 10 rating_numerators in this small sample are posted in 2015, more programmatic assessment needed here.\n",
    "* The (in_reply_to_status_id, in_reply_to_user_id), (retweeted_status_id, retweeted_status_user_id, retweeted_status_timestamp)\tseems to contain many Nones, as we see from the info function, just 78 non-nulls for in_reply and 181 for retweets and that might not come as a surprise since most tweets are originally posted by the page, and such official rating pages may not retweet often, rather a personal twitter may contain many retweets.\n",
    "* The doggo, floofer, pupper, puppo doesn't contain any null entries from the info() function although we seem many Nones from the visual assessment and could be that string 'None' is inserted in them not object None.\n",
    "* expanded_urls contains 59 null objects that means there are 59 tweets with no urls of photos or any url included in the text, this data could be gathered from the json file, if exists.\n",
    "* There is a 'None' names in the tail and 'a' names, too. Checking the text, it seems names are extracted from statements in the form 'This is name', 'Here is name', if anything came in place of name, it's would be the name, and if the pattern doesn't exist, it will be None. A better text pattern may be used, but from this sample head, tail, sample, Sometimes names aren't really stated, somtimes breed, type or origin is stated, so we should furhter investigate name column.\n",
    "* 'tweet_id' is integer, 'in_reply_to_status_id', 'retweeted_status_user_id', 'retweeted_status_id', 'retweeted_status_user_id' are floats. Timestamp columns are string objects not datetime."
   ]
  },
  {
   "cell_type": "markdown",
   "metadata": {},
   "source": [
    "Next I will check for values of every interesting column to make sure case of 'None' strings doesn't happen to other columns"
   ]
  },
  {
   "cell_type": "code",
   "execution_count": 3646,
   "metadata": {},
   "outputs": [],
   "source": [
    "def value_counts_per_column(df, columns):\n",
    "    \"\"\"\n",
    "    Takes a dataframe and a set of columns in the dataframe \n",
    "    and prints out the value_counts of each column\n",
    "    \"\"\"\n",
    "    for column in columns:\n",
    "        print(df[column].value_counts())\n",
    "        print('\\n\\n', '==' * 20, '\\n\\n')\n",
    "        "
   ]
  },
  {
   "cell_type": "code",
   "execution_count": 3647,
   "metadata": {
    "scrolled": false
   },
   "outputs": [
    {
     "name": "stdout",
     "output_type": "stream",
     "text": [
      "None        745\n",
      "a           55 \n",
      "Charlie     12 \n",
      "Lucy        11 \n",
      "Cooper      11 \n",
      "Oliver      11 \n",
      "Tucker      10 \n",
      "Lola        10 \n",
      "Penny       10 \n",
      "Winston     9  \n",
      "Bo          9  \n",
      "the         8  \n",
      "Sadie       8  \n",
      "Bailey      7  \n",
      "Buddy       7  \n",
      "           ..  \n",
      "Edd         1  \n",
      "Stuart      1  \n",
      "Kial        1  \n",
      "Loomis      1  \n",
      "Spark       1  \n",
      "Stewie      1  \n",
      "Lipton      1  \n",
      "Blanket     1  \n",
      "Banditt     1  \n",
      "Griswold    1  \n",
      "Tupawc      1  \n",
      "Frönq       1  \n",
      "Aubie       1  \n",
      "Kane        1  \n",
      "Dug         1  \n",
      "Name: name, Length: 957, dtype: int64\n",
      "\n",
      "\n",
      " ======================================== \n",
      "\n",
      "\n",
      "None     2259\n",
      "doggo    97  \n",
      "Name: doggo, dtype: int64\n",
      "\n",
      "\n",
      " ======================================== \n",
      "\n",
      "\n",
      "None       2346\n",
      "floofer    10  \n",
      "Name: floofer, dtype: int64\n",
      "\n",
      "\n",
      " ======================================== \n",
      "\n",
      "\n",
      "None      2099\n",
      "pupper    257 \n",
      "Name: pupper, dtype: int64\n",
      "\n",
      "\n",
      " ======================================== \n",
      "\n",
      "\n",
      "None     2326\n",
      "puppo    30  \n",
      "Name: puppo, dtype: int64\n",
      "\n",
      "\n",
      " ======================================== \n",
      "\n",
      "\n",
      "<a href=\"http://twitter.com/download/iphone\" rel=\"nofollow\">Twitter for iPhone</a>     2221\n",
      "<a href=\"http://vine.co\" rel=\"nofollow\">Vine - Make a Scene</a>                        91  \n",
      "<a href=\"http://twitter.com\" rel=\"nofollow\">Twitter Web Client</a>                     33  \n",
      "<a href=\"https://about.twitter.com/products/tweetdeck\" rel=\"nofollow\">TweetDeck</a>    11  \n",
      "Name: source, dtype: int64\n",
      "\n",
      "\n",
      " ======================================== \n",
      "\n",
      "\n"
     ]
    }
   ],
   "source": [
    "value_counts_per_column(dogs_df, ['name', 'doggo', 'floofer', 'pupper', 'puppo', 'source'])"
   ]
  },
  {
   "cell_type": "markdown",
   "metadata": {},
   "source": [
    "**Observations per column(s):**\n",
    "* 'name': There are many Nones and other unreasonable names like 'a', 'an', 'old', 'the'\n",
    "* 'doggo', 'floofer', 'pupper', 'puppo': Values are either None or their column name, 'None' are dominant in those columns. \n",
    "* 'source': is either from Twitter for iPhone app, Vine, the Web or TweetDeck, we can see that the rel attribute takes always 'nofollow' value, so actually its existence when tidying up the column may be irrelevant, more space for no benefit, we make make a note that all links are 'nofollow' for browsers. Hence, I may argue that the html attr 'rel' is not important in our investigation or representation of the data-set."
   ]
  },
  {
   "cell_type": "code",
   "execution_count": 3649,
   "metadata": {},
   "outputs": [
    {
     "data": {
      "text/plain": [
       "None        745\n",
       "a           55 \n",
       "Charlie     12 \n",
       "Lucy        11 \n",
       "Cooper      11 \n",
       "Oliver      11 \n",
       "Tucker      10 \n",
       "Lola        10 \n",
       "Penny       10 \n",
       "Winston     9  \n",
       "Bo          9  \n",
       "the         8  \n",
       "Sadie       8  \n",
       "Bailey      7  \n",
       "Buddy       7  \n",
       "Toby        7  \n",
       "Daisy       7  \n",
       "an          7  \n",
       "Leo         6  \n",
       "Scout       6  \n",
       "Dave        6  \n",
       "Koda        6  \n",
       "Jack        6  \n",
       "Rusty       6  \n",
       "Milo        6  \n",
       "Bella       6  \n",
       "Jax         6  \n",
       "Oscar       6  \n",
       "Stanley     6  \n",
       "Finn        5  \n",
       "Louis       5  \n",
       "Sammy       5  \n",
       "Gus         5  \n",
       "Chester     5  \n",
       "Oakley      5  \n",
       "Alfie       5  \n",
       "George      5  \n",
       "Sunny       5  \n",
       "Phil        5  \n",
       "Bentley     5  \n",
       "Larry       5  \n",
       "very        5  \n",
       "Sophie      4  \n",
       "Moose       4  \n",
       "Chip        4  \n",
       "Duke        4  \n",
       "Hank        4  \n",
       "Gerald      4  \n",
       "Walter      4  \n",
       "one         4  \n",
       "Derek       4  \n",
       "quite       4  \n",
       "Clarence    4  \n",
       "Bruce       4  \n",
       "Sampson     4  \n",
       "Shadow      4  \n",
       "just        4  \n",
       "Brody       4  \n",
       "Boomer      4  \n",
       "Jeffrey     4  \n",
       "Maggie      4  \n",
       "Carl        4  \n",
       "Maximus     4  \n",
       "Scooter     4  \n",
       "Beau        4  \n",
       "Reggie      4  \n",
       "Archie      4  \n",
       "Maddie      4  \n",
       "Luna        4  \n",
       "Riley       4  \n",
       "Clark       4  \n",
       "Bear        4  \n",
       "Dexter      4  \n",
       "Winnie      4  \n",
       "Cassie      4  \n",
       "Ruby        4  \n",
       "Loki        4  \n",
       "Jerry       4  \n",
       "Reginald    4  \n",
       "Gary        4  \n",
       "Name: name, dtype: int64"
      ]
     },
     "execution_count": 3649,
     "metadata": {},
     "output_type": "execute_result"
    }
   ],
   "source": [
    "## Further investigating name column\n",
    "\n",
    "pd.set_option('display.max_rows', 500)\n",
    "\n",
    "dogs_df['name'].value_counts()[dogs_df['name'].value_counts() > 3]"
   ]
  },
  {
   "cell_type": "markdown",
   "metadata": {},
   "source": [
    "**Investigating name column furhter we notice those issues:**\n",
    "1. very high count of 'None' (745)\n",
    "2. Articles like 'a', 'an', 'the' adverbs like 'just', 'very', 'quite', adj like 'old' and others like  'one'.\n",
    "3. Some Strange names like Chip Scooter Moose Bentley Shadow, but names by nature aren't justified, so I might dig further to those specific names, but most likely they won't considered quality issues.\n",
    "\n",
    "The articles, adverbs and others like 'one' are all begin with lower case letters, that might help cleaning those data instead of getting list of all possible articles, adverbs and pronouns to check their existence in the names column"
   ]
  },
  {
   "cell_type": "markdown",
   "metadata": {},
   "source": [
    "<hr>"
   ]
  },
  {
   "cell_type": "code",
   "execution_count": 3652,
   "metadata": {},
   "outputs": [
    {
     "data": {
      "text/plain": [
       "'go                  go'"
      ]
     },
     "execution_count": 3652,
     "metadata": {},
     "output_type": "execute_result"
    }
   ],
   "source": [
    "'%-20s'%'go' + 'go'"
   ]
  },
  {
   "cell_type": "code",
   "execution_count": 3653,
   "metadata": {},
   "outputs": [],
   "source": [
    "def any_None_empty_object(df):\n",
    "    \"\"\"\n",
    "    checks there is any 'None' or empty '' string objects values in string \n",
    "    columns and prints out the column name if any\n",
    "    \"\"\"\n",
    "    for column in list(df):\n",
    "        if df[column].dtype == np.object:\n",
    "            if any(df[column].str.lower() == 'none'):\n",
    "                print('%-20s'%column + \"'none' strings exists\")\n",
    "            elif any(df[column].str.strip() == ''):\n",
    "                print('%-20s'%column + 'Empty strings exist')"
   ]
  },
  {
   "cell_type": "code",
   "execution_count": 3654,
   "metadata": {},
   "outputs": [
    {
     "name": "stdout",
     "output_type": "stream",
     "text": [
      "name                'none' strings exists\n",
      "doggo               'none' strings exists\n",
      "floofer             'none' strings exists\n",
      "pupper              'none' strings exists\n",
      "puppo               'none' strings exists\n"
     ]
    }
   ],
   "source": [
    "any_None_empty_object(dogs_df)"
   ]
  },
  {
   "cell_type": "markdown",
   "metadata": {},
   "source": [
    "It seems there is no empty string objects for any string column and srings containing 'none' strings are name, doggo, pupper, puppo which we have assessed before."
   ]
  },
  {
   "cell_type": "markdown",
   "metadata": {},
   "source": [
    "<hr>"
   ]
  },
  {
   "cell_type": "code",
   "execution_count": 3657,
   "metadata": {},
   "outputs": [],
   "source": [
    "pd.set_option('display.max_rows', 10)"
   ]
  },
  {
   "cell_type": "code",
   "execution_count": 3658,
   "metadata": {
    "scrolled": false
   },
   "outputs": [
    {
     "name": "stdout",
     "output_type": "stream",
     "text": [
      "2016-01-17 19:27:24 +0000    1\n",
      "2017-04-26 12:48:51 +0000    1\n",
      "2017-03-26 01:38:00 +0000    1\n",
      "2017-03-14 00:04:30 +0000    1\n",
      "2015-11-22 04:33:59 +0000    1\n",
      "                            ..\n",
      "2017-01-10 01:15:10 +0000    1\n",
      "2016-10-22 18:57:48 +0000    1\n",
      "2016-09-29 01:42:20 +0000    1\n",
      "2016-11-27 19:09:28 +0000    1\n",
      "2015-11-26 17:11:11 +0000    1\n",
      "Name: timestamp, Length: 2356, dtype: int64\n",
      "\n",
      "\n",
      " ======================================== \n",
      "\n",
      "\n",
      "This is Ruby. She just turned on the news. Officially terrified. 11/10 deep breaths Ruby https://t.co/y5KarNXWXt                                                        1\n",
      "This is Cal. He's a Swedish Geriatric Cheddar. Upset because the pope is laughing at his eyebrows. 9/10 https://t.co/EW4MsOrF5O                                         1\n",
      "This is Timmy. He's quite large. According to a trusted source it's actually a dog wearing a dog suit. 11/10 https://t.co/BIUchFwHqn                                    1\n",
      "I couldn't make it to the #WKCDogShow BUT I have people there on the ground relaying me the finest pupper pics possible. 13/10 for all https://t.co/jd6lYhfdH4          1\n",
      "Viewer discretion advised. This is Jimbo. He will rip ur finger right h*ckin off. Other dog clearly an accessory. 12/10 pls pet with caution https://t.co/BuveP0uMF1    1\n",
      "                                                                                                                                                                       ..\n",
      "This is Wallace. He's a skater pup. He said see ya later pup. Can easily do a kick flip. Gnarly af. 10/10 v petable https://t.co/5i8fORVKgr                             1\n",
      "This is Rusty. He's going D1 for sure. Insane vertical. 13/10 would draft https://t.co/AsykOwMrXQ                                                                       1\n",
      "\"Have a seat, son. There are some things we need to discuss\" 10/10 https://t.co/g4G5tvfTVd                                                                              1\n",
      "Oh my this spooked me up. We only rate dogs, not happy ghosts. Please send dogs only. It's a very simple premise. Thank you... 13/10 https://t.co/M5Rz0R8SIQ            1\n",
      "This is a Birmingham Quagmire named Chuk. Loves to relax and watch the game while sippin on that iced mocha. 10/10 https://t.co/HvNg9JWxFt                              1\n",
      "Name: text, Length: 2356, dtype: int64\n",
      "\n",
      "\n",
      " ======================================== \n",
      "\n",
      "\n",
      "https://twitter.com/dog_rates/status/700747788515020802/photo/1                                                                                                                                                                                                    2\n",
      "https://www.gofundme.com/help-lorenzo-beat-cancer,https://twitter.com/dog_rates/status/860563773140209665/photo/1,https://twitter.com/dog_rates/status/860563773140209665/photo/1                                                                                  2\n",
      "https://twitter.com/dog_rates/status/771380798096281600/photo/1,https://twitter.com/dog_rates/status/771380798096281600/photo/1,https://twitter.com/dog_rates/status/771380798096281600/photo/1,https://twitter.com/dog_rates/status/771380798096281600/photo/1    2\n",
      "https://twitter.com/dog_rates/status/791406955684368384/photo/1,https://twitter.com/dog_rates/status/791406955684368384/photo/1,https://twitter.com/dog_rates/status/791406955684368384/photo/1,https://twitter.com/dog_rates/status/791406955684368384/photo/1    2\n",
      "https://twitter.com/dog_rates/status/666104133288665088/photo/1                                                                                                                                                                                                    2\n",
      "                                                                                                                                                                                                                                                                  ..\n",
      "https://twitter.com/dog_rates/status/792913359805018113/photo/1,https://twitter.com/dog_rates/status/792913359805018113/photo/1,https://twitter.com/dog_rates/status/792913359805018113/photo/1,https://twitter.com/dog_rates/status/792913359805018113/photo/1    1\n",
      "https://twitter.com/dog_rates/status/857746408056729600/photo/1,https://twitter.com/dog_rates/status/857746408056729600/photo/1,https://twitter.com/dog_rates/status/857746408056729600/photo/1                                                                    1\n",
      "https://twitter.com/dog_rates/status/752334515931054080/video/1                                                                                                                                                                                                    1\n",
      "https://twitter.com/dog_rates/status/667861340749471744/photo/1                                                                                                                                                                                                    1\n",
      "https://twitter.com/dog_rates/status/680206703334408192/photo/1                                                                                                                                                                                                    1\n",
      "Name: expanded_urls, Length: 2218, dtype: int64\n",
      "\n",
      "\n",
      " ======================================== \n",
      "\n",
      "\n",
      "2016-01-27 18:42:06 +0000    1\n",
      "2016-03-21 19:29:52 +0000    1\n",
      "2016-10-26 22:31:36 +0000    1\n",
      "2016-11-22 20:58:07 +0000    1\n",
      "2016-10-21 18:16:44 +0000    1\n",
      "                            ..\n",
      "2016-01-08 05:00:14 +0000    1\n",
      "2015-11-19 03:29:07 +0000    1\n",
      "2017-02-16 23:23:38 +0000    1\n",
      "2016-02-12 17:22:12 +0000    1\n",
      "2015-12-30 06:37:25 +0000    1\n",
      "Name: retweeted_status_timestamp, Length: 181, dtype: int64\n",
      "\n",
      "\n",
      " ======================================== \n",
      "\n",
      "\n"
     ]
    }
   ],
   "source": [
    "## Additional assessment for remaining text columns\n",
    "\n",
    "value_counts_per_column(dogs_df, ['timestamp', 'text', 'expanded_urls', 'retweeted_status_timestamp'])"
   ]
  },
  {
   "cell_type": "markdown",
   "metadata": {},
   "source": [
    "**Observations:**\n",
    "* The 'text' columns contains two pieces of information both the text and the t.co url link wrappers. So this is a tidyness issue. Moreover, from visual assessment and checking url, t.co links usually refer to the same page as the expaned_url, but this may should be confirmed\n",
    "* Timestamp objects seems to be unique and all follow same format, but the milliseconds field is probably superfluous since all of them seems to be '+0000'. Furthermore, milliseconds aren't necessary in the investigation.\n",
    "* Texts also tend to be unique as there is no text with value_count more than 1\n",
    "* Expaned urls have some urls with value count more than one while we know every tweet has unique tweet_id. \n",
    "<br>In addition, For some entries, expanded urls have the same url repeated e.g. \"https://twitter.com/dog_rates/status/782305867769217024/photo/1,\n",
    "https://twitter.com/dog_rates/status/782305867769217024/photo/1,\n",
    "https://twitter.com/dog_rates/status/782305867769217024/photo/1\" <br>In addition, the urls seems to be the same, but this needs to be checked further to figure out why there are multiple links, and why the links are the same and whether the links are the same for all expaneded_urls containing more than one url. Based on those questoins, this can be a quality issue, a tidiness issue or both to be considered in the cleaning."
   ]
  },
  {
   "cell_type": "markdown",
   "metadata": {},
   "source": [
    "<hr>"
   ]
  },
  {
   "cell_type": "code",
   "execution_count": 3674,
   "metadata": {},
   "outputs": [],
   "source": [
    "## Checking uniqueness of tweet_id and that there is no None values\n",
    "assert dogs_df['tweet_id'].nunique() == dogs_df.shape[0]"
   ]
  },
  {
   "cell_type": "code",
   "execution_count": 3675,
   "metadata": {},
   "outputs": [
    {
     "data": {
      "text/html": [
       "<div>\n",
       "<style scoped>\n",
       "    .dataframe tbody tr th:only-of-type {\n",
       "        vertical-align: middle;\n",
       "    }\n",
       "\n",
       "    .dataframe tbody tr th {\n",
       "        vertical-align: top;\n",
       "    }\n",
       "\n",
       "    .dataframe thead th {\n",
       "        text-align: right;\n",
       "    }\n",
       "</style>\n",
       "<table border=\"1\" class=\"dataframe\">\n",
       "  <thead>\n",
       "    <tr style=\"text-align: right;\">\n",
       "      <th></th>\n",
       "      <th>tweet_id</th>\n",
       "      <th>in_reply_to_status_id</th>\n",
       "      <th>in_reply_to_user_id</th>\n",
       "      <th>retweeted_status_id</th>\n",
       "      <th>retweeted_status_user_id</th>\n",
       "      <th>rating_numerator</th>\n",
       "      <th>rating_denominator</th>\n",
       "    </tr>\n",
       "  </thead>\n",
       "  <tbody>\n",
       "    <tr>\n",
       "      <th>count</th>\n",
       "      <td>2.356000e+03</td>\n",
       "      <td>7.800000e+01</td>\n",
       "      <td>7.800000e+01</td>\n",
       "      <td>1.810000e+02</td>\n",
       "      <td>1.810000e+02</td>\n",
       "      <td>2356.000000</td>\n",
       "      <td>2356.000000</td>\n",
       "    </tr>\n",
       "    <tr>\n",
       "      <th>mean</th>\n",
       "      <td>7.427716e+17</td>\n",
       "      <td>7.455079e+17</td>\n",
       "      <td>2.014171e+16</td>\n",
       "      <td>7.720400e+17</td>\n",
       "      <td>1.241698e+16</td>\n",
       "      <td>13.126486</td>\n",
       "      <td>10.455433</td>\n",
       "    </tr>\n",
       "    <tr>\n",
       "      <th>std</th>\n",
       "      <td>6.856705e+16</td>\n",
       "      <td>7.582492e+16</td>\n",
       "      <td>1.252797e+17</td>\n",
       "      <td>6.236928e+16</td>\n",
       "      <td>9.599254e+16</td>\n",
       "      <td>45.876648</td>\n",
       "      <td>6.745237</td>\n",
       "    </tr>\n",
       "    <tr>\n",
       "      <th>min</th>\n",
       "      <td>6.660209e+17</td>\n",
       "      <td>6.658147e+17</td>\n",
       "      <td>1.185634e+07</td>\n",
       "      <td>6.661041e+17</td>\n",
       "      <td>7.832140e+05</td>\n",
       "      <td>0.000000</td>\n",
       "      <td>0.000000</td>\n",
       "    </tr>\n",
       "    <tr>\n",
       "      <th>25%</th>\n",
       "      <td>6.783989e+17</td>\n",
       "      <td>6.757419e+17</td>\n",
       "      <td>3.086374e+08</td>\n",
       "      <td>7.186315e+17</td>\n",
       "      <td>4.196984e+09</td>\n",
       "      <td>10.000000</td>\n",
       "      <td>10.000000</td>\n",
       "    </tr>\n",
       "    <tr>\n",
       "      <th>50%</th>\n",
       "      <td>7.196279e+17</td>\n",
       "      <td>7.038708e+17</td>\n",
       "      <td>4.196984e+09</td>\n",
       "      <td>7.804657e+17</td>\n",
       "      <td>4.196984e+09</td>\n",
       "      <td>11.000000</td>\n",
       "      <td>10.000000</td>\n",
       "    </tr>\n",
       "    <tr>\n",
       "      <th>75%</th>\n",
       "      <td>7.993373e+17</td>\n",
       "      <td>8.257804e+17</td>\n",
       "      <td>4.196984e+09</td>\n",
       "      <td>8.203146e+17</td>\n",
       "      <td>4.196984e+09</td>\n",
       "      <td>12.000000</td>\n",
       "      <td>10.000000</td>\n",
       "    </tr>\n",
       "    <tr>\n",
       "      <th>max</th>\n",
       "      <td>8.924206e+17</td>\n",
       "      <td>8.862664e+17</td>\n",
       "      <td>8.405479e+17</td>\n",
       "      <td>8.874740e+17</td>\n",
       "      <td>7.874618e+17</td>\n",
       "      <td>1776.000000</td>\n",
       "      <td>170.000000</td>\n",
       "    </tr>\n",
       "  </tbody>\n",
       "</table>\n",
       "</div>"
      ],
      "text/plain": [
       "           tweet_id  in_reply_to_status_id  in_reply_to_user_id  \\\n",
       "count  2.356000e+03  7.800000e+01           7.800000e+01          \n",
       "mean   7.427716e+17  7.455079e+17           2.014171e+16          \n",
       "std    6.856705e+16  7.582492e+16           1.252797e+17          \n",
       "min    6.660209e+17  6.658147e+17           1.185634e+07          \n",
       "25%    6.783989e+17  6.757419e+17           3.086374e+08          \n",
       "50%    7.196279e+17  7.038708e+17           4.196984e+09          \n",
       "75%    7.993373e+17  8.257804e+17           4.196984e+09          \n",
       "max    8.924206e+17  8.862664e+17           8.405479e+17          \n",
       "\n",
       "       retweeted_status_id  retweeted_status_user_id  rating_numerator  \\\n",
       "count  1.810000e+02         1.810000e+02              2356.000000        \n",
       "mean   7.720400e+17         1.241698e+16              13.126486          \n",
       "std    6.236928e+16         9.599254e+16              45.876648          \n",
       "min    6.661041e+17         7.832140e+05              0.000000           \n",
       "25%    7.186315e+17         4.196984e+09              10.000000          \n",
       "50%    7.804657e+17         4.196984e+09              11.000000          \n",
       "75%    8.203146e+17         4.196984e+09              12.000000          \n",
       "max    8.874740e+17         7.874618e+17              1776.000000        \n",
       "\n",
       "       rating_denominator  \n",
       "count  2356.000000         \n",
       "mean   10.455433           \n",
       "std    6.745237            \n",
       "min    0.000000            \n",
       "25%    10.000000           \n",
       "50%    10.000000           \n",
       "75%    10.000000           \n",
       "max    170.000000          "
      ]
     },
     "execution_count": 3675,
     "metadata": {},
     "output_type": "execute_result"
    }
   ],
   "source": [
    "dogs_df.describe()"
   ]
  },
  {
   "cell_type": "markdown",
   "metadata": {},
   "source": [
    "**Observations:**\n",
    "* Checking (min, 25%, 50%, 75%, max), every tweet id (tweet_id, in_reply_to_status_id, retweeted_status_id) tend to be 18 digits, hence a string representation here is meaningful as mean, std doens't really mean anything here.\n",
    "* On the other hand, user ids (in_reply_to_user_id, retweeted_status_user_id) doesn't all have 18 digits, some have 8 or 6 digits, up to 18 digits, according to the article [Interpreting Twitter id](https://www.adweek.com/digital/twitter-user-id/) twitter user ids gave an ordering of when a user account was created, but thinking of the 18 digit user ids, it seems the incrementing or incrementing fashion like user id system has been replaced by fixed 18 digits systems, that's just a guess, to make sure we should investigate user ids and their account launch dates. In addition, this guess is based on the fact that there is supposedly about 330 million twitter user today and there is about 7.5 billion people in the world as whole, 18 digits is much much higher number, meaning even if every person on Earth is registered on twitter, every one shall have about a billion twitter accounts so that the user_id has an ordering which is untrue.\n",
    "* Rating numerators have untrue or outlier values like 1776, 0 biasing the mean and std. (quality issue)\n",
    "* Rating denomenators have untrue or outlier values like 0, 170 while all denomenators should be supposedly 10. (quality issue)"
   ]
  },
  {
   "cell_type": "markdown",
   "metadata": {},
   "source": [
    "> **Summarizing Data issues in dogs_df:**\n",
    "* **Tidyness Issues: **\n",
    "       1. Converting source column HTML to its constituent parts url, and app source, 'rel' will be discarded since it's alwasy 'no-follow'.\n",
    "       2. Converting pupper, puppo, doggo value columns to be values in one column stage_column.\n",
    "* **Quality Issues: **\n",
    "       1. 'name' column: Clearing 'None' names and inappropriate false names like 'a', 'an' and 'the'.\n",
    "       2. Changing 'floofer' column to boolean."
   ]
  },
  {
   "cell_type": "markdown",
   "metadata": {},
   "source": [
    "# Cleaning dogs_df Dataframe"
   ]
  },
  {
   "cell_type": "code",
   "execution_count": 3676,
   "metadata": {},
   "outputs": [],
   "source": [
    "dogs_clean = dogs_df.copy()"
   ]
  },
  {
   "cell_type": "code",
   "execution_count": 3677,
   "metadata": {},
   "outputs": [],
   "source": [
    "def get_index(df, column, values):\n",
    "    \"\"\"\n",
    "    returns the index of the dataframe df rows where\n",
    "    the certain column 'column' equales the specified 'values'\n",
    "    \"\"\"\n",
    "    return df[df[column].isin(values)].index"
   ]
  },
  {
   "cell_type": "markdown",
   "metadata": {},
   "source": [
    "### Deleted Tweets"
   ]
  },
  {
   "cell_type": "markdown",
   "metadata": {},
   "source": [
    "I will drop deleted tweets since I cannot assess their authenticity"
   ]
  },
  {
   "cell_type": "code",
   "execution_count": 3678,
   "metadata": {},
   "outputs": [
    {
     "name": "stdout",
     "output_type": "stream",
     "text": [
      "<class 'pandas.core.frame.DataFrame'>\n",
      "RangeIndex: 2356 entries, 0 to 2355\n",
      "Data columns (total 17 columns):\n",
      "tweet_id                      2356 non-null int64\n",
      "in_reply_to_status_id         78 non-null float64\n",
      "in_reply_to_user_id           78 non-null float64\n",
      "timestamp                     2356 non-null object\n",
      "source                        2356 non-null object\n",
      "text                          2356 non-null object\n",
      "retweeted_status_id           181 non-null float64\n",
      "retweeted_status_user_id      181 non-null float64\n",
      "retweeted_status_timestamp    181 non-null object\n",
      "expanded_urls                 2297 non-null object\n",
      "rating_numerator              2356 non-null int64\n",
      "rating_denominator            2356 non-null int64\n",
      "name                          2356 non-null object\n",
      "doggo                         2356 non-null object\n",
      "floofer                       2356 non-null object\n",
      "pupper                        2356 non-null object\n",
      "puppo                         2356 non-null object\n",
      "dtypes: float64(4), int64(3), object(10)\n",
      "memory usage: 313.0+ KB\n"
     ]
    }
   ],
   "source": [
    "dogs_clean.info()"
   ]
  },
  {
   "cell_type": "code",
   "execution_count": 3682,
   "metadata": {},
   "outputs": [
    {
     "data": {
      "text/plain": [
       "Int64Index([  19,   95,  101,  104,  118,  132,  155,  182,  247,  253,  260,\n",
       "             298,  382,  506,  566,  784,  818,  932, 1726],\n",
       "           dtype='int64')"
      ]
     },
     "execution_count": 3682,
     "metadata": {},
     "output_type": "execute_result"
    }
   ],
   "source": [
    "deleted_tweets_ids = np.asarray(deleted_tweets_ids).astype(np.int64)\n",
    "\n",
    "dogs_clean[dogs_clean['tweet_id'].isin(deleted_tweets_ids)].index"
   ]
  },
  {
   "cell_type": "code",
   "execution_count": 3446,
   "metadata": {},
   "outputs": [],
   "source": [
    "## Converting deleted_tweets to string \n",
    "\n",
    "deleted_tweets_ids = np.asarray(deleted_tweets_ids).astype(str)\n",
    "del_tweets_indices = dogs_clean[dogs_clean['tweet_id'].isin(deleted_tweets_ids)].index\n",
    "dogs_clean.drop(del_tweets_indices, inplace=True)\n"
   ]
  },
  {
   "cell_type": "markdown",
   "metadata": {},
   "source": [
    "### Converting ids to strings "
   ]
  },
  {
   "cell_type": "markdown",
   "metadata": {},
   "source": [
    "First, I will convert tweeets ids to string for easier visual assessment and checking for ids and because int and float ids values doesn't convey any numerical ordering for ids."
   ]
  },
  {
   "cell_type": "code",
   "execution_count": 3447,
   "metadata": {},
   "outputs": [],
   "source": [
    "## Converting tweet_id to string\n",
    "dogs_clean.tweet_id = dogs_clean.tweet_id.astype(str)"
   ]
  },
  {
   "cell_type": "markdown",
   "metadata": {},
   "source": [
    "When converting float ids to string, I will first need to convert them to integers, then to str, the problem is with Nan when converting from float to int, so first I will first nans with -1, then after conversion they will be returend to Nan again."
   ]
  },
  {
   "cell_type": "code",
   "execution_count": 3448,
   "metadata": {
    "scrolled": false
   },
   "outputs": [
    {
     "name": "stdout",
     "output_type": "stream",
     "text": [
      "<class 'pandas.core.frame.DataFrame'>\n",
      "Int64Index: 2337 entries, 0 to 2355\n",
      "Data columns (total 17 columns):\n",
      "tweet_id                      2337 non-null object\n",
      "in_reply_to_status_id         78 non-null object\n",
      "in_reply_to_user_id           78 non-null object\n",
      "timestamp                     2337 non-null object\n",
      "source                        2337 non-null object\n",
      "text                          2337 non-null object\n",
      "retweeted_status_id           166 non-null object\n",
      "retweeted_status_user_id      166 non-null object\n",
      "retweeted_status_timestamp    166 non-null object\n",
      "expanded_urls                 2278 non-null object\n",
      "rating_numerator              2337 non-null int64\n",
      "rating_denominator            2337 non-null int64\n",
      "name                          2337 non-null object\n",
      "doggo                         2337 non-null object\n",
      "floofer                       2337 non-null object\n",
      "pupper                        2337 non-null object\n",
      "puppo                         2337 non-null object\n",
      "dtypes: int64(2), object(15)\n",
      "memory usage: 328.6+ KB\n"
     ]
    }
   ],
   "source": [
    "# Converting float ids to string\n",
    "for column in list(dogs_clean):\n",
    "    if column[-3:] == '_id' and any(pd.isnull(dogs_clean[column])):\n",
    "        dogs_clean[column].fillna(-1, inplace = True)\n",
    "        dogs_clean[column]  = dogs_clean[column].astype(np.int64).astype(str)\n",
    "        dogs_clean.loc[dogs_clean[column] == '-1', column] = None\n",
    "    \n",
    "dogs_clean.info()"
   ]
  },
  {
   "cell_type": "markdown",
   "metadata": {},
   "source": [
    "### Convering date column from strings to datetime objects"
   ]
  },
  {
   "cell_type": "code",
   "execution_count": 3449,
   "metadata": {
    "scrolled": true
   },
   "outputs": [
    {
     "data": {
      "text/plain": [
       "881    2016-08-02 17:04:31 +0000\n",
       "467    2017-01-05 21:29:55 +0000\n",
       "Name: timestamp, dtype: object"
      ]
     },
     "execution_count": 3449,
     "metadata": {},
     "output_type": "execute_result"
    }
   ],
   "source": [
    "dogs_clean.timestamp.sample(2)"
   ]
  },
  {
   "cell_type": "code",
   "execution_count": 3450,
   "metadata": {},
   "outputs": [
    {
     "data": {
      "text/plain": [
       "2239    NaN\n",
       "474     NaN\n",
       "Name: retweeted_status_timestamp, dtype: object"
      ]
     },
     "execution_count": 3450,
     "metadata": {},
     "output_type": "execute_result"
    }
   ],
   "source": [
    "dogs_clean.retweeted_status_timestamp.sample(2)"
   ]
  },
  {
   "cell_type": "code",
   "execution_count": 3451,
   "metadata": {},
   "outputs": [
    {
     "data": {
      "text/plain": [
       "0   2017-08-01 16:23:56\n",
       "1   2017-08-01 00:17:27\n",
       "Name: timestamp, dtype: datetime64[ns]"
      ]
     },
     "execution_count": 3451,
     "metadata": {},
     "output_type": "execute_result"
    }
   ],
   "source": [
    "dogs_clean.timestamp = pd.to_datetime(dogs_clean.timestamp, format = '%Y-%m-%d %H:%M:%S')\n",
    "dogs_clean.retweeted_status_timestamp = pd.to_datetime(dogs_clean.retweeted_status_timestamp, format = '%Y-%m-%d %H:%M:%S')\n",
    "dogs_clean.timestamp.head(2)"
   ]
  },
  {
   "cell_type": "code",
   "execution_count": 3452,
   "metadata": {},
   "outputs": [
    {
     "name": "stdout",
     "output_type": "stream",
     "text": [
      "<class 'pandas.core.frame.DataFrame'>\n",
      "Int64Index: 2337 entries, 0 to 2355\n",
      "Data columns (total 2 columns):\n",
      "timestamp                     2337 non-null datetime64[ns]\n",
      "retweeted_status_timestamp    166 non-null datetime64[ns]\n",
      "dtypes: datetime64[ns](2)\n",
      "memory usage: 54.8 KB\n"
     ]
    }
   ],
   "source": [
    "dogs_clean[['timestamp', 'retweeted_status_timestamp']].info()"
   ]
  },
  {
   "cell_type": "markdown",
   "metadata": {},
   "source": [
    "### Source column"
   ]
  },
  {
   "cell_type": "code",
   "execution_count": 3453,
   "metadata": {},
   "outputs": [
    {
     "data": {
      "text/plain": [
       "0    <a href=\"http://twitter.com/download/iphone\" rel=\"nofollow\">Twitter for iPhone</a>\n",
       "1    <a href=\"http://twitter.com/download/iphone\" rel=\"nofollow\">Twitter for iPhone</a>\n",
       "2    <a href=\"http://twitter.com/download/iphone\" rel=\"nofollow\">Twitter for iPhone</a>\n",
       "3    <a href=\"http://twitter.com/download/iphone\" rel=\"nofollow\">Twitter for iPhone</a>\n",
       "4    <a href=\"http://twitter.com/download/iphone\" rel=\"nofollow\">Twitter for iPhone</a>\n",
       "Name: source, dtype: object"
      ]
     },
     "execution_count": 3453,
     "metadata": {},
     "output_type": "execute_result"
    }
   ],
   "source": [
    "dogs_clean.source.head()"
   ]
  },
  {
   "cell_type": "code",
   "execution_count": 3454,
   "metadata": {},
   "outputs": [],
   "source": [
    "dogs_clean[['source_app', 'source_url']] = dogs_clean.source.str.extract('<a href=\"(.*)\" rel=\"nofollow\">(.*)</a>')[[1,0]]"
   ]
  },
  {
   "cell_type": "code",
   "execution_count": 3455,
   "metadata": {},
   "outputs": [
    {
     "name": "stdout",
     "output_type": "stream",
     "text": [
      "<class 'pandas.core.frame.DataFrame'>\n",
      "Int64Index: 2337 entries, 0 to 2355\n",
      "Data columns (total 3 columns):\n",
      "source        2337 non-null object\n",
      "source_app    2337 non-null object\n",
      "source_url    2337 non-null object\n",
      "dtypes: object(3)\n",
      "memory usage: 73.0+ KB\n"
     ]
    }
   ],
   "source": [
    "dogs_clean[['source', 'source_app', 'source_url']].info()"
   ]
  },
  {
   "cell_type": "code",
   "execution_count": 3456,
   "metadata": {},
   "outputs": [
    {
     "data": {
      "text/html": [
       "<div>\n",
       "<style scoped>\n",
       "    .dataframe tbody tr th:only-of-type {\n",
       "        vertical-align: middle;\n",
       "    }\n",
       "\n",
       "    .dataframe tbody tr th {\n",
       "        vertical-align: top;\n",
       "    }\n",
       "\n",
       "    .dataframe thead th {\n",
       "        text-align: right;\n",
       "    }\n",
       "</style>\n",
       "<table border=\"1\" class=\"dataframe\">\n",
       "  <thead>\n",
       "    <tr style=\"text-align: right;\">\n",
       "      <th></th>\n",
       "      <th>source</th>\n",
       "      <th>source_app</th>\n",
       "      <th>source_url</th>\n",
       "    </tr>\n",
       "  </thead>\n",
       "  <tbody>\n",
       "    <tr>\n",
       "      <th>1861</th>\n",
       "      <td>&lt;a href=\"http://twitter.com/download/iphone\" rel=\"nofollow\"&gt;Twitter for iPhone&lt;/a&gt;</td>\n",
       "      <td>Twitter for iPhone</td>\n",
       "      <td>http://twitter.com/download/iphone</td>\n",
       "    </tr>\n",
       "    <tr>\n",
       "      <th>467</th>\n",
       "      <td>&lt;a href=\"http://twitter.com/download/iphone\" rel=\"nofollow\"&gt;Twitter for iPhone&lt;/a&gt;</td>\n",
       "      <td>Twitter for iPhone</td>\n",
       "      <td>http://twitter.com/download/iphone</td>\n",
       "    </tr>\n",
       "    <tr>\n",
       "      <th>1713</th>\n",
       "      <td>&lt;a href=\"http://twitter.com/download/iphone\" rel=\"nofollow\"&gt;Twitter for iPhone&lt;/a&gt;</td>\n",
       "      <td>Twitter for iPhone</td>\n",
       "      <td>http://twitter.com/download/iphone</td>\n",
       "    </tr>\n",
       "    <tr>\n",
       "      <th>1527</th>\n",
       "      <td>&lt;a href=\"http://twitter.com/download/iphone\" rel=\"nofollow\"&gt;Twitter for iPhone&lt;/a&gt;</td>\n",
       "      <td>Twitter for iPhone</td>\n",
       "      <td>http://twitter.com/download/iphone</td>\n",
       "    </tr>\n",
       "    <tr>\n",
       "      <th>4</th>\n",
       "      <td>&lt;a href=\"http://twitter.com/download/iphone\" rel=\"nofollow\"&gt;Twitter for iPhone&lt;/a&gt;</td>\n",
       "      <td>Twitter for iPhone</td>\n",
       "      <td>http://twitter.com/download/iphone</td>\n",
       "    </tr>\n",
       "  </tbody>\n",
       "</table>\n",
       "</div>"
      ],
      "text/plain": [
       "                                                                                  source  \\\n",
       "1861  <a href=\"http://twitter.com/download/iphone\" rel=\"nofollow\">Twitter for iPhone</a>   \n",
       "467   <a href=\"http://twitter.com/download/iphone\" rel=\"nofollow\">Twitter for iPhone</a>   \n",
       "1713  <a href=\"http://twitter.com/download/iphone\" rel=\"nofollow\">Twitter for iPhone</a>   \n",
       "1527  <a href=\"http://twitter.com/download/iphone\" rel=\"nofollow\">Twitter for iPhone</a>   \n",
       "4     <a href=\"http://twitter.com/download/iphone\" rel=\"nofollow\">Twitter for iPhone</a>   \n",
       "\n",
       "              source_app                          source_url  \n",
       "1861  Twitter for iPhone  http://twitter.com/download/iphone  \n",
       "467   Twitter for iPhone  http://twitter.com/download/iphone  \n",
       "1713  Twitter for iPhone  http://twitter.com/download/iphone  \n",
       "1527  Twitter for iPhone  http://twitter.com/download/iphone  \n",
       "4     Twitter for iPhone  http://twitter.com/download/iphone  "
      ]
     },
     "execution_count": 3456,
     "metadata": {},
     "output_type": "execute_result"
    }
   ],
   "source": [
    "dogs_clean[['source', 'source_app', 'source_url']].sample(5)"
   ]
  },
  {
   "cell_type": "code",
   "execution_count": 3457,
   "metadata": {},
   "outputs": [],
   "source": [
    "dogs_clean.drop(columns = ['source'], inplace=True)"
   ]
  },
  {
   "cell_type": "code",
   "execution_count": 3458,
   "metadata": {},
   "outputs": [
    {
     "data": {
      "text/plain": [
       "['tweet_id',\n",
       " 'in_reply_to_status_id',\n",
       " 'in_reply_to_user_id',\n",
       " 'timestamp',\n",
       " 'text',\n",
       " 'retweeted_status_id',\n",
       " 'retweeted_status_user_id',\n",
       " 'retweeted_status_timestamp',\n",
       " 'expanded_urls',\n",
       " 'rating_numerator',\n",
       " 'rating_denominator',\n",
       " 'name',\n",
       " 'doggo',\n",
       " 'floofer',\n",
       " 'pupper',\n",
       " 'puppo',\n",
       " 'source_app',\n",
       " 'source_url']"
      ]
     },
     "execution_count": 3458,
     "metadata": {},
     "output_type": "execute_result"
    }
   ],
   "source": [
    "list(dogs_clean)"
   ]
  },
  {
   "cell_type": "markdown",
   "metadata": {},
   "source": [
    "### Text, Url"
   ]
  },
  {
   "cell_type": "markdown",
   "metadata": {},
   "source": [
    "Since the urls are [t.co](https://help.twitter.com/en/using-twitter/how-to-tweet-a-link) shortened twitter url, the regex here is specific to capture those specific urls"
   ]
  },
  {
   "cell_type": "code",
   "execution_count": 3459,
   "metadata": {},
   "outputs": [],
   "source": [
    "dogs_clean['shortened_urls'] = dogs_clean.text.str.extract('(https?://t.co/[a-zA-Z0-9]{10})')[0]"
   ]
  },
  {
   "cell_type": "code",
   "execution_count": 3460,
   "metadata": {},
   "outputs": [
    {
     "data": {
      "text/plain": [
       "0    This is Phineas. He's a mystical boy. Only ever appears in the hole of a donut. 13/10 https://t.co/MgUWQ76dJU                                                     \n",
       "1    This is Tilly. She's just checking pup on you. Hopes you're doing ok. If not, she's available for pats, snugs, boops, the whole bit. 13/10 https://t.co/0Xxu71qeIV\n",
       "2    This is Archie. He is a rare Norwegian Pouncing Corgo. Lives in the tall grass. You never know when one may strike. 12/10 https://t.co/wUnZnhtVJB                 \n",
       "3    This is Darla. She commenced a snooze mid meal. 13/10 happens to the best of us https://t.co/tD36da7qLQ                                                           \n",
       "4    This is Franklin. He would like you to stop calling him \"cute.\" He is a very fierce shark and should be respected as such. 12/10 #BarkWeek https://t.co/AtUZn91f7f\n",
       "Name: text, dtype: object"
      ]
     },
     "execution_count": 3460,
     "metadata": {},
     "output_type": "execute_result"
    }
   ],
   "source": [
    "dogs_clean.text.head()"
   ]
  },
  {
   "cell_type": "code",
   "execution_count": 3461,
   "metadata": {},
   "outputs": [
    {
     "data": {
      "text/plain": [
       "0    This is Phineas. He's a mystical boy. Only ever appears in the hole of a donut. 13/10                                                      \n",
       "1    This is Tilly. She's just checking pup on you. Hopes you're doing ok. If not, she's available for pats, snugs, boops, the whole bit. 13/10 \n",
       "2    This is Archie. He is a rare Norwegian Pouncing Corgo. Lives in the tall grass. You never know when one may strike. 12/10                  \n",
       "3    This is Darla. She commenced a snooze mid meal. 13/10 happens to the best of us                                                            \n",
       "4    This is Franklin. He would like you to stop calling him \"cute.\" He is a very fierce shark and should be respected as such. 12/10 #BarkWeek \n",
       "Name: text, dtype: object"
      ]
     },
     "execution_count": 3461,
     "metadata": {},
     "output_type": "execute_result"
    }
   ],
   "source": [
    "## Removing urls from text \n",
    "dogs_clean.text = dogs_clean.text.str.replace('(https?://t.co/[a-zA-Z0-9]{10})', '')\n",
    "dogs_clean.text.head()"
   ]
  },
  {
   "cell_type": "code",
   "execution_count": 3462,
   "metadata": {},
   "outputs": [
    {
     "name": "stdout",
     "output_type": "stream",
     "text": [
      "<class 'pandas.core.frame.DataFrame'>\n",
      "Int64Index: 2337 entries, 0 to 2355\n",
      "Data columns (total 3 columns):\n",
      "shortened_urls    2203 non-null object\n",
      "expanded_urls     2278 non-null object\n",
      "text              2337 non-null object\n",
      "dtypes: object(3)\n",
      "memory usage: 73.0+ KB\n"
     ]
    }
   ],
   "source": [
    "dogs_clean[['shortened_urls', 'expanded_urls', 'text']].info()"
   ]
  },
  {
   "cell_type": "markdown",
   "metadata": {},
   "source": [
    "Now we have separated text and urls, it seems some text doesn't contain shortenered_urls, hence I will iterate over those"
   ]
  },
  {
   "cell_type": "code",
   "execution_count": 3463,
   "metadata": {},
   "outputs": [
    {
     "name": "stdout",
     "output_type": "stream",
     "text": [
      "<class 'pandas.core.frame.DataFrame'>\n",
      "Int64Index: 134 entries, 30 to 2298\n",
      "Data columns (total 19 columns):\n",
      "tweet_id                      134 non-null object\n",
      "in_reply_to_status_id         55 non-null object\n",
      "in_reply_to_user_id           55 non-null object\n",
      "timestamp                     134 non-null datetime64[ns]\n",
      "text                          134 non-null object\n",
      "retweeted_status_id           76 non-null object\n",
      "retweeted_status_user_id      76 non-null object\n",
      "retweeted_status_timestamp    76 non-null datetime64[ns]\n",
      "expanded_urls                 75 non-null object\n",
      "rating_numerator              134 non-null int64\n",
      "rating_denominator            134 non-null int64\n",
      "name                          134 non-null object\n",
      "doggo                         134 non-null object\n",
      "floofer                       134 non-null object\n",
      "pupper                        134 non-null object\n",
      "puppo                         134 non-null object\n",
      "source_app                    134 non-null object\n",
      "source_url                    134 non-null object\n",
      "shortened_urls                0 non-null object\n",
      "dtypes: datetime64[ns](2), int64(2), object(15)\n",
      "memory usage: 20.9+ KB\n"
     ]
    }
   ],
   "source": [
    "##  Removing the urls from text\n",
    "none_shortened_urls = dogs_clean[pd.isnull(dogs_clean.shortened_urls)]\n",
    "none_shortened_urls.info()"
   ]
  },
  {
   "cell_type": "code",
   "execution_count": 3464,
   "metadata": {
    "scrolled": true
   },
   "outputs": [
    {
     "data": {
      "text/html": [
       "<div>\n",
       "<style scoped>\n",
       "    .dataframe tbody tr th:only-of-type {\n",
       "        vertical-align: middle;\n",
       "    }\n",
       "\n",
       "    .dataframe tbody tr th {\n",
       "        vertical-align: top;\n",
       "    }\n",
       "\n",
       "    .dataframe thead th {\n",
       "        text-align: right;\n",
       "    }\n",
       "</style>\n",
       "<table border=\"1\" class=\"dataframe\">\n",
       "  <thead>\n",
       "    <tr style=\"text-align: right;\">\n",
       "      <th></th>\n",
       "      <th>tweet_id</th>\n",
       "      <th>in_reply_to_status_id</th>\n",
       "      <th>in_reply_to_user_id</th>\n",
       "      <th>timestamp</th>\n",
       "      <th>text</th>\n",
       "      <th>retweeted_status_id</th>\n",
       "      <th>retweeted_status_user_id</th>\n",
       "      <th>retweeted_status_timestamp</th>\n",
       "      <th>expanded_urls</th>\n",
       "      <th>rating_numerator</th>\n",
       "      <th>rating_denominator</th>\n",
       "      <th>name</th>\n",
       "      <th>doggo</th>\n",
       "      <th>floofer</th>\n",
       "      <th>pupper</th>\n",
       "      <th>puppo</th>\n",
       "      <th>source_app</th>\n",
       "      <th>source_url</th>\n",
       "      <th>shortened_urls</th>\n",
       "    </tr>\n",
       "  </thead>\n",
       "  <tbody>\n",
       "    <tr>\n",
       "      <th>30</th>\n",
       "      <td>886267009285017600</td>\n",
       "      <td>886266357075128320</td>\n",
       "      <td>2281181600</td>\n",
       "      <td>2017-07-15 16:51:35</td>\n",
       "      <td>@NonWhiteHat @MayhewMayhem omg hello tanner you are a scary good boy 12/10 would pet with extreme caution</td>\n",
       "      <td>None</td>\n",
       "      <td>None</td>\n",
       "      <td>NaT</td>\n",
       "      <td>NaN</td>\n",
       "      <td>12</td>\n",
       "      <td>10</td>\n",
       "      <td>None</td>\n",
       "      <td>None</td>\n",
       "      <td>None</td>\n",
       "      <td>None</td>\n",
       "      <td>None</td>\n",
       "      <td>Twitter for iPhone</td>\n",
       "      <td>http://twitter.com/download/iphone</td>\n",
       "      <td>NaN</td>\n",
       "    </tr>\n",
       "    <tr>\n",
       "      <th>55</th>\n",
       "      <td>881633300179243008</td>\n",
       "      <td>881607037314052096</td>\n",
       "      <td>47384430</td>\n",
       "      <td>2017-07-02 21:58:53</td>\n",
       "      <td>@roushfenway These are good dogs but 17/10 is an emotional impulse rating. More like 13/10s</td>\n",
       "      <td>None</td>\n",
       "      <td>None</td>\n",
       "      <td>NaT</td>\n",
       "      <td>NaN</td>\n",
       "      <td>17</td>\n",
       "      <td>10</td>\n",
       "      <td>None</td>\n",
       "      <td>None</td>\n",
       "      <td>None</td>\n",
       "      <td>None</td>\n",
       "      <td>None</td>\n",
       "      <td>Twitter for iPhone</td>\n",
       "      <td>http://twitter.com/download/iphone</td>\n",
       "      <td>NaN</td>\n",
       "    </tr>\n",
       "  </tbody>\n",
       "</table>\n",
       "</div>"
      ],
      "text/plain": [
       "              tweet_id in_reply_to_status_id in_reply_to_user_id  \\\n",
       "30  886267009285017600  886266357075128320    2281181600           \n",
       "55  881633300179243008  881607037314052096    47384430             \n",
       "\n",
       "             timestamp  \\\n",
       "30 2017-07-15 16:51:35   \n",
       "55 2017-07-02 21:58:53   \n",
       "\n",
       "                                                                                                         text  \\\n",
       "30  @NonWhiteHat @MayhewMayhem omg hello tanner you are a scary good boy 12/10 would pet with extreme caution   \n",
       "55  @roushfenway These are good dogs but 17/10 is an emotional impulse rating. More like 13/10s                 \n",
       "\n",
       "   retweeted_status_id retweeted_status_user_id retweeted_status_timestamp  \\\n",
       "30  None                None                    NaT                          \n",
       "55  None                None                    NaT                          \n",
       "\n",
       "   expanded_urls  rating_numerator  rating_denominator  name doggo floofer  \\\n",
       "30  NaN           12                10                  None  None  None     \n",
       "55  NaN           17                10                  None  None  None     \n",
       "\n",
       "   pupper puppo          source_app                          source_url  \\\n",
       "30  None   None  Twitter for iPhone  http://twitter.com/download/iphone   \n",
       "55  None   None  Twitter for iPhone  http://twitter.com/download/iphone   \n",
       "\n",
       "   shortened_urls  \n",
       "30  NaN            \n",
       "55  NaN            "
      ]
     },
     "execution_count": 3464,
     "metadata": {},
     "output_type": "execute_result"
    }
   ],
   "source": [
    "none_shortened_urls.head(2)"
   ]
  },
  {
   "cell_type": "code",
   "execution_count": 3465,
   "metadata": {},
   "outputs": [
    {
     "data": {
      "text/html": [
       "<div>\n",
       "<style scoped>\n",
       "    .dataframe tbody tr th:only-of-type {\n",
       "        vertical-align: middle;\n",
       "    }\n",
       "\n",
       "    .dataframe tbody tr th {\n",
       "        vertical-align: top;\n",
       "    }\n",
       "\n",
       "    .dataframe thead th {\n",
       "        text-align: right;\n",
       "    }\n",
       "</style>\n",
       "<table border=\"1\" class=\"dataframe\">\n",
       "  <thead>\n",
       "    <tr style=\"text-align: right;\">\n",
       "      <th></th>\n",
       "      <th>tweet_id</th>\n",
       "      <th>in_reply_to_status_id</th>\n",
       "      <th>in_reply_to_user_id</th>\n",
       "      <th>timestamp</th>\n",
       "      <th>text</th>\n",
       "      <th>retweeted_status_id</th>\n",
       "      <th>retweeted_status_user_id</th>\n",
       "      <th>retweeted_status_timestamp</th>\n",
       "      <th>expanded_urls</th>\n",
       "      <th>rating_numerator</th>\n",
       "      <th>rating_denominator</th>\n",
       "      <th>name</th>\n",
       "      <th>doggo</th>\n",
       "      <th>floofer</th>\n",
       "      <th>pupper</th>\n",
       "      <th>puppo</th>\n",
       "      <th>source_app</th>\n",
       "      <th>source_url</th>\n",
       "      <th>shortened_urls</th>\n",
       "    </tr>\n",
       "  </thead>\n",
       "  <tbody>\n",
       "    <tr>\n",
       "      <th>2189</th>\n",
       "      <td>668967877119254528</td>\n",
       "      <td>668920717132582912</td>\n",
       "      <td>21435658</td>\n",
       "      <td>2015-11-24 01:42:25</td>\n",
       "      <td>12/10 good shit Bubka\\n@wane15</td>\n",
       "      <td>None</td>\n",
       "      <td>None</td>\n",
       "      <td>NaT</td>\n",
       "      <td>NaN</td>\n",
       "      <td>12</td>\n",
       "      <td>10</td>\n",
       "      <td>None</td>\n",
       "      <td>None</td>\n",
       "      <td>None</td>\n",
       "      <td>None</td>\n",
       "      <td>None</td>\n",
       "      <td>Twitter for iPhone</td>\n",
       "      <td>http://twitter.com/download/iphone</td>\n",
       "      <td>NaN</td>\n",
       "    </tr>\n",
       "    <tr>\n",
       "      <th>2298</th>\n",
       "      <td>667070482143944705</td>\n",
       "      <td>667065535570550784</td>\n",
       "      <td>4196983835</td>\n",
       "      <td>2015-11-18 20:02:51</td>\n",
       "      <td>After much debate this dog is being upgraded to 10/10. I repeat 10/10</td>\n",
       "      <td>None</td>\n",
       "      <td>None</td>\n",
       "      <td>NaT</td>\n",
       "      <td>NaN</td>\n",
       "      <td>10</td>\n",
       "      <td>10</td>\n",
       "      <td>None</td>\n",
       "      <td>None</td>\n",
       "      <td>None</td>\n",
       "      <td>None</td>\n",
       "      <td>None</td>\n",
       "      <td>Twitter for iPhone</td>\n",
       "      <td>http://twitter.com/download/iphone</td>\n",
       "      <td>NaN</td>\n",
       "    </tr>\n",
       "  </tbody>\n",
       "</table>\n",
       "</div>"
      ],
      "text/plain": [
       "                tweet_id in_reply_to_status_id in_reply_to_user_id  \\\n",
       "2189  668967877119254528  668920717132582912    21435658             \n",
       "2298  667070482143944705  667065535570550784    4196983835           \n",
       "\n",
       "               timestamp  \\\n",
       "2189 2015-11-24 01:42:25   \n",
       "2298 2015-11-18 20:02:51   \n",
       "\n",
       "                                                                       text  \\\n",
       "2189  12/10 good shit Bubka\\n@wane15                                          \n",
       "2298  After much debate this dog is being upgraded to 10/10. I repeat 10/10   \n",
       "\n",
       "     retweeted_status_id retweeted_status_user_id retweeted_status_timestamp  \\\n",
       "2189  None                None                    NaT                          \n",
       "2298  None                None                    NaT                          \n",
       "\n",
       "     expanded_urls  rating_numerator  rating_denominator  name doggo floofer  \\\n",
       "2189  NaN           12                10                  None  None  None     \n",
       "2298  NaN           10                10                  None  None  None     \n",
       "\n",
       "     pupper puppo          source_app                          source_url  \\\n",
       "2189  None   None  Twitter for iPhone  http://twitter.com/download/iphone   \n",
       "2298  None   None  Twitter for iPhone  http://twitter.com/download/iphone   \n",
       "\n",
       "     shortened_urls  \n",
       "2189  NaN            \n",
       "2298  NaN            "
      ]
     },
     "execution_count": 3465,
     "metadata": {},
     "output_type": "execute_result"
    }
   ],
   "source": [
    "none_shortened_urls.tail(2)"
   ]
  },
  {
   "cell_type": "code",
   "execution_count": 3466,
   "metadata": {},
   "outputs": [
    {
     "data": {
      "text/html": [
       "<div>\n",
       "<style scoped>\n",
       "    .dataframe tbody tr th:only-of-type {\n",
       "        vertical-align: middle;\n",
       "    }\n",
       "\n",
       "    .dataframe tbody tr th {\n",
       "        vertical-align: top;\n",
       "    }\n",
       "\n",
       "    .dataframe thead th {\n",
       "        text-align: right;\n",
       "    }\n",
       "</style>\n",
       "<table border=\"1\" class=\"dataframe\">\n",
       "  <thead>\n",
       "    <tr style=\"text-align: right;\">\n",
       "      <th></th>\n",
       "      <th>tweet_id</th>\n",
       "      <th>in_reply_to_status_id</th>\n",
       "      <th>in_reply_to_user_id</th>\n",
       "      <th>timestamp</th>\n",
       "      <th>text</th>\n",
       "      <th>retweeted_status_id</th>\n",
       "      <th>retweeted_status_user_id</th>\n",
       "      <th>retweeted_status_timestamp</th>\n",
       "      <th>expanded_urls</th>\n",
       "      <th>rating_numerator</th>\n",
       "      <th>rating_denominator</th>\n",
       "      <th>name</th>\n",
       "      <th>doggo</th>\n",
       "      <th>floofer</th>\n",
       "      <th>pupper</th>\n",
       "      <th>puppo</th>\n",
       "      <th>source_app</th>\n",
       "      <th>source_url</th>\n",
       "      <th>shortened_urls</th>\n",
       "    </tr>\n",
       "  </thead>\n",
       "  <tbody>\n",
       "    <tr>\n",
       "      <th>694</th>\n",
       "      <td>786729988674449408</td>\n",
       "      <td>None</td>\n",
       "      <td>None</td>\n",
       "      <td>2016-10-14 00:47:00</td>\n",
       "      <td>RT @dog_rates: This is Oakley. He has no idea what happened here. Even offered to help clean it up. 11/10 such a heckin good boy https://t.…</td>\n",
       "      <td>759447681597108224</td>\n",
       "      <td>4196983835</td>\n",
       "      <td>2016-07-30 17:56:51</td>\n",
       "      <td>https://twitter.com/dog_rates/status/759447681597108224/photo/1</td>\n",
       "      <td>11</td>\n",
       "      <td>10</td>\n",
       "      <td>Oakley</td>\n",
       "      <td>None</td>\n",
       "      <td>None</td>\n",
       "      <td>None</td>\n",
       "      <td>None</td>\n",
       "      <td>Twitter for iPhone</td>\n",
       "      <td>http://twitter.com/download/iphone</td>\n",
       "      <td>NaN</td>\n",
       "    </tr>\n",
       "    <tr>\n",
       "      <th>841</th>\n",
       "      <td>766864461642756096</td>\n",
       "      <td>None</td>\n",
       "      <td>None</td>\n",
       "      <td>2016-08-20 05:08:29</td>\n",
       "      <td>RT @dog_rates: We only rate dogs... this is a Taiwanese Guide Walrus. Im getting real heckin tired of this. Please send dogs. 10/10 https:/…</td>\n",
       "      <td>759923798737051648</td>\n",
       "      <td>4196983835</td>\n",
       "      <td>2016-08-01 01:28:46</td>\n",
       "      <td>https://twitter.com/dog_rates/status/759923798737051648/photo/1</td>\n",
       "      <td>10</td>\n",
       "      <td>10</td>\n",
       "      <td>None</td>\n",
       "      <td>None</td>\n",
       "      <td>None</td>\n",
       "      <td>None</td>\n",
       "      <td>None</td>\n",
       "      <td>Twitter for iPhone</td>\n",
       "      <td>http://twitter.com/download/iphone</td>\n",
       "      <td>NaN</td>\n",
       "    </tr>\n",
       "  </tbody>\n",
       "</table>\n",
       "</div>"
      ],
      "text/plain": [
       "               tweet_id in_reply_to_status_id in_reply_to_user_id  \\\n",
       "694  786729988674449408  None                  None                 \n",
       "841  766864461642756096  None                  None                 \n",
       "\n",
       "              timestamp  \\\n",
       "694 2016-10-14 00:47:00   \n",
       "841 2016-08-20 05:08:29   \n",
       "\n",
       "                                                                                                                                             text  \\\n",
       "694  RT @dog_rates: This is Oakley. He has no idea what happened here. Even offered to help clean it up. 11/10 such a heckin good boy https://t.…   \n",
       "841  RT @dog_rates: We only rate dogs... this is a Taiwanese Guide Walrus. Im getting real heckin tired of this. Please send dogs. 10/10 https:/…   \n",
       "\n",
       "    retweeted_status_id retweeted_status_user_id retweeted_status_timestamp  \\\n",
       "694  759447681597108224  4196983835              2016-07-30 17:56:51          \n",
       "841  759923798737051648  4196983835              2016-08-01 01:28:46          \n",
       "\n",
       "                                                       expanded_urls  \\\n",
       "694  https://twitter.com/dog_rates/status/759447681597108224/photo/1   \n",
       "841  https://twitter.com/dog_rates/status/759923798737051648/photo/1   \n",
       "\n",
       "     rating_numerator  rating_denominator    name doggo floofer pupper puppo  \\\n",
       "694  11                10                  Oakley  None  None    None   None   \n",
       "841  10                10                  None    None  None    None   None   \n",
       "\n",
       "             source_app                          source_url shortened_urls  \n",
       "694  Twitter for iPhone  http://twitter.com/download/iphone  NaN            \n",
       "841  Twitter for iPhone  http://twitter.com/download/iphone  NaN            "
      ]
     },
     "execution_count": 3466,
     "metadata": {},
     "output_type": "execute_result"
    }
   ],
   "source": [
    "none_shortened_urls.sample(2)"
   ]
  },
  {
   "cell_type": "markdown",
   "metadata": {},
   "source": [
    "We can see that some of those null shortened_urls tweets have null expanded_urls, too. In this case, all of the processed tweets through head, tail and sample tend to be a reply tweet as the in_reply_to_status_id, in_reply_to_user_id columns aren't empty.<br>\n",
    "On the other hand, some of those null shortened_urls tweets do have expaned_urls values and checking through head, tail, and sample, those tweets tend to be retweets.<br>\n",
    "**That said, some data issues has been found here:**\n",
    "* @user mentions appended at the begining of those in reply texts .e.g @NonWhiteHat @MayhewMayhem (left after in-response cleaning)\n",
    "* RT @user: at the beginning of each retweet text appened to retweet texts .e.g RT @dog_rates:, checking the twitter [retweet doc intro](https://developer.twitter.com/en/docs/tweets/data-dictionary/overview/intro-to-tweet-json.html), it seems this appending action is deliberately done by the twitter api itself. (left to retweets cleaning)\n",
    "* Truncated urls at the end in retweet texts (.e.g  'https://…', 'https:/…', 'https://t.co/…')\n",
    "* Expanded urls do have different urls sometimes, for example https://www.gofundme.com/3yd6y1c, https://twitter.com/dog_rates/status/878281511006478336/photo/1 at the end of the head and the first link is a link included by the WeRateDogs tweet for funding, so we may expect that expanded tweets include also links included in the tweet text\n",
    "* Finally, we may retain in replies url by the following link format http://twitter.com/{twitter-user-id}/status/{tweet-status-id}, for example https://twitter.com/dog_rates/status/886267009285017600, so no need for expanded_urls if they just represent tweet url (more on this in the expanded_urls cleaning section)."
   ]
  },
  {
   "cell_type": "markdown",
   "metadata": {},
   "source": [
    "**Fixing truncated urls**"
   ]
  },
  {
   "cell_type": "code",
   "execution_count": 3467,
   "metadata": {},
   "outputs": [
    {
     "data": {
      "text/plain": [
       "68    RT @dog_rates: This is Emmy. She was adopted today. Massive round of pupplause for Emmy and her new family. 14/10 for all involved https://…  \n",
       "73    RT @dog_rates: Meet Shadow. In an attempt to reach maximum zooming borkdrive, he tore his ACL. Still 13/10 tho. Help him out below\\n\\nhttps:/…\n",
       "74    RT @dog_rates: Meet Terrance. He's being yelled at because he stapled the wrong stuff together. 11/10 hang in there Terrance https://t.co/i…  \n",
       "91    RT @dog_rates: This is Coco. At first I thought she was a cloud but clouds don't bork with such passion. 12/10 would hug softly https://t.c…  \n",
       "97    RT @dog_rates: This is Sierra. She's one precious pupper. Absolute 12/10. Been in and out of ICU her whole life. Help Sierra below\\n\\nhttps:/…\n",
       "Name: text, dtype: object"
      ]
     },
     "execution_count": 3467,
     "metadata": {},
     "output_type": "execute_result"
    }
   ],
   "source": [
    "truncated_urls_indices = dogs_clean.text.str.extract('(https?[^\\s]+)').dropna().index\n",
    "dogs_clean.loc[truncated_urls_indices, 'text'].head()"
   ]
  },
  {
   "cell_type": "code",
   "execution_count": 3468,
   "metadata": {},
   "outputs": [
    {
     "data": {
      "text/plain": [
       "68    RT @dog_rates: This is Emmy. She was adopted today. Massive round of pupplause for Emmy and her new family. 14/10 for all involved \n",
       "73    RT @dog_rates: Meet Shadow. In an attempt to reach maximum zooming borkdrive, he tore his ACL. Still 13/10 tho. Help him out below \n",
       "74    RT @dog_rates: Meet Terrance. He's being yelled at because he stapled the wrong stuff together. 11/10 hang in there Terrance       \n",
       "91    RT @dog_rates: This is Coco. At first I thought she was a cloud but clouds don't bork with such passion. 12/10 would hug softly    \n",
       "97    RT @dog_rates: This is Sierra. She's one precious pupper. Absolute 12/10. Been in and out of ICU her whole life. Help Sierra below \n",
       "Name: text, dtype: object"
      ]
     },
     "execution_count": 3468,
     "metadata": {},
     "output_type": "execute_result"
    }
   ],
   "source": [
    "dogs_clean.loc[truncated_urls_indices, 'text'] = dogs_clean.loc[truncated_urls_indices, 'text'].str.replace(\n",
    "    '(https?[^\\s]*)|([^\\s]*t.co[^\\s]*)|(\\\\n)*', ''\n",
    ")\n",
    "dogs_clean.loc[truncated_urls_indices, 'text'].head()"
   ]
  },
  {
   "cell_type": "markdown",
   "metadata": {},
   "source": [
    "<hr>"
   ]
  },
  {
   "cell_type": "markdown",
   "metadata": {},
   "source": [
    "### Cleaning name column"
   ]
  },
  {
   "cell_type": "code",
   "execution_count": 3469,
   "metadata": {},
   "outputs": [],
   "source": [
    "def cleaning_None_objects(df, columns):\n",
    "    \"\"\"\n",
    "    Converting string 'None' object to None\n",
    "    \"\"\"\n",
    "    if isinstance(columns, list):\n",
    "        for column in columns:\n",
    "            df.loc[df[column] == 'None', column] = None\n",
    "    elif isinstance(columns, str):\n",
    "         df.loc[df[columns].str.lower() == 'none', columns] = None"
   ]
  },
  {
   "cell_type": "markdown",
   "metadata": {},
   "source": [
    "**Investigating name column furhter we notice those issues:**\n",
    "1. very high count of None (745)\n",
    "2. Articles like 'a', 'an', 'the' adverbs like 'just', 'very', 'quite', adj like 'old' and others like  'one'.\n",
    "3. Some Strange names like Chip Scooter Moose Bentley Shadow, but names by nature aren't justified, so I will dig further to those specific names, but most likely they won't considered quality issues.\n",
    "\n",
    "The articles, adverbs and others like 'one' are all begin with lower case letters, that might help cleaning those data instead of getting list of all possible articles, adverbs and pronouns to check their existence in the names column"
   ]
  },
  {
   "cell_type": "code",
   "execution_count": 3470,
   "metadata": {},
   "outputs": [
    {
     "name": "stdout",
     "output_type": "stream",
     "text": [
      "<class 'pandas.core.frame.DataFrame'>\n",
      "Int64Index: 2337 entries, 0 to 2355\n",
      "Data columns (total 2 columns):\n",
      "tweet_id    2337 non-null object\n",
      "name        2337 non-null object\n",
      "dtypes: object(2)\n",
      "memory usage: 134.8+ KB\n"
     ]
    }
   ],
   "source": [
    "dogs_clean[['tweet_id', 'name']].info()"
   ]
  },
  {
   "cell_type": "code",
   "execution_count": 3471,
   "metadata": {},
   "outputs": [],
   "source": [
    "cleaning_None_objects(dogs_clean, 'name')"
   ]
  },
  {
   "cell_type": "code",
   "execution_count": 3472,
   "metadata": {},
   "outputs": [
    {
     "data": {
      "text/plain": [
       "a               55\n",
       "the             8 \n",
       "an              7 \n",
       "very            5 \n",
       "just            4 \n",
       "one             4 \n",
       "quite           3 \n",
       "actually        2 \n",
       "getting         2 \n",
       "not             2 \n",
       "mad             2 \n",
       "light           1 \n",
       "officially      1 \n",
       "incredibly      1 \n",
       "old             1 \n",
       "unacceptable    1 \n",
       "all             1 \n",
       "infuriating     1 \n",
       "by              1 \n",
       "such            1 \n",
       "this            1 \n",
       "space           1 \n",
       "life            1 \n",
       "his             1 \n",
       "my              1 \n",
       "Name: name, dtype: int64"
      ]
     },
     "execution_count": 3472,
     "metadata": {},
     "output_type": "execute_result"
    }
   ],
   "source": [
    "pd.set_option('display.max_rows', 80)\n",
    "dogs_clean[dogs_clean.name.str.contains('^[a-z0-9].*', na=False)].name.value_counts()"
   ]
  },
  {
   "cell_type": "code",
   "execution_count": 3473,
   "metadata": {},
   "outputs": [],
   "source": [
    "fault_names_indices = dogs_clean.name.str.contains('^[a-z0-9].*', na=False)"
   ]
  },
  {
   "cell_type": "code",
   "execution_count": 3474,
   "metadata": {},
   "outputs": [
    {
     "data": {
      "text/html": [
       "<div>\n",
       "<style scoped>\n",
       "    .dataframe tbody tr th:only-of-type {\n",
       "        vertical-align: middle;\n",
       "    }\n",
       "\n",
       "    .dataframe tbody tr th {\n",
       "        vertical-align: top;\n",
       "    }\n",
       "\n",
       "    .dataframe thead th {\n",
       "        text-align: right;\n",
       "    }\n",
       "</style>\n",
       "<table border=\"1\" class=\"dataframe\">\n",
       "  <thead>\n",
       "    <tr style=\"text-align: right;\">\n",
       "      <th></th>\n",
       "      <th>text</th>\n",
       "      <th>name</th>\n",
       "      <th>expanded_urls</th>\n",
       "    </tr>\n",
       "  </thead>\n",
       "  <tbody>\n",
       "    <tr>\n",
       "      <th>1385</th>\n",
       "      <td>We only rate dogs. Pls stop sending in non-canines like this Mongolian grass snake. This is very frustrating. 11/10</td>\n",
       "      <td>very</td>\n",
       "      <td>https://twitter.com/dog_rates/status/700747788515020802/photo/1</td>\n",
       "    </tr>\n",
       "    <tr>\n",
       "      <th>2304</th>\n",
       "      <td>This is a curly Ticonderoga named Pepe. No feet. Loves to jet ski. 11/10 would hug until forever</td>\n",
       "      <td>a</td>\n",
       "      <td>https://twitter.com/dog_rates/status/666983947667116034/photo/1</td>\n",
       "    </tr>\n",
       "    <tr>\n",
       "      <th>2116</th>\n",
       "      <td>This is a Deciduous Trimester mix named Spork. Only 1 ear works. No seat belt. Incredibly reckless. 9/10 still cute</td>\n",
       "      <td>a</td>\n",
       "      <td>https://twitter.com/dog_rates/status/670427002554466305/photo/1</td>\n",
       "    </tr>\n",
       "    <tr>\n",
       "      <th>2347</th>\n",
       "      <td>My oh my. This is a rare blond Canadian terrier on wheels. Only $8.98. Rather docile. 9/10 very rare</td>\n",
       "      <td>a</td>\n",
       "      <td>https://twitter.com/dog_rates/status/666057090499244032/photo/1</td>\n",
       "    </tr>\n",
       "    <tr>\n",
       "      <th>2354</th>\n",
       "      <td>This is a western brown Mitsubishi terrier. Upset about leaf. Actually 2 dogs here. 7/10 would walk the shit out of</td>\n",
       "      <td>a</td>\n",
       "      <td>https://twitter.com/dog_rates/status/666029285002620928/photo/1</td>\n",
       "    </tr>\n",
       "  </tbody>\n",
       "</table>\n",
       "</div>"
      ],
      "text/plain": [
       "                                                                                                                      text  \\\n",
       "1385  We only rate dogs. Pls stop sending in non-canines like this Mongolian grass snake. This is very frustrating. 11/10    \n",
       "2304  This is a curly Ticonderoga named Pepe. No feet. Loves to jet ski. 11/10 would hug until forever                       \n",
       "2116  This is a Deciduous Trimester mix named Spork. Only 1 ear works. No seat belt. Incredibly reckless. 9/10 still cute    \n",
       "2347  My oh my. This is a rare blond Canadian terrier on wheels. Only $8.98. Rather docile. 9/10 very rare                   \n",
       "2354  This is a western brown Mitsubishi terrier. Upset about leaf. Actually 2 dogs here. 7/10 would walk the shit out of    \n",
       "\n",
       "      name                                                    expanded_urls  \n",
       "1385  very  https://twitter.com/dog_rates/status/700747788515020802/photo/1  \n",
       "2304  a     https://twitter.com/dog_rates/status/666983947667116034/photo/1  \n",
       "2116  a     https://twitter.com/dog_rates/status/670427002554466305/photo/1  \n",
       "2347  a     https://twitter.com/dog_rates/status/666057090499244032/photo/1  \n",
       "2354  a     https://twitter.com/dog_rates/status/666029285002620928/photo/1  "
      ]
     },
     "execution_count": 3474,
     "metadata": {},
     "output_type": "execute_result"
    }
   ],
   "source": [
    "dogs_clean[fault_names_indices][['text', 'name', 'expanded_urls']].sample(5)"
   ]
  },
  {
   "cell_type": "markdown",
   "metadata": {},
   "source": [
    "Sometimes name is not mentioned at all, but other times name is mentioned like the following patterns\n",
    "named Kohl, Her name is Zoey, 13/10 for both owner and Forrest.\n",
    "In that case I will retain only those and set the others to null"
   ]
  },
  {
   "cell_type": "code",
   "execution_count": 3475,
   "metadata": {},
   "outputs": [],
   "source": [
    "name_fix1 = dogs_clean[fault_names_indices].text.str.extract('named?\\s*(is|are)?\\s*([A-Z][a-z]*)')[1]"
   ]
  },
  {
   "cell_type": "code",
   "execution_count": 3476,
   "metadata": {},
   "outputs": [],
   "source": [
    "# 13/10 for both owner and Forrest\n",
    "name_fix2 = dogs_clean[fault_names_indices].text.str.extract('[0-9]+/[0-9]+\\s*for\\s*(.*)([A-Z][a-z]*)')[1]"
   ]
  },
  {
   "cell_type": "code",
   "execution_count": 3477,
   "metadata": {},
   "outputs": [],
   "source": [
    "## Setting Nones to '' for easily concatenating the two string object series\n",
    "name_fix2[name_fix2.isnull()] = ''\n",
    "name_fix1[name_fix1.isnull()] = ''"
   ]
  },
  {
   "cell_type": "code",
   "execution_count": 3478,
   "metadata": {},
   "outputs": [],
   "source": [
    "name_fix = name_fix1 + name_fix2"
   ]
  },
  {
   "cell_type": "code",
   "execution_count": 3479,
   "metadata": {},
   "outputs": [],
   "source": [
    "name_fix.loc[name_fix == ''] = None"
   ]
  },
  {
   "cell_type": "code",
   "execution_count": 3480,
   "metadata": {},
   "outputs": [
    {
     "data": {
      "text/plain": [
       "369     Grace    \n",
       "649     Forrest  \n",
       "852     Zoey     \n",
       "1853    Wylie    \n",
       "1955    Kip      \n",
       "2034    Jacob    \n",
       "2066    Rufus    \n",
       "2116    Spork    \n",
       "2125    Cherokee \n",
       "2128    Hemry    \n",
       "2146    Alphred  \n",
       "2161    Alfredo  \n",
       "2191    Leroi    \n",
       "2204    Berta    \n",
       "2218    Chuk     \n",
       "2235    Alfonso  \n",
       "2249    Cheryl   \n",
       "2255    Jessiga  \n",
       "2264    Klint    \n",
       "2273    Kohl     \n",
       "2287    Daryl    \n",
       "2304    Pepe     \n",
       "2311    Octaviath\n",
       "2314    Johm     \n",
       "Name: 1, dtype: object"
      ]
     },
     "execution_count": 3480,
     "metadata": {},
     "output_type": "execute_result"
    }
   ],
   "source": [
    "name_fix.dropna()"
   ]
  },
  {
   "cell_type": "code",
   "execution_count": 3481,
   "metadata": {},
   "outputs": [],
   "source": [
    "assert all(name_fix.index == fault_names_indices[fault_names_indices].index)"
   ]
  },
  {
   "cell_type": "code",
   "execution_count": 3482,
   "metadata": {
    "scrolled": false
   },
   "outputs": [],
   "source": [
    "dogs_clean.loc[fault_names_indices, 'name'] = name_fix"
   ]
  },
  {
   "cell_type": "code",
   "execution_count": 3483,
   "metadata": {
    "scrolled": true
   },
   "outputs": [
    {
     "data": {
      "text/plain": [
       "22      None     \n",
       "56      None     \n",
       "169     None     \n",
       "193     None     \n",
       "335     None     \n",
       "369     Grace    \n",
       "542     None     \n",
       "649     Forrest  \n",
       "682     None     \n",
       "759     None     \n",
       "773     None     \n",
       "801     None     \n",
       "819     None     \n",
       "822     None     \n",
       "852     Zoey     \n",
       "924     None     \n",
       "988     None     \n",
       "992     None     \n",
       "993     None     \n",
       "1002    None     \n",
       "1004    None     \n",
       "1017    None     \n",
       "1025    None     \n",
       "1031    None     \n",
       "1040    None     \n",
       "1049    None     \n",
       "1063    None     \n",
       "1071    None     \n",
       "1095    None     \n",
       "1097    None     \n",
       "1120    None     \n",
       "1121    None     \n",
       "1138    None     \n",
       "1193    None     \n",
       "1206    None     \n",
       "1207    None     \n",
       "1259    None     \n",
       "1340    None     \n",
       "1351    None     \n",
       "1361    None     \n",
       "        ...      \n",
       "2030    None     \n",
       "2034    Jacob    \n",
       "2037    None     \n",
       "2066    Rufus    \n",
       "2116    Spork    \n",
       "2125    Cherokee \n",
       "2128    Hemry    \n",
       "2146    Alphred  \n",
       "2153    None     \n",
       "2161    Alfredo  \n",
       "2191    Leroi    \n",
       "2198    None     \n",
       "2204    Berta    \n",
       "2211    None     \n",
       "2212    None     \n",
       "2218    Chuk     \n",
       "2222    None     \n",
       "2235    Alfonso  \n",
       "2249    Cheryl   \n",
       "2255    Jessiga  \n",
       "2264    Klint    \n",
       "2273    Kohl     \n",
       "2287    Daryl    \n",
       "2304    Pepe     \n",
       "2311    Octaviath\n",
       "2314    Johm     \n",
       "2326    None     \n",
       "2327    None     \n",
       "2333    None     \n",
       "2334    None     \n",
       "2335    None     \n",
       "2345    None     \n",
       "2346    None     \n",
       "2347    None     \n",
       "2348    None     \n",
       "2349    None     \n",
       "2350    None     \n",
       "2352    None     \n",
       "2353    None     \n",
       "2354    None     \n",
       "Name: name, Length: 108, dtype: object"
      ]
     },
     "execution_count": 3483,
     "metadata": {},
     "output_type": "execute_result"
    }
   ],
   "source": [
    "dogs_clean.loc[fault_names_indices].name"
   ]
  },
  {
   "cell_type": "code",
   "execution_count": 3484,
   "metadata": {},
   "outputs": [
    {
     "name": "stdout",
     "output_type": "stream",
     "text": [
      "<class 'pandas.core.frame.DataFrame'>\n",
      "Int64Index: 2337 entries, 0 to 2355\n",
      "Data columns (total 2 columns):\n",
      "0    9 non-null object\n",
      "1    33 non-null object\n",
      "dtypes: object(2)\n",
      "memory usage: 134.8+ KB\n"
     ]
    }
   ],
   "source": [
    "dogs_clean.text.str.extract('named?\\s*(is|are)?\\s*([A-Z][a-z]*)').info()"
   ]
  },
  {
   "cell_type": "markdown",
   "metadata": {},
   "source": [
    "Testing the regex on the entire name column yields 33 non-null names, 13 more than applied to the incorrect column names<br>\n",
    "Thats why I will try to fix those more 13 ones "
   ]
  },
  {
   "cell_type": "code",
   "execution_count": 3485,
   "metadata": {},
   "outputs": [],
   "source": [
    "named_faults = dogs_clean.text.str.extract('named?\\s*(is|are)?\\s*([A-Z][a-z]*)')[1]"
   ]
  },
  {
   "cell_type": "code",
   "execution_count": 3486,
   "metadata": {},
   "outputs": [
    {
     "data": {
      "text/plain": [
       "35      Howard    \n",
       "168     Zoey      \n",
       "603     Tickles   \n",
       "843     Charley   \n",
       "852     Zoey      \n",
       "1678    Thea      \n",
       "1734    Sabertooth\n",
       "1853    Wylie     \n",
       "1955    Kip       \n",
       "2034    Jacob     \n",
       "2066    Rufus     \n",
       "2116    Spork     \n",
       "2125    Cherokee  \n",
       "2128    Hemry     \n",
       "2146    Alphred   \n",
       "2161    Alfredo   \n",
       "2166    Zeus      \n",
       "2191    Leroi     \n",
       "2204    Berta     \n",
       "2218    Chuk      \n",
       "2227    Guss      \n",
       "2235    Alfonso   \n",
       "2249    Cheryl    \n",
       "2255    Jessiga   \n",
       "2264    Klint     \n",
       "2267    Big       \n",
       "2269    Tickles   \n",
       "2273    Kohl      \n",
       "2287    Daryl     \n",
       "2304    Pepe      \n",
       "2311    Octaviath \n",
       "2313    Rocky     \n",
       "2314    Johm      \n",
       "Name: 1, dtype: object"
      ]
     },
     "execution_count": 3486,
     "metadata": {},
     "output_type": "execute_result"
    }
   ],
   "source": [
    "named_faults[np.logical_not(named_faults.isnull())]"
   ]
  },
  {
   "cell_type": "code",
   "execution_count": 3487,
   "metadata": {},
   "outputs": [
    {
     "data": {
      "text/plain": [
       "35      None     \n",
       "168     None     \n",
       "603     None     \n",
       "843     None     \n",
       "852     Zoey     \n",
       "1678    None     \n",
       "1734    None     \n",
       "1853    Wylie    \n",
       "1955    Kip      \n",
       "2034    Jacob    \n",
       "2066    Rufus    \n",
       "2116    Spork    \n",
       "2125    Cherokee \n",
       "2128    Hemry    \n",
       "2146    Alphred  \n",
       "2161    Alfredo  \n",
       "2166    None     \n",
       "2191    Leroi    \n",
       "2204    Berta    \n",
       "2218    Chuk     \n",
       "2227    None     \n",
       "2235    Alfonso  \n",
       "2249    Cheryl   \n",
       "2255    Jessiga  \n",
       "2264    Klint    \n",
       "2267    None     \n",
       "2269    None     \n",
       "2273    Kohl     \n",
       "2287    Daryl    \n",
       "2304    Pepe     \n",
       "2311    Octaviath\n",
       "2313    Lugan    \n",
       "2314    Johm     \n",
       "Name: name, dtype: object"
      ]
     },
     "execution_count": 3487,
     "metadata": {},
     "output_type": "execute_result"
    }
   ],
   "source": [
    "dogs_clean.loc[named_faults[np.logical_not(named_faults.isnull())].index, 'name']"
   ]
  },
  {
   "cell_type": "code",
   "execution_count": 3488,
   "metadata": {},
   "outputs": [],
   "source": [
    "## Correcting only those having None as their names\n",
    "\n",
    "indices = dogs_clean.loc[named_faults[np.logical_not(named_faults.isnull())].index, 'name'].isnull()"
   ]
  },
  {
   "cell_type": "code",
   "execution_count": 3489,
   "metadata": {},
   "outputs": [
    {
     "data": {
      "text/plain": [
       "35      Howard    \n",
       "168     Zoey      \n",
       "603     Tickles   \n",
       "843     Charley   \n",
       "1678    Thea      \n",
       "1734    Sabertooth\n",
       "2166    Zeus      \n",
       "2227    Guss      \n",
       "2267    Big       \n",
       "2269    Tickles   \n",
       "Name: name, dtype: object"
      ]
     },
     "execution_count": 3489,
     "metadata": {},
     "output_type": "execute_result"
    }
   ],
   "source": [
    "dogs_clean.loc[indices.index[indices], 'name'] = named_faults.loc[indices.index[indices]]\n",
    "dogs_clean.loc[indices.index[indices], 'name']"
   ]
  },
  {
   "cell_type": "markdown",
   "metadata": {},
   "source": [
    "<hr>"
   ]
  },
  {
   "cell_type": "markdown",
   "metadata": {},
   "source": [
    "### Retweets"
   ]
  },
  {
   "cell_type": "markdown",
   "metadata": {},
   "source": [
    "First, I will drop retweets of of the same page previous tweets if those original tweets exist in the table<br>\n",
    "WeRateDogs user_id: 4196983835"
   ]
  },
  {
   "cell_type": "code",
   "execution_count": 3490,
   "metadata": {},
   "outputs": [],
   "source": [
    "pd.set_option('display.max_rows', 6)"
   ]
  },
  {
   "cell_type": "code",
   "execution_count": 3491,
   "metadata": {},
   "outputs": [],
   "source": [
    "we_rate_dogs_retweets = dogs_clean[\n",
    "    dogs_clean.retweeted_status_user_id == '4196983835'\n",
    "].retweeted_status_id.isin(dogs_clean.tweet_id)"
   ]
  },
  {
   "cell_type": "code",
   "execution_count": 3492,
   "metadata": {},
   "outputs": [
    {
     "data": {
      "text/plain": [
       "36      True\n",
       "68      True\n",
       "73      True\n",
       "        ... \n",
       "1012    True\n",
       "1023    True\n",
       "1043    True\n",
       "Name: retweeted_status_id, Length: 143, dtype: bool"
      ]
     },
     "execution_count": 3492,
     "metadata": {},
     "output_type": "execute_result"
    }
   ],
   "source": [
    "we_rate_dogs_retweets"
   ]
  },
  {
   "cell_type": "code",
   "execution_count": 3493,
   "metadata": {
    "scrolled": false
   },
   "outputs": [
    {
     "data": {
      "text/html": [
       "<div>\n",
       "<style scoped>\n",
       "    .dataframe tbody tr th:only-of-type {\n",
       "        vertical-align: middle;\n",
       "    }\n",
       "\n",
       "    .dataframe tbody tr th {\n",
       "        vertical-align: top;\n",
       "    }\n",
       "\n",
       "    .dataframe thead th {\n",
       "        text-align: right;\n",
       "    }\n",
       "</style>\n",
       "<table border=\"1\" class=\"dataframe\">\n",
       "  <thead>\n",
       "    <tr style=\"text-align: right;\">\n",
       "      <th></th>\n",
       "      <th>tweet_id</th>\n",
       "      <th>in_reply_to_status_id</th>\n",
       "      <th>in_reply_to_user_id</th>\n",
       "      <th>timestamp</th>\n",
       "      <th>text</th>\n",
       "      <th>retweeted_status_id</th>\n",
       "      <th>retweeted_status_user_id</th>\n",
       "      <th>retweeted_status_timestamp</th>\n",
       "      <th>expanded_urls</th>\n",
       "      <th>rating_numerator</th>\n",
       "      <th>rating_denominator</th>\n",
       "      <th>name</th>\n",
       "      <th>doggo</th>\n",
       "      <th>floofer</th>\n",
       "      <th>pupper</th>\n",
       "      <th>puppo</th>\n",
       "      <th>source_app</th>\n",
       "      <th>source_url</th>\n",
       "      <th>shortened_urls</th>\n",
       "    </tr>\n",
       "  </thead>\n",
       "  <tbody>\n",
       "    <tr>\n",
       "      <th>36</th>\n",
       "      <td>885311592912609280</td>\n",
       "      <td>None</td>\n",
       "      <td>None</td>\n",
       "      <td>2017-07-13 01:35:06</td>\n",
       "      <td>RT @dog_rates: This is Lilly. She just parallel barked. Kindly requests a reward now. 13/10 would pet so well</td>\n",
       "      <td>830583320585068544</td>\n",
       "      <td>4196983835</td>\n",
       "      <td>2017-02-12 01:04:29</td>\n",
       "      <td>https://twitter.com/dog_rates/status/830583320585068544/photo/1,https://twitter.com/dog_rates/status/830583320585068544/photo/1,https://twitter.com/dog_rates/status/830583320585068544/photo/1,https://twitter.com/dog_rates/status/830583320585068544/photo/1</td>\n",
       "      <td>13</td>\n",
       "      <td>10</td>\n",
       "      <td>Lilly</td>\n",
       "      <td>None</td>\n",
       "      <td>None</td>\n",
       "      <td>None</td>\n",
       "      <td>None</td>\n",
       "      <td>Twitter for iPhone</td>\n",
       "      <td>http://twitter.com/download/iphone</td>\n",
       "      <td>https://t.co/SATN4If5H5</td>\n",
       "    </tr>\n",
       "    <tr>\n",
       "      <th>68</th>\n",
       "      <td>879130579576475649</td>\n",
       "      <td>None</td>\n",
       "      <td>None</td>\n",
       "      <td>2017-06-26 00:13:58</td>\n",
       "      <td>RT @dog_rates: This is Emmy. She was adopted today. Massive round of pupplause for Emmy and her new family. 14/10 for all involved</td>\n",
       "      <td>878057613040115712</td>\n",
       "      <td>4196983835</td>\n",
       "      <td>2017-06-23 01:10:23</td>\n",
       "      <td>https://twitter.com/dog_rates/status/878057613040115712/photo/1,https://twitter.com/dog_rates/status/878057613040115712/photo/1</td>\n",
       "      <td>14</td>\n",
       "      <td>10</td>\n",
       "      <td>Emmy</td>\n",
       "      <td>None</td>\n",
       "      <td>None</td>\n",
       "      <td>None</td>\n",
       "      <td>None</td>\n",
       "      <td>Twitter for iPhone</td>\n",
       "      <td>http://twitter.com/download/iphone</td>\n",
       "      <td>NaN</td>\n",
       "    </tr>\n",
       "  </tbody>\n",
       "</table>\n",
       "</div>"
      ],
      "text/plain": [
       "              tweet_id in_reply_to_status_id in_reply_to_user_id  \\\n",
       "36  885311592912609280  None                  None                 \n",
       "68  879130579576475649  None                  None                 \n",
       "\n",
       "             timestamp  \\\n",
       "36 2017-07-13 01:35:06   \n",
       "68 2017-06-26 00:13:58   \n",
       "\n",
       "                                                                                                                                   text  \\\n",
       "36  RT @dog_rates: This is Lilly. She just parallel barked. Kindly requests a reward now. 13/10 would pet so well                         \n",
       "68  RT @dog_rates: This is Emmy. She was adopted today. Massive round of pupplause for Emmy and her new family. 14/10 for all involved    \n",
       "\n",
       "   retweeted_status_id retweeted_status_user_id retweeted_status_timestamp  \\\n",
       "36  830583320585068544  4196983835              2017-02-12 01:04:29          \n",
       "68  878057613040115712  4196983835              2017-06-23 01:10:23          \n",
       "\n",
       "                                                                                                                                                                                                                                                      expanded_urls  \\\n",
       "36  https://twitter.com/dog_rates/status/830583320585068544/photo/1,https://twitter.com/dog_rates/status/830583320585068544/photo/1,https://twitter.com/dog_rates/status/830583320585068544/photo/1,https://twitter.com/dog_rates/status/830583320585068544/photo/1   \n",
       "68  https://twitter.com/dog_rates/status/878057613040115712/photo/1,https://twitter.com/dog_rates/status/878057613040115712/photo/1                                                                                                                                   \n",
       "\n",
       "    rating_numerator  rating_denominator   name doggo floofer pupper puppo  \\\n",
       "36  13                10                  Lilly  None  None    None   None   \n",
       "68  14                10                  Emmy   None  None    None   None   \n",
       "\n",
       "            source_app                          source_url  \\\n",
       "36  Twitter for iPhone  http://twitter.com/download/iphone   \n",
       "68  Twitter for iPhone  http://twitter.com/download/iphone   \n",
       "\n",
       "             shortened_urls  \n",
       "36  https://t.co/SATN4If5H5  \n",
       "68  NaN                      "
      ]
     },
     "execution_count": 3493,
     "metadata": {},
     "output_type": "execute_result"
    }
   ],
   "source": [
    "dogs_clean.loc[we_rate_dogs_retweets.index].head(2)"
   ]
  },
  {
   "cell_type": "code",
   "execution_count": 3494,
   "metadata": {},
   "outputs": [],
   "source": [
    "## Selecting retweets that have existent original tweets and dropping them \n",
    "\n",
    "dogs_clean.drop(we_rate_dogs_retweets[we_rate_dogs_retweets].index, inplace=True)"
   ]
  },
  {
   "cell_type": "code",
   "execution_count": 3495,
   "metadata": {},
   "outputs": [
    {
     "name": "stdout",
     "output_type": "stream",
     "text": [
      "<class 'pandas.core.frame.DataFrame'>\n",
      "Int64Index: 2231 entries, 0 to 2355\n",
      "Data columns (total 2 columns):\n",
      "tweet_id                    2231 non-null object\n",
      "retweeted_status_user_id    60 non-null object\n",
      "dtypes: object(2)\n",
      "memory usage: 52.3+ KB\n"
     ]
    }
   ],
   "source": [
    "dogs_clean[['tweet_id', 'retweeted_status_user_id']].info()"
   ]
  },
  {
   "cell_type": "markdown",
   "metadata": {},
   "source": [
    "number of retweets dropped from 181 to 60. Checking other retweets"
   ]
  },
  {
   "cell_type": "code",
   "execution_count": 3496,
   "metadata": {
    "scrolled": false
   },
   "outputs": [
    {
     "data": {
      "text/html": [
       "<div>\n",
       "<style scoped>\n",
       "    .dataframe tbody tr th:only-of-type {\n",
       "        vertical-align: middle;\n",
       "    }\n",
       "\n",
       "    .dataframe tbody tr th {\n",
       "        vertical-align: top;\n",
       "    }\n",
       "\n",
       "    .dataframe thead th {\n",
       "        text-align: right;\n",
       "    }\n",
       "</style>\n",
       "<table border=\"1\" class=\"dataframe\">\n",
       "  <thead>\n",
       "    <tr style=\"text-align: right;\">\n",
       "      <th></th>\n",
       "      <th>tweet_id</th>\n",
       "      <th>in_reply_to_status_id</th>\n",
       "      <th>in_reply_to_user_id</th>\n",
       "      <th>timestamp</th>\n",
       "      <th>text</th>\n",
       "      <th>retweeted_status_id</th>\n",
       "      <th>retweeted_status_user_id</th>\n",
       "      <th>retweeted_status_timestamp</th>\n",
       "      <th>expanded_urls</th>\n",
       "      <th>rating_numerator</th>\n",
       "      <th>rating_denominator</th>\n",
       "      <th>name</th>\n",
       "      <th>doggo</th>\n",
       "      <th>floofer</th>\n",
       "      <th>pupper</th>\n",
       "      <th>puppo</th>\n",
       "      <th>source_app</th>\n",
       "      <th>source_url</th>\n",
       "      <th>shortened_urls</th>\n",
       "    </tr>\n",
       "  </thead>\n",
       "  <tbody>\n",
       "    <tr>\n",
       "      <th>32</th>\n",
       "      <td>886054160059072513</td>\n",
       "      <td>None</td>\n",
       "      <td>None</td>\n",
       "      <td>2017-07-15 02:45:48</td>\n",
       "      <td>RT @Athletics: 12/10 #BATP</td>\n",
       "      <td>886053734421102592</td>\n",
       "      <td>19607400</td>\n",
       "      <td>2017-07-15 02:44:07</td>\n",
       "      <td>https://twitter.com/dog_rates/status/886053434075471873,https://twitter.com/dog_rates/status/886053434075471873</td>\n",
       "      <td>12</td>\n",
       "      <td>10</td>\n",
       "      <td>None</td>\n",
       "      <td>None</td>\n",
       "      <td>None</td>\n",
       "      <td>None</td>\n",
       "      <td>None</td>\n",
       "      <td>Twitter for iPhone</td>\n",
       "      <td>http://twitter.com/download/iphone</td>\n",
       "      <td>https://t.co/WxwJmvjfxo</td>\n",
       "    </tr>\n",
       "    <tr>\n",
       "      <th>78</th>\n",
       "      <td>877611172832227328</td>\n",
       "      <td>None</td>\n",
       "      <td>None</td>\n",
       "      <td>2017-06-21 19:36:23</td>\n",
       "      <td>RT @rachel2195: @dog_rates the boyfriend and his soaking wet pupper h*cking love his new hat 14/10</td>\n",
       "      <td>876850772322988032</td>\n",
       "      <td>512804507</td>\n",
       "      <td>2017-06-19 17:14:49</td>\n",
       "      <td>https://twitter.com/rachel2195/status/876850772322988033/photo/1,https://twitter.com/rachel2195/status/876850772322988033/photo/1,https://twitter.com/rachel2195/status/876850772322988033/photo/1,https://twitter.com/rachel2195/status/876850772322988033/photo/1</td>\n",
       "      <td>14</td>\n",
       "      <td>10</td>\n",
       "      <td>None</td>\n",
       "      <td>None</td>\n",
       "      <td>None</td>\n",
       "      <td>pupper</td>\n",
       "      <td>None</td>\n",
       "      <td>Twitter for iPhone</td>\n",
       "      <td>http://twitter.com/download/iphone</td>\n",
       "      <td>https://t.co/dJx4Gzc50G</td>\n",
       "    </tr>\n",
       "    <tr>\n",
       "      <th>91</th>\n",
       "      <td>874434818259525634</td>\n",
       "      <td>None</td>\n",
       "      <td>None</td>\n",
       "      <td>2017-06-13 01:14:41</td>\n",
       "      <td>RT @dog_rates: This is Coco. At first I thought she was a cloud but clouds don't bork with such passion. 12/10 would hug softly</td>\n",
       "      <td>866334964761202688</td>\n",
       "      <td>4196983835</td>\n",
       "      <td>2017-05-21 16:48:45</td>\n",
       "      <td>https://twitter.com/dog_rates/status/866334964761202691/photo/1,https://twitter.com/dog_rates/status/866334964761202691/photo/1</td>\n",
       "      <td>12</td>\n",
       "      <td>10</td>\n",
       "      <td>Coco</td>\n",
       "      <td>None</td>\n",
       "      <td>None</td>\n",
       "      <td>None</td>\n",
       "      <td>None</td>\n",
       "      <td>Twitter for iPhone</td>\n",
       "      <td>http://twitter.com/download/iphone</td>\n",
       "      <td>NaN</td>\n",
       "    </tr>\n",
       "  </tbody>\n",
       "</table>\n",
       "</div>"
      ],
      "text/plain": [
       "              tweet_id in_reply_to_status_id in_reply_to_user_id  \\\n",
       "32  886054160059072513  None                  None                 \n",
       "78  877611172832227328  None                  None                 \n",
       "91  874434818259525634  None                  None                 \n",
       "\n",
       "             timestamp  \\\n",
       "32 2017-07-15 02:45:48   \n",
       "78 2017-06-21 19:36:23   \n",
       "91 2017-06-13 01:14:41   \n",
       "\n",
       "                                                                                                                                text  \\\n",
       "32  RT @Athletics: 12/10 #BATP                                                                                                         \n",
       "78  RT @rachel2195: @dog_rates the boyfriend and his soaking wet pupper h*cking love his new hat 14/10                                 \n",
       "91  RT @dog_rates: This is Coco. At first I thought she was a cloud but clouds don't bork with such passion. 12/10 would hug softly    \n",
       "\n",
       "   retweeted_status_id retweeted_status_user_id retweeted_status_timestamp  \\\n",
       "32  886053734421102592  19607400                2017-07-15 02:44:07          \n",
       "78  876850772322988032  512804507               2017-06-19 17:14:49          \n",
       "91  866334964761202688  4196983835              2017-05-21 16:48:45          \n",
       "\n",
       "                                                                                                                                                                                                                                                          expanded_urls  \\\n",
       "32  https://twitter.com/dog_rates/status/886053434075471873,https://twitter.com/dog_rates/status/886053434075471873                                                                                                                                                       \n",
       "78  https://twitter.com/rachel2195/status/876850772322988033/photo/1,https://twitter.com/rachel2195/status/876850772322988033/photo/1,https://twitter.com/rachel2195/status/876850772322988033/photo/1,https://twitter.com/rachel2195/status/876850772322988033/photo/1   \n",
       "91  https://twitter.com/dog_rates/status/866334964761202691/photo/1,https://twitter.com/dog_rates/status/866334964761202691/photo/1                                                                                                                                       \n",
       "\n",
       "    rating_numerator  rating_denominator  name doggo floofer  pupper puppo  \\\n",
       "32  12                10                  None  None  None    None    None   \n",
       "78  14                10                  None  None  None    pupper  None   \n",
       "91  12                10                  Coco  None  None    None    None   \n",
       "\n",
       "            source_app                          source_url  \\\n",
       "32  Twitter for iPhone  http://twitter.com/download/iphone   \n",
       "78  Twitter for iPhone  http://twitter.com/download/iphone   \n",
       "91  Twitter for iPhone  http://twitter.com/download/iphone   \n",
       "\n",
       "             shortened_urls  \n",
       "32  https://t.co/WxwJmvjfxo  \n",
       "78  https://t.co/dJx4Gzc50G  \n",
       "91  NaN                      "
      ]
     },
     "execution_count": 3496,
     "metadata": {},
     "output_type": "execute_result"
    }
   ],
   "source": [
    "dogs_clean.loc[dogs_clean.retweeted_status_id.dropna().index].head(3)"
   ]
  },
  {
   "cell_type": "code",
   "execution_count": 3497,
   "metadata": {},
   "outputs": [
    {
     "data": {
      "text/html": [
       "<div>\n",
       "<style scoped>\n",
       "    .dataframe tbody tr th:only-of-type {\n",
       "        vertical-align: middle;\n",
       "    }\n",
       "\n",
       "    .dataframe tbody tr th {\n",
       "        vertical-align: top;\n",
       "    }\n",
       "\n",
       "    .dataframe thead th {\n",
       "        text-align: right;\n",
       "    }\n",
       "</style>\n",
       "<table border=\"1\" class=\"dataframe\">\n",
       "  <thead>\n",
       "    <tr style=\"text-align: right;\">\n",
       "      <th></th>\n",
       "      <th>tweet_id</th>\n",
       "      <th>in_reply_to_status_id</th>\n",
       "      <th>in_reply_to_user_id</th>\n",
       "      <th>timestamp</th>\n",
       "      <th>text</th>\n",
       "      <th>retweeted_status_id</th>\n",
       "      <th>retweeted_status_user_id</th>\n",
       "      <th>retweeted_status_timestamp</th>\n",
       "      <th>expanded_urls</th>\n",
       "      <th>rating_numerator</th>\n",
       "      <th>rating_denominator</th>\n",
       "      <th>name</th>\n",
       "      <th>doggo</th>\n",
       "      <th>floofer</th>\n",
       "      <th>pupper</th>\n",
       "      <th>puppo</th>\n",
       "      <th>source_app</th>\n",
       "      <th>source_url</th>\n",
       "      <th>shortened_urls</th>\n",
       "    </tr>\n",
       "  </thead>\n",
       "  <tbody>\n",
       "    <tr>\n",
       "      <th>130</th>\n",
       "      <td>867072653475098625</td>\n",
       "      <td>None</td>\n",
       "      <td>None</td>\n",
       "      <td>2017-05-23 17:40:04</td>\n",
       "      <td>RT @rachaeleasler: these @dog_rates hats are 13/10 bean approved</td>\n",
       "      <td>865013420445368320</td>\n",
       "      <td>787461778435289088</td>\n",
       "      <td>2017-05-18 01:17:25</td>\n",
       "      <td>https://twitter.com/rachaeleasler/status/865013420445368320/photo/1,https://twitter.com/rachaeleasler/status/865013420445368320/photo/1,https://twitter.com/rachaeleasler/status/865013420445368320/photo/1,https://twitter.com/rachaeleasler/status/865013420445368320/photo/1</td>\n",
       "      <td>13</td>\n",
       "      <td>10</td>\n",
       "      <td>None</td>\n",
       "      <td>None</td>\n",
       "      <td>None</td>\n",
       "      <td>None</td>\n",
       "      <td>None</td>\n",
       "      <td>Twitter for iPhone</td>\n",
       "      <td>http://twitter.com/download/iphone</td>\n",
       "      <td>https://t.co/nRCdq4g9gG</td>\n",
       "    </tr>\n",
       "    <tr>\n",
       "      <th>661</th>\n",
       "      <td>791026214425268224</td>\n",
       "      <td>None</td>\n",
       "      <td>None</td>\n",
       "      <td>2016-10-25 21:18:40</td>\n",
       "      <td>RT @dog_rates: This is Alfie. He's touching a butt. Couldn't be happier. 11/10</td>\n",
       "      <td>763837565564780544</td>\n",
       "      <td>4196983835</td>\n",
       "      <td>2016-08-11 20:40:41</td>\n",
       "      <td>https://twitter.com/dog_rates/status/763837565564780549/photo/1,https://twitter.com/dog_rates/status/763837565564780549/photo/1</td>\n",
       "      <td>11</td>\n",
       "      <td>10</td>\n",
       "      <td>Alfie</td>\n",
       "      <td>None</td>\n",
       "      <td>None</td>\n",
       "      <td>None</td>\n",
       "      <td>None</td>\n",
       "      <td>Twitter for iPhone</td>\n",
       "      <td>http://twitter.com/download/iphone</td>\n",
       "      <td>https://t.co/gx3xF5mZbo</td>\n",
       "    </tr>\n",
       "    <tr>\n",
       "      <th>583</th>\n",
       "      <td>800188575492947969</td>\n",
       "      <td>None</td>\n",
       "      <td>None</td>\n",
       "      <td>2016-11-20 04:06:37</td>\n",
       "      <td>RT @dog_rates: This is Bo. He's a Benedoop Cumbersnatch. Seems frustrated with own feet. Portable as hell. 11/10 very solid pupper</td>\n",
       "      <td>681694085539872768</td>\n",
       "      <td>4196983835</td>\n",
       "      <td>2015-12-29 04:31:49</td>\n",
       "      <td>https://twitter.com/dog_rates/status/681694085539872773/photo/1</td>\n",
       "      <td>11</td>\n",
       "      <td>10</td>\n",
       "      <td>Bo</td>\n",
       "      <td>None</td>\n",
       "      <td>None</td>\n",
       "      <td>pupper</td>\n",
       "      <td>None</td>\n",
       "      <td>Twitter for iPhone</td>\n",
       "      <td>http://twitter.com/download/iphone</td>\n",
       "      <td>NaN</td>\n",
       "    </tr>\n",
       "  </tbody>\n",
       "</table>\n",
       "</div>"
      ],
      "text/plain": [
       "               tweet_id in_reply_to_status_id in_reply_to_user_id  \\\n",
       "130  867072653475098625  None                  None                 \n",
       "661  791026214425268224  None                  None                 \n",
       "583  800188575492947969  None                  None                 \n",
       "\n",
       "              timestamp  \\\n",
       "130 2017-05-23 17:40:04   \n",
       "661 2016-10-25 21:18:40   \n",
       "583 2016-11-20 04:06:37   \n",
       "\n",
       "                                                                                                                                    text  \\\n",
       "130  RT @rachaeleasler: these @dog_rates hats are 13/10 bean approved                                                                      \n",
       "661  RT @dog_rates: This is Alfie. He's touching a butt. Couldn't be happier. 11/10                                                        \n",
       "583  RT @dog_rates: This is Bo. He's a Benedoop Cumbersnatch. Seems frustrated with own feet. Portable as hell. 11/10 very solid pupper    \n",
       "\n",
       "    retweeted_status_id retweeted_status_user_id retweeted_status_timestamp  \\\n",
       "130  865013420445368320  787461778435289088      2017-05-18 01:17:25          \n",
       "661  763837565564780544  4196983835              2016-08-11 20:40:41          \n",
       "583  681694085539872768  4196983835              2015-12-29 04:31:49          \n",
       "\n",
       "                                                                                                                                                                                                                                                                       expanded_urls  \\\n",
       "130  https://twitter.com/rachaeleasler/status/865013420445368320/photo/1,https://twitter.com/rachaeleasler/status/865013420445368320/photo/1,https://twitter.com/rachaeleasler/status/865013420445368320/photo/1,https://twitter.com/rachaeleasler/status/865013420445368320/photo/1   \n",
       "661  https://twitter.com/dog_rates/status/763837565564780549/photo/1,https://twitter.com/dog_rates/status/763837565564780549/photo/1                                                                                                                                                   \n",
       "583  https://twitter.com/dog_rates/status/681694085539872773/photo/1                                                                                                                                                                                                                   \n",
       "\n",
       "     rating_numerator  rating_denominator   name doggo floofer  pupper puppo  \\\n",
       "130  13                10                  None   None  None    None    None   \n",
       "661  11                10                  Alfie  None  None    None    None   \n",
       "583  11                10                  Bo     None  None    pupper  None   \n",
       "\n",
       "             source_app                          source_url  \\\n",
       "130  Twitter for iPhone  http://twitter.com/download/iphone   \n",
       "661  Twitter for iPhone  http://twitter.com/download/iphone   \n",
       "583  Twitter for iPhone  http://twitter.com/download/iphone   \n",
       "\n",
       "              shortened_urls  \n",
       "130  https://t.co/nRCdq4g9gG  \n",
       "661  https://t.co/gx3xF5mZbo  \n",
       "583  NaN                      "
      ]
     },
     "execution_count": 3497,
     "metadata": {},
     "output_type": "execute_result"
    }
   ],
   "source": [
    "dogs_clean.loc[dogs_clean.retweeted_status_id.dropna().index].sample(3)"
   ]
  },
  {
   "cell_type": "code",
   "execution_count": 3498,
   "metadata": {},
   "outputs": [
    {
     "data": {
      "text/html": [
       "<div>\n",
       "<style scoped>\n",
       "    .dataframe tbody tr th:only-of-type {\n",
       "        vertical-align: middle;\n",
       "    }\n",
       "\n",
       "    .dataframe tbody tr th {\n",
       "        vertical-align: top;\n",
       "    }\n",
       "\n",
       "    .dataframe thead th {\n",
       "        text-align: right;\n",
       "    }\n",
       "</style>\n",
       "<table border=\"1\" class=\"dataframe\">\n",
       "  <thead>\n",
       "    <tr style=\"text-align: right;\">\n",
       "      <th></th>\n",
       "      <th>tweet_id</th>\n",
       "      <th>expanded_urls</th>\n",
       "    </tr>\n",
       "  </thead>\n",
       "  <tbody>\n",
       "    <tr>\n",
       "      <th>0</th>\n",
       "      <td>892420643555336193</td>\n",
       "      <td>https://twitter.com/dog_rates/status/892420643555336193/photo/1</td>\n",
       "    </tr>\n",
       "    <tr>\n",
       "      <th>1</th>\n",
       "      <td>892177421306343426</td>\n",
       "      <td>https://twitter.com/dog_rates/status/892177421306343426/photo/1</td>\n",
       "    </tr>\n",
       "    <tr>\n",
       "      <th>2</th>\n",
       "      <td>891815181378084864</td>\n",
       "      <td>https://twitter.com/dog_rates/status/891815181378084864/photo/1</td>\n",
       "    </tr>\n",
       "    <tr>\n",
       "      <th>3</th>\n",
       "      <td>891689557279858688</td>\n",
       "      <td>https://twitter.com/dog_rates/status/891689557279858688/photo/1</td>\n",
       "    </tr>\n",
       "    <tr>\n",
       "      <th>4</th>\n",
       "      <td>891327558926688256</td>\n",
       "      <td>https://twitter.com/dog_rates/status/891327558926688256/photo/1,https://twitter.com/dog_rates/status/891327558926688256/photo/1</td>\n",
       "    </tr>\n",
       "  </tbody>\n",
       "</table>\n",
       "</div>"
      ],
      "text/plain": [
       "             tweet_id  \\\n",
       "0  892420643555336193   \n",
       "1  892177421306343426   \n",
       "2  891815181378084864   \n",
       "3  891689557279858688   \n",
       "4  891327558926688256   \n",
       "\n",
       "                                                                                                                     expanded_urls  \n",
       "0  https://twitter.com/dog_rates/status/892420643555336193/photo/1                                                                  \n",
       "1  https://twitter.com/dog_rates/status/892177421306343426/photo/1                                                                  \n",
       "2  https://twitter.com/dog_rates/status/891815181378084864/photo/1                                                                  \n",
       "3  https://twitter.com/dog_rates/status/891689557279858688/photo/1                                                                  \n",
       "4  https://twitter.com/dog_rates/status/891327558926688256/photo/1,https://twitter.com/dog_rates/status/891327558926688256/photo/1  "
      ]
     },
     "execution_count": 3498,
     "metadata": {},
     "output_type": "execute_result"
    }
   ],
   "source": [
    "dogs_clean[['tweet_id', 'expanded_urls']].head()"
   ]
  },
  {
   "cell_type": "markdown",
   "metadata": {},
   "source": [
    "There is an issue I detected here in expanded_urls and retweeted status id, but I won't clean it as I don't know its exact cause \n",
    "* Look at the expanded_urls and tweet_id in the head above, you'll find tweet ids in the expanded_urls as-is and that's expected, but at look at the sample above you'll find the expanded_urls contain the retweedted_status_id incremented by one .e.g retweeted_status_id = 725842289046749184, and expanded_url = https://twitter.com/dog_rates/status/<font color=\"red\">725842289046749185</font>/photo/1 and this repeates in other retweets, too. Another example is 887473957103951872 for retweeted_status_id and 887473957103951883 in expanded_url. So there  probably some type of counter if as in the last example the ids are almost the same but the expanded_url ends in 83, but the retweeted_status_id ends in 72.\n",
    "\n",
    "* And some other times the status_id in the link is totally different from both retweeted_status_id and the tweet_id especially when the retweeted_user_id isn't WeRateDogs. So does those urls really belong to those tweets? \n",
    "\n",
    "When Checking the links using the decremented retweeted_status_id, it seems the original tweet is deleted and in other cases, I find a quoted tweet so the rest cleaning of retweets can be done using quoted_tweets, but I will clean the text from RT @user retweets additions as tweets and retweets texts are the same, quoted tweets on the other hand are different, but that's another investigation. I will refrain from processing retweets further, may save & drop them entirely at the end."
   ]
  },
  {
   "cell_type": "code",
   "execution_count": 3499,
   "metadata": {
    "scrolled": true
   },
   "outputs": [
    {
     "data": {
      "text/plain": [
       "32      RT @Athletics: 12/10 #BATP                                                                                                      \n",
       "78      RT @rachel2195: @dog_rates the boyfriend and his soaking wet pupper h*cking love his new hat 14/10                              \n",
       "91      RT @dog_rates: This is Coco. At first I thought she was a cloud but clouds don't bork with such passion. 12/10 would hug softly \n",
       "                                                                      ...                                                               \n",
       "1242    RT @twitter: @dog_rates Awesome Tweet! 12/10. Would Retweet. #LoveTwitter                                                       \n",
       "2259    RT @dogratingrating: Exceptional talent. Original humor. Cutting edge, Nova Scotian comedian. 12/10                             \n",
       "2260    RT @dogratingrating: Unoriginal idea. Blatant plagiarism. Curious grammar. -5/10                                                \n",
       "Name: text, Length: 60, dtype: object"
      ]
     },
     "execution_count": 3499,
     "metadata": {},
     "output_type": "execute_result"
    }
   ],
   "source": [
    "dogs_clean[np.logical_not(dogs_clean.retweeted_status_id.isnull())].text"
   ]
  },
  {
   "cell_type": "code",
   "execution_count": 3500,
   "metadata": {},
   "outputs": [],
   "source": [
    "rt_text = dogs_clean[np.logical_not(dogs_clean.retweeted_status_id.isnull())].text"
   ]
  },
  {
   "cell_type": "code",
   "execution_count": 3501,
   "metadata": {},
   "outputs": [
    {
     "data": {
      "text/plain": [
       "32      12/10 #BATP                                                                                                      \n",
       "78      @dog_rates the boyfriend and his soaking wet pupper h*cking love his new hat 14/10                               \n",
       "91      This is Coco. At first I thought she was a cloud but clouds don't bork with such passion. 12/10 would hug softly \n",
       "                                                              ...                                                        \n",
       "1242    @dog_rates Awesome Tweet! 12/10. Would Retweet. #LoveTwitter                                                     \n",
       "2259    Exceptional talent. Original humor. Cutting edge, Nova Scotian comedian. 12/10                                   \n",
       "2260    Unoriginal idea. Blatant plagiarism. Curious grammar. -5/10                                                      \n",
       "Name: text, Length: 60, dtype: object"
      ]
     },
     "execution_count": 3501,
     "metadata": {},
     "output_type": "execute_result"
    }
   ],
   "source": [
    "rt_text.replace('RT @[^\\s]+:\\s*', '', regex = True)"
   ]
  },
  {
   "cell_type": "code",
   "execution_count": 3502,
   "metadata": {},
   "outputs": [],
   "source": [
    "dogs_clean.loc[rt_text.index, 'text'] = rt_text.replace('RT @[^\\s]+:\\s*', '', regex = True)"
   ]
  },
  {
   "cell_type": "code",
   "execution_count": 3503,
   "metadata": {
    "scrolled": true
   },
   "outputs": [
    {
     "data": {
      "text/plain": [
       "32      12/10 #BATP                                                                                                      \n",
       "78      @dog_rates the boyfriend and his soaking wet pupper h*cking love his new hat 14/10                               \n",
       "91      This is Coco. At first I thought she was a cloud but clouds don't bork with such passion. 12/10 would hug softly \n",
       "                                                              ...                                                        \n",
       "1242    @dog_rates Awesome Tweet! 12/10. Would Retweet. #LoveTwitter                                                     \n",
       "2259    Exceptional talent. Original humor. Cutting edge, Nova Scotian comedian. 12/10                                   \n",
       "2260    Unoriginal idea. Blatant plagiarism. Curious grammar. -5/10                                                      \n",
       "Name: text, Length: 60, dtype: object"
      ]
     },
     "execution_count": 3503,
     "metadata": {},
     "output_type": "execute_result"
    }
   ],
   "source": [
    "dogs_clean.loc[rt_text.index].text"
   ]
  },
  {
   "cell_type": "markdown",
   "metadata": {},
   "source": [
    "> Another issue I will not clean are hashtags, mentions and links to Instagram (.e.g I.G)"
   ]
  },
  {
   "cell_type": "markdown",
   "metadata": {},
   "source": [
    "<hr>"
   ]
  },
  {
   "cell_type": "markdown",
   "metadata": {},
   "source": [
    "### Assessing In response tweets"
   ]
  },
  {
   "cell_type": "code",
   "execution_count": 3504,
   "metadata": {},
   "outputs": [
    {
     "data": {
      "text/html": [
       "<div>\n",
       "<style scoped>\n",
       "    .dataframe tbody tr th:only-of-type {\n",
       "        vertical-align: middle;\n",
       "    }\n",
       "\n",
       "    .dataframe tbody tr th {\n",
       "        vertical-align: top;\n",
       "    }\n",
       "\n",
       "    .dataframe thead th {\n",
       "        text-align: right;\n",
       "    }\n",
       "</style>\n",
       "<table border=\"1\" class=\"dataframe\">\n",
       "  <thead>\n",
       "    <tr style=\"text-align: right;\">\n",
       "      <th></th>\n",
       "      <th>tweet_id</th>\n",
       "      <th>in_reply_to_status_id</th>\n",
       "      <th>in_reply_to_user_id</th>\n",
       "      <th>timestamp</th>\n",
       "      <th>text</th>\n",
       "      <th>retweeted_status_id</th>\n",
       "      <th>retweeted_status_user_id</th>\n",
       "      <th>retweeted_status_timestamp</th>\n",
       "      <th>expanded_urls</th>\n",
       "      <th>rating_numerator</th>\n",
       "      <th>rating_denominator</th>\n",
       "      <th>name</th>\n",
       "      <th>doggo</th>\n",
       "      <th>floofer</th>\n",
       "      <th>pupper</th>\n",
       "      <th>puppo</th>\n",
       "      <th>source_app</th>\n",
       "      <th>source_url</th>\n",
       "      <th>shortened_urls</th>\n",
       "    </tr>\n",
       "  </thead>\n",
       "  <tbody>\n",
       "    <tr>\n",
       "      <th>0</th>\n",
       "      <td>892420643555336193</td>\n",
       "      <td>None</td>\n",
       "      <td>None</td>\n",
       "      <td>2017-08-01 16:23:56</td>\n",
       "      <td>This is Phineas. He's a mystical boy. Only ever appears in the hole of a donut. 13/10</td>\n",
       "      <td>None</td>\n",
       "      <td>None</td>\n",
       "      <td>NaT</td>\n",
       "      <td>https://twitter.com/dog_rates/status/892420643555336193/photo/1</td>\n",
       "      <td>13</td>\n",
       "      <td>10</td>\n",
       "      <td>Phineas</td>\n",
       "      <td>None</td>\n",
       "      <td>None</td>\n",
       "      <td>None</td>\n",
       "      <td>None</td>\n",
       "      <td>Twitter for iPhone</td>\n",
       "      <td>http://twitter.com/download/iphone</td>\n",
       "      <td>https://t.co/MgUWQ76dJU</td>\n",
       "    </tr>\n",
       "  </tbody>\n",
       "</table>\n",
       "</div>"
      ],
      "text/plain": [
       "             tweet_id in_reply_to_status_id in_reply_to_user_id  \\\n",
       "0  892420643555336193  None                  None                 \n",
       "\n",
       "            timestamp  \\\n",
       "0 2017-08-01 16:23:56   \n",
       "\n",
       "                                                                                     text  \\\n",
       "0  This is Phineas. He's a mystical boy. Only ever appears in the hole of a donut. 13/10    \n",
       "\n",
       "  retweeted_status_id retweeted_status_user_id retweeted_status_timestamp  \\\n",
       "0  None                None                    NaT                          \n",
       "\n",
       "                                                     expanded_urls  \\\n",
       "0  https://twitter.com/dog_rates/status/892420643555336193/photo/1   \n",
       "\n",
       "   rating_numerator  rating_denominator     name doggo floofer pupper puppo  \\\n",
       "0  13                10                  Phineas  None  None    None   None   \n",
       "\n",
       "           source_app                          source_url  \\\n",
       "0  Twitter for iPhone  http://twitter.com/download/iphone   \n",
       "\n",
       "            shortened_urls  \n",
       "0  https://t.co/MgUWQ76dJU  "
      ]
     },
     "execution_count": 3504,
     "metadata": {},
     "output_type": "execute_result"
    }
   ],
   "source": [
    "dogs_clean.head(1)"
   ]
  },
  {
   "cell_type": "code",
   "execution_count": 3505,
   "metadata": {},
   "outputs": [],
   "source": [
    "temp = dogs_clean[np.logical_not(dogs_clean.in_reply_to_status_id.isnull())]"
   ]
  },
  {
   "cell_type": "code",
   "execution_count": 3506,
   "metadata": {},
   "outputs": [
    {
     "data": {
      "text/html": [
       "<div>\n",
       "<style scoped>\n",
       "    .dataframe tbody tr th:only-of-type {\n",
       "        vertical-align: middle;\n",
       "    }\n",
       "\n",
       "    .dataframe tbody tr th {\n",
       "        vertical-align: top;\n",
       "    }\n",
       "\n",
       "    .dataframe thead th {\n",
       "        text-align: right;\n",
       "    }\n",
       "</style>\n",
       "<table border=\"1\" class=\"dataframe\">\n",
       "  <thead>\n",
       "    <tr style=\"text-align: right;\">\n",
       "      <th></th>\n",
       "      <th>tweet_id</th>\n",
       "      <th>in_reply_to_status_id</th>\n",
       "      <th>in_reply_to_user_id</th>\n",
       "      <th>timestamp</th>\n",
       "      <th>text</th>\n",
       "      <th>retweeted_status_id</th>\n",
       "      <th>retweeted_status_user_id</th>\n",
       "      <th>retweeted_status_timestamp</th>\n",
       "      <th>expanded_urls</th>\n",
       "      <th>rating_numerator</th>\n",
       "      <th>rating_denominator</th>\n",
       "      <th>name</th>\n",
       "      <th>doggo</th>\n",
       "      <th>floofer</th>\n",
       "      <th>pupper</th>\n",
       "      <th>puppo</th>\n",
       "      <th>source_app</th>\n",
       "      <th>source_url</th>\n",
       "      <th>shortened_urls</th>\n",
       "    </tr>\n",
       "  </thead>\n",
       "  <tbody>\n",
       "    <tr>\n",
       "      <th>184</th>\n",
       "      <td>856526610513747968</td>\n",
       "      <td>855818117272018944</td>\n",
       "      <td>4196983835</td>\n",
       "      <td>2017-04-24 15:13:52</td>\n",
       "      <td>THIS IS CHARLIE, MARK. HE DID JUST WANT TO SAY HI AFTER ALL. PUPGRADED TO A 14/10. WOULD BE AN HONOR TO FLY WITH</td>\n",
       "      <td>None</td>\n",
       "      <td>None</td>\n",
       "      <td>NaT</td>\n",
       "      <td>https://twitter.com/dog_rates/status/856526610513747968/photo/1</td>\n",
       "      <td>14</td>\n",
       "      <td>10</td>\n",
       "      <td>None</td>\n",
       "      <td>None</td>\n",
       "      <td>None</td>\n",
       "      <td>None</td>\n",
       "      <td>None</td>\n",
       "      <td>Twitter for iPhone</td>\n",
       "      <td>http://twitter.com/download/iphone</td>\n",
       "      <td>https://t.co/p1hBHCmWnA</td>\n",
       "    </tr>\n",
       "    <tr>\n",
       "      <th>228</th>\n",
       "      <td>848213670039564288</td>\n",
       "      <td>848212111729840128</td>\n",
       "      <td>4196983835</td>\n",
       "      <td>2017-04-01 16:41:12</td>\n",
       "      <td>Jerry just apuppologized to me. He said there was no ill-intent to the slippage. I overreacted I admit. Pupgraded to an 11/10 would pet</td>\n",
       "      <td>None</td>\n",
       "      <td>None</td>\n",
       "      <td>NaT</td>\n",
       "      <td>NaN</td>\n",
       "      <td>11</td>\n",
       "      <td>10</td>\n",
       "      <td>None</td>\n",
       "      <td>None</td>\n",
       "      <td>None</td>\n",
       "      <td>None</td>\n",
       "      <td>None</td>\n",
       "      <td>Twitter for iPhone</td>\n",
       "      <td>http://twitter.com/download/iphone</td>\n",
       "      <td>NaN</td>\n",
       "    </tr>\n",
       "    <tr>\n",
       "      <th>251</th>\n",
       "      <td>844979544864018432</td>\n",
       "      <td>759099523532779520</td>\n",
       "      <td>4196983835</td>\n",
       "      <td>2017-03-23 18:29:57</td>\n",
       "      <td>PUPDATE: I'm proud to announce that Toby is 236 days sober. Pupgraded to a 13/10. We're all very proud of you, Toby</td>\n",
       "      <td>None</td>\n",
       "      <td>None</td>\n",
       "      <td>NaT</td>\n",
       "      <td>https://twitter.com/dog_rates/status/844979544864018432/photo/1,https://twitter.com/dog_rates/status/844979544864018432/photo/1,https://twitter.com/dog_rates/status/844979544864018432/photo/1</td>\n",
       "      <td>13</td>\n",
       "      <td>10</td>\n",
       "      <td>None</td>\n",
       "      <td>None</td>\n",
       "      <td>None</td>\n",
       "      <td>None</td>\n",
       "      <td>None</td>\n",
       "      <td>Twitter for iPhone</td>\n",
       "      <td>http://twitter.com/download/iphone</td>\n",
       "      <td>https://t.co/a5OaJeRl9B</td>\n",
       "    </tr>\n",
       "    <tr>\n",
       "      <th>498</th>\n",
       "      <td>813130366689148928</td>\n",
       "      <td>813127251579564032</td>\n",
       "      <td>4196983835</td>\n",
       "      <td>2016-12-25 21:12:41</td>\n",
       "      <td>I've been informed by multiple sources that this is actually a dog elf who's tired from helping Santa all night. Pupgraded to 12/10</td>\n",
       "      <td>None</td>\n",
       "      <td>None</td>\n",
       "      <td>NaT</td>\n",
       "      <td>NaN</td>\n",
       "      <td>12</td>\n",
       "      <td>10</td>\n",
       "      <td>None</td>\n",
       "      <td>None</td>\n",
       "      <td>None</td>\n",
       "      <td>None</td>\n",
       "      <td>None</td>\n",
       "      <td>Twitter for iPhone</td>\n",
       "      <td>http://twitter.com/download/iphone</td>\n",
       "      <td>NaN</td>\n",
       "    </tr>\n",
       "    <tr>\n",
       "      <th>513</th>\n",
       "      <td>811647686436880384</td>\n",
       "      <td>811627233043480576</td>\n",
       "      <td>4196983835</td>\n",
       "      <td>2016-12-21 19:01:02</td>\n",
       "      <td>PUPDATE: I've been informed that Augie was actually bringing his family these flowers when he tripped. Very good boy. Pupgraded to 11/10</td>\n",
       "      <td>None</td>\n",
       "      <td>None</td>\n",
       "      <td>NaT</td>\n",
       "      <td>NaN</td>\n",
       "      <td>11</td>\n",
       "      <td>10</td>\n",
       "      <td>None</td>\n",
       "      <td>None</td>\n",
       "      <td>None</td>\n",
       "      <td>None</td>\n",
       "      <td>None</td>\n",
       "      <td>Twitter for iPhone</td>\n",
       "      <td>http://twitter.com/download/iphone</td>\n",
       "      <td>NaN</td>\n",
       "    </tr>\n",
       "  </tbody>\n",
       "</table>\n",
       "</div>"
      ],
      "text/plain": [
       "               tweet_id in_reply_to_status_id in_reply_to_user_id  \\\n",
       "184  856526610513747968  855818117272018944    4196983835           \n",
       "228  848213670039564288  848212111729840128    4196983835           \n",
       "251  844979544864018432  759099523532779520    4196983835           \n",
       "498  813130366689148928  813127251579564032    4196983835           \n",
       "513  811647686436880384  811627233043480576    4196983835           \n",
       "\n",
       "              timestamp  \\\n",
       "184 2017-04-24 15:13:52   \n",
       "228 2017-04-01 16:41:12   \n",
       "251 2017-03-23 18:29:57   \n",
       "498 2016-12-25 21:12:41   \n",
       "513 2016-12-21 19:01:02   \n",
       "\n",
       "                                                                                                                                         text  \\\n",
       "184  THIS IS CHARLIE, MARK. HE DID JUST WANT TO SAY HI AFTER ALL. PUPGRADED TO A 14/10. WOULD BE AN HONOR TO FLY WITH                           \n",
       "228  Jerry just apuppologized to me. He said there was no ill-intent to the slippage. I overreacted I admit. Pupgraded to an 11/10 would pet    \n",
       "251  PUPDATE: I'm proud to announce that Toby is 236 days sober. Pupgraded to a 13/10. We're all very proud of you, Toby                        \n",
       "498  I've been informed by multiple sources that this is actually a dog elf who's tired from helping Santa all night. Pupgraded to 12/10        \n",
       "513  PUPDATE: I've been informed that Augie was actually bringing his family these flowers when he tripped. Very good boy. Pupgraded to 11/10   \n",
       "\n",
       "    retweeted_status_id retweeted_status_user_id retweeted_status_timestamp  \\\n",
       "184  None                None                    NaT                          \n",
       "228  None                None                    NaT                          \n",
       "251  None                None                    NaT                          \n",
       "498  None                None                    NaT                          \n",
       "513  None                None                    NaT                          \n",
       "\n",
       "                                                                                                                                                                                       expanded_urls  \\\n",
       "184  https://twitter.com/dog_rates/status/856526610513747968/photo/1                                                                                                                                   \n",
       "228  NaN                                                                                                                                                                                               \n",
       "251  https://twitter.com/dog_rates/status/844979544864018432/photo/1,https://twitter.com/dog_rates/status/844979544864018432/photo/1,https://twitter.com/dog_rates/status/844979544864018432/photo/1   \n",
       "498  NaN                                                                                                                                                                                               \n",
       "513  NaN                                                                                                                                                                                               \n",
       "\n",
       "     rating_numerator  rating_denominator  name doggo floofer pupper puppo  \\\n",
       "184  14                10                  None  None  None    None   None   \n",
       "228  11                10                  None  None  None    None   None   \n",
       "251  13                10                  None  None  None    None   None   \n",
       "498  12                10                  None  None  None    None   None   \n",
       "513  11                10                  None  None  None    None   None   \n",
       "\n",
       "             source_app                          source_url  \\\n",
       "184  Twitter for iPhone  http://twitter.com/download/iphone   \n",
       "228  Twitter for iPhone  http://twitter.com/download/iphone   \n",
       "251  Twitter for iPhone  http://twitter.com/download/iphone   \n",
       "498  Twitter for iPhone  http://twitter.com/download/iphone   \n",
       "513  Twitter for iPhone  http://twitter.com/download/iphone   \n",
       "\n",
       "              shortened_urls  \n",
       "184  https://t.co/p1hBHCmWnA  \n",
       "228  NaN                      \n",
       "251  https://t.co/a5OaJeRl9B  \n",
       "498  NaN                      \n",
       "513  NaN                      "
      ]
     },
     "execution_count": 3506,
     "metadata": {},
     "output_type": "execute_result"
    }
   ],
   "source": [
    "temp[temp.in_reply_to_status_id.isin(dogs_clean.tweet_id)].head()"
   ]
  },
  {
   "cell_type": "code",
   "execution_count": 3507,
   "metadata": {},
   "outputs": [
    {
     "data": {
      "text/plain": [
       "184     THIS IS CHARLIE, MARK. HE DID JUST WANT TO SAY HI AFTER ALL. PUPGRADED TO A 14/10. WOULD BE AN HONOR TO FLY WITH                       \n",
       "228     Jerry just apuppologized to me. He said there was no ill-intent to the slippage. I overreacted I admit. Pupgraded to an 11/10 would pet\n",
       "251     PUPDATE: I'm proud to announce that Toby is 236 days sober. Pupgraded to a 13/10. We're all very proud of you, Toby                    \n",
       "                                                                ...                                                                            \n",
       "2149    After countless hours of research and hundreds of formula alterations we have concluded that Dug should be bumped to an 11/10          \n",
       "2169    This is Tessa. She is also very pleased after finally meeting her biological father. 10/10                                             \n",
       "2298    After much debate this dog is being upgraded to 10/10. I repeat 10/10                                                                  \n",
       "Name: text, Length: 33, dtype: object"
      ]
     },
     "execution_count": 3507,
     "metadata": {},
     "output_type": "execute_result"
    }
   ],
   "source": [
    "temp[temp.in_reply_to_status_id.isin(dogs_clean.tweet_id)].text"
   ]
  },
  {
   "cell_type": "code",
   "execution_count": 3508,
   "metadata": {},
   "outputs": [
    {
     "data": {
      "text/html": [
       "<div>\n",
       "<style scoped>\n",
       "    .dataframe tbody tr th:only-of-type {\n",
       "        vertical-align: middle;\n",
       "    }\n",
       "\n",
       "    .dataframe tbody tr th {\n",
       "        vertical-align: top;\n",
       "    }\n",
       "\n",
       "    .dataframe thead th {\n",
       "        text-align: right;\n",
       "    }\n",
       "</style>\n",
       "<table border=\"1\" class=\"dataframe\">\n",
       "  <thead>\n",
       "    <tr style=\"text-align: right;\">\n",
       "      <th></th>\n",
       "      <th>0</th>\n",
       "      <th>1</th>\n",
       "      <th>2</th>\n",
       "    </tr>\n",
       "  </thead>\n",
       "  <tbody>\n",
       "    <tr>\n",
       "      <th>184</th>\n",
       "      <td>A</td>\n",
       "      <td>14</td>\n",
       "      <td>10</td>\n",
       "    </tr>\n",
       "    <tr>\n",
       "      <th>228</th>\n",
       "      <td>an</td>\n",
       "      <td>11</td>\n",
       "      <td>10</td>\n",
       "    </tr>\n",
       "    <tr>\n",
       "      <th>251</th>\n",
       "      <td>a</td>\n",
       "      <td>13</td>\n",
       "      <td>10</td>\n",
       "    </tr>\n",
       "    <tr>\n",
       "      <th>...</th>\n",
       "      <td>...</td>\n",
       "      <td>...</td>\n",
       "      <td>...</td>\n",
       "    </tr>\n",
       "    <tr>\n",
       "      <th>2149</th>\n",
       "      <td>NaN</td>\n",
       "      <td>NaN</td>\n",
       "      <td>NaN</td>\n",
       "    </tr>\n",
       "    <tr>\n",
       "      <th>2169</th>\n",
       "      <td>NaN</td>\n",
       "      <td>NaN</td>\n",
       "      <td>NaN</td>\n",
       "    </tr>\n",
       "    <tr>\n",
       "      <th>2298</th>\n",
       "      <td>NaN</td>\n",
       "      <td>10</td>\n",
       "      <td>10</td>\n",
       "    </tr>\n",
       "  </tbody>\n",
       "</table>\n",
       "<p>33 rows × 3 columns</p>\n",
       "</div>"
      ],
      "text/plain": [
       "        0    1    2\n",
       "184   A    14   10 \n",
       "228   an   11   10 \n",
       "251   a    13   10 \n",
       "...  ..    ..   .. \n",
       "2149  NaN  NaN  NaN\n",
       "2169  NaN  NaN  NaN\n",
       "2298  NaN  10   10 \n",
       "\n",
       "[33 rows x 3 columns]"
      ]
     },
     "execution_count": 3508,
     "metadata": {},
     "output_type": "execute_result"
    }
   ],
   "source": [
    "import re \n",
    "temp[temp.in_reply_to_status_id.isin(dogs_clean.tweet_id)].text.str.extract(\n",
    "    'graded to\\s*([^\\s0-9]+)?\\s*(\\d+)/(\\d+)', flags= re.IGNORECASE\n",
    ")"
   ]
  },
  {
   "cell_type": "markdown",
   "metadata": {},
   "source": [
    "Looking closely at the in_response tweets most of them aren't real rating, they're either upgrading to the ratings and we know that the ratings in WeRateDogs aren't actually consistent ratings and others are like comments in other people posts, some are ratings, but to clean to the bottom is real time-consuming, so I'll drop them and note that in the internal documents. Then I will drop the columns."
   ]
  },
  {
   "cell_type": "code",
   "execution_count": 3509,
   "metadata": {},
   "outputs": [],
   "source": [
    "## Dropping in_reply rows\n",
    "\n",
    "dogs_clean.drop(temp.index, inplace = True)"
   ]
  },
  {
   "cell_type": "code",
   "execution_count": 3510,
   "metadata": {},
   "outputs": [
    {
     "name": "stdout",
     "output_type": "stream",
     "text": [
      "<class 'pandas.core.frame.DataFrame'>\n",
      "Int64Index: 2153 entries, 0 to 2355\n",
      "Data columns (total 17 columns):\n",
      "tweet_id                      2153 non-null object\n",
      "timestamp                     2153 non-null datetime64[ns]\n",
      "text                          2153 non-null object\n",
      "retweeted_status_id           60 non-null object\n",
      "retweeted_status_user_id      60 non-null object\n",
      "retweeted_status_timestamp    60 non-null datetime64[ns]\n",
      "expanded_urls                 2149 non-null object\n",
      "rating_numerator              2153 non-null int64\n",
      "rating_denominator            2153 non-null int64\n",
      "name                          1453 non-null object\n",
      "doggo                         2153 non-null object\n",
      "floofer                       2153 non-null object\n",
      "pupper                        2153 non-null object\n",
      "puppo                         2153 non-null object\n",
      "source_app                    2153 non-null object\n",
      "source_url                    2153 non-null object\n",
      "shortened_urls                2123 non-null object\n",
      "dtypes: datetime64[ns](2), int64(2), object(13)\n",
      "memory usage: 302.8+ KB\n"
     ]
    }
   ],
   "source": [
    "## Dropping in_reply columns\n",
    "\n",
    "dogs_clean.drop(['in_reply_to_status_id', 'in_reply_to_user_id'], axis = 1, inplace=True)\n",
    "dogs_clean.info()"
   ]
  },
  {
   "cell_type": "markdown",
   "metadata": {},
   "source": [
    "<hr>"
   ]
  },
  {
   "cell_type": "markdown",
   "metadata": {},
   "source": [
    "### Fixing scores"
   ]
  },
  {
   "cell_type": "markdown",
   "metadata": {},
   "source": [
    "#### Numerators"
   ]
  },
  {
   "cell_type": "code",
   "execution_count": 3511,
   "metadata": {},
   "outputs": [],
   "source": [
    "pd.set_option('display.max_rows', 50)"
   ]
  },
  {
   "cell_type": "code",
   "execution_count": 3512,
   "metadata": {},
   "outputs": [
    {
     "data": {
      "text/plain": [
       "5    35\n",
       "3    19\n",
       "4    16\n",
       "2    9 \n",
       "1    5 \n",
       "0    1 \n",
       "Name: rating_numerator, dtype: int64"
      ]
     },
     "execution_count": 3512,
     "metadata": {},
     "output_type": "execute_result"
    }
   ],
   "source": [
    "dogs_clean[dogs_clean.rating_numerator <= 5].rating_numerator.value_counts()"
   ]
  },
  {
   "cell_type": "code",
   "execution_count": 3513,
   "metadata": {},
   "outputs": [
    {
     "data": {
      "image/png": "[encoded data removed]",
      "text/plain": [
       "<Figure size 432x288 with 1 Axes>"
      ]
     },
     "metadata": {},
     "output_type": "display_data"
    }
   ],
   "source": [
    "plt.hist(dogs_clean.rating_numerator);"
   ]
  },
  {
   "cell_type": "code",
   "execution_count": 3514,
   "metadata": {},
   "outputs": [
    {
     "data": {
      "text/plain": [
       "<matplotlib.lines.Line2D at 0x93b2a9ef28>"
      ]
     },
     "execution_count": 3514,
     "metadata": {},
     "output_type": "execute_result"
    },
    {
     "data": {
      "image/png": "[encoded data removed]",
      "text/plain": [
       "<Figure size 432x288 with 1 Axes>"
      ]
     },
     "metadata": {},
     "output_type": "display_data"
    }
   ],
   "source": [
    "plt.subplot(111)\n",
    "plt.hist(dogs_clean.rating_numerator, bins=range(0, 30, 1));\n",
    "plt.xlim(0, 20)\n",
    "plt.xticks(range(0, 30, 1))\n",
    "plt.axvline(x= np.percentile(dogs_clean.rating_numerator, 5))\n",
    "plt.axvline(x= 16)"
   ]
  },
  {
   "cell_type": "code",
   "execution_count": 3515,
   "metadata": {},
   "outputs": [
    {
     "data": {
      "text/html": [
       "<div>\n",
       "<style scoped>\n",
       "    .dataframe tbody tr th:only-of-type {\n",
       "        vertical-align: middle;\n",
       "    }\n",
       "\n",
       "    .dataframe tbody tr th {\n",
       "        vertical-align: top;\n",
       "    }\n",
       "\n",
       "    .dataframe thead th {\n",
       "        text-align: right;\n",
       "    }\n",
       "</style>\n",
       "<table border=\"1\" class=\"dataframe\">\n",
       "  <thead>\n",
       "    <tr style=\"text-align: right;\">\n",
       "      <th></th>\n",
       "      <th>tweet_id</th>\n",
       "      <th>timestamp</th>\n",
       "      <th>text</th>\n",
       "      <th>retweeted_status_id</th>\n",
       "      <th>retweeted_status_user_id</th>\n",
       "      <th>retweeted_status_timestamp</th>\n",
       "      <th>expanded_urls</th>\n",
       "      <th>rating_numerator</th>\n",
       "      <th>rating_denominator</th>\n",
       "      <th>name</th>\n",
       "      <th>doggo</th>\n",
       "      <th>floofer</th>\n",
       "      <th>pupper</th>\n",
       "      <th>puppo</th>\n",
       "      <th>source_app</th>\n",
       "      <th>source_url</th>\n",
       "      <th>shortened_urls</th>\n",
       "    </tr>\n",
       "  </thead>\n",
       "  <tbody>\n",
       "    <tr>\n",
       "      <th>2033</th>\n",
       "      <td>671744970634719232</td>\n",
       "      <td>2015-12-01 17:37:36</td>\n",
       "      <td>Very fit horned dog here. Looks powerful. Not phased by wind. Great beard. Big enough to ride? 6/10 would cuddle</td>\n",
       "      <td>None</td>\n",
       "      <td>None</td>\n",
       "      <td>NaT</td>\n",
       "      <td>https://twitter.com/dog_rates/status/671744970634719232/photo/1</td>\n",
       "      <td>6</td>\n",
       "      <td>10</td>\n",
       "      <td>None</td>\n",
       "      <td>None</td>\n",
       "      <td>None</td>\n",
       "      <td>None</td>\n",
       "      <td>None</td>\n",
       "      <td>Twitter for iPhone</td>\n",
       "      <td>http://twitter.com/download/iphone</td>\n",
       "      <td>https://t.co/wwwYO9C9kl</td>\n",
       "    </tr>\n",
       "  </tbody>\n",
       "</table>\n",
       "</div>"
      ],
      "text/plain": [
       "                tweet_id           timestamp  \\\n",
       "2033  671744970634719232 2015-12-01 17:37:36   \n",
       "\n",
       "                                                                                                                   text  \\\n",
       "2033  Very fit horned dog here. Looks powerful. Not phased by wind. Great beard. Big enough to ride? 6/10 would cuddle    \n",
       "\n",
       "     retweeted_status_id retweeted_status_user_id retweeted_status_timestamp  \\\n",
       "2033  None                None                    NaT                          \n",
       "\n",
       "                                                        expanded_urls  \\\n",
       "2033  https://twitter.com/dog_rates/status/671744970634719232/photo/1   \n",
       "\n",
       "      rating_numerator  rating_denominator  name doggo floofer pupper puppo  \\\n",
       "2033  6                 10                  None  None  None    None   None   \n",
       "\n",
       "              source_app                          source_url  \\\n",
       "2033  Twitter for iPhone  http://twitter.com/download/iphone   \n",
       "\n",
       "               shortened_urls  \n",
       "2033  https://t.co/wwwYO9C9kl  "
      ]
     },
     "execution_count": 3515,
     "metadata": {},
     "output_type": "execute_result"
    }
   ],
   "source": [
    "dogs_clean.query('rating_numerator < 7').sample(1)"
   ]
  },
  {
   "cell_type": "markdown",
   "metadata": {},
   "source": [
    "Many of the ratings below 7 ratings aren't for dogs, some are extracted wrong because the user uses floats like 13.5/10, so it is extracted as 5/10 because an integer pattern is used in extraction, so I will first try to extract those because they're floats and then drop those below 7 ratings because most of them aren't for dogs and I will round the float ratings to integers since actually they're all good dogs and ratings system here isn't ordinal<br>\n",
    "I found also a wrong numerator because the existence of two fractions in the text, but one of them is actually a rating, so I will try to extract those ratings again to account for wrong captured ratings, then I will drop ratings below 5 to account for minimum possible errors, hoping other non-dog ratings be captured by the machine learning algorithm"
   ]
  },
  {
   "cell_type": "markdown",
   "metadata": {},
   "source": [
    "Since there are few ratings with very low rating like 0,1,2,3,4. I will assess the tweets by myself and drop them if needed"
   ]
  },
  {
   "cell_type": "markdown",
   "metadata": {},
   "source": [
    "<center>** Zero Rating tweets **</center>"
   ]
  },
  {
   "cell_type": "code",
   "execution_count": 3516,
   "metadata": {},
   "outputs": [
    {
     "data": {
      "text/html": [
       "<div>\n",
       "<style scoped>\n",
       "    .dataframe tbody tr th:only-of-type {\n",
       "        vertical-align: middle;\n",
       "    }\n",
       "\n",
       "    .dataframe tbody tr th {\n",
       "        vertical-align: top;\n",
       "    }\n",
       "\n",
       "    .dataframe thead th {\n",
       "        text-align: right;\n",
       "    }\n",
       "</style>\n",
       "<table border=\"1\" class=\"dataframe\">\n",
       "  <thead>\n",
       "    <tr style=\"text-align: right;\">\n",
       "      <th></th>\n",
       "      <th>tweet_id</th>\n",
       "      <th>expanded_urls</th>\n",
       "      <th>shortened_urls</th>\n",
       "    </tr>\n",
       "  </thead>\n",
       "  <tbody>\n",
       "    <tr>\n",
       "      <th>315</th>\n",
       "      <td>835152434251116546</td>\n",
       "      <td>https://twitter.com/dog_rates/status/835152434251116546/photo/1,https://twitter.com/dog_rates/status/835152434251116546/photo/1,https://twitter.com/dog_rates/status/835152434251116546/photo/1</td>\n",
       "      <td>https://t.co/YbEJPkg4Ag</td>\n",
       "    </tr>\n",
       "  </tbody>\n",
       "</table>\n",
       "</div>"
      ],
      "text/plain": [
       "               tweet_id  \\\n",
       "315  835152434251116546   \n",
       "\n",
       "                                                                                                                                                                                       expanded_urls  \\\n",
       "315  https://twitter.com/dog_rates/status/835152434251116546/photo/1,https://twitter.com/dog_rates/status/835152434251116546/photo/1,https://twitter.com/dog_rates/status/835152434251116546/photo/1   \n",
       "\n",
       "              shortened_urls  \n",
       "315  https://t.co/YbEJPkg4Ag  "
      ]
     },
     "execution_count": 3516,
     "metadata": {},
     "output_type": "execute_result"
    }
   ],
   "source": [
    "dogs_clean[dogs_clean.rating_numerator == 0][['tweet_id', 'expanded_urls', 'shortened_urls']]"
   ]
  },
  {
   "cell_type": "markdown",
   "metadata": {},
   "source": [
    "The tweet don't represent real ratings, so I will drop them  "
   ]
  },
  {
   "cell_type": "code",
   "execution_count": 3517,
   "metadata": {},
   "outputs": [],
   "source": [
    "dogs_clean.drop(dogs_clean[dogs_clean.rating_numerator == 0].index, inplace=True);"
   ]
  },
  {
   "cell_type": "markdown",
   "metadata": {},
   "source": [
    "<hr>"
   ]
  },
  {
   "cell_type": "markdown",
   "metadata": {},
   "source": [
    "<center>** One Rating tweets **</center>"
   ]
  },
  {
   "cell_type": "code",
   "execution_count": 3518,
   "metadata": {},
   "outputs": [
    {
     "data": {
      "text/html": [
       "<div>\n",
       "<style scoped>\n",
       "    .dataframe tbody tr th:only-of-type {\n",
       "        vertical-align: middle;\n",
       "    }\n",
       "\n",
       "    .dataframe tbody tr th {\n",
       "        vertical-align: top;\n",
       "    }\n",
       "\n",
       "    .dataframe thead th {\n",
       "        text-align: right;\n",
       "    }\n",
       "</style>\n",
       "<table border=\"1\" class=\"dataframe\">\n",
       "  <thead>\n",
       "    <tr style=\"text-align: right;\">\n",
       "      <th></th>\n",
       "      <th>tweet_id</th>\n",
       "      <th>expanded_urls</th>\n",
       "      <th>shortened_urls</th>\n",
       "    </tr>\n",
       "  </thead>\n",
       "  <tbody>\n",
       "    <tr>\n",
       "      <th>1869</th>\n",
       "      <td>675153376133427200</td>\n",
       "      <td>https://twitter.com/dog_rates/status/675153376133427200/photo/1</td>\n",
       "      <td>https://t.co/RDXCfk8hK0</td>\n",
       "    </tr>\n",
       "    <tr>\n",
       "      <th>2091</th>\n",
       "      <td>670783437142401025</td>\n",
       "      <td>https://twitter.com/dog_rates/status/670783437142401025/photo/1</td>\n",
       "      <td>https://t.co/jxukeh2BeO</td>\n",
       "    </tr>\n",
       "    <tr>\n",
       "      <th>2261</th>\n",
       "      <td>667549055577362432</td>\n",
       "      <td>https://twitter.com/dog_rates/status/667549055577362432/photo/1</td>\n",
       "      <td>https://t.co/i9iSGNn3fx</td>\n",
       "    </tr>\n",
       "    <tr>\n",
       "      <th>2335</th>\n",
       "      <td>666287406224695296</td>\n",
       "      <td>https://twitter.com/dog_rates/status/666287406224695296/photo/1</td>\n",
       "      <td>https://t.co/d9NcXFKwLv</td>\n",
       "    </tr>\n",
       "    <tr>\n",
       "      <th>2338</th>\n",
       "      <td>666104133288665088</td>\n",
       "      <td>https://twitter.com/dog_rates/status/666104133288665088/photo/1</td>\n",
       "      <td>https://t.co/Asgdc6kuLX</td>\n",
       "    </tr>\n",
       "  </tbody>\n",
       "</table>\n",
       "</div>"
      ],
      "text/plain": [
       "                tweet_id  \\\n",
       "1869  675153376133427200   \n",
       "2091  670783437142401025   \n",
       "2261  667549055577362432   \n",
       "2335  666287406224695296   \n",
       "2338  666104133288665088   \n",
       "\n",
       "                                                        expanded_urls  \\\n",
       "1869  https://twitter.com/dog_rates/status/675153376133427200/photo/1   \n",
       "2091  https://twitter.com/dog_rates/status/670783437142401025/photo/1   \n",
       "2261  https://twitter.com/dog_rates/status/667549055577362432/photo/1   \n",
       "2335  https://twitter.com/dog_rates/status/666287406224695296/photo/1   \n",
       "2338  https://twitter.com/dog_rates/status/666104133288665088/photo/1   \n",
       "\n",
       "               shortened_urls  \n",
       "1869  https://t.co/RDXCfk8hK0  \n",
       "2091  https://t.co/jxukeh2BeO  \n",
       "2261  https://t.co/i9iSGNn3fx  \n",
       "2335  https://t.co/d9NcXFKwLv  \n",
       "2338  https://t.co/Asgdc6kuLX  "
      ]
     },
     "execution_count": 3518,
     "metadata": {},
     "output_type": "execute_result"
    }
   ],
   "source": [
    "dogs_clean[dogs_clean.rating_numerator == 1][['tweet_id', 'expanded_urls', 'shortened_urls']]"
   ]
  },
  {
   "cell_type": "code",
   "execution_count": 3519,
   "metadata": {},
   "outputs": [],
   "source": [
    "dogs_clean.loc[dogs_clean.tweet_id == '666287406224695296', 'rating_numerator'] = 9\n",
    "dogs_clean.loc[dogs_clean.tweet_id == '666287406224695296', 'rating_numerator'] = 10"
   ]
  },
  {
   "cell_type": "code",
   "execution_count": 3520,
   "metadata": {},
   "outputs": [],
   "source": [
    "dogs_clean.drop(dogs_clean[dogs_clean.rating_numerator == 1].index, inplace=True)"
   ]
  },
  {
   "cell_type": "markdown",
   "metadata": {},
   "source": [
    "<hr>"
   ]
  },
  {
   "cell_type": "markdown",
   "metadata": {},
   "source": [
    "<center>** Two Rating tweets **</center>"
   ]
  },
  {
   "cell_type": "code",
   "execution_count": 3521,
   "metadata": {},
   "outputs": [
    {
     "data": {
      "text/html": [
       "<div>\n",
       "<style scoped>\n",
       "    .dataframe tbody tr th:only-of-type {\n",
       "        vertical-align: middle;\n",
       "    }\n",
       "\n",
       "    .dataframe tbody tr th {\n",
       "        vertical-align: top;\n",
       "    }\n",
       "\n",
       "    .dataframe thead th {\n",
       "        text-align: right;\n",
       "    }\n",
       "</style>\n",
       "<table border=\"1\" class=\"dataframe\">\n",
       "  <thead>\n",
       "    <tr style=\"text-align: right;\">\n",
       "      <th></th>\n",
       "      <th>tweet_id</th>\n",
       "      <th>expanded_urls</th>\n",
       "      <th>shortened_urls</th>\n",
       "    </tr>\n",
       "  </thead>\n",
       "  <tbody>\n",
       "    <tr>\n",
       "      <th>1761</th>\n",
       "      <td>678675843183484930</td>\n",
       "      <td>https://twitter.com/dog_rates/status/678675843183484930/photo/1</td>\n",
       "      <td>https://t.co/a8SqCaSo2r</td>\n",
       "    </tr>\n",
       "    <tr>\n",
       "      <th>1764</th>\n",
       "      <td>678424312106393600</td>\n",
       "      <td>https://twitter.com/dog_rates/status/678424312106393600/photo/1</td>\n",
       "      <td>https://t.co/rtMtjSl9pz</td>\n",
       "    </tr>\n",
       "    <tr>\n",
       "      <th>1920</th>\n",
       "      <td>674265582246694913</td>\n",
       "      <td>https://twitter.com/dog_rates/status/674265582246694913/photo/1</td>\n",
       "      <td>https://t.co/Pu9RhfHDEQ</td>\n",
       "    </tr>\n",
       "    <tr>\n",
       "      <th>2079</th>\n",
       "      <td>670826280409919488</td>\n",
       "      <td>https://twitter.com/dog_rates/status/670826280409919488/photo/1</td>\n",
       "      <td>https://t.co/XOPXCSXiUT</td>\n",
       "    </tr>\n",
       "    <tr>\n",
       "      <th>2237</th>\n",
       "      <td>668142349051129856</td>\n",
       "      <td>https://twitter.com/dog_rates/status/668142349051129856/photo/1</td>\n",
       "      <td>https://t.co/DnhUw0aBM2</td>\n",
       "    </tr>\n",
       "    <tr>\n",
       "      <th>2246</th>\n",
       "      <td>667878741721415682</td>\n",
       "      <td>https://twitter.com/dog_rates/status/667878741721415682/photo/1</td>\n",
       "      <td>https://t.co/LvP1TTYSCN</td>\n",
       "    </tr>\n",
       "    <tr>\n",
       "      <th>2310</th>\n",
       "      <td>666786068205871104</td>\n",
       "      <td>https://twitter.com/dog_rates/status/666786068205871104/photo/1</td>\n",
       "      <td>https://t.co/EIn5kElY1S</td>\n",
       "    </tr>\n",
       "    <tr>\n",
       "      <th>2326</th>\n",
       "      <td>666411507551481857</td>\n",
       "      <td>https://twitter.com/dog_rates/status/666411507551481857/photo/1</td>\n",
       "      <td>https://t.co/aMCTNWO94t</td>\n",
       "    </tr>\n",
       "    <tr>\n",
       "      <th>2349</th>\n",
       "      <td>666051853826850816</td>\n",
       "      <td>https://twitter.com/dog_rates/status/666051853826850816/photo/1</td>\n",
       "      <td>https://t.co/v5A4vzSDdc</td>\n",
       "    </tr>\n",
       "  </tbody>\n",
       "</table>\n",
       "</div>"
      ],
      "text/plain": [
       "                tweet_id  \\\n",
       "1761  678675843183484930   \n",
       "1764  678424312106393600   \n",
       "1920  674265582246694913   \n",
       "2079  670826280409919488   \n",
       "2237  668142349051129856   \n",
       "2246  667878741721415682   \n",
       "2310  666786068205871104   \n",
       "2326  666411507551481857   \n",
       "2349  666051853826850816   \n",
       "\n",
       "                                                        expanded_urls  \\\n",
       "1761  https://twitter.com/dog_rates/status/678675843183484930/photo/1   \n",
       "1764  https://twitter.com/dog_rates/status/678424312106393600/photo/1   \n",
       "1920  https://twitter.com/dog_rates/status/674265582246694913/photo/1   \n",
       "2079  https://twitter.com/dog_rates/status/670826280409919488/photo/1   \n",
       "2237  https://twitter.com/dog_rates/status/668142349051129856/photo/1   \n",
       "2246  https://twitter.com/dog_rates/status/667878741721415682/photo/1   \n",
       "2310  https://twitter.com/dog_rates/status/666786068205871104/photo/1   \n",
       "2326  https://twitter.com/dog_rates/status/666411507551481857/photo/1   \n",
       "2349  https://twitter.com/dog_rates/status/666051853826850816/photo/1   \n",
       "\n",
       "               shortened_urls  \n",
       "1761  https://t.co/a8SqCaSo2r  \n",
       "1764  https://t.co/rtMtjSl9pz  \n",
       "1920  https://t.co/Pu9RhfHDEQ  \n",
       "2079  https://t.co/XOPXCSXiUT  \n",
       "2237  https://t.co/DnhUw0aBM2  \n",
       "2246  https://t.co/LvP1TTYSCN  \n",
       "2310  https://t.co/EIn5kElY1S  \n",
       "2326  https://t.co/aMCTNWO94t  \n",
       "2349  https://t.co/v5A4vzSDdc  "
      ]
     },
     "execution_count": 3521,
     "metadata": {},
     "output_type": "execute_result"
    }
   ],
   "source": [
    "dogs_clean[dogs_clean.rating_numerator == 2][['tweet_id', 'expanded_urls', 'shortened_urls']]"
   ]
  },
  {
   "cell_type": "code",
   "execution_count": 3522,
   "metadata": {},
   "outputs": [],
   "source": [
    "dogs_clean.drop([1761, 1920,2079, 2237, 2310, 2326, 2349], inplace = True)"
   ]
  },
  {
   "cell_type": "code",
   "execution_count": 3523,
   "metadata": {},
   "outputs": [
    {
     "data": {
      "text/html": [
       "<div>\n",
       "<style scoped>\n",
       "    .dataframe tbody tr th:only-of-type {\n",
       "        vertical-align: middle;\n",
       "    }\n",
       "\n",
       "    .dataframe tbody tr th {\n",
       "        vertical-align: top;\n",
       "    }\n",
       "\n",
       "    .dataframe thead th {\n",
       "        text-align: right;\n",
       "    }\n",
       "</style>\n",
       "<table border=\"1\" class=\"dataframe\">\n",
       "  <thead>\n",
       "    <tr style=\"text-align: right;\">\n",
       "      <th></th>\n",
       "      <th>tweet_id</th>\n",
       "      <th>expanded_urls</th>\n",
       "      <th>shortened_urls</th>\n",
       "    </tr>\n",
       "  </thead>\n",
       "  <tbody>\n",
       "    <tr>\n",
       "      <th>1764</th>\n",
       "      <td>678424312106393600</td>\n",
       "      <td>https://twitter.com/dog_rates/status/678424312106393600/photo/1</td>\n",
       "      <td>https://t.co/rtMtjSl9pz</td>\n",
       "    </tr>\n",
       "    <tr>\n",
       "      <th>2246</th>\n",
       "      <td>667878741721415682</td>\n",
       "      <td>https://twitter.com/dog_rates/status/667878741721415682/photo/1</td>\n",
       "      <td>https://t.co/LvP1TTYSCN</td>\n",
       "    </tr>\n",
       "  </tbody>\n",
       "</table>\n",
       "</div>"
      ],
      "text/plain": [
       "                tweet_id  \\\n",
       "1764  678424312106393600   \n",
       "2246  667878741721415682   \n",
       "\n",
       "                                                        expanded_urls  \\\n",
       "1764  https://twitter.com/dog_rates/status/678424312106393600/photo/1   \n",
       "2246  https://twitter.com/dog_rates/status/667878741721415682/photo/1   \n",
       "\n",
       "               shortened_urls  \n",
       "1764  https://t.co/rtMtjSl9pz  \n",
       "2246  https://t.co/LvP1TTYSCN  "
      ]
     },
     "execution_count": 3523,
     "metadata": {},
     "output_type": "execute_result"
    }
   ],
   "source": [
    "dogs_clean[dogs_clean.rating_numerator == 2][['tweet_id', 'expanded_urls', 'shortened_urls']]"
   ]
  },
  {
   "cell_type": "markdown",
   "metadata": {},
   "source": [
    "the 1764 is real low ratings, don't know why, but I shouldn't ask with this crazy ratings system, the 2246 is incorrect, so I'll fix it"
   ]
  },
  {
   "cell_type": "code",
   "execution_count": 3524,
   "metadata": {},
   "outputs": [],
   "source": [
    "## he used 10&2 as a way of exaggeration\n",
    "dogs_clean.loc[2246, 'rating_numerator'] = 10"
   ]
  },
  {
   "cell_type": "markdown",
   "metadata": {},
   "source": [
    "<hr>"
   ]
  },
  {
   "cell_type": "markdown",
   "metadata": {},
   "source": [
    "<center>** Three Rating tweets **</center>"
   ]
  },
  {
   "cell_type": "code",
   "execution_count": 3525,
   "metadata": {},
   "outputs": [
    {
     "data": {
      "text/html": [
       "<div>\n",
       "<style scoped>\n",
       "    .dataframe tbody tr th:only-of-type {\n",
       "        vertical-align: middle;\n",
       "    }\n",
       "\n",
       "    .dataframe tbody tr th {\n",
       "        vertical-align: top;\n",
       "    }\n",
       "\n",
       "    .dataframe thead th {\n",
       "        text-align: right;\n",
       "    }\n",
       "</style>\n",
       "<table border=\"1\" class=\"dataframe\">\n",
       "  <thead>\n",
       "    <tr style=\"text-align: right;\">\n",
       "      <th></th>\n",
       "      <th>tweet_id</th>\n",
       "      <th>expanded_urls</th>\n",
       "      <th>shortened_urls</th>\n",
       "    </tr>\n",
       "  </thead>\n",
       "  <tbody>\n",
       "    <tr>\n",
       "      <th>765</th>\n",
       "      <td>777885040357281792</td>\n",
       "      <td>https://twitter.com/dog_rates/status/777885040357281792/photo/1,https://twitter.com/dog_rates/status/777885040357281792/photo/1</td>\n",
       "      <td>https://t.co/pL7wbMRW7M</td>\n",
       "    </tr>\n",
       "    <tr>\n",
       "      <th>1189</th>\n",
       "      <td>718246886998687744</td>\n",
       "      <td>https://twitter.com/dog_rates/status/718246886998687744/photo/1</td>\n",
       "      <td>https://t.co/FmxOpf2Sgl</td>\n",
       "    </tr>\n",
       "    <tr>\n",
       "      <th>1249</th>\n",
       "      <td>711306686208872448</td>\n",
       "      <td>https://twitter.com/dog_rates/status/711306686208872448/photo/1,https://twitter.com/dog_rates/status/711306686208872448/photo/1</td>\n",
       "      <td>https://t.co/wcwoGOkZvz</td>\n",
       "    </tr>\n",
       "    <tr>\n",
       "      <th>1314</th>\n",
       "      <td>706901761596989440</td>\n",
       "      <td>https://twitter.com/dog_rates/status/706901761596989440/photo/1</td>\n",
       "      <td>https://t.co/FMUxir5pYu</td>\n",
       "    </tr>\n",
       "    <tr>\n",
       "      <th>1406</th>\n",
       "      <td>699088579889332224</td>\n",
       "      <td>https://twitter.com/dog_rates/status/699088579889332224/photo/1</td>\n",
       "      <td>https://t.co/VfLoDZecJ7</td>\n",
       "    </tr>\n",
       "    <tr>\n",
       "      <th>1478</th>\n",
       "      <td>693590843962331137</td>\n",
       "      <td>https://twitter.com/dog_rates/status/693590843962331137/photo/1</td>\n",
       "      <td>https://t.co/fShNNhBWYx</td>\n",
       "    </tr>\n",
       "    <tr>\n",
       "      <th>1601</th>\n",
       "      <td>686003207160610816</td>\n",
       "      <td>https://twitter.com/dog_rates/status/686003207160610816/photo/1</td>\n",
       "      <td>https://t.co/NOIiRWr5Jf</td>\n",
       "    </tr>\n",
       "    <tr>\n",
       "      <th>1692</th>\n",
       "      <td>681302363064414209</td>\n",
       "      <td>https://twitter.com/dog_rates/status/681302363064414209/photo/1</td>\n",
       "      <td>https://t.co/YqbU9xHV3p</td>\n",
       "    </tr>\n",
       "    <tr>\n",
       "      <th>1836</th>\n",
       "      <td>676098748976615425</td>\n",
       "      <td>https://twitter.com/dog_rates/status/676098748976615425/photo/1</td>\n",
       "      <td>https://t.co/REyE5YKVBb</td>\n",
       "    </tr>\n",
       "    <tr>\n",
       "      <th>1898</th>\n",
       "      <td>674690135443775488</td>\n",
       "      <td>https://twitter.com/dog_rates/status/674690135443775488/photo/1</td>\n",
       "      <td>https://t.co/Unz1uNrOzo</td>\n",
       "    </tr>\n",
       "    <tr>\n",
       "      <th>1928</th>\n",
       "      <td>674045139690631169</td>\n",
       "      <td>https://twitter.com/dog_rates/status/674045139690631169/photo/1</td>\n",
       "      <td>https://t.co/t5ih0VrK02</td>\n",
       "    </tr>\n",
       "    <tr>\n",
       "      <th>1938</th>\n",
       "      <td>673906403526995968</td>\n",
       "      <td>https://twitter.com/dog_rates/status/673906403526995968/photo/1</td>\n",
       "      <td>https://t.co/t5rQHl6W8M</td>\n",
       "    </tr>\n",
       "    <tr>\n",
       "      <th>1947</th>\n",
       "      <td>673700254269775872</td>\n",
       "      <td>https://twitter.com/dog_rates/status/673700254269775872/photo/1</td>\n",
       "      <td>https://t.co/mcPd5AFfhA</td>\n",
       "    </tr>\n",
       "    <tr>\n",
       "      <th>2136</th>\n",
       "      <td>670055038660800512</td>\n",
       "      <td>https://twitter.com/dog_rates/status/670055038660800512/photo/1</td>\n",
       "      <td>https://t.co/0gY6XTOpn3</td>\n",
       "    </tr>\n",
       "    <tr>\n",
       "      <th>2183</th>\n",
       "      <td>668989615043424256</td>\n",
       "      <td>https://twitter.com/dog_rates/status/668989615043424256/photo/1</td>\n",
       "      <td>https://t.co/1zBp1moFlX</td>\n",
       "    </tr>\n",
       "    <tr>\n",
       "      <th>2202</th>\n",
       "      <td>668643542311546881</td>\n",
       "      <td>https://twitter.com/dog_rates/status/668643542311546881/photo/1</td>\n",
       "      <td>https://t.co/IiSdmhkC5N</td>\n",
       "    </tr>\n",
       "    <tr>\n",
       "      <th>2239</th>\n",
       "      <td>667937095915278337</td>\n",
       "      <td>https://twitter.com/dog_rates/status/667937095915278337/photo/1</td>\n",
       "      <td>https://t.co/x89NSCEZCq</td>\n",
       "    </tr>\n",
       "    <tr>\n",
       "      <th>2305</th>\n",
       "      <td>666837028449972224</td>\n",
       "      <td>https://twitter.com/dog_rates/status/666837028449972224/photo/1</td>\n",
       "      <td>https://t.co/xYGdBrMS9h</td>\n",
       "    </tr>\n",
       "    <tr>\n",
       "      <th>2334</th>\n",
       "      <td>666293911632134144</td>\n",
       "      <td>https://twitter.com/dog_rates/status/666293911632134144/photo/1</td>\n",
       "      <td>https://t.co/IIXis0zta0</td>\n",
       "    </tr>\n",
       "  </tbody>\n",
       "</table>\n",
       "</div>"
      ],
      "text/plain": [
       "                tweet_id  \\\n",
       "765   777885040357281792   \n",
       "1189  718246886998687744   \n",
       "1249  711306686208872448   \n",
       "1314  706901761596989440   \n",
       "1406  699088579889332224   \n",
       "1478  693590843962331137   \n",
       "1601  686003207160610816   \n",
       "1692  681302363064414209   \n",
       "1836  676098748976615425   \n",
       "1898  674690135443775488   \n",
       "1928  674045139690631169   \n",
       "1938  673906403526995968   \n",
       "1947  673700254269775872   \n",
       "2136  670055038660800512   \n",
       "2183  668989615043424256   \n",
       "2202  668643542311546881   \n",
       "2239  667937095915278337   \n",
       "2305  666837028449972224   \n",
       "2334  666293911632134144   \n",
       "\n",
       "                                                                                                                        expanded_urls  \\\n",
       "765   https://twitter.com/dog_rates/status/777885040357281792/photo/1,https://twitter.com/dog_rates/status/777885040357281792/photo/1   \n",
       "1189  https://twitter.com/dog_rates/status/718246886998687744/photo/1                                                                   \n",
       "1249  https://twitter.com/dog_rates/status/711306686208872448/photo/1,https://twitter.com/dog_rates/status/711306686208872448/photo/1   \n",
       "1314  https://twitter.com/dog_rates/status/706901761596989440/photo/1                                                                   \n",
       "1406  https://twitter.com/dog_rates/status/699088579889332224/photo/1                                                                   \n",
       "1478  https://twitter.com/dog_rates/status/693590843962331137/photo/1                                                                   \n",
       "1601  https://twitter.com/dog_rates/status/686003207160610816/photo/1                                                                   \n",
       "1692  https://twitter.com/dog_rates/status/681302363064414209/photo/1                                                                   \n",
       "1836  https://twitter.com/dog_rates/status/676098748976615425/photo/1                                                                   \n",
       "1898  https://twitter.com/dog_rates/status/674690135443775488/photo/1                                                                   \n",
       "1928  https://twitter.com/dog_rates/status/674045139690631169/photo/1                                                                   \n",
       "1938  https://twitter.com/dog_rates/status/673906403526995968/photo/1                                                                   \n",
       "1947  https://twitter.com/dog_rates/status/673700254269775872/photo/1                                                                   \n",
       "2136  https://twitter.com/dog_rates/status/670055038660800512/photo/1                                                                   \n",
       "2183  https://twitter.com/dog_rates/status/668989615043424256/photo/1                                                                   \n",
       "2202  https://twitter.com/dog_rates/status/668643542311546881/photo/1                                                                   \n",
       "2239  https://twitter.com/dog_rates/status/667937095915278337/photo/1                                                                   \n",
       "2305  https://twitter.com/dog_rates/status/666837028449972224/photo/1                                                                   \n",
       "2334  https://twitter.com/dog_rates/status/666293911632134144/photo/1                                                                   \n",
       "\n",
       "               shortened_urls  \n",
       "765   https://t.co/pL7wbMRW7M  \n",
       "1189  https://t.co/FmxOpf2Sgl  \n",
       "1249  https://t.co/wcwoGOkZvz  \n",
       "1314  https://t.co/FMUxir5pYu  \n",
       "1406  https://t.co/VfLoDZecJ7  \n",
       "1478  https://t.co/fShNNhBWYx  \n",
       "1601  https://t.co/NOIiRWr5Jf  \n",
       "1692  https://t.co/YqbU9xHV3p  \n",
       "1836  https://t.co/REyE5YKVBb  \n",
       "1898  https://t.co/Unz1uNrOzo  \n",
       "1928  https://t.co/t5ih0VrK02  \n",
       "1938  https://t.co/t5rQHl6W8M  \n",
       "1947  https://t.co/mcPd5AFfhA  \n",
       "2136  https://t.co/0gY6XTOpn3  \n",
       "2183  https://t.co/1zBp1moFlX  \n",
       "2202  https://t.co/IiSdmhkC5N  \n",
       "2239  https://t.co/x89NSCEZCq  \n",
       "2305  https://t.co/xYGdBrMS9h  \n",
       "2334  https://t.co/IIXis0zta0  "
      ]
     },
     "execution_count": 3525,
     "metadata": {},
     "output_type": "execute_result"
    }
   ],
   "source": [
    "dogs_clean[dogs_clean.rating_numerator == 3][['tweet_id', 'expanded_urls', 'shortened_urls']]"
   ]
  },
  {
   "cell_type": "code",
   "execution_count": 3526,
   "metadata": {},
   "outputs": [
    {
     "data": {
      "text/plain": [
       "[1314,\n",
       " 1601,\n",
       " 2305,\n",
       " 1189,\n",
       " 1478,\n",
       " 1928,\n",
       " 1898,\n",
       " 1836,\n",
       " 1938,\n",
       " 2334,\n",
       " 2136,\n",
       " 2202,\n",
       " 1947,\n",
       " 1692,\n",
       " 765,\n",
       " 1406,\n",
       " 2239]"
      ]
     },
     "execution_count": 3526,
     "metadata": {},
     "output_type": "execute_result"
    }
   ],
   "source": [
    "indices = set(dogs_clean[dogs_clean.rating_numerator == 3][['tweet_id', 'expanded_urls', 'shortened_urls']].index)\n",
    "indices -= set([2183, 1249])\n",
    "indices = list(indices)\n",
    "indices"
   ]
  },
  {
   "cell_type": "code",
   "execution_count": 3527,
   "metadata": {},
   "outputs": [],
   "source": [
    "dogs_clean.drop(indices, inplace = True)"
   ]
  },
  {
   "cell_type": "code",
   "execution_count": 3528,
   "metadata": {},
   "outputs": [
    {
     "data": {
      "text/plain": [
       "True"
      ]
     },
     "execution_count": 3528,
     "metadata": {},
     "output_type": "execute_result"
    }
   ],
   "source": [
    "dogs_clean.query('rating_numerator == 3').shape[0] == 2"
   ]
  },
  {
   "cell_type": "markdown",
   "metadata": {},
   "source": [
    "<hr>"
   ]
  },
  {
   "cell_type": "markdown",
   "metadata": {},
   "source": [
    "<center>** Four Rating tweets **</center>"
   ]
  },
  {
   "cell_type": "code",
   "execution_count": 3529,
   "metadata": {},
   "outputs": [
    {
     "data": {
      "text/html": [
       "<div>\n",
       "<style scoped>\n",
       "    .dataframe tbody tr th:only-of-type {\n",
       "        vertical-align: middle;\n",
       "    }\n",
       "\n",
       "    .dataframe tbody tr th {\n",
       "        vertical-align: top;\n",
       "    }\n",
       "\n",
       "    .dataframe thead th {\n",
       "        text-align: right;\n",
       "    }\n",
       "</style>\n",
       "<table border=\"1\" class=\"dataframe\">\n",
       "  <thead>\n",
       "    <tr style=\"text-align: right;\">\n",
       "      <th></th>\n",
       "      <th>tweet_id</th>\n",
       "      <th>expanded_urls</th>\n",
       "      <th>shortened_urls</th>\n",
       "    </tr>\n",
       "  </thead>\n",
       "  <tbody>\n",
       "    <tr>\n",
       "      <th>883</th>\n",
       "      <td>760252756032651264</td>\n",
       "      <td>https://twitter.com/dog_rates/status/760252756032651264/photo/1</td>\n",
       "      <td>https://t.co/4gOv2Q3iKP</td>\n",
       "    </tr>\n",
       "    <tr>\n",
       "      <th>912</th>\n",
       "      <td>757596066325864448</td>\n",
       "      <td>https://twitter.com/dog_rates/status/757596066325864448/photo/1</td>\n",
       "      <td>https://t.co/mOmnL19Wsl</td>\n",
       "    </tr>\n",
       "    <tr>\n",
       "      <th>1004</th>\n",
       "      <td>747816857231626240</td>\n",
       "      <td>https://twitter.com/dog_rates/status/747816857231626240/photo/1</td>\n",
       "      <td>https://t.co/L3U0j14N5R</td>\n",
       "    </tr>\n",
       "    <tr>\n",
       "      <th>1165</th>\n",
       "      <td>722974582966214656</td>\n",
       "      <td>https://twitter.com/dog_rates/status/722974582966214656/photo/1</td>\n",
       "      <td>https://t.co/eV1diwds8a</td>\n",
       "    </tr>\n",
       "    <tr>\n",
       "      <th>1219</th>\n",
       "      <td>714631576617938945</td>\n",
       "      <td>https://twitter.com/dog_rates/status/714631576617938945/photo/1</td>\n",
       "      <td>https://t.co/3oeFfHjv0Z</td>\n",
       "    </tr>\n",
       "    <tr>\n",
       "      <th>1303</th>\n",
       "      <td>707420581654872064</td>\n",
       "      <td>https://twitter.com/dog_rates/status/707420581654872064/photo/1</td>\n",
       "      <td>https://t.co/xOrUyj7K30</td>\n",
       "    </tr>\n",
       "    <tr>\n",
       "      <th>1459</th>\n",
       "      <td>695064344191721472</td>\n",
       "      <td>https://twitter.com/dog_rates/status/695064344191721472/video/1</td>\n",
       "      <td>https://t.co/uaJmNgXR2P</td>\n",
       "    </tr>\n",
       "    <tr>\n",
       "      <th>1629</th>\n",
       "      <td>684567543613382656</td>\n",
       "      <td>https://twitter.com/dog_rates/status/684567543613382656/photo/1</td>\n",
       "      <td>https://t.co/b8XW69gSaU</td>\n",
       "    </tr>\n",
       "    <tr>\n",
       "      <th>1701</th>\n",
       "      <td>680940246314430465</td>\n",
       "      <td>https://twitter.com/dog_rates/status/680940246314430465/photo/1</td>\n",
       "      <td>https://t.co/VQXdwJfkyS</td>\n",
       "    </tr>\n",
       "    <tr>\n",
       "      <th>1941</th>\n",
       "      <td>673715861853720576</td>\n",
       "      <td>https://twitter.com/dog_rates/status/673715861853720576/photo/1</td>\n",
       "      <td>https://t.co/dFiaKZ9cDl</td>\n",
       "    </tr>\n",
       "    <tr>\n",
       "      <th>2070</th>\n",
       "      <td>671122204919246848</td>\n",
       "      <td>https://twitter.com/dog_rates/status/671122204919246848/photo/1</td>\n",
       "      <td>https://t.co/WzVLdSHJU7</td>\n",
       "    </tr>\n",
       "    <tr>\n",
       "      <th>2076</th>\n",
       "      <td>670838202509447168</td>\n",
       "      <td>https://twitter.com/dog_rates/status/670838202509447168/photo/1</td>\n",
       "      <td>https://t.co/QY5uvMmmQk</td>\n",
       "    </tr>\n",
       "    <tr>\n",
       "      <th>2186</th>\n",
       "      <td>668981893510119424</td>\n",
       "      <td>https://twitter.com/dog_rates/status/668981893510119424/photo/1</td>\n",
       "      <td>https://t.co/0EJXxE9UxW</td>\n",
       "    </tr>\n",
       "    <tr>\n",
       "      <th>2222</th>\n",
       "      <td>668466899341221888</td>\n",
       "      <td>https://twitter.com/dog_rates/status/668466899341221888/photo/1</td>\n",
       "      <td>https://t.co/YOHe6lf09m</td>\n",
       "    </tr>\n",
       "    <tr>\n",
       "      <th>2288</th>\n",
       "      <td>667176164155375616</td>\n",
       "      <td>https://twitter.com/dog_rates/status/667176164155375616/photo/1</td>\n",
       "      <td>https://t.co/PZxSarAfSN</td>\n",
       "    </tr>\n",
       "    <tr>\n",
       "      <th>2316</th>\n",
       "      <td>666649482315059201</td>\n",
       "      <td>https://twitter.com/dog_rates/status/666649482315059201/photo/1</td>\n",
       "      <td>https://t.co/vXMKrJC81s</td>\n",
       "    </tr>\n",
       "  </tbody>\n",
       "</table>\n",
       "</div>"
      ],
      "text/plain": [
       "                tweet_id  \\\n",
       "883   760252756032651264   \n",
       "912   757596066325864448   \n",
       "1004  747816857231626240   \n",
       "1165  722974582966214656   \n",
       "1219  714631576617938945   \n",
       "1303  707420581654872064   \n",
       "1459  695064344191721472   \n",
       "1629  684567543613382656   \n",
       "1701  680940246314430465   \n",
       "1941  673715861853720576   \n",
       "2070  671122204919246848   \n",
       "2076  670838202509447168   \n",
       "2186  668981893510119424   \n",
       "2222  668466899341221888   \n",
       "2288  667176164155375616   \n",
       "2316  666649482315059201   \n",
       "\n",
       "                                                        expanded_urls  \\\n",
       "883   https://twitter.com/dog_rates/status/760252756032651264/photo/1   \n",
       "912   https://twitter.com/dog_rates/status/757596066325864448/photo/1   \n",
       "1004  https://twitter.com/dog_rates/status/747816857231626240/photo/1   \n",
       "1165  https://twitter.com/dog_rates/status/722974582966214656/photo/1   \n",
       "1219  https://twitter.com/dog_rates/status/714631576617938945/photo/1   \n",
       "1303  https://twitter.com/dog_rates/status/707420581654872064/photo/1   \n",
       "1459  https://twitter.com/dog_rates/status/695064344191721472/video/1   \n",
       "1629  https://twitter.com/dog_rates/status/684567543613382656/photo/1   \n",
       "1701  https://twitter.com/dog_rates/status/680940246314430465/photo/1   \n",
       "1941  https://twitter.com/dog_rates/status/673715861853720576/photo/1   \n",
       "2070  https://twitter.com/dog_rates/status/671122204919246848/photo/1   \n",
       "2076  https://twitter.com/dog_rates/status/670838202509447168/photo/1   \n",
       "2186  https://twitter.com/dog_rates/status/668981893510119424/photo/1   \n",
       "2222  https://twitter.com/dog_rates/status/668466899341221888/photo/1   \n",
       "2288  https://twitter.com/dog_rates/status/667176164155375616/photo/1   \n",
       "2316  https://twitter.com/dog_rates/status/666649482315059201/photo/1   \n",
       "\n",
       "               shortened_urls  \n",
       "883   https://t.co/4gOv2Q3iKP  \n",
       "912   https://t.co/mOmnL19Wsl  \n",
       "1004  https://t.co/L3U0j14N5R  \n",
       "1165  https://t.co/eV1diwds8a  \n",
       "1219  https://t.co/3oeFfHjv0Z  \n",
       "1303  https://t.co/xOrUyj7K30  \n",
       "1459  https://t.co/uaJmNgXR2P  \n",
       "1629  https://t.co/b8XW69gSaU  \n",
       "1701  https://t.co/VQXdwJfkyS  \n",
       "1941  https://t.co/dFiaKZ9cDl  \n",
       "2070  https://t.co/WzVLdSHJU7  \n",
       "2076  https://t.co/QY5uvMmmQk  \n",
       "2186  https://t.co/0EJXxE9UxW  \n",
       "2222  https://t.co/YOHe6lf09m  \n",
       "2288  https://t.co/PZxSarAfSN  \n",
       "2316  https://t.co/vXMKrJC81s  "
      ]
     },
     "execution_count": 3529,
     "metadata": {},
     "output_type": "execute_result"
    }
   ],
   "source": [
    "dogs_clean.query('rating_numerator == 4')[['tweet_id', 'expanded_urls', 'shortened_urls']]"
   ]
  },
  {
   "cell_type": "code",
   "execution_count": 3530,
   "metadata": {},
   "outputs": [],
   "source": [
    "dogs_clean.loc[1165, 'rating_numerator'] = 13\n",
    "dogs_clean.loc[1165, 'rating_denominator'] = 10"
   ]
  },
  {
   "cell_type": "code",
   "execution_count": 3531,
   "metadata": {},
   "outputs": [],
   "source": [
    "dogs_clean = dogs_clean.query('rating_numerator != 4')"
   ]
  },
  {
   "cell_type": "code",
   "execution_count": 3532,
   "metadata": {},
   "outputs": [
    {
     "data": {
      "text/plain": [
       "True"
      ]
     },
     "execution_count": 3532,
     "metadata": {},
     "output_type": "execute_result"
    }
   ],
   "source": [
    "dogs_clean.query('rating_numerator == 4').shape[0] == 0"
   ]
  },
  {
   "cell_type": "markdown",
   "metadata": {},
   "source": [
    "<hr>"
   ]
  },
  {
   "cell_type": "markdown",
   "metadata": {},
   "source": [
    "For those higher ratings than 4, the process is tedious to clean all the data from animals other than dogs, so I'll merge the data set with the machine learning algorithms in the second cleaning iteration and find those tweets where the algorithm say that the photo doesn't represents dogs and drop them, but I noticed some tweets were captured wrong because of fractions, so I will try to clear those first using regex"
   ]
  },
  {
   "cell_type": "code",
   "execution_count": 3533,
   "metadata": {},
   "outputs": [],
   "source": [
    "b_7_indices = dogs_clean[dogs_clean.rating_numerator < 7].index"
   ]
  },
  {
   "cell_type": "code",
   "execution_count": 3534,
   "metadata": {},
   "outputs": [
    {
     "data": {
      "text/plain": [
       "Int64Index([  45,  229,  730,  956,  993, 1078, 1125, 1241, 1249, 1363, 1388,\n",
       "            1392, 1399, 1460, 1461, 1508, 1583, 1619, 1624, 1636, 1645, 1680,\n",
       "            1708, 1727, 1759, 1764, 1787, 1796, 1803, 1808, 1820, 1839, 1861,\n",
       "            1874, 1901, 1904, 1925, 1972, 1979, 1986, 1992, 2013, 2026, 2033,\n",
       "            2040, 2044, 2063, 2071, 2092, 2100, 2109, 2119, 2134, 2139, 2153,\n",
       "            2157, 2163, 2181, 2183, 2206, 2238, 2242, 2260, 2276, 2312, 2322,\n",
       "            2330, 2342, 2351, 2352],\n",
       "           dtype='int64')"
      ]
     },
     "execution_count": 3534,
     "metadata": {},
     "output_type": "execute_result"
    }
   ],
   "source": [
    "b_7_indices"
   ]
  },
  {
   "cell_type": "code",
   "execution_count": 3535,
   "metadata": {},
   "outputs": [
    {
     "data": {
      "text/html": [
       "<div>\n",
       "<style scoped>\n",
       "    .dataframe tbody tr th:only-of-type {\n",
       "        vertical-align: middle;\n",
       "    }\n",
       "\n",
       "    .dataframe tbody tr th {\n",
       "        vertical-align: top;\n",
       "    }\n",
       "\n",
       "    .dataframe thead th {\n",
       "        text-align: right;\n",
       "    }\n",
       "</style>\n",
       "<table border=\"1\" class=\"dataframe\">\n",
       "  <thead>\n",
       "    <tr style=\"text-align: right;\">\n",
       "      <th></th>\n",
       "      <th>0</th>\n",
       "      <th>1</th>\n",
       "    </tr>\n",
       "  </thead>\n",
       "  <tbody>\n",
       "    <tr>\n",
       "      <th>1508</th>\n",
       "      <td>10</td>\n",
       "      <td>10</td>\n",
       "    </tr>\n",
       "  </tbody>\n",
       "</table>\n",
       "</div>"
      ],
      "text/plain": [
       "       0   1\n",
       "1508  10  10"
      ]
     },
     "execution_count": 3535,
     "metadata": {},
     "output_type": "execute_result"
    }
   ],
   "source": [
    "## Fixing only those that may contain ratings_numerators higher than or equal to 10 in their text\n",
    "dogs_clean.loc[b_7_indices].text.str.extract('(\\d{2})\\s*/\\s*(10)').dropna()"
   ]
  },
  {
   "cell_type": "code",
   "execution_count": 3536,
   "metadata": {},
   "outputs": [
    {
     "data": {
      "text/plain": [
       "tweet_id          691483041324204033     \n",
       "shortened_urls    https://t.co/aenk0KpoWM\n",
       "Name: 1508, dtype: object"
      ]
     },
     "execution_count": 3536,
     "metadata": {},
     "output_type": "execute_result"
    }
   ],
   "source": [
    "dogs_clean.loc[1508][['tweet_id', 'shortened_urls']]"
   ]
  },
  {
   "cell_type": "markdown",
   "metadata": {},
   "source": [
    "In this tweet multiple (two dogs) are rated, I'll keep the higher rating 10, they're good dogs, aren't they?"
   ]
  },
  {
   "cell_type": "code",
   "execution_count": 3537,
   "metadata": {},
   "outputs": [],
   "source": [
    "dogs_clean.loc[1508, 'rating_numerator'] = 10"
   ]
  },
  {
   "cell_type": "markdown",
   "metadata": {},
   "source": [
    "Cleaning fractions"
   ]
  },
  {
   "cell_type": "code",
   "execution_count": 3538,
   "metadata": {},
   "outputs": [
    {
     "data": {
      "text/html": [
       "<div>\n",
       "<style scoped>\n",
       "    .dataframe tbody tr th:only-of-type {\n",
       "        vertical-align: middle;\n",
       "    }\n",
       "\n",
       "    .dataframe tbody tr th {\n",
       "        vertical-align: top;\n",
       "    }\n",
       "\n",
       "    .dataframe thead th {\n",
       "        text-align: right;\n",
       "    }\n",
       "</style>\n",
       "<table border=\"1\" class=\"dataframe\">\n",
       "  <thead>\n",
       "    <tr style=\"text-align: right;\">\n",
       "      <th></th>\n",
       "      <th>0</th>\n",
       "      <th>1</th>\n",
       "    </tr>\n",
       "  </thead>\n",
       "  <tbody>\n",
       "    <tr>\n",
       "      <th>45</th>\n",
       "      <td>13.5</td>\n",
       "      <td>10</td>\n",
       "    </tr>\n",
       "    <tr>\n",
       "      <th>695</th>\n",
       "      <td>9.75</td>\n",
       "      <td>10</td>\n",
       "    </tr>\n",
       "    <tr>\n",
       "      <th>763</th>\n",
       "      <td>11.27</td>\n",
       "      <td>10</td>\n",
       "    </tr>\n",
       "    <tr>\n",
       "      <th>1712</th>\n",
       "      <td>11.26</td>\n",
       "      <td>10</td>\n",
       "    </tr>\n",
       "  </tbody>\n",
       "</table>\n",
       "</div>"
      ],
      "text/plain": [
       "          0   1\n",
       "45    13.5   10\n",
       "695   9.75   10\n",
       "763   11.27  10\n",
       "1712  11.26  10"
      ]
     },
     "execution_count": 3538,
     "metadata": {},
     "output_type": "execute_result"
    }
   ],
   "source": [
    "incorrect_numerators = dogs_clean.text.str.extract('(\\d+\\.\\d+)\\s*/\\s*(10)').dropna()\n",
    "incorrect_numerators"
   ]
  },
  {
   "cell_type": "code",
   "execution_count": 3539,
   "metadata": {},
   "outputs": [
    {
     "data": {
      "text/html": [
       "<div>\n",
       "<style scoped>\n",
       "    .dataframe tbody tr th:only-of-type {\n",
       "        vertical-align: middle;\n",
       "    }\n",
       "\n",
       "    .dataframe tbody tr th {\n",
       "        vertical-align: top;\n",
       "    }\n",
       "\n",
       "    .dataframe thead th {\n",
       "        text-align: right;\n",
       "    }\n",
       "</style>\n",
       "<table border=\"1\" class=\"dataframe\">\n",
       "  <thead>\n",
       "    <tr style=\"text-align: right;\">\n",
       "      <th></th>\n",
       "      <th>tweet_id</th>\n",
       "      <th>text</th>\n",
       "      <th>rating_numerator</th>\n",
       "    </tr>\n",
       "  </thead>\n",
       "  <tbody>\n",
       "    <tr>\n",
       "      <th>45</th>\n",
       "      <td>883482846933004288</td>\n",
       "      <td>This is Bella. She hopes her smile made you smile. If not, she is also offering you her favorite monkey. 13.5/10</td>\n",
       "      <td>5</td>\n",
       "    </tr>\n",
       "    <tr>\n",
       "      <th>695</th>\n",
       "      <td>786709082849828864</td>\n",
       "      <td>This is Logan, the Chow who lived. He solemnly swears he's up to lots of good. H*ckin magical af 9.75/10</td>\n",
       "      <td>75</td>\n",
       "    </tr>\n",
       "    <tr>\n",
       "      <th>763</th>\n",
       "      <td>778027034220126208</td>\n",
       "      <td>This is Sophie. She's a Jubilant Bush Pupper. Super h*ckin rare. Appears at random just to smile at the locals. 11.27/10 would smile back</td>\n",
       "      <td>27</td>\n",
       "    </tr>\n",
       "    <tr>\n",
       "      <th>1712</th>\n",
       "      <td>680494726643068929</td>\n",
       "      <td>Here we have uncovered an entire battalion of holiday puppers. Average of 11.26/10</td>\n",
       "      <td>26</td>\n",
       "    </tr>\n",
       "  </tbody>\n",
       "</table>\n",
       "</div>"
      ],
      "text/plain": [
       "                tweet_id  \\\n",
       "45    883482846933004288   \n",
       "695   786709082849828864   \n",
       "763   778027034220126208   \n",
       "1712  680494726643068929   \n",
       "\n",
       "                                                                                                                                            text  \\\n",
       "45    This is Bella. She hopes her smile made you smile. If not, she is also offering you her favorite monkey. 13.5/10                             \n",
       "695   This is Logan, the Chow who lived. He solemnly swears he's up to lots of good. H*ckin magical af 9.75/10                                     \n",
       "763   This is Sophie. She's a Jubilant Bush Pupper. Super h*ckin rare. Appears at random just to smile at the locals. 11.27/10 would smile back    \n",
       "1712  Here we have uncovered an entire battalion of holiday puppers. Average of 11.26/10                                                           \n",
       "\n",
       "      rating_numerator  \n",
       "45    5                 \n",
       "695   75                \n",
       "763   27                \n",
       "1712  26                "
      ]
     },
     "execution_count": 3539,
     "metadata": {},
     "output_type": "execute_result"
    }
   ],
   "source": [
    "dogs_clean.loc[incorrect_numerators.index][['tweet_id', 'text', 'rating_numerator']]"
   ]
  },
  {
   "cell_type": "markdown",
   "metadata": {},
   "source": [
    "Analayzing the tweets:\n",
    "\n",
    "I will first fix the numerator ratings for those fraction tweets, but will round up the fraction to an integer since the difference is small."
   ]
  },
  {
   "cell_type": "code",
   "execution_count": 3540,
   "metadata": {},
   "outputs": [],
   "source": [
    "dogs_clean.loc[incorrect_numerators.index, 'rating_numerator'] = np.ceil(incorrect_numerators[0].astype(float)).astype(np.int64)"
   ]
  },
  {
   "cell_type": "markdown",
   "metadata": {},
   "source": [
    "### Analyzing tweets with very high ratings_numerators"
   ]
  },
  {
   "cell_type": "code",
   "execution_count": 3541,
   "metadata": {
    "scrolled": true
   },
   "outputs": [
    {
     "data": {
      "text/plain": [
       "(15, 17)"
      ]
     },
     "execution_count": 3541,
     "metadata": {},
     "output_type": "execute_result"
    }
   ],
   "source": [
    "pd.set_option('display.max_rows', 30)\n",
    "dogs_clean[dogs_clean.rating_numerator > 16].shape"
   ]
  },
  {
   "cell_type": "markdown",
   "metadata": {},
   "source": [
    "I will go through them one by one since they are only 15"
   ]
  },
  {
   "cell_type": "code",
   "execution_count": 3542,
   "metadata": {},
   "outputs": [
    {
     "data": {
      "text/html": [
       "<div>\n",
       "<style scoped>\n",
       "    .dataframe tbody tr th:only-of-type {\n",
       "        vertical-align: middle;\n",
       "    }\n",
       "\n",
       "    .dataframe tbody tr th {\n",
       "        vertical-align: top;\n",
       "    }\n",
       "\n",
       "    .dataframe thead th {\n",
       "        text-align: right;\n",
       "    }\n",
       "</style>\n",
       "<table border=\"1\" class=\"dataframe\">\n",
       "  <thead>\n",
       "    <tr style=\"text-align: right;\">\n",
       "      <th></th>\n",
       "      <th>tweet_id</th>\n",
       "      <th>shortened_urls</th>\n",
       "      <th>text</th>\n",
       "    </tr>\n",
       "  </thead>\n",
       "  <tbody>\n",
       "    <tr>\n",
       "      <th>433</th>\n",
       "      <td>820690176645140481</td>\n",
       "      <td>https://t.co/NIYC820tmd</td>\n",
       "      <td>The floofs have been released I repeat the floofs have been released. 84/70</td>\n",
       "    </tr>\n",
       "    <tr>\n",
       "      <th>516</th>\n",
       "      <td>810984652412424192</td>\n",
       "      <td>https://t.co/98tB8y7y7t</td>\n",
       "      <td>Meet Sam. She smiles 24/7 &amp;amp; secretly aspires to be a reindeer. \\nKeep Sam smiling by clicking and sharing this link:\\n</td>\n",
       "    </tr>\n",
       "    <tr>\n",
       "      <th>902</th>\n",
       "      <td>758467244762497024</td>\n",
       "      <td>https://t.co/HmwrdfEfUE</td>\n",
       "      <td>Why does this never happen at my front door... 165/150</td>\n",
       "    </tr>\n",
       "    <tr>\n",
       "      <th>979</th>\n",
       "      <td>749981277374128128</td>\n",
       "      <td>https://t.co/GRXwMxLBkh</td>\n",
       "      <td>This is Atticus. He's quite simply America af. 1776/10</td>\n",
       "    </tr>\n",
       "    <tr>\n",
       "      <th>1120</th>\n",
       "      <td>731156023742988288</td>\n",
       "      <td>https://t.co/yGQI3He3xv</td>\n",
       "      <td>Say hello to this unbelievably well behaved squad of doggos. 204/170 would try to pet all at once</td>\n",
       "    </tr>\n",
       "    <tr>\n",
       "      <th>1202</th>\n",
       "      <td>716439118184652801</td>\n",
       "      <td>https://t.co/Kky1DPG4iq</td>\n",
       "      <td>This is Bluebert. He just saw that both #FinalFur match ups are split 50/50. Amazed af. 11/10</td>\n",
       "    </tr>\n",
       "    <tr>\n",
       "      <th>1228</th>\n",
       "      <td>713900603437621249</td>\n",
       "      <td>https://t.co/mpvaVxKmc1</td>\n",
       "      <td>Happy Saturday here's 9 puppers on a bench. 99/90 good work everybody</td>\n",
       "    </tr>\n",
       "    <tr>\n",
       "      <th>1254</th>\n",
       "      <td>710658690886586372</td>\n",
       "      <td>https://t.co/0eb7R1Om12</td>\n",
       "      <td>Here's a brigade of puppers. All look very prepared for whatever happens next. 80/80</td>\n",
       "    </tr>\n",
       "    <tr>\n",
       "      <th>1274</th>\n",
       "      <td>709198395643068416</td>\n",
       "      <td>https://t.co/sedre1ivTK</td>\n",
       "      <td>From left to right:\\nCletus, Jerome, Alejandro, Burp, &amp;amp; Titson\\nNone know where camera is. 45/50 would hug all at once</td>\n",
       "    </tr>\n",
       "    <tr>\n",
       "      <th>1351</th>\n",
       "      <td>704054845121142784</td>\n",
       "      <td>https://t.co/9dpcw6MdWa</td>\n",
       "      <td>Here is a whole flock of puppers.  60/50 I'll take the lot</td>\n",
       "    </tr>\n",
       "    <tr>\n",
       "      <th>1433</th>\n",
       "      <td>697463031882764288</td>\n",
       "      <td>https://t.co/HppvrYuamZ</td>\n",
       "      <td>Happy Wednesday here's a bucket of pups. 44/40 would pet all at once</td>\n",
       "    </tr>\n",
       "    <tr>\n",
       "      <th>1635</th>\n",
       "      <td>684222868335505415</td>\n",
       "      <td>https://t.co/1zfnTJLt55</td>\n",
       "      <td>Someone help the girl is being mugged. Several are distracting her while two steal her shoes. Clever puppers 121/110</td>\n",
       "    </tr>\n",
       "    <tr>\n",
       "      <th>1779</th>\n",
       "      <td>677716515794329600</td>\n",
       "      <td>https://t.co/ZanVtAtvIq</td>\n",
       "      <td>IT'S PUPPERGEDDON. Total of 144/120 ...I think</td>\n",
       "    </tr>\n",
       "    <tr>\n",
       "      <th>1843</th>\n",
       "      <td>675853064436391936</td>\n",
       "      <td>https://t.co/y93p6FLvVw</td>\n",
       "      <td>Here we have an entire platoon of puppers. Total score: 88/80 would pet all at once</td>\n",
       "    </tr>\n",
       "    <tr>\n",
       "      <th>2074</th>\n",
       "      <td>670842764863651840</td>\n",
       "      <td>https://t.co/yfAAo1gdeY</td>\n",
       "      <td>After so many requests... here you go.\\n\\nGood dogg. 420/10</td>\n",
       "    </tr>\n",
       "  </tbody>\n",
       "</table>\n",
       "</div>"
      ],
      "text/plain": [
       "                tweet_id           shortened_urls  \\\n",
       "433   820690176645140481  https://t.co/NIYC820tmd   \n",
       "516   810984652412424192  https://t.co/98tB8y7y7t   \n",
       "902   758467244762497024  https://t.co/HmwrdfEfUE   \n",
       "979   749981277374128128  https://t.co/GRXwMxLBkh   \n",
       "1120  731156023742988288  https://t.co/yGQI3He3xv   \n",
       "1202  716439118184652801  https://t.co/Kky1DPG4iq   \n",
       "1228  713900603437621249  https://t.co/mpvaVxKmc1   \n",
       "1254  710658690886586372  https://t.co/0eb7R1Om12   \n",
       "1274  709198395643068416  https://t.co/sedre1ivTK   \n",
       "1351  704054845121142784  https://t.co/9dpcw6MdWa   \n",
       "1433  697463031882764288  https://t.co/HppvrYuamZ   \n",
       "1635  684222868335505415  https://t.co/1zfnTJLt55   \n",
       "1779  677716515794329600  https://t.co/ZanVtAtvIq   \n",
       "1843  675853064436391936  https://t.co/y93p6FLvVw   \n",
       "2074  670842764863651840  https://t.co/yfAAo1gdeY   \n",
       "\n",
       "                                                                                                                             text  \n",
       "433   The floofs have been released I repeat the floofs have been released. 84/70                                                  \n",
       "516   Meet Sam. She smiles 24/7 &amp; secretly aspires to be a reindeer. \\nKeep Sam smiling by clicking and sharing this link:\\n   \n",
       "902   Why does this never happen at my front door... 165/150                                                                       \n",
       "979   This is Atticus. He's quite simply America af. 1776/10                                                                       \n",
       "1120  Say hello to this unbelievably well behaved squad of doggos. 204/170 would try to pet all at once                            \n",
       "1202  This is Bluebert. He just saw that both #FinalFur match ups are split 50/50. Amazed af. 11/10                                \n",
       "1228  Happy Saturday here's 9 puppers on a bench. 99/90 good work everybody                                                        \n",
       "1254  Here's a brigade of puppers. All look very prepared for whatever happens next. 80/80                                         \n",
       "1274  From left to right:\\nCletus, Jerome, Alejandro, Burp, &amp; Titson\\nNone know where camera is. 45/50 would hug all at once   \n",
       "1351  Here is a whole flock of puppers.  60/50 I'll take the lot                                                                   \n",
       "1433  Happy Wednesday here's a bucket of pups. 44/40 would pet all at once                                                         \n",
       "1635  Someone help the girl is being mugged. Several are distracting her while two steal her shoes. Clever puppers 121/110         \n",
       "1779  IT'S PUPPERGEDDON. Total of 144/120 ...I think                                                                               \n",
       "1843  Here we have an entire platoon of puppers. Total score: 88/80 would pet all at once                                          \n",
       "2074  After so many requests... here you go.\\n\\nGood dogg. 420/10                                                                  "
      ]
     },
     "execution_count": 3542,
     "metadata": {},
     "output_type": "execute_result"
    }
   ],
   "source": [
    "dogs_clean.query('rating_numerator > 16')[['tweet_id', 'shortened_urls', 'text']]"
   ]
  },
  {
   "cell_type": "code",
   "execution_count": 3543,
   "metadata": {},
   "outputs": [],
   "source": [
    "## 2074 isn't a dog, 516 isn't a dog rating, but funding only\n",
    "dogs_clean.drop([2074, 516], inplace=True)"
   ]
  },
  {
   "cell_type": "code",
   "execution_count": 3544,
   "metadata": {},
   "outputs": [],
   "source": [
    "## Fixing one incorrect ratings\n",
    "\n",
    "dogs_clean.loc[1202, 'rating_numerator'] = 11\n",
    "dogs_clean.loc[1202, 'rating_denominator'] = 10"
   ]
  },
  {
   "cell_type": "markdown",
   "metadata": {},
   "source": [
    "The rest are multiple dogs ratings, I check their rating denomunator if it's not ten, the numerator and denomenator will be scaled to ten scale, as for those cases the photos represent more than 1 dog, so the rater tries to be realistic and gives a wholistic rating. It ain't funny for us Madd Melson 😡😡😠😠"
   ]
  },
  {
   "cell_type": "code",
   "execution_count": 3545,
   "metadata": {},
   "outputs": [
    {
     "data": {
      "text/plain": [
       "Int64Index([433, 902, 1120, 1228, 1254, 1274, 1351, 1433, 1635, 1779, 1843], dtype='int64')"
      ]
     },
     "execution_count": 3545,
     "metadata": {},
     "output_type": "execute_result"
    }
   ],
   "source": [
    "temp = dogs_clean.query('rating_numerator > 16 and rating_denominator > 10')\n",
    "temp.index"
   ]
  },
  {
   "cell_type": "code",
   "execution_count": 3546,
   "metadata": {},
   "outputs": [],
   "source": [
    "dogs_clean.loc[temp.index, 'rating_numerator'] = np.ceil(temp.rating_numerator * 10/ temp.rating_denominator).astype(int)\n",
    "dogs_clean.loc[temp.index, 'rating_denominator'] = 10"
   ]
  },
  {
   "cell_type": "code",
   "execution_count": 3547,
   "metadata": {},
   "outputs": [],
   "source": [
    "assert dogs_clean.query('rating_numerator > 16 and rating_denominator > 10').shape[0] == 0"
   ]
  },
  {
   "cell_type": "markdown",
   "metadata": {},
   "source": [
    "The rating numerator of 1776, I can't fix it as it's as-is of one dog and with rating denominator of 10, crazy system Brent!"
   ]
  },
  {
   "cell_type": "markdown",
   "metadata": {},
   "source": [
    "### Fixing the rest of the denominator "
   ]
  },
  {
   "cell_type": "code",
   "execution_count": 3548,
   "metadata": {},
   "outputs": [
    {
     "data": {
      "text/plain": [
       "Index(['tweet_id', 'timestamp', 'text', 'retweeted_status_id',\n",
       "       'retweeted_status_user_id', 'retweeted_status_timestamp',\n",
       "       'expanded_urls', 'rating_numerator', 'rating_denominator', 'name',\n",
       "       'doggo', 'floofer', 'pupper', 'puppo', 'source_app', 'source_url',\n",
       "       'shortened_urls'],\n",
       "      dtype='object')"
      ]
     },
     "execution_count": 3548,
     "metadata": {},
     "output_type": "execute_result"
    }
   ],
   "source": [
    "dogs_clean.columns"
   ]
  },
  {
   "cell_type": "code",
   "execution_count": 3549,
   "metadata": {},
   "outputs": [
    {
     "data": {
      "text/html": [
       "<div>\n",
       "<style scoped>\n",
       "    .dataframe tbody tr th:only-of-type {\n",
       "        vertical-align: middle;\n",
       "    }\n",
       "\n",
       "    .dataframe tbody tr th {\n",
       "        vertical-align: top;\n",
       "    }\n",
       "\n",
       "    .dataframe thead th {\n",
       "        text-align: right;\n",
       "    }\n",
       "</style>\n",
       "<table border=\"1\" class=\"dataframe\">\n",
       "  <thead>\n",
       "    <tr style=\"text-align: right;\">\n",
       "      <th></th>\n",
       "      <th>rating_numerator</th>\n",
       "      <th>rating_denominator</th>\n",
       "      <th>tweet_id</th>\n",
       "      <th>expanded_urls</th>\n",
       "      <th>text</th>\n",
       "    </tr>\n",
       "  </thead>\n",
       "  <tbody>\n",
       "    <tr>\n",
       "      <th>1068</th>\n",
       "      <td>9</td>\n",
       "      <td>11</td>\n",
       "      <td>740373189193256964</td>\n",
       "      <td>https://twitter.com/dog_rates/status/740373189193256964/photo/1,https://twitter.com/dog_rates/status/740373189193256964/photo/1,https://twitter.com/dog_rates/status/740373189193256964/photo/1,https://twitter.com/dog_rates/status/740373189193256964/photo/1</td>\n",
       "      <td>After so many requests, this is Bretagne. She was the last surviving 9/11 search dog, and our second ever 14/10. RIP</td>\n",
       "    </tr>\n",
       "    <tr>\n",
       "      <th>1662</th>\n",
       "      <td>7</td>\n",
       "      <td>11</td>\n",
       "      <td>682962037429899265</td>\n",
       "      <td>https://twitter.com/dog_rates/status/682962037429899265/photo/1</td>\n",
       "      <td>This is Darrel. He just robbed a 7/11 and is in a high speed police chase. Was just spotted by the helicopter 10/10</td>\n",
       "    </tr>\n",
       "    <tr>\n",
       "      <th>2335</th>\n",
       "      <td>10</td>\n",
       "      <td>2</td>\n",
       "      <td>666287406224695296</td>\n",
       "      <td>https://twitter.com/dog_rates/status/666287406224695296/photo/1</td>\n",
       "      <td>This is an Albanian 3 1/2 legged  Episcopalian. Loves well-polished hardwood flooring. Penis on the collar. 9/10</td>\n",
       "    </tr>\n",
       "  </tbody>\n",
       "</table>\n",
       "</div>"
      ],
      "text/plain": [
       "      rating_numerator  rating_denominator            tweet_id  \\\n",
       "1068  9                 11                  740373189193256964   \n",
       "1662  7                 11                  682962037429899265   \n",
       "2335  10                2                   666287406224695296   \n",
       "\n",
       "                                                                                                                                                                                                                                                        expanded_urls  \\\n",
       "1068  https://twitter.com/dog_rates/status/740373189193256964/photo/1,https://twitter.com/dog_rates/status/740373189193256964/photo/1,https://twitter.com/dog_rates/status/740373189193256964/photo/1,https://twitter.com/dog_rates/status/740373189193256964/photo/1   \n",
       "1662  https://twitter.com/dog_rates/status/682962037429899265/photo/1                                                                                                                                                                                                   \n",
       "2335  https://twitter.com/dog_rates/status/666287406224695296/photo/1                                                                                                                                                                                                   \n",
       "\n",
       "                                                                                                                       text  \n",
       "1068  After so many requests, this is Bretagne. She was the last surviving 9/11 search dog, and our second ever 14/10. RIP   \n",
       "1662  This is Darrel. He just robbed a 7/11 and is in a high speed police chase. Was just spotted by the helicopter 10/10    \n",
       "2335  This is an Albanian 3 1/2 legged  Episcopalian. Loves well-polished hardwood flooring. Penis on the collar. 9/10       "
      ]
     },
     "execution_count": 3549,
     "metadata": {},
     "output_type": "execute_result"
    }
   ],
   "source": [
    "dogs_clean.query('rating_denominator != 10')[['rating_numerator', 'rating_denominator', 'tweet_id', 'expanded_urls', 'text']]"
   ]
  },
  {
   "cell_type": "code",
   "execution_count": 3550,
   "metadata": {},
   "outputs": [],
   "source": [
    "dogs_clean.loc[1068, ['rating_numerator', 'rating_denominator']] = [14, 10]\n",
    "dogs_clean.loc[1662, ['rating_numerator', 'rating_denominator']] = [10, 10]\n",
    "dogs_clean.loc[2335, ['rating_numerator', 'rating_denominator']] = [9, 10]"
   ]
  },
  {
   "cell_type": "markdown",
   "metadata": {},
   "source": [
    "<hr>"
   ]
  },
  {
   "cell_type": "markdown",
   "metadata": {},
   "source": [
    "### Expanded_urls"
   ]
  },
  {
   "cell_type": "markdown",
   "metadata": {},
   "source": [
    "Additional remarks on expanded_urls:\n",
    "* The expanded_urls are multi-valued.\n",
    "* If the tweet contains multiple photos, the expanded_urls usually contain multiple links with the ending of photo/1 where the number of the photo/1 expanded url is equal to the number of photos\n",
    "* The expanded_urls contain additional links that were included in the tweet like gofundme\n",
    "\n",
    "Fix:\n",
    "* First, I will assess and clean null expanded_urls\n",
    "* Then, expaned_urls will be removed from dogs_clean dataframe and create another dataframe probagating the tweet_id and the individual links, then fixing the links if possible to refer to individual photos"
   ]
  },
  {
   "cell_type": "markdown",
   "metadata": {},
   "source": [
    "### Fixing null expanded_urls"
   ]
  },
  {
   "cell_type": "code",
   "execution_count": 3551,
   "metadata": {},
   "outputs": [
    {
     "data": {
      "text/html": [
       "<div>\n",
       "<style scoped>\n",
       "    .dataframe tbody tr th:only-of-type {\n",
       "        vertical-align: middle;\n",
       "    }\n",
       "\n",
       "    .dataframe tbody tr th {\n",
       "        vertical-align: top;\n",
       "    }\n",
       "\n",
       "    .dataframe thead th {\n",
       "        text-align: right;\n",
       "    }\n",
       "</style>\n",
       "<table border=\"1\" class=\"dataframe\">\n",
       "  <thead>\n",
       "    <tr style=\"text-align: right;\">\n",
       "      <th></th>\n",
       "      <th>tweet_id</th>\n",
       "      <th>timestamp</th>\n",
       "      <th>text</th>\n",
       "      <th>retweeted_status_id</th>\n",
       "      <th>retweeted_status_user_id</th>\n",
       "      <th>retweeted_status_timestamp</th>\n",
       "      <th>expanded_urls</th>\n",
       "      <th>rating_numerator</th>\n",
       "      <th>rating_denominator</th>\n",
       "      <th>name</th>\n",
       "      <th>doggo</th>\n",
       "      <th>floofer</th>\n",
       "      <th>pupper</th>\n",
       "      <th>puppo</th>\n",
       "      <th>source_app</th>\n",
       "      <th>source_url</th>\n",
       "      <th>shortened_urls</th>\n",
       "    </tr>\n",
       "  </thead>\n",
       "  <tbody>\n",
       "    <tr>\n",
       "      <th>185</th>\n",
       "      <td>856330835276025856</td>\n",
       "      <td>2017-04-24 02:15:55</td>\n",
       "      <td>@dog_rates Thanks for rating my cermets 14/10 wow I'm so proud I watered them so much</td>\n",
       "      <td>856330158768218112</td>\n",
       "      <td>66699013</td>\n",
       "      <td>2017-04-24 02:13:14</td>\n",
       "      <td>NaN</td>\n",
       "      <td>14</td>\n",
       "      <td>10</td>\n",
       "      <td>None</td>\n",
       "      <td>None</td>\n",
       "      <td>None</td>\n",
       "      <td>None</td>\n",
       "      <td>None</td>\n",
       "      <td>Twitter for iPhone</td>\n",
       "      <td>http://twitter.com/download/iphone</td>\n",
       "      <td>NaN</td>\n",
       "    </tr>\n",
       "    <tr>\n",
       "      <th>375</th>\n",
       "      <td>828361771580813312</td>\n",
       "      <td>2017-02-05 21:56:51</td>\n",
       "      <td>Beebop and Doobert should start a band 12/10 would listen</td>\n",
       "      <td>None</td>\n",
       "      <td>None</td>\n",
       "      <td>NaT</td>\n",
       "      <td>NaN</td>\n",
       "      <td>12</td>\n",
       "      <td>10</td>\n",
       "      <td>None</td>\n",
       "      <td>None</td>\n",
       "      <td>None</td>\n",
       "      <td>None</td>\n",
       "      <td>None</td>\n",
       "      <td>Twitter Web Client</td>\n",
       "      <td>http://twitter.com</td>\n",
       "      <td>NaN</td>\n",
       "    </tr>\n",
       "    <tr>\n",
       "      <th>707</th>\n",
       "      <td>785515384317313025</td>\n",
       "      <td>2016-10-10 16:20:36</td>\n",
       "      <td>Today, 10/10, should be National Dog Rates Day</td>\n",
       "      <td>None</td>\n",
       "      <td>None</td>\n",
       "      <td>NaT</td>\n",
       "      <td>NaN</td>\n",
       "      <td>10</td>\n",
       "      <td>10</td>\n",
       "      <td>None</td>\n",
       "      <td>None</td>\n",
       "      <td>None</td>\n",
       "      <td>None</td>\n",
       "      <td>None</td>\n",
       "      <td>Twitter for iPhone</td>\n",
       "      <td>http://twitter.com/download/iphone</td>\n",
       "      <td>NaN</td>\n",
       "    </tr>\n",
       "    <tr>\n",
       "      <th>1445</th>\n",
       "      <td>696518437233913856</td>\n",
       "      <td>2016-02-08 02:18:30</td>\n",
       "      <td>Oh my god 10/10 for every little hot dog pupper</td>\n",
       "      <td>None</td>\n",
       "      <td>None</td>\n",
       "      <td>NaT</td>\n",
       "      <td>NaN</td>\n",
       "      <td>10</td>\n",
       "      <td>10</td>\n",
       "      <td>None</td>\n",
       "      <td>None</td>\n",
       "      <td>None</td>\n",
       "      <td>pupper</td>\n",
       "      <td>None</td>\n",
       "      <td>Twitter for iPhone</td>\n",
       "      <td>http://twitter.com/download/iphone</td>\n",
       "      <td>NaN</td>\n",
       "    </tr>\n",
       "  </tbody>\n",
       "</table>\n",
       "</div>"
      ],
      "text/plain": [
       "                tweet_id           timestamp  \\\n",
       "185   856330835276025856 2017-04-24 02:15:55   \n",
       "375   828361771580813312 2017-02-05 21:56:51   \n",
       "707   785515384317313025 2016-10-10 16:20:36   \n",
       "1445  696518437233913856 2016-02-08 02:18:30   \n",
       "\n",
       "                                                                                       text  \\\n",
       "185   @dog_rates Thanks for rating my cermets 14/10 wow I'm so proud I watered them so much   \n",
       "375   Beebop and Doobert should start a band 12/10 would listen                               \n",
       "707   Today, 10/10, should be National Dog Rates Day                                          \n",
       "1445  Oh my god 10/10 for every little hot dog pupper                                         \n",
       "\n",
       "     retweeted_status_id retweeted_status_user_id retweeted_status_timestamp  \\\n",
       "185   856330158768218112  66699013                2017-04-24 02:13:14          \n",
       "375   None                None                    NaT                          \n",
       "707   None                None                    NaT                          \n",
       "1445  None                None                    NaT                          \n",
       "\n",
       "     expanded_urls  rating_numerator  rating_denominator  name doggo floofer  \\\n",
       "185   NaN           14                10                  None  None  None     \n",
       "375   NaN           12                10                  None  None  None     \n",
       "707   NaN           10                10                  None  None  None     \n",
       "1445  NaN           10                10                  None  None  None     \n",
       "\n",
       "      pupper puppo          source_app                          source_url  \\\n",
       "185   None    None  Twitter for iPhone  http://twitter.com/download/iphone   \n",
       "375   None    None  Twitter Web Client  http://twitter.com                   \n",
       "707   None    None  Twitter for iPhone  http://twitter.com/download/iphone   \n",
       "1445  pupper  None  Twitter for iPhone  http://twitter.com/download/iphone   \n",
       "\n",
       "     shortened_urls  \n",
       "185   NaN            \n",
       "375   NaN            \n",
       "707   NaN            \n",
       "1445  NaN            "
      ]
     },
     "execution_count": 3551,
     "metadata": {},
     "output_type": "execute_result"
    }
   ],
   "source": [
    "dogs_clean[dogs_clean.expanded_urls.isnull()]"
   ]
  },
  {
   "cell_type": "code",
   "execution_count": 3552,
   "metadata": {},
   "outputs": [
    {
     "data": {
      "text/html": [
       "<div>\n",
       "<style scoped>\n",
       "    .dataframe tbody tr th:only-of-type {\n",
       "        vertical-align: middle;\n",
       "    }\n",
       "\n",
       "    .dataframe tbody tr th {\n",
       "        vertical-align: top;\n",
       "    }\n",
       "\n",
       "    .dataframe thead th {\n",
       "        text-align: right;\n",
       "    }\n",
       "</style>\n",
       "<table border=\"1\" class=\"dataframe\">\n",
       "  <thead>\n",
       "    <tr style=\"text-align: right;\">\n",
       "      <th></th>\n",
       "      <th>tweet_id</th>\n",
       "      <th>text</th>\n",
       "    </tr>\n",
       "  </thead>\n",
       "  <tbody>\n",
       "    <tr>\n",
       "      <th>187</th>\n",
       "      <td>856282028240666624</td>\n",
       "      <td>This is Cermet, Paesh, and Morple. They are absolute h*ckin superstars. Watered every day so they can grow. 14/10 for all</td>\n",
       "    </tr>\n",
       "  </tbody>\n",
       "</table>\n",
       "</div>"
      ],
      "text/plain": [
       "               tweet_id  \\\n",
       "187  856282028240666624   \n",
       "\n",
       "                                                                                                                           text  \n",
       "187  This is Cermet, Paesh, and Morple. They are absolute h*ckin superstars. Watered every day so they can grow. 14/10 for all   "
      ]
     },
     "execution_count": 3552,
     "metadata": {},
     "output_type": "execute_result"
    }
   ],
   "source": [
    "## Checking if the retweet_status_id 856282028240666624 of the tweet_id 856330835276025856 exist in the dataframe\n",
    "dogs_clean.query('tweet_id == \"856282028240666624\"')[['tweet_id', 'text']]"
   ]
  },
  {
   "cell_type": "markdown",
   "metadata": {},
   "source": [
    "* The first retweet is a response to another WeRateDogs tweet which by checking its id in the tweet link, appears to exist in our tweets. (to remove)\n",
    "* The other three tweets don't contain any photos and they're actually not specific dog ratings. (to remove)"
   ]
  },
  {
   "cell_type": "code",
   "execution_count": 3553,
   "metadata": {},
   "outputs": [],
   "source": [
    "dogs_clean.drop(dogs_clean[dogs_clean.expanded_urls.isnull()].index, inplace = True)"
   ]
  },
  {
   "cell_type": "code",
   "execution_count": 3554,
   "metadata": {},
   "outputs": [],
   "source": [
    "assert dogs_clean[dogs_clean.expanded_urls.isnull()].shape[0] == 0"
   ]
  },
  {
   "cell_type": "markdown",
   "metadata": {},
   "source": [
    "### Tidying expanded_urls"
   ]
  },
  {
   "cell_type": "markdown",
   "metadata": {},
   "source": [
    "First I will extract the photos_urls from the tweet dataframe and then will replace "
   ]
  },
  {
   "cell_type": "code",
   "execution_count": 3555,
   "metadata": {},
   "outputs": [],
   "source": [
    "tweets_urls = dogs_clean[['tweet_id', 'expanded_urls']].copy()"
   ]
  },
  {
   "cell_type": "code",
   "execution_count": 3556,
   "metadata": {},
   "outputs": [
    {
     "name": "stdout",
     "output_type": "stream",
     "text": [
      "<class 'pandas.core.frame.DataFrame'>\n",
      "RangeIndex: 2103 entries, 0 to 2102\n",
      "Data columns (total 2 columns):\n",
      "tweet_id         2103 non-null object\n",
      "expanded_urls    2103 non-null object\n",
      "dtypes: object(2)\n",
      "memory usage: 32.9+ KB\n"
     ]
    }
   ],
   "source": [
    "tweets_urls.reset_index(inplace=True, drop = True)\n",
    "tweets_urls.info()"
   ]
  },
  {
   "cell_type": "code",
   "execution_count": 3557,
   "metadata": {},
   "outputs": [
    {
     "name": "stdout",
     "output_type": "stream",
     "text": [
      "<class 'pandas.core.frame.DataFrame'>\n",
      "RangeIndex: 2103 entries, 0 to 2102\n",
      "Data columns (total 2 columns):\n",
      "tweet_id    2103 non-null object\n",
      "urls        2103 non-null object\n",
      "dtypes: object(2)\n",
      "memory usage: 32.9+ KB\n"
     ]
    }
   ],
   "source": [
    "## Expanding tweet urls, and dropping the expanded_urls column \n",
    "\n",
    "tweets_urls['urls'] = tweets_urls.expanded_urls.str.split(',')\n",
    "tweets_urls.drop('expanded_urls', axis = 1, inplace = True)\n",
    "tweets_urls.info()"
   ]
  },
  {
   "cell_type": "code",
   "execution_count": 3558,
   "metadata": {},
   "outputs": [
    {
     "data": {
      "text/html": [
       "<div>\n",
       "<style scoped>\n",
       "    .dataframe tbody tr th:only-of-type {\n",
       "        vertical-align: middle;\n",
       "    }\n",
       "\n",
       "    .dataframe tbody tr th {\n",
       "        vertical-align: top;\n",
       "    }\n",
       "\n",
       "    .dataframe thead th {\n",
       "        text-align: right;\n",
       "    }\n",
       "</style>\n",
       "<table border=\"1\" class=\"dataframe\">\n",
       "  <thead>\n",
       "    <tr style=\"text-align: right;\">\n",
       "      <th></th>\n",
       "      <th>tweet_id</th>\n",
       "      <th>urls</th>\n",
       "    </tr>\n",
       "  </thead>\n",
       "  <tbody>\n",
       "    <tr>\n",
       "      <th>1048</th>\n",
       "      <td>714258258790387713</td>\n",
       "      <td>[https://twitter.com/dog_rates/status/714258258790387713/photo/1]</td>\n",
       "    </tr>\n",
       "    <tr>\n",
       "      <th>801</th>\n",
       "      <td>750719632563142656</td>\n",
       "      <td>[https://twitter.com/dog_rates/status/750719632563142656/photo/1]</td>\n",
       "    </tr>\n",
       "  </tbody>\n",
       "</table>\n",
       "</div>"
      ],
      "text/plain": [
       "                tweet_id  \\\n",
       "1048  714258258790387713   \n",
       "801   750719632563142656   \n",
       "\n",
       "                                                                   urls  \n",
       "1048  [https://twitter.com/dog_rates/status/714258258790387713/photo/1]  \n",
       "801   [https://twitter.com/dog_rates/status/750719632563142656/photo/1]  "
      ]
     },
     "execution_count": 3558,
     "metadata": {},
     "output_type": "execute_result"
    }
   ],
   "source": [
    "tweets_urls.sample(2)"
   ]
  },
  {
   "cell_type": "code",
   "execution_count": 3559,
   "metadata": {},
   "outputs": [],
   "source": [
    "def extract_photos_urls(tweet):\n",
    "    \"\"\"\n",
    "    Extract media photos included in the tweet\n",
    "    from the tweet json media extended_entities\n",
    "    \"\"\"\n",
    "    photos = []\n",
    "    if(isinstance(tweet['extended_entities'], dict)):\n",
    "        for med in tweet['extended_entities']['media']:\n",
    "            if med['type'] == 'photo':\n",
    "                photos.append(med['media_url_https'])\n",
    "\n",
    "            \n",
    "    return {'tweet_id': tweet['id'], 'media_urls' : photos if len(photos) != 0 else None}"
   ]
  },
  {
   "cell_type": "code",
   "execution_count": 3560,
   "metadata": {
    "scrolled": false
   },
   "outputs": [
    {
     "data": {
      "text/html": [
       "<div>\n",
       "<style scoped>\n",
       "    .dataframe tbody tr th:only-of-type {\n",
       "        vertical-align: middle;\n",
       "    }\n",
       "\n",
       "    .dataframe tbody tr th {\n",
       "        vertical-align: top;\n",
       "    }\n",
       "\n",
       "    .dataframe thead th {\n",
       "        text-align: right;\n",
       "    }\n",
       "</style>\n",
       "<table border=\"1\" class=\"dataframe\">\n",
       "  <thead>\n",
       "    <tr style=\"text-align: right;\">\n",
       "      <th></th>\n",
       "      <th>media_urls</th>\n",
       "      <th>tweet_id</th>\n",
       "    </tr>\n",
       "  </thead>\n",
       "  <tbody>\n",
       "    <tr>\n",
       "      <th>0</th>\n",
       "      <td>[https://pbs.twimg.com/media/DGKD1-bXoAAIAUK.jpg]</td>\n",
       "      <td>892420643555336193</td>\n",
       "    </tr>\n",
       "    <tr>\n",
       "      <th>1</th>\n",
       "      <td>[https://pbs.twimg.com/media/DGGmoV4XsAAUL6n.jpg]</td>\n",
       "      <td>892177421306343426</td>\n",
       "    </tr>\n",
       "  </tbody>\n",
       "</table>\n",
       "</div>"
      ],
      "text/plain": [
       "                                          media_urls            tweet_id\n",
       "0  [https://pbs.twimg.com/media/DGKD1-bXoAAIAUK.jpg]  892420643555336193\n",
       "1  [https://pbs.twimg.com/media/DGGmoV4XsAAUL6n.jpg]  892177421306343426"
      ]
     },
     "execution_count": 3560,
     "metadata": {},
     "output_type": "execute_result"
    }
   ],
   "source": [
    "## Extracting photos for tweet ids included in the tweets_urls dataframe\n",
    "\n",
    "media_urls_df = df[df.id.astype(str).isin(tweets_urls.tweet_id)]\n",
    "media_urls_df = pd.DataFrame(list(media_urls_df.apply(extract_photos_urls, axis = 1)))\n",
    "media_urls_df.head(2)"
   ]
  },
  {
   "cell_type": "code",
   "execution_count": 3561,
   "metadata": {
    "scrolled": true
   },
   "outputs": [
    {
     "name": "stdout",
     "output_type": "stream",
     "text": [
      "<class 'pandas.core.frame.DataFrame'>\n",
      "RangeIndex: 2103 entries, 0 to 2102\n",
      "Data columns (total 2 columns):\n",
      "media_urls    1872 non-null object\n",
      "tweet_id      2103 non-null object\n",
      "dtypes: object(2)\n",
      "memory usage: 32.9+ KB\n"
     ]
    }
   ],
   "source": [
    "media_urls_df.tweet_id = media_urls_df.tweet_id.astype(str)\n",
    "media_urls_df.info()"
   ]
  },
  {
   "cell_type": "markdown",
   "metadata": {},
   "source": [
    "inspecting media_urls, some tweet_ids can't find media for them, there might be a better way to extract media object, but I could find and it's time consuming, so I'll note that in the internal document"
   ]
  },
  {
   "cell_type": "code",
   "execution_count": 3562,
   "metadata": {},
   "outputs": [],
   "source": [
    "def unify_urls(tweet):\n",
    "    \"\"\"\n",
    "    unify urls from media_urls and tweets_urls cleaning by ignoring photo/1 links \n",
    "    in tweets_urls if corresponding photos urls exist in media_urls_df\n",
    "    \"\"\"\n",
    "    photos_len = len(tweet.media_urls) if tweet.media_urls is not None else 0\n",
    "    urls_unified = []\n",
    "    index = 0\n",
    "    for url in tweet.urls:\n",
    "        if url[-len('photo/1'):] == 'photo/1' and index < photos_len:\n",
    "            urls_unified.append(tweet.media_urls[index])\n",
    "            index += 1\n",
    "        else:\n",
    "            urls_unified.append(url)\n",
    "    return{'tweet_id': tweet['tweet_id'], 'urls': urls_unified if len(urls_unified) != 0 else None}"
   ]
  },
  {
   "cell_type": "code",
   "execution_count": 3563,
   "metadata": {},
   "outputs": [
    {
     "data": {
      "text/html": [
       "<div>\n",
       "<style scoped>\n",
       "    .dataframe tbody tr th:only-of-type {\n",
       "        vertical-align: middle;\n",
       "    }\n",
       "\n",
       "    .dataframe tbody tr th {\n",
       "        vertical-align: top;\n",
       "    }\n",
       "\n",
       "    .dataframe thead th {\n",
       "        text-align: right;\n",
       "    }\n",
       "</style>\n",
       "<table border=\"1\" class=\"dataframe\">\n",
       "  <thead>\n",
       "    <tr style=\"text-align: right;\">\n",
       "      <th></th>\n",
       "      <th>tweet_id</th>\n",
       "      <th>urls</th>\n",
       "    </tr>\n",
       "  </thead>\n",
       "  <tbody>\n",
       "    <tr>\n",
       "      <th>0</th>\n",
       "      <td>892420643555336193</td>\n",
       "      <td>[https://pbs.twimg.com/media/DGKD1-bXoAAIAUK.jpg]</td>\n",
       "    </tr>\n",
       "    <tr>\n",
       "      <th>1</th>\n",
       "      <td>892177421306343426</td>\n",
       "      <td>[https://pbs.twimg.com/media/DGGmoV4XsAAUL6n.jpg]</td>\n",
       "    </tr>\n",
       "  </tbody>\n",
       "</table>\n",
       "</div>"
      ],
      "text/plain": [
       "             tweet_id                                               urls\n",
       "0  892420643555336193  [https://pbs.twimg.com/media/DGKD1-bXoAAIAUK.jpg]\n",
       "1  892177421306343426  [https://pbs.twimg.com/media/DGGmoV4XsAAUL6n.jpg]"
      ]
     },
     "execution_count": 3563,
     "metadata": {},
     "output_type": "execute_result"
    }
   ],
   "source": [
    "unified_urls = pd.DataFrame(\n",
    "    list(tweets_urls.merge(media_urls_df, how = 'left', on = 'tweet_id').apply(unify_urls, axis = 1))\n",
    ")\n",
    "unified_urls.head(2)"
   ]
  },
  {
   "cell_type": "code",
   "execution_count": 3564,
   "metadata": {},
   "outputs": [
    {
     "data": {
      "text/html": [
       "<div>\n",
       "<style scoped>\n",
       "    .dataframe tbody tr th:only-of-type {\n",
       "        vertical-align: middle;\n",
       "    }\n",
       "\n",
       "    .dataframe tbody tr th {\n",
       "        vertical-align: top;\n",
       "    }\n",
       "\n",
       "    .dataframe thead th {\n",
       "        text-align: right;\n",
       "    }\n",
       "</style>\n",
       "<table border=\"1\" class=\"dataframe\">\n",
       "  <thead>\n",
       "    <tr style=\"text-align: right;\">\n",
       "      <th></th>\n",
       "      <th>tweet_id</th>\n",
       "      <th>urls</th>\n",
       "      <th>0</th>\n",
       "      <th>1</th>\n",
       "      <th>2</th>\n",
       "      <th>3</th>\n",
       "      <th>4</th>\n",
       "      <th>5</th>\n",
       "      <th>6</th>\n",
       "      <th>7</th>\n",
       "    </tr>\n",
       "  </thead>\n",
       "  <tbody>\n",
       "    <tr>\n",
       "      <th>0</th>\n",
       "      <td>892420643555336193</td>\n",
       "      <td>[https://pbs.twimg.com/media/DGKD1-bXoAAIAUK.jpg]</td>\n",
       "      <td>https://pbs.twimg.com/media/DGKD1-bXoAAIAUK.jpg</td>\n",
       "      <td>NaN</td>\n",
       "      <td>NaN</td>\n",
       "      <td>NaN</td>\n",
       "      <td>NaN</td>\n",
       "      <td>NaN</td>\n",
       "      <td>NaN</td>\n",
       "      <td>NaN</td>\n",
       "    </tr>\n",
       "  </tbody>\n",
       "</table>\n",
       "</div>"
      ],
      "text/plain": [
       "             tweet_id                                               urls  \\\n",
       "0  892420643555336193  [https://pbs.twimg.com/media/DGKD1-bXoAAIAUK.jpg]   \n",
       "\n",
       "                                                 0    1    2    3    4    5  \\\n",
       "0  https://pbs.twimg.com/media/DGKD1-bXoAAIAUK.jpg  NaN  NaN  NaN  NaN  NaN   \n",
       "\n",
       "     6    7  \n",
       "0  NaN  NaN  "
      ]
     },
     "execution_count": 3564,
     "metadata": {},
     "output_type": "execute_result"
    }
   ],
   "source": [
    "unified_urls = unified_urls.merge(unified_urls.urls.apply(pd.Series), left_index = True, right_index = True)\n",
    "unified_urls.head(1)"
   ]
  },
  {
   "cell_type": "markdown",
   "metadata": {},
   "source": [
    "Cleaning urls having more than 4 links if applicable"
   ]
  },
  {
   "cell_type": "code",
   "execution_count": 3565,
   "metadata": {},
   "outputs": [
    {
     "data": {
      "text/html": [
       "<div>\n",
       "<style scoped>\n",
       "    .dataframe tbody tr th:only-of-type {\n",
       "        vertical-align: middle;\n",
       "    }\n",
       "\n",
       "    .dataframe tbody tr th {\n",
       "        vertical-align: top;\n",
       "    }\n",
       "\n",
       "    .dataframe thead th {\n",
       "        text-align: right;\n",
       "    }\n",
       "</style>\n",
       "<table border=\"1\" class=\"dataframe\">\n",
       "  <thead>\n",
       "    <tr style=\"text-align: right;\">\n",
       "      <th></th>\n",
       "      <th>tweet_id</th>\n",
       "      <th>urls</th>\n",
       "      <th>0</th>\n",
       "      <th>1</th>\n",
       "      <th>2</th>\n",
       "      <th>3</th>\n",
       "      <th>4</th>\n",
       "      <th>5</th>\n",
       "      <th>6</th>\n",
       "      <th>7</th>\n",
       "    </tr>\n",
       "  </thead>\n",
       "  <tbody>\n",
       "    <tr>\n",
       "      <th>100</th>\n",
       "      <td>870656317836468226</td>\n",
       "      <td>[https://www.gofundme.com/help-fix-codys-torn-acl, https://pbs.twimg.com/media/DBUxSSHXsAIz4Un.jpg, https://pbs.twimg.com/media/DBUxSSNXYAA9VO_.jpg, https://pbs.twimg.com/media/DBUxSSYW0AQOCOx.jpg, https://pbs.twimg.com/media/DBUxSSTXsAA-Jn1.jpg]</td>\n",
       "      <td>https://www.gofundme.com/help-fix-codys-torn-acl</td>\n",
       "      <td>https://pbs.twimg.com/media/DBUxSSHXsAIz4Un.jpg</td>\n",
       "      <td>https://pbs.twimg.com/media/DBUxSSNXYAA9VO_.jpg</td>\n",
       "      <td>https://pbs.twimg.com/media/DBUxSSYW0AQOCOx.jpg</td>\n",
       "      <td>https://pbs.twimg.com/media/DBUxSSTXsAA-Jn1.jpg</td>\n",
       "      <td>NaN</td>\n",
       "      <td>NaN</td>\n",
       "      <td>NaN</td>\n",
       "    </tr>\n",
       "    <tr>\n",
       "      <th>129</th>\n",
       "      <td>863062471531167744</td>\n",
       "      <td>[https://www.gofundme.com/helpquinny, https://pbs.twimg.com/media/C_o2vKFV0AAcq9j.jpg, https://pbs.twimg.com/media/C_o2vKCUwAAgtOp.jpg, https://pbs.twimg.com/media/C_o2vKCUMAAewwp.jpg, https://pbs.twimg.com/media/C_o2vKEUAAA_pfA.jpg]</td>\n",
       "      <td>https://www.gofundme.com/helpquinny</td>\n",
       "      <td>https://pbs.twimg.com/media/C_o2vKFV0AAcq9j.jpg</td>\n",
       "      <td>https://pbs.twimg.com/media/C_o2vKCUwAAgtOp.jpg</td>\n",
       "      <td>https://pbs.twimg.com/media/C_o2vKCUMAAewwp.jpg</td>\n",
       "      <td>https://pbs.twimg.com/media/C_o2vKEUAAA_pfA.jpg</td>\n",
       "      <td>NaN</td>\n",
       "      <td>NaN</td>\n",
       "      <td>NaN</td>\n",
       "    </tr>\n",
       "    <tr>\n",
       "      <th>153</th>\n",
       "      <td>857393404942143489</td>\n",
       "      <td>[https://www.gofundme.com/meeko-needs-heart-surgery, https://pbs.twimg.com/media/C-YSwA9XcAAxF_0.jpg, https://pbs.twimg.com/media/C-YSwA9XUAECvVK.jpg, https://pbs.twimg.com/media/C-YSwA_XgAEOr25.jpg, https://pbs.twimg.com/media/C-YSwA9XUAArZf1.jpg]</td>\n",
       "      <td>https://www.gofundme.com/meeko-needs-heart-surgery</td>\n",
       "      <td>https://pbs.twimg.com/media/C-YSwA9XcAAxF_0.jpg</td>\n",
       "      <td>https://pbs.twimg.com/media/C-YSwA9XUAECvVK.jpg</td>\n",
       "      <td>https://pbs.twimg.com/media/C-YSwA_XgAEOr25.jpg</td>\n",
       "      <td>https://pbs.twimg.com/media/C-YSwA9XUAArZf1.jpg</td>\n",
       "      <td>NaN</td>\n",
       "      <td>NaN</td>\n",
       "      <td>NaN</td>\n",
       "    </tr>\n",
       "    <tr>\n",
       "      <th>290</th>\n",
       "      <td>832032802820481025</td>\n",
       "      <td>[https://www.petfinder.com/petdetail/34918210, https://pbs.twimg.com/media/C4v5a4UWcAIRygc.jpg, https://pbs.twimg.com/media/C4v5a5EWMAA0_fH.jpg, https://pbs.twimg.com/media/C4v5a4oWAAIUQbv.jpg, https://pbs.twimg.com/media/C4v5a4YWQAAUjDP.jpg]</td>\n",
       "      <td>https://www.petfinder.com/petdetail/34918210</td>\n",
       "      <td>https://pbs.twimg.com/media/C4v5a4UWcAIRygc.jpg</td>\n",
       "      <td>https://pbs.twimg.com/media/C4v5a5EWMAA0_fH.jpg</td>\n",
       "      <td>https://pbs.twimg.com/media/C4v5a4oWAAIUQbv.jpg</td>\n",
       "      <td>https://pbs.twimg.com/media/C4v5a4YWQAAUjDP.jpg</td>\n",
       "      <td>NaN</td>\n",
       "      <td>NaN</td>\n",
       "      <td>NaN</td>\n",
       "    </tr>\n",
       "    <tr>\n",
       "      <th>294</th>\n",
       "      <td>831650051525054464</td>\n",
       "      <td>[http://www.gofundme.com/bluethewhitehusky, https://pbs.twimg.com/media/C4qdThOWAAI3WX3.jpg, https://pbs.twimg.com/media/C4qdThMWcAI9jUg.jpg, https://pbs.twimg.com/media/C4qdThPWEAIk9qP.jpg, https://pbs.twimg.com/media/C4qdThOWAAEW5B9.jpg]</td>\n",
       "      <td>http://www.gofundme.com/bluethewhitehusky</td>\n",
       "      <td>https://pbs.twimg.com/media/C4qdThOWAAI3WX3.jpg</td>\n",
       "      <td>https://pbs.twimg.com/media/C4qdThMWcAI9jUg.jpg</td>\n",
       "      <td>https://pbs.twimg.com/media/C4qdThPWEAIk9qP.jpg</td>\n",
       "      <td>https://pbs.twimg.com/media/C4qdThOWAAEW5B9.jpg</td>\n",
       "      <td>NaN</td>\n",
       "      <td>NaN</td>\n",
       "      <td>NaN</td>\n",
       "    </tr>\n",
       "    <tr>\n",
       "      <th>303</th>\n",
       "      <td>830097400375152640</td>\n",
       "      <td>[https://www.gofundme.com/sick-baby-samson, https://pbs.twimg.com/media/C4UZLYyXUAAaSyA.jpg, https://pbs.twimg.com/media/C4UZLYxXAAEB05M.jpg, https://pbs.twimg.com/media/C4UZLZLWYAEiqQW.jpg, https://pbs.twimg.com/media/C4UZLZLWYAA0dcs.jpg]</td>\n",
       "      <td>https://www.gofundme.com/sick-baby-samson</td>\n",
       "      <td>https://pbs.twimg.com/media/C4UZLYyXUAAaSyA.jpg</td>\n",
       "      <td>https://pbs.twimg.com/media/C4UZLYxXAAEB05M.jpg</td>\n",
       "      <td>https://pbs.twimg.com/media/C4UZLZLWYAEiqQW.jpg</td>\n",
       "      <td>https://pbs.twimg.com/media/C4UZLZLWYAA0dcs.jpg</td>\n",
       "      <td>NaN</td>\n",
       "      <td>NaN</td>\n",
       "      <td>NaN</td>\n",
       "    </tr>\n",
       "    <tr>\n",
       "      <th>332</th>\n",
       "      <td>826204788643753985</td>\n",
       "      <td>[http://us.blastingnews.com/news/2017/01/kentucky-teen-helps-lost-yellow-labrador-and-gets-a-huge-surprise-001431969.html?sbdht=_pM1QUzk3wsenGU1giO7UnJ5NGGiKRW9AD5xs2MkaDpYY13JxbtKE4w2_, https://pbs.twimg.com/media/C3dEzahWAAA3QFj.jpg, https://pbs.twimg.com/media/C3dEza1WcAAhlNU.jpg, https://pbs.twimg.com/media/C3dEzcoWMAEx9AU.jpg, https://pbs.twimg.com/media/C3dEzc6XAAAehSt.jpg]</td>\n",
       "      <td>http://us.blastingnews.com/news/2017/01/kentucky-teen-helps-lost-yellow-labrador-and-gets-a-huge-surprise-001431969.html?sbdht=_pM1QUzk3wsenGU1giO7UnJ5NGGiKRW9AD5xs2MkaDpYY13JxbtKE4w2_</td>\n",
       "      <td>https://pbs.twimg.com/media/C3dEzahWAAA3QFj.jpg</td>\n",
       "      <td>https://pbs.twimg.com/media/C3dEza1WcAAhlNU.jpg</td>\n",
       "      <td>https://pbs.twimg.com/media/C3dEzcoWMAEx9AU.jpg</td>\n",
       "      <td>https://pbs.twimg.com/media/C3dEzc6XAAAehSt.jpg</td>\n",
       "      <td>NaN</td>\n",
       "      <td>NaN</td>\n",
       "      <td>NaN</td>\n",
       "    </tr>\n",
       "    <tr>\n",
       "      <th>351</th>\n",
       "      <td>822647212903690241</td>\n",
       "      <td>[https://pbs.twimg.com/media/C2oRbOuWEAAbVSl.jpg, https://pbs.twimg.com/media/C2oRbOxWQAIpnBA.jpg, https://pbs.twimg.com/media/C2oRbOwWIAANYrq.jpg, https://twitter.com/dog_rates/status/822489057087389700/photo/1, https://twitter.com/dog_rates/status/822489057087389700/photo/1, https://twitter.com/dog_rates/status/822489057087389700/photo/1]</td>\n",
       "      <td>https://pbs.twimg.com/media/C2oRbOuWEAAbVSl.jpg</td>\n",
       "      <td>https://pbs.twimg.com/media/C2oRbOxWQAIpnBA.jpg</td>\n",
       "      <td>https://pbs.twimg.com/media/C2oRbOwWIAANYrq.jpg</td>\n",
       "      <td>https://twitter.com/dog_rates/status/822489057087389700/photo/1</td>\n",
       "      <td>https://twitter.com/dog_rates/status/822489057087389700/photo/1</td>\n",
       "      <td>https://twitter.com/dog_rates/status/822489057087389700/photo/1</td>\n",
       "      <td>NaN</td>\n",
       "      <td>NaN</td>\n",
       "    </tr>\n",
       "    <tr>\n",
       "      <th>375</th>\n",
       "      <td>819015331746349057</td>\n",
       "      <td>[https://pbs.twimg.com/media/C12x-IXVQAA08TD.jpg, https://pbs.twimg.com/media/C12x-IgUsAAulM4.jpg, https://pbs.twimg.com/media/C12x-JRUAAIgwdf.jpg, https://pbs.twimg.com/media/C12x-JTVIAAzdfl.jpg, https://twitter.com/dog_rates/status/819006400881917954/photo/1, https://twitter.com/dog_rates/status/819006400881917954/photo/1, https://twitter.com/dog_rates/status/819006400881917954/photo/1, https://twitter.com/dog_rates/status/819006400881917954/photo/1]</td>\n",
       "      <td>https://pbs.twimg.com/media/C12x-IXVQAA08TD.jpg</td>\n",
       "      <td>https://pbs.twimg.com/media/C12x-IgUsAAulM4.jpg</td>\n",
       "      <td>https://pbs.twimg.com/media/C12x-JRUAAIgwdf.jpg</td>\n",
       "      <td>https://pbs.twimg.com/media/C12x-JTVIAAzdfl.jpg</td>\n",
       "      <td>https://twitter.com/dog_rates/status/819006400881917954/photo/1</td>\n",
       "      <td>https://twitter.com/dog_rates/status/819006400881917954/photo/1</td>\n",
       "      <td>https://twitter.com/dog_rates/status/819006400881917954/photo/1</td>\n",
       "      <td>https://twitter.com/dog_rates/status/819006400881917954/photo/1</td>\n",
       "    </tr>\n",
       "    <tr>\n",
       "      <th>1091</th>\n",
       "      <td>709901256215666688</td>\n",
       "      <td>[http://goo.gl/ArWZfi, https://pbs.twimg.com/media/CdoTbL9WAAACjZK.jpg, https://pbs.twimg.com/media/CdoTbL_XIAAitq2.jpg, https://pbs.twimg.com/media/CdoTbMBWwAA15mL.jpg, https://pbs.twimg.com/media/CdoTbPEWIAIrMQ0.jpg]</td>\n",
       "      <td>http://goo.gl/ArWZfi</td>\n",
       "      <td>https://pbs.twimg.com/media/CdoTbL9WAAACjZK.jpg</td>\n",
       "      <td>https://pbs.twimg.com/media/CdoTbL_XIAAitq2.jpg</td>\n",
       "      <td>https://pbs.twimg.com/media/CdoTbMBWwAA15mL.jpg</td>\n",
       "      <td>https://pbs.twimg.com/media/CdoTbPEWIAIrMQ0.jpg</td>\n",
       "      <td>NaN</td>\n",
       "      <td>NaN</td>\n",
       "      <td>NaN</td>\n",
       "    </tr>\n",
       "  </tbody>\n",
       "</table>\n",
       "</div>"
      ],
      "text/plain": [
       "                tweet_id  \\\n",
       "100   870656317836468226   \n",
       "129   863062471531167744   \n",
       "153   857393404942143489   \n",
       "290   832032802820481025   \n",
       "294   831650051525054464   \n",
       "303   830097400375152640   \n",
       "332   826204788643753985   \n",
       "351   822647212903690241   \n",
       "375   819015331746349057   \n",
       "1091  709901256215666688   \n",
       "\n",
       "                                                                                                                                                                                                                                                                                                                                                                                                                                                                          urls  \\\n",
       "100   [https://www.gofundme.com/help-fix-codys-torn-acl, https://pbs.twimg.com/media/DBUxSSHXsAIz4Un.jpg, https://pbs.twimg.com/media/DBUxSSNXYAA9VO_.jpg, https://pbs.twimg.com/media/DBUxSSYW0AQOCOx.jpg, https://pbs.twimg.com/media/DBUxSSTXsAA-Jn1.jpg]                                                                                                                                                                                                                     \n",
       "129   [https://www.gofundme.com/helpquinny, https://pbs.twimg.com/media/C_o2vKFV0AAcq9j.jpg, https://pbs.twimg.com/media/C_o2vKCUwAAgtOp.jpg, https://pbs.twimg.com/media/C_o2vKCUMAAewwp.jpg, https://pbs.twimg.com/media/C_o2vKEUAAA_pfA.jpg]                                                                                                                                                                                                                                  \n",
       "153   [https://www.gofundme.com/meeko-needs-heart-surgery, https://pbs.twimg.com/media/C-YSwA9XcAAxF_0.jpg, https://pbs.twimg.com/media/C-YSwA9XUAECvVK.jpg, https://pbs.twimg.com/media/C-YSwA_XgAEOr25.jpg, https://pbs.twimg.com/media/C-YSwA9XUAArZf1.jpg]                                                                                                                                                                                                                   \n",
       "290   [https://www.petfinder.com/petdetail/34918210, https://pbs.twimg.com/media/C4v5a4UWcAIRygc.jpg, https://pbs.twimg.com/media/C4v5a5EWMAA0_fH.jpg, https://pbs.twimg.com/media/C4v5a4oWAAIUQbv.jpg, https://pbs.twimg.com/media/C4v5a4YWQAAUjDP.jpg]                                                                                                                                                                                                                         \n",
       "294   [http://www.gofundme.com/bluethewhitehusky, https://pbs.twimg.com/media/C4qdThOWAAI3WX3.jpg, https://pbs.twimg.com/media/C4qdThMWcAI9jUg.jpg, https://pbs.twimg.com/media/C4qdThPWEAIk9qP.jpg, https://pbs.twimg.com/media/C4qdThOWAAEW5B9.jpg]                                                                                                                                                                                                                            \n",
       "303   [https://www.gofundme.com/sick-baby-samson, https://pbs.twimg.com/media/C4UZLYyXUAAaSyA.jpg, https://pbs.twimg.com/media/C4UZLYxXAAEB05M.jpg, https://pbs.twimg.com/media/C4UZLZLWYAEiqQW.jpg, https://pbs.twimg.com/media/C4UZLZLWYAA0dcs.jpg]                                                                                                                                                                                                                            \n",
       "332   [http://us.blastingnews.com/news/2017/01/kentucky-teen-helps-lost-yellow-labrador-and-gets-a-huge-surprise-001431969.html?sbdht=_pM1QUzk3wsenGU1giO7UnJ5NGGiKRW9AD5xs2MkaDpYY13JxbtKE4w2_, https://pbs.twimg.com/media/C3dEzahWAAA3QFj.jpg, https://pbs.twimg.com/media/C3dEza1WcAAhlNU.jpg, https://pbs.twimg.com/media/C3dEzcoWMAEx9AU.jpg, https://pbs.twimg.com/media/C3dEzc6XAAAehSt.jpg]                                                                             \n",
       "351   [https://pbs.twimg.com/media/C2oRbOuWEAAbVSl.jpg, https://pbs.twimg.com/media/C2oRbOxWQAIpnBA.jpg, https://pbs.twimg.com/media/C2oRbOwWIAANYrq.jpg, https://twitter.com/dog_rates/status/822489057087389700/photo/1, https://twitter.com/dog_rates/status/822489057087389700/photo/1, https://twitter.com/dog_rates/status/822489057087389700/photo/1]                                                                                                                     \n",
       "375   [https://pbs.twimg.com/media/C12x-IXVQAA08TD.jpg, https://pbs.twimg.com/media/C12x-IgUsAAulM4.jpg, https://pbs.twimg.com/media/C12x-JRUAAIgwdf.jpg, https://pbs.twimg.com/media/C12x-JTVIAAzdfl.jpg, https://twitter.com/dog_rates/status/819006400881917954/photo/1, https://twitter.com/dog_rates/status/819006400881917954/photo/1, https://twitter.com/dog_rates/status/819006400881917954/photo/1, https://twitter.com/dog_rates/status/819006400881917954/photo/1]   \n",
       "1091  [http://goo.gl/ArWZfi, https://pbs.twimg.com/media/CdoTbL9WAAACjZK.jpg, https://pbs.twimg.com/media/CdoTbL_XIAAitq2.jpg, https://pbs.twimg.com/media/CdoTbMBWwAA15mL.jpg, https://pbs.twimg.com/media/CdoTbPEWIAIrMQ0.jpg]                                                                                                                                                                                                                                                 \n",
       "\n",
       "                                                                                                                                                                                             0  \\\n",
       "100   https://www.gofundme.com/help-fix-codys-torn-acl                                                                                                                                           \n",
       "129   https://www.gofundme.com/helpquinny                                                                                                                                                        \n",
       "153   https://www.gofundme.com/meeko-needs-heart-surgery                                                                                                                                         \n",
       "290   https://www.petfinder.com/petdetail/34918210                                                                                                                                               \n",
       "294   http://www.gofundme.com/bluethewhitehusky                                                                                                                                                  \n",
       "303   https://www.gofundme.com/sick-baby-samson                                                                                                                                                  \n",
       "332   http://us.blastingnews.com/news/2017/01/kentucky-teen-helps-lost-yellow-labrador-and-gets-a-huge-surprise-001431969.html?sbdht=_pM1QUzk3wsenGU1giO7UnJ5NGGiKRW9AD5xs2MkaDpYY13JxbtKE4w2_   \n",
       "351   https://pbs.twimg.com/media/C2oRbOuWEAAbVSl.jpg                                                                                                                                            \n",
       "375   https://pbs.twimg.com/media/C12x-IXVQAA08TD.jpg                                                                                                                                            \n",
       "1091  http://goo.gl/ArWZfi                                                                                                                                                                       \n",
       "\n",
       "                                                    1  \\\n",
       "100   https://pbs.twimg.com/media/DBUxSSHXsAIz4Un.jpg   \n",
       "129   https://pbs.twimg.com/media/C_o2vKFV0AAcq9j.jpg   \n",
       "153   https://pbs.twimg.com/media/C-YSwA9XcAAxF_0.jpg   \n",
       "290   https://pbs.twimg.com/media/C4v5a4UWcAIRygc.jpg   \n",
       "294   https://pbs.twimg.com/media/C4qdThOWAAI3WX3.jpg   \n",
       "303   https://pbs.twimg.com/media/C4UZLYyXUAAaSyA.jpg   \n",
       "332   https://pbs.twimg.com/media/C3dEzahWAAA3QFj.jpg   \n",
       "351   https://pbs.twimg.com/media/C2oRbOxWQAIpnBA.jpg   \n",
       "375   https://pbs.twimg.com/media/C12x-IgUsAAulM4.jpg   \n",
       "1091  https://pbs.twimg.com/media/CdoTbL9WAAACjZK.jpg   \n",
       "\n",
       "                                                    2  \\\n",
       "100   https://pbs.twimg.com/media/DBUxSSNXYAA9VO_.jpg   \n",
       "129   https://pbs.twimg.com/media/C_o2vKCUwAAgtOp.jpg   \n",
       "153   https://pbs.twimg.com/media/C-YSwA9XUAECvVK.jpg   \n",
       "290   https://pbs.twimg.com/media/C4v5a5EWMAA0_fH.jpg   \n",
       "294   https://pbs.twimg.com/media/C4qdThMWcAI9jUg.jpg   \n",
       "303   https://pbs.twimg.com/media/C4UZLYxXAAEB05M.jpg   \n",
       "332   https://pbs.twimg.com/media/C3dEza1WcAAhlNU.jpg   \n",
       "351   https://pbs.twimg.com/media/C2oRbOwWIAANYrq.jpg   \n",
       "375   https://pbs.twimg.com/media/C12x-JRUAAIgwdf.jpg   \n",
       "1091  https://pbs.twimg.com/media/CdoTbL_XIAAitq2.jpg   \n",
       "\n",
       "                                                                    3  \\\n",
       "100   https://pbs.twimg.com/media/DBUxSSYW0AQOCOx.jpg                   \n",
       "129   https://pbs.twimg.com/media/C_o2vKCUMAAewwp.jpg                   \n",
       "153   https://pbs.twimg.com/media/C-YSwA_XgAEOr25.jpg                   \n",
       "290   https://pbs.twimg.com/media/C4v5a4oWAAIUQbv.jpg                   \n",
       "294   https://pbs.twimg.com/media/C4qdThPWEAIk9qP.jpg                   \n",
       "303   https://pbs.twimg.com/media/C4UZLZLWYAEiqQW.jpg                   \n",
       "332   https://pbs.twimg.com/media/C3dEzcoWMAEx9AU.jpg                   \n",
       "351   https://twitter.com/dog_rates/status/822489057087389700/photo/1   \n",
       "375   https://pbs.twimg.com/media/C12x-JTVIAAzdfl.jpg                   \n",
       "1091  https://pbs.twimg.com/media/CdoTbMBWwAA15mL.jpg                   \n",
       "\n",
       "                                                                    4  \\\n",
       "100   https://pbs.twimg.com/media/DBUxSSTXsAA-Jn1.jpg                   \n",
       "129   https://pbs.twimg.com/media/C_o2vKEUAAA_pfA.jpg                   \n",
       "153   https://pbs.twimg.com/media/C-YSwA9XUAArZf1.jpg                   \n",
       "290   https://pbs.twimg.com/media/C4v5a4YWQAAUjDP.jpg                   \n",
       "294   https://pbs.twimg.com/media/C4qdThOWAAEW5B9.jpg                   \n",
       "303   https://pbs.twimg.com/media/C4UZLZLWYAA0dcs.jpg                   \n",
       "332   https://pbs.twimg.com/media/C3dEzc6XAAAehSt.jpg                   \n",
       "351   https://twitter.com/dog_rates/status/822489057087389700/photo/1   \n",
       "375   https://twitter.com/dog_rates/status/819006400881917954/photo/1   \n",
       "1091  https://pbs.twimg.com/media/CdoTbPEWIAIrMQ0.jpg                   \n",
       "\n",
       "                                                                    5  \\\n",
       "100   NaN                                                               \n",
       "129   NaN                                                               \n",
       "153   NaN                                                               \n",
       "290   NaN                                                               \n",
       "294   NaN                                                               \n",
       "303   NaN                                                               \n",
       "332   NaN                                                               \n",
       "351   https://twitter.com/dog_rates/status/822489057087389700/photo/1   \n",
       "375   https://twitter.com/dog_rates/status/819006400881917954/photo/1   \n",
       "1091  NaN                                                               \n",
       "\n",
       "                                                                    6  \\\n",
       "100   NaN                                                               \n",
       "129   NaN                                                               \n",
       "153   NaN                                                               \n",
       "290   NaN                                                               \n",
       "294   NaN                                                               \n",
       "303   NaN                                                               \n",
       "332   NaN                                                               \n",
       "351   NaN                                                               \n",
       "375   https://twitter.com/dog_rates/status/819006400881917954/photo/1   \n",
       "1091  NaN                                                               \n",
       "\n",
       "                                                                    7  \n",
       "100   NaN                                                              \n",
       "129   NaN                                                              \n",
       "153   NaN                                                              \n",
       "290   NaN                                                              \n",
       "294   NaN                                                              \n",
       "303   NaN                                                              \n",
       "332   NaN                                                              \n",
       "351   NaN                                                              \n",
       "375   https://twitter.com/dog_rates/status/819006400881917954/photo/1  \n",
       "1091  NaN                                                              "
      ]
     },
     "execution_count": 3565,
     "metadata": {},
     "output_type": "execute_result"
    }
   ],
   "source": [
    "unified_urls.loc[unified_urls[4].dropna().index]"
   ]
  },
  {
   "cell_type": "markdown",
   "metadata": {},
   "source": [
    "Checking the links, cleaning is needed only for 351, 375 rows"
   ]
  },
  {
   "cell_type": "code",
   "execution_count": 3566,
   "metadata": {},
   "outputs": [
    {
     "data": {
      "text/plain": [
       "tweet_id    822647212903690241                                                                                                                                                                                                                                                                                                                                    \n",
       "urls        [https://pbs.twimg.com/media/C2oRbOuWEAAbVSl.jpg, https://pbs.twimg.com/media/C2oRbOxWQAIpnBA.jpg, https://pbs.twimg.com/media/C2oRbOwWIAANYrq.jpg, https://twitter.com/dog_rates/status/822489057087389700/photo/1, https://twitter.com/dog_rates/status/822489057087389700/photo/1, https://twitter.com/dog_rates/status/822489057087389700/photo/1]\n",
       "0           https://pbs.twimg.com/media/C2oRbOuWEAAbVSl.jpg                                                                                                                                                                                                                                                                                                       \n",
       "1           https://pbs.twimg.com/media/C2oRbOxWQAIpnBA.jpg                                                                                                                                                                                                                                                                                                       \n",
       "2           https://pbs.twimg.com/media/C2oRbOwWIAANYrq.jpg                                                                                                                                                                                                                                                                                                       \n",
       "3           None                                                                                                                                                                                                                                                                                                                                                  \n",
       "4           None                                                                                                                                                                                                                                                                                                                                                  \n",
       "5           None                                                                                                                                                                                                                                                                                                                                                  \n",
       "6           None                                                                                                                                                                                                                                                                                                                                                  \n",
       "7           None                                                                                                                                                                                                                                                                                                                                                  \n",
       "Name: 351, dtype: object"
      ]
     },
     "execution_count": 3566,
     "metadata": {},
     "output_type": "execute_result"
    }
   ],
   "source": [
    "unified_urls.loc[351, list(range(3, 8))] = None\n",
    "unified_urls.loc[351]"
   ]
  },
  {
   "cell_type": "code",
   "execution_count": 3567,
   "metadata": {},
   "outputs": [
    {
     "data": {
      "text/plain": [
       "tweet_id    819015331746349057                                                                                                                                                                                                                                                                                                                                                                                                                                                      \n",
       "urls        [https://pbs.twimg.com/media/C12x-IXVQAA08TD.jpg, https://pbs.twimg.com/media/C12x-IgUsAAulM4.jpg, https://pbs.twimg.com/media/C12x-JRUAAIgwdf.jpg, https://pbs.twimg.com/media/C12x-JTVIAAzdfl.jpg, https://twitter.com/dog_rates/status/819006400881917954/photo/1, https://twitter.com/dog_rates/status/819006400881917954/photo/1, https://twitter.com/dog_rates/status/819006400881917954/photo/1, https://twitter.com/dog_rates/status/819006400881917954/photo/1]\n",
       "0           https://pbs.twimg.com/media/C12x-IXVQAA08TD.jpg                                                                                                                                                                                                                                                                                                                                                                                                                         \n",
       "1           https://pbs.twimg.com/media/C12x-IgUsAAulM4.jpg                                                                                                                                                                                                                                                                                                                                                                                                                         \n",
       "2           https://pbs.twimg.com/media/C12x-JRUAAIgwdf.jpg                                                                                                                                                                                                                                                                                                                                                                                                                         \n",
       "3           https://pbs.twimg.com/media/C12x-JTVIAAzdfl.jpg                                                                                                                                                                                                                                                                                                                                                                                                                         \n",
       "4           None                                                                                                                                                                                                                                                                                                                                                                                                                                                                    \n",
       "5           None                                                                                                                                                                                                                                                                                                                                                                                                                                                                    \n",
       "6           None                                                                                                                                                                                                                                                                                                                                                                                                                                                                    \n",
       "7           None                                                                                                                                                                                                                                                                                                                                                                                                                                                                    \n",
       "Name: 375, dtype: object"
      ]
     },
     "execution_count": 3567,
     "metadata": {},
     "output_type": "execute_result"
    }
   ],
   "source": [
    "unified_urls.loc[375, list(range(4, 8))] = None\n",
    "unified_urls.loc[375]"
   ]
  },
  {
   "cell_type": "markdown",
   "metadata": {},
   "source": [
    "Now I will drop columns 5-7, and rearrange the urls dataframe and saving the unified_urls dataframe"
   ]
  },
  {
   "cell_type": "code",
   "execution_count": 3568,
   "metadata": {},
   "outputs": [
    {
     "name": "stdout",
     "output_type": "stream",
     "text": [
      "<class 'pandas.core.frame.DataFrame'>\n",
      "RangeIndex: 2103 entries, 0 to 2102\n",
      "Data columns (total 6 columns):\n",
      "tweet_id    2103 non-null object\n",
      "0           2103 non-null object\n",
      "1           543 non-null object\n",
      "2           240 non-null object\n",
      "3           127 non-null object\n",
      "4           8 non-null object\n",
      "dtypes: object(6)\n",
      "memory usage: 98.7+ KB\n"
     ]
    }
   ],
   "source": [
    "unified_urls.drop(list(range(5, 8)) + ['urls'], axis = 1, inplace=True)\n",
    "unified_urls.info()"
   ]
  },
  {
   "cell_type": "code",
   "execution_count": 3569,
   "metadata": {
    "scrolled": true
   },
   "outputs": [
    {
     "name": "stdout",
     "output_type": "stream",
     "text": [
      "<class 'pandas.core.frame.DataFrame'>\n",
      "RangeIndex: 10515 entries, 0 to 10514\n",
      "Data columns (total 2 columns):\n",
      "tweet_id    10515 non-null object\n",
      "url         3021 non-null object\n",
      "dtypes: object(2)\n",
      "memory usage: 164.4+ KB\n"
     ]
    }
   ],
   "source": [
    "## Rearranging and Dropping the unnecessary variable column\n",
    "\n",
    "unified_urls = pd.melt(unified_urls, id_vars=['tweet_id'] , value_vars= range(5), value_name='url')\n",
    "unified_urls.drop('variable', axis = 1, inplace = True)\n",
    "unified_urls.info()"
   ]
  },
  {
   "cell_type": "markdown",
   "metadata": {},
   "source": [
    "url has 3021 non_null object which is the true expectations since there is 2103 + 543 + 240 + 127 + 8 == 3021, <br>\n",
    "where 2103, 543, 240, 127, 8 represents 0, 1, 2, 3, 4 columns non-null objets"
   ]
  },
  {
   "cell_type": "code",
   "execution_count": 3570,
   "metadata": {},
   "outputs": [
    {
     "name": "stdout",
     "output_type": "stream",
     "text": [
      "<class 'pandas.core.frame.DataFrame'>\n",
      "Int64Index: 3021 entries, 0 to 9503\n",
      "Data columns (total 2 columns):\n",
      "tweet_id    3021 non-null object\n",
      "url         3021 non-null object\n",
      "dtypes: object(2)\n",
      "memory usage: 70.8+ KB\n"
     ]
    }
   ],
   "source": [
    "## Dropping null urls \n",
    "\n",
    "unified_urls.drop(unified_urls[unified_urls.url.isnull()].index, inplace = True)\n",
    "unified_urls.info()"
   ]
  },
  {
   "cell_type": "markdown",
   "metadata": {},
   "source": [
    "Dropping remaining urls ending in /photo/1 as they link to the tweet not the photos <br>\n",
    "and linking to tweet url is easy knowing the tweet id, so no need for them "
   ]
  },
  {
   "cell_type": "code",
   "execution_count": 3571,
   "metadata": {},
   "outputs": [
    {
     "name": "stdout",
     "output_type": "stream",
     "text": [
      "<class 'pandas.core.frame.DataFrame'>\n",
      "Int64Index: 2942 entries, 0 to 9503\n",
      "Data columns (total 2 columns):\n",
      "tweet_id    2942 non-null object\n",
      "url         2942 non-null object\n",
      "dtypes: object(2)\n",
      "memory usage: 69.0+ KB\n"
     ]
    }
   ],
   "source": [
    "unified_urls.drop(unified_urls[unified_urls.url.str.strip().str.endswith('/photo/1')].index, inplace = True)\n",
    "unified_urls.info()"
   ]
  },
  {
   "cell_type": "markdown",
   "metadata": {},
   "source": [
    "# Saving Dataframe"
   ]
  },
  {
   "cell_type": "markdown",
   "metadata": {},
   "source": [
    "## to_save\n",
    "\n",
    "unified_urls"
   ]
  },
  {
   "cell_type": "markdown",
   "metadata": {},
   "source": [
    "<hr>"
   ]
  },
  {
   "cell_type": "markdown",
   "metadata": {},
   "source": [
    "## fixing puppo, pupper, doggo columns"
   ]
  },
  {
   "cell_type": "markdown",
   "metadata": {},
   "source": [
    "Before converting puppo, pupper, doggo to a stage column, we should clean the 'None' string objects"
   ]
  },
  {
   "cell_type": "code",
   "execution_count": 3572,
   "metadata": {},
   "outputs": [
    {
     "name": "stdout",
     "output_type": "stream",
     "text": [
      "<class 'pandas.core.frame.DataFrame'>\n",
      "Int64Index: 2103 entries, 0 to 2355\n",
      "Data columns (total 3 columns):\n",
      "doggo     86 non-null object\n",
      "puppo     24 non-null object\n",
      "pupper    234 non-null object\n",
      "dtypes: object(3)\n",
      "memory usage: 65.7+ KB\n"
     ]
    }
   ],
   "source": [
    "cleaning_None_objects(dogs_clean, ['doggo', 'pupper', 'puppo', 'floofer'])\n",
    "dogs_clean[['doggo', 'puppo', 'pupper']].info()"
   ]
  },
  {
   "cell_type": "markdown",
   "metadata": {},
   "source": [
    "Also, it's logical that a dog cannot be both pupper and doggo for example because they're different ages, but nothing is guaranteed from messy data, so I will check for this"
   ]
  },
  {
   "cell_type": "code",
   "execution_count": 3573,
   "metadata": {},
   "outputs": [
    {
     "name": "stdout",
     "output_type": "stream",
     "text": [
      "(doggo, puppo) 1\n",
      "(doggo, pupper) 9\n",
      "(puppo, pupper) 0\n",
      "(doggo, puppo, pupper) 0\n"
     ]
    }
   ],
   "source": [
    "## Checking for crossed values before melting\n",
    "\n",
    "# this cell checks if there dogs classified as either (doggo, pupper), \n",
    "# (doggo, puppo), (pupper, puppo) or (doggo, pupper, puppo)\n",
    "\n",
    "dogs_stages = ['doggo', 'puppo', 'pupper']\n",
    "\n",
    "for i in range(len(dogs_stages)):\n",
    "    j = i + 1\n",
    "    for j in range(i + 1, len(dogs_stages)):\n",
    "        print('(%s, %s)' %(dogs_stages[i], dogs_stages[j]),\n",
    "             dogs_clean.query('%s == \"%s\" and %s == \"%s\"'%(dogs_stages[i], dogs_stages[i], dogs_stages[j], dogs_stages[j])).shape[0]\n",
    "             )\n",
    "\n",
    "## Checking for three columns\n",
    "print('(%s, %s, %s)' %('doggo', 'puppo', 'pupper'),\n",
    "             dogs_clean.query('doggo == \"doggo\" and puppo == \"puppo\" and pupper == \"pupper\"').shape[0]\n",
    "     )"
   ]
  },
  {
   "cell_type": "markdown",
   "metadata": {},
   "source": [
    "It seems that there are 1 dog classifed as both doggo and puppo and 9 classifed as both doggo and pupper, so I will check the urls of those dogs"
   ]
  },
  {
   "cell_type": "code",
   "execution_count": 3574,
   "metadata": {},
   "outputs": [
    {
     "data": {
      "text/html": [
       "<div>\n",
       "<style scoped>\n",
       "    .dataframe tbody tr th:only-of-type {\n",
       "        vertical-align: middle;\n",
       "    }\n",
       "\n",
       "    .dataframe tbody tr th {\n",
       "        vertical-align: top;\n",
       "    }\n",
       "\n",
       "    .dataframe thead th {\n",
       "        text-align: right;\n",
       "    }\n",
       "</style>\n",
       "<table border=\"1\" class=\"dataframe\">\n",
       "  <thead>\n",
       "    <tr style=\"text-align: right;\">\n",
       "      <th></th>\n",
       "      <th>tweet_id</th>\n",
       "      <th>timestamp</th>\n",
       "      <th>text</th>\n",
       "      <th>retweeted_status_id</th>\n",
       "      <th>retweeted_status_user_id</th>\n",
       "      <th>retweeted_status_timestamp</th>\n",
       "      <th>expanded_urls</th>\n",
       "      <th>rating_numerator</th>\n",
       "      <th>rating_denominator</th>\n",
       "      <th>name</th>\n",
       "      <th>doggo</th>\n",
       "      <th>floofer</th>\n",
       "      <th>pupper</th>\n",
       "      <th>puppo</th>\n",
       "      <th>source_app</th>\n",
       "      <th>source_url</th>\n",
       "      <th>shortened_urls</th>\n",
       "    </tr>\n",
       "  </thead>\n",
       "  <tbody>\n",
       "    <tr>\n",
       "      <th>191</th>\n",
       "      <td>855851453814013952</td>\n",
       "      <td>2017-04-22 18:31:02</td>\n",
       "      <td>Here's a puppo participating in the #ScienceMarch. Cleverly disguising her own doggo agenda. 13/10 would keep the planet habitable for</td>\n",
       "      <td>None</td>\n",
       "      <td>None</td>\n",
       "      <td>NaT</td>\n",
       "      <td>https://twitter.com/dog_rates/status/855851453814013952/photo/1</td>\n",
       "      <td>13</td>\n",
       "      <td>10</td>\n",
       "      <td>None</td>\n",
       "      <td>doggo</td>\n",
       "      <td>None</td>\n",
       "      <td>None</td>\n",
       "      <td>puppo</td>\n",
       "      <td>Twitter for iPhone</td>\n",
       "      <td>http://twitter.com/download/iphone</td>\n",
       "      <td>https://t.co/cMhq16isel</td>\n",
       "    </tr>\n",
       "  </tbody>\n",
       "</table>\n",
       "</div>"
      ],
      "text/plain": [
       "               tweet_id           timestamp  \\\n",
       "191  855851453814013952 2017-04-22 18:31:02   \n",
       "\n",
       "                                                                                                                                        text  \\\n",
       "191  Here's a puppo participating in the #ScienceMarch. Cleverly disguising her own doggo agenda. 13/10 would keep the planet habitable for    \n",
       "\n",
       "    retweeted_status_id retweeted_status_user_id retweeted_status_timestamp  \\\n",
       "191  None                None                    NaT                          \n",
       "\n",
       "                                                       expanded_urls  \\\n",
       "191  https://twitter.com/dog_rates/status/855851453814013952/photo/1   \n",
       "\n",
       "     rating_numerator  rating_denominator  name  doggo floofer pupper  puppo  \\\n",
       "191  13                10                  None  doggo  None    None   puppo   \n",
       "\n",
       "             source_app                          source_url  \\\n",
       "191  Twitter for iPhone  http://twitter.com/download/iphone   \n",
       "\n",
       "              shortened_urls  \n",
       "191  https://t.co/cMhq16isel  "
      ]
     },
     "execution_count": 3574,
     "metadata": {},
     "output_type": "execute_result"
    }
   ],
   "source": [
    "## doggo and puppo \n",
    "\n",
    "dogs_clean.query('doggo == \"doggo\" and puppo == \"puppo\"')"
   ]
  },
  {
   "cell_type": "markdown",
   "metadata": {},
   "source": [
    "It seems that this dog is actually puppo, so I will change this doggo entry to None"
   ]
  },
  {
   "cell_type": "code",
   "execution_count": 3575,
   "metadata": {},
   "outputs": [],
   "source": [
    "dogs_clean.loc[191, 'doggo'] = None"
   ]
  },
  {
   "cell_type": "code",
   "execution_count": 3576,
   "metadata": {},
   "outputs": [],
   "source": [
    "## Testing\n",
    "assert dogs_clean.query('doggo == \"doggo\" and puppo == \"puppo\"').shape[0] == 0"
   ]
  },
  {
   "cell_type": "code",
   "execution_count": 3577,
   "metadata": {},
   "outputs": [
    {
     "data": {
      "text/html": [
       "<div>\n",
       "<style scoped>\n",
       "    .dataframe tbody tr th:only-of-type {\n",
       "        vertical-align: middle;\n",
       "    }\n",
       "\n",
       "    .dataframe tbody tr th {\n",
       "        vertical-align: top;\n",
       "    }\n",
       "\n",
       "    .dataframe thead th {\n",
       "        text-align: right;\n",
       "    }\n",
       "</style>\n",
       "<table border=\"1\" class=\"dataframe\">\n",
       "  <thead>\n",
       "    <tr style=\"text-align: right;\">\n",
       "      <th></th>\n",
       "      <th>tweet_id</th>\n",
       "      <th>timestamp</th>\n",
       "      <th>text</th>\n",
       "      <th>retweeted_status_id</th>\n",
       "      <th>retweeted_status_user_id</th>\n",
       "      <th>retweeted_status_timestamp</th>\n",
       "      <th>expanded_urls</th>\n",
       "      <th>rating_numerator</th>\n",
       "      <th>rating_denominator</th>\n",
       "      <th>name</th>\n",
       "      <th>doggo</th>\n",
       "      <th>floofer</th>\n",
       "      <th>pupper</th>\n",
       "      <th>puppo</th>\n",
       "      <th>source_app</th>\n",
       "      <th>source_url</th>\n",
       "      <th>shortened_urls</th>\n",
       "    </tr>\n",
       "  </thead>\n",
       "  <tbody>\n",
       "    <tr>\n",
       "      <th>460</th>\n",
       "      <td>817777686764523521</td>\n",
       "      <td>2017-01-07 16:59:28</td>\n",
       "      <td>This is Dido. She's playing the lead role in \"Pupper Stops to Catch Snow Before Resuming Shadow Box with Dried Apple.\" 13/10 (IG: didodoggo)</td>\n",
       "      <td>None</td>\n",
       "      <td>None</td>\n",
       "      <td>NaT</td>\n",
       "      <td>https://twitter.com/dog_rates/status/817777686764523521/video/1</td>\n",
       "      <td>13</td>\n",
       "      <td>10</td>\n",
       "      <td>Dido</td>\n",
       "      <td>doggo</td>\n",
       "      <td>None</td>\n",
       "      <td>pupper</td>\n",
       "      <td>None</td>\n",
       "      <td>Twitter for iPhone</td>\n",
       "      <td>http://twitter.com/download/iphone</td>\n",
       "      <td>https://t.co/m7isZrOBX7</td>\n",
       "    </tr>\n",
       "    <tr>\n",
       "      <th>531</th>\n",
       "      <td>808106460588765185</td>\n",
       "      <td>2016-12-12 00:29:28</td>\n",
       "      <td>Here we have Burke (pupper) and Dexter (doggo). Pupper wants to be exactly like doggo. Both 12/10 would pet at same time</td>\n",
       "      <td>None</td>\n",
       "      <td>None</td>\n",
       "      <td>NaT</td>\n",
       "      <td>https://twitter.com/dog_rates/status/808106460588765185/photo/1</td>\n",
       "      <td>12</td>\n",
       "      <td>10</td>\n",
       "      <td>None</td>\n",
       "      <td>doggo</td>\n",
       "      <td>None</td>\n",
       "      <td>pupper</td>\n",
       "      <td>None</td>\n",
       "      <td>Twitter for iPhone</td>\n",
       "      <td>http://twitter.com/download/iphone</td>\n",
       "      <td>https://t.co/ANBpEYHaho</td>\n",
       "    </tr>\n",
       "    <tr>\n",
       "      <th>575</th>\n",
       "      <td>801115127852503040</td>\n",
       "      <td>2016-11-22 17:28:25</td>\n",
       "      <td>This is Bones. He's being haunted by another doggo of roughly the same size. 12/10 deep breaths pupper everything's fine</td>\n",
       "      <td>None</td>\n",
       "      <td>None</td>\n",
       "      <td>NaT</td>\n",
       "      <td>https://twitter.com/dog_rates/status/801115127852503040/photo/1,https://twitter.com/dog_rates/status/801115127852503040/photo/1</td>\n",
       "      <td>12</td>\n",
       "      <td>10</td>\n",
       "      <td>Bones</td>\n",
       "      <td>doggo</td>\n",
       "      <td>None</td>\n",
       "      <td>pupper</td>\n",
       "      <td>None</td>\n",
       "      <td>Twitter for iPhone</td>\n",
       "      <td>http://twitter.com/download/iphone</td>\n",
       "      <td>https://t.co/55Dqe0SJNj</td>\n",
       "    </tr>\n",
       "    <tr>\n",
       "      <th>705</th>\n",
       "      <td>785639753186217984</td>\n",
       "      <td>2016-10-11 00:34:48</td>\n",
       "      <td>This is Pinot. He's a sophisticated doggo. You can tell by the hat. Also pointier than your average pupper. Still 10/10 would pet cautiously</td>\n",
       "      <td>None</td>\n",
       "      <td>None</td>\n",
       "      <td>NaT</td>\n",
       "      <td>https://twitter.com/dog_rates/status/785639753186217984/photo/1,https://twitter.com/dog_rates/status/785639753186217984/photo/1</td>\n",
       "      <td>10</td>\n",
       "      <td>10</td>\n",
       "      <td>Pinot</td>\n",
       "      <td>doggo</td>\n",
       "      <td>None</td>\n",
       "      <td>pupper</td>\n",
       "      <td>None</td>\n",
       "      <td>Twitter for iPhone</td>\n",
       "      <td>http://twitter.com/download/iphone</td>\n",
       "      <td>https://t.co/f2wmLZTPHd</td>\n",
       "    </tr>\n",
       "    <tr>\n",
       "      <th>733</th>\n",
       "      <td>781308096455073793</td>\n",
       "      <td>2016-09-29 01:42:20</td>\n",
       "      <td>Pupper butt 1, Doggo 0. Both 12/10</td>\n",
       "      <td>None</td>\n",
       "      <td>None</td>\n",
       "      <td>NaT</td>\n",
       "      <td>https://vine.co/v/5rgu2Law2ut</td>\n",
       "      <td>12</td>\n",
       "      <td>10</td>\n",
       "      <td>None</td>\n",
       "      <td>doggo</td>\n",
       "      <td>None</td>\n",
       "      <td>pupper</td>\n",
       "      <td>None</td>\n",
       "      <td>Vine - Make a Scene</td>\n",
       "      <td>http://vine.co</td>\n",
       "      <td>https://t.co/WQvcPEpH2u</td>\n",
       "    </tr>\n",
       "    <tr>\n",
       "      <th>889</th>\n",
       "      <td>759793422261743616</td>\n",
       "      <td>2016-07-31 16:50:42</td>\n",
       "      <td>Meet Maggie &amp;amp; Lila. Maggie is the doggo, Lila is the pupper. They are sisters. Both 12/10 would pet at the same time</td>\n",
       "      <td>None</td>\n",
       "      <td>None</td>\n",
       "      <td>NaT</td>\n",
       "      <td>https://twitter.com/dog_rates/status/759793422261743616/photo/1,https://twitter.com/dog_rates/status/759793422261743616/photo/1</td>\n",
       "      <td>12</td>\n",
       "      <td>10</td>\n",
       "      <td>Maggie</td>\n",
       "      <td>doggo</td>\n",
       "      <td>None</td>\n",
       "      <td>pupper</td>\n",
       "      <td>None</td>\n",
       "      <td>Twitter for iPhone</td>\n",
       "      <td>http://twitter.com/download/iphone</td>\n",
       "      <td>https://t.co/MYwR4DQKll</td>\n",
       "    </tr>\n",
       "    <tr>\n",
       "      <th>956</th>\n",
       "      <td>751583847268179968</td>\n",
       "      <td>2016-07-09 01:08:47</td>\n",
       "      <td>Please stop sending it pictures that don't even have a doggo or pupper in them. Churlish af. 5/10 neat couch tho</td>\n",
       "      <td>None</td>\n",
       "      <td>None</td>\n",
       "      <td>NaT</td>\n",
       "      <td>https://twitter.com/dog_rates/status/751583847268179968/photo/1</td>\n",
       "      <td>5</td>\n",
       "      <td>10</td>\n",
       "      <td>None</td>\n",
       "      <td>doggo</td>\n",
       "      <td>None</td>\n",
       "      <td>pupper</td>\n",
       "      <td>None</td>\n",
       "      <td>Twitter for iPhone</td>\n",
       "      <td>http://twitter.com/download/iphone</td>\n",
       "      <td>https://t.co/u2c9c7qSg8</td>\n",
       "    </tr>\n",
       "    <tr>\n",
       "      <th>1063</th>\n",
       "      <td>741067306818797568</td>\n",
       "      <td>2016-06-10 00:39:48</td>\n",
       "      <td>This is just downright precious af. 12/10 for both pupper and doggo</td>\n",
       "      <td>None</td>\n",
       "      <td>None</td>\n",
       "      <td>NaT</td>\n",
       "      <td>https://twitter.com/dog_rates/status/741067306818797568/photo/1</td>\n",
       "      <td>12</td>\n",
       "      <td>10</td>\n",
       "      <td>None</td>\n",
       "      <td>doggo</td>\n",
       "      <td>None</td>\n",
       "      <td>pupper</td>\n",
       "      <td>None</td>\n",
       "      <td>Twitter for iPhone</td>\n",
       "      <td>http://twitter.com/download/iphone</td>\n",
       "      <td>https://t.co/o5J479bZUC</td>\n",
       "    </tr>\n",
       "    <tr>\n",
       "      <th>1113</th>\n",
       "      <td>733109485275860992</td>\n",
       "      <td>2016-05-19 01:38:16</td>\n",
       "      <td>Like father (doggo), like son (pupper). Both 12/10</td>\n",
       "      <td>None</td>\n",
       "      <td>None</td>\n",
       "      <td>NaT</td>\n",
       "      <td>https://twitter.com/dog_rates/status/733109485275860992/photo/1</td>\n",
       "      <td>12</td>\n",
       "      <td>10</td>\n",
       "      <td>None</td>\n",
       "      <td>doggo</td>\n",
       "      <td>None</td>\n",
       "      <td>pupper</td>\n",
       "      <td>None</td>\n",
       "      <td>Twitter for iPhone</td>\n",
       "      <td>http://twitter.com/download/iphone</td>\n",
       "      <td>https://t.co/pG2inLaOda</td>\n",
       "    </tr>\n",
       "  </tbody>\n",
       "</table>\n",
       "</div>"
      ],
      "text/plain": [
       "                tweet_id           timestamp  \\\n",
       "460   817777686764523521 2017-01-07 16:59:28   \n",
       "531   808106460588765185 2016-12-12 00:29:28   \n",
       "575   801115127852503040 2016-11-22 17:28:25   \n",
       "705   785639753186217984 2016-10-11 00:34:48   \n",
       "733   781308096455073793 2016-09-29 01:42:20   \n",
       "889   759793422261743616 2016-07-31 16:50:42   \n",
       "956   751583847268179968 2016-07-09 01:08:47   \n",
       "1063  741067306818797568 2016-06-10 00:39:48   \n",
       "1113  733109485275860992 2016-05-19 01:38:16   \n",
       "\n",
       "                                                                                                                                               text  \\\n",
       "460   This is Dido. She's playing the lead role in \"Pupper Stops to Catch Snow Before Resuming Shadow Box with Dried Apple.\" 13/10 (IG: didodoggo)    \n",
       "531   Here we have Burke (pupper) and Dexter (doggo). Pupper wants to be exactly like doggo. Both 12/10 would pet at same time                        \n",
       "575   This is Bones. He's being haunted by another doggo of roughly the same size. 12/10 deep breaths pupper everything's fine                        \n",
       "705   This is Pinot. He's a sophisticated doggo. You can tell by the hat. Also pointier than your average pupper. Still 10/10 would pet cautiously    \n",
       "733   Pupper butt 1, Doggo 0. Both 12/10                                                                                                              \n",
       "889   Meet Maggie &amp; Lila. Maggie is the doggo, Lila is the pupper. They are sisters. Both 12/10 would pet at the same time                        \n",
       "956   Please stop sending it pictures that don't even have a doggo or pupper in them. Churlish af. 5/10 neat couch tho                                \n",
       "1063  This is just downright precious af. 12/10 for both pupper and doggo                                                                             \n",
       "1113  Like father (doggo), like son (pupper). Both 12/10                                                                                              \n",
       "\n",
       "     retweeted_status_id retweeted_status_user_id retweeted_status_timestamp  \\\n",
       "460   None                None                    NaT                          \n",
       "531   None                None                    NaT                          \n",
       "575   None                None                    NaT                          \n",
       "705   None                None                    NaT                          \n",
       "733   None                None                    NaT                          \n",
       "889   None                None                    NaT                          \n",
       "956   None                None                    NaT                          \n",
       "1063  None                None                    NaT                          \n",
       "1113  None                None                    NaT                          \n",
       "\n",
       "                                                                                                                        expanded_urls  \\\n",
       "460   https://twitter.com/dog_rates/status/817777686764523521/video/1                                                                   \n",
       "531   https://twitter.com/dog_rates/status/808106460588765185/photo/1                                                                   \n",
       "575   https://twitter.com/dog_rates/status/801115127852503040/photo/1,https://twitter.com/dog_rates/status/801115127852503040/photo/1   \n",
       "705   https://twitter.com/dog_rates/status/785639753186217984/photo/1,https://twitter.com/dog_rates/status/785639753186217984/photo/1   \n",
       "733   https://vine.co/v/5rgu2Law2ut                                                                                                     \n",
       "889   https://twitter.com/dog_rates/status/759793422261743616/photo/1,https://twitter.com/dog_rates/status/759793422261743616/photo/1   \n",
       "956   https://twitter.com/dog_rates/status/751583847268179968/photo/1                                                                   \n",
       "1063  https://twitter.com/dog_rates/status/741067306818797568/photo/1                                                                   \n",
       "1113  https://twitter.com/dog_rates/status/733109485275860992/photo/1                                                                   \n",
       "\n",
       "      rating_numerator  rating_denominator    name  doggo floofer  pupper  \\\n",
       "460   13                10                  Dido    doggo  None    pupper   \n",
       "531   12                10                  None    doggo  None    pupper   \n",
       "575   12                10                  Bones   doggo  None    pupper   \n",
       "705   10                10                  Pinot   doggo  None    pupper   \n",
       "733   12                10                  None    doggo  None    pupper   \n",
       "889   12                10                  Maggie  doggo  None    pupper   \n",
       "956   5                 10                  None    doggo  None    pupper   \n",
       "1063  12                10                  None    doggo  None    pupper   \n",
       "1113  12                10                  None    doggo  None    pupper   \n",
       "\n",
       "     puppo           source_app                          source_url  \\\n",
       "460   None  Twitter for iPhone   http://twitter.com/download/iphone   \n",
       "531   None  Twitter for iPhone   http://twitter.com/download/iphone   \n",
       "575   None  Twitter for iPhone   http://twitter.com/download/iphone   \n",
       "705   None  Twitter for iPhone   http://twitter.com/download/iphone   \n",
       "733   None  Vine - Make a Scene  http://vine.co                       \n",
       "889   None  Twitter for iPhone   http://twitter.com/download/iphone   \n",
       "956   None  Twitter for iPhone   http://twitter.com/download/iphone   \n",
       "1063  None  Twitter for iPhone   http://twitter.com/download/iphone   \n",
       "1113  None  Twitter for iPhone   http://twitter.com/download/iphone   \n",
       "\n",
       "               shortened_urls  \n",
       "460   https://t.co/m7isZrOBX7  \n",
       "531   https://t.co/ANBpEYHaho  \n",
       "575   https://t.co/55Dqe0SJNj  \n",
       "705   https://t.co/f2wmLZTPHd  \n",
       "733   https://t.co/WQvcPEpH2u  \n",
       "889   https://t.co/MYwR4DQKll  \n",
       "956   https://t.co/u2c9c7qSg8  \n",
       "1063  https://t.co/o5J479bZUC  \n",
       "1113  https://t.co/pG2inLaOda  "
      ]
     },
     "execution_count": 3577,
     "metadata": {},
     "output_type": "execute_result"
    }
   ],
   "source": [
    "pd.set_option('display.max_rows', 30)\n",
    "dogs_clean.query('doggo == \"doggo\" and pupper == \"pupper\"')"
   ]
  },
  {
   "cell_type": "markdown",
   "metadata": {},
   "source": [
    "Checking the urls, one dog is actually only pupper, but others contains a photo of a doggo with his pupper and one isn't actually a dog, so I will refrain from converting the columns to one column dog_stage as some photos and ratings contain more than one dog_stage and if I converted to dog_stage column I will have then multi-valued column. <br>\n",
    "Therefore, I will fix first the incorrect ones, drop the non-dog and then convert each column to a boolean like string ('True', 'False') to indicate that the some photos contains more than one dog, also will convert floofer column in the same way. I considered converting the columns to booleans, but since there is no way to probagate nulls in a boolean column in pandas, it will be semantically misleading as many rows will have False in all dog stages (pupper, puppo, doggo), but the dog has to be in one of the stages. I will document this in the internal document along why I didn't convert to dog_stage column."
   ]
  },
  {
   "cell_type": "code",
   "execution_count": 3578,
   "metadata": {},
   "outputs": [],
   "source": [
    "## Nulling incorrect values\n",
    "\n",
    "dogs_clean.loc[[460, 575], 'doggo'] = None\n",
    "dogs_clean.loc[956, 'pupper'] = None"
   ]
  },
  {
   "cell_type": "code",
   "execution_count": 3579,
   "metadata": {},
   "outputs": [],
   "source": [
    "## Droping the no-dog tweeet\n",
    "\n",
    "dogs_clean.drop(705, inplace=True)"
   ]
  },
  {
   "cell_type": "code",
   "execution_count": 3580,
   "metadata": {},
   "outputs": [
    {
     "name": "stdout",
     "output_type": "stream",
     "text": [
      "<class 'pandas.core.frame.DataFrame'>\n",
      "Int64Index: 2102 entries, 0 to 2355\n",
      "Data columns (total 4 columns):\n",
      "doggo      82 non-null object\n",
      "puppo      24 non-null object\n",
      "pupper     232 non-null object\n",
      "floofer    10 non-null object\n",
      "dtypes: object(4)\n",
      "memory usage: 82.1+ KB\n"
     ]
    }
   ],
   "source": [
    "dogs_clean[['doggo', 'puppo', 'pupper', 'floofer']].info()"
   ]
  },
  {
   "cell_type": "code",
   "execution_count": 3581,
   "metadata": {},
   "outputs": [],
   "source": [
    "dogs_clean.pupper = dogs_clean.pupper.str.replace('pupper', 'True')\n",
    "dogs_clean.puppo = dogs_clean.puppo.str.replace('puppo', 'True')\n",
    "dogs_clean.doggo = dogs_clean.doggo.str.replace('doggo', 'True')\n",
    "dogs_clean.floofer = dogs_clean.floofer.str.replace('floofer', 'True')"
   ]
  },
  {
   "cell_type": "code",
   "execution_count": 3591,
   "metadata": {},
   "outputs": [],
   "source": [
    "## If a row is categorized as one or more dog stage, \n",
    "## None entries in the same row are falsified\n",
    "\n",
    "cols = ['pupper', 'puppo', 'doggo']\n",
    "\n",
    "for ind in dogs_clean.index:\n",
    "    for col in cols:\n",
    "        if(dogs_clean.loc[ind, col] == 'True'):\n",
    "            for col in cols:\n",
    "                if dogs_clean.loc[ind, col] == None:\n",
    "                    dogs_clean.loc[ind, col] = 'False'\n",
    "            break"
   ]
  },
  {
   "cell_type": "code",
   "execution_count": 3593,
   "metadata": {
    "scrolled": false
   },
   "outputs": [
    {
     "name": "stdout",
     "output_type": "stream",
     "text": [
      "True     232\n",
      "False    101\n",
      "Name: pupper, dtype: int64\n",
      "False    309\n",
      "True     24 \n",
      "Name: puppo, dtype: int64\n",
      "False    251\n",
      "True     82 \n",
      "Name: doggo, dtype: int64\n"
     ]
    }
   ],
   "source": [
    "## testing \n",
    "\n",
    "for col in cols:\n",
    "    print(dogs_clean[col].value_counts())"
   ]
  },
  {
   "cell_type": "code",
   "execution_count": 3594,
   "metadata": {
    "scrolled": false
   },
   "outputs": [
    {
     "data": {
      "text/html": [
       "<div>\n",
       "<style scoped>\n",
       "    .dataframe tbody tr th:only-of-type {\n",
       "        vertical-align: middle;\n",
       "    }\n",
       "\n",
       "    .dataframe tbody tr th {\n",
       "        vertical-align: top;\n",
       "    }\n",
       "\n",
       "    .dataframe thead th {\n",
       "        text-align: right;\n",
       "    }\n",
       "</style>\n",
       "<table border=\"1\" class=\"dataframe\">\n",
       "  <thead>\n",
       "    <tr style=\"text-align: right;\">\n",
       "      <th></th>\n",
       "      <th>doggo</th>\n",
       "      <th>puppo</th>\n",
       "      <th>pupper</th>\n",
       "    </tr>\n",
       "  </thead>\n",
       "  <tbody>\n",
       "    <tr>\n",
       "      <th>9</th>\n",
       "      <td>True</td>\n",
       "      <td>False</td>\n",
       "      <td>False</td>\n",
       "    </tr>\n",
       "    <tr>\n",
       "      <th>12</th>\n",
       "      <td>False</td>\n",
       "      <td>True</td>\n",
       "      <td>False</td>\n",
       "    </tr>\n",
       "    <tr>\n",
       "      <th>14</th>\n",
       "      <td>False</td>\n",
       "      <td>True</td>\n",
       "      <td>False</td>\n",
       "    </tr>\n",
       "    <tr>\n",
       "      <th>29</th>\n",
       "      <td>False</td>\n",
       "      <td>False</td>\n",
       "      <td>True</td>\n",
       "    </tr>\n",
       "    <tr>\n",
       "      <th>43</th>\n",
       "      <td>True</td>\n",
       "      <td>False</td>\n",
       "      <td>False</td>\n",
       "    </tr>\n",
       "  </tbody>\n",
       "</table>\n",
       "</div>"
      ],
      "text/plain": [
       "    doggo  puppo pupper\n",
       "9   True   False  False\n",
       "12  False  True   False\n",
       "14  False  True   False\n",
       "29  False  False  True \n",
       "43  True   False  False"
      ]
     },
     "execution_count": 3594,
     "metadata": {},
     "output_type": "execute_result"
    }
   ],
   "source": [
    "## testing\n",
    "\n",
    "dogs_clean.loc[dogs_clean.pupper.dropna().index, ['doggo', 'puppo', 'pupper']].head()"
   ]
  },
  {
   "cell_type": "code",
   "execution_count": null,
   "metadata": {},
   "outputs": [],
   "source": [
    "dogs_clean.query('doggo ')"
   ]
  },
  {
   "cell_type": "code",
   "execution_count": 3595,
   "metadata": {},
   "outputs": [
    {
     "name": "stdout",
     "output_type": "stream",
     "text": [
      "<class 'pandas.core.frame.DataFrame'>\n",
      "Int64Index: 2102 entries, 0 to 2355\n",
      "Data columns (total 4 columns):\n",
      "doggo      333 non-null object\n",
      "puppo      333 non-null object\n",
      "pupper     333 non-null object\n",
      "floofer    10 non-null object\n",
      "dtypes: object(4)\n",
      "memory usage: 162.1+ KB\n"
     ]
    }
   ],
   "source": [
    "dogs_clean[['doggo', 'puppo', 'pupper', 'floofer']].info()"
   ]
  },
  {
   "cell_type": "markdown",
   "metadata": {},
   "source": [
    "There was 10 interleavings between dog stages, but after cleaning 5 of them( 1 : {puppo, pupper}, 4 {pupper, doggo}), <br>5 remains. Hence, checking the validity of falsifying entries knowing the number of non-nulls and interleavings according to the following\n",
    "\n",
    "       333 == 232 (non-Nones puper) + 24 (non-null puppo) + 82(non-null doggo) - 5\n",
    "       333 == 338 -5\n",
    "       333 == 333\n",
    "       \n",
    "       \n",
    "Hence, falsying entries operation is valid"
   ]
  },
  {
   "cell_type": "code",
   "execution_count": 3596,
   "metadata": {},
   "outputs": [],
   "source": [
    "## Extra-test check if a column exist contain all Falses\n",
    "assert dogs_clean.query('doggo == \"False\" and pupper == \"False\" and puppo == \"False\"').shape[0] == 0"
   ]
  },
  {
   "cell_type": "code",
   "execution_count": 3003,
   "metadata": {},
   "outputs": [
    {
     "name": "stdout",
     "output_type": "stream",
     "text": [
      "(doggo, puppo) 0\n",
      "(doggo, pupper) 0\n",
      "(puppo, pupper) 0\n"
     ]
    }
   ],
   "source": [
    "## Checking for crossed values before melting\n",
    "\n",
    "# this cell checks if there dogs classified as either (doggo, pupper), \n",
    "# (doggo, puppo), (pupper, puppo) or (doggo, pupper, puppo)\n",
    "\n",
    "dogs_stages = ['doggo', 'puppo', 'pupper']\n",
    "\n",
    "for i in range(len(dogs_stages)):\n",
    "    j = i + 1\n",
    "    for j in range(i + 1, len(dogs_stages)):\n",
    "        print('(%s, %s)' %(dogs_stages[i], dogs_stages[j]),\n",
    "             dogs_clean.query('%s == \"%s\" and %s == \"%s\"'%(dogs_stages[i], dogs_stages[i], dogs_stages[j], dogs_stages[j])).shape[0]\n",
    "             )\n",
    "\n",
    "# ## Checking for three columns\n",
    "# print('(%s, %s, %s)' %('doggo', 'puppo', 'pupper'),\n",
    "#              dogs_clean.query('doggo == \"doggo\" and puppo == \"puppo\" and pupper == \"pupper\"').shape[0]\n",
    "#      )"
   ]
  },
  {
   "cell_type": "markdown",
   "metadata": {},
   "source": [
    "<hr>"
   ]
  },
  {
   "cell_type": "markdown",
   "metadata": {},
   "source": [
    "<hr>"
   ]
  },
  {
   "cell_type": "markdown",
   "metadata": {},
   "source": [
    "# Second Iteration"
   ]
  },
  {
   "cell_type": "markdown",
   "metadata": {},
   "source": [
    "Since expanded urls aren't needed any more, it is removed from dogs_clean and also the shortened_urls"
   ]
  },
  {
   "cell_type": "code",
   "execution_count": 1279,
   "metadata": {},
   "outputs": [
    {
     "name": "stdout",
     "output_type": "stream",
     "text": [
      "<class 'pandas.core.frame.DataFrame'>\n",
      "Int64Index: 2103 entries, 0 to 2355\n",
      "Data columns (total 17 columns):\n",
      "tweet_id                      2103 non-null object\n",
      "timestamp                     2103 non-null datetime64[ns]\n",
      "text                          2103 non-null object\n",
      "retweeted_status_id           59 non-null object\n",
      "retweeted_status_user_id      59 non-null object\n",
      "retweeted_status_timestamp    59 non-null datetime64[ns]\n",
      "expanded_urls                 2103 non-null object\n",
      "rating_numerator              2103 non-null int64\n",
      "rating_denominator            2103 non-null int64\n",
      "name                          1437 non-null object\n",
      "doggo                         2103 non-null object\n",
      "floofer                       2103 non-null object\n",
      "pupper                        2103 non-null object\n",
      "puppo                         2103 non-null object\n",
      "source_app                    2103 non-null object\n",
      "source_url                    2103 non-null object\n",
      "shortened_urls                2077 non-null object\n",
      "dtypes: datetime64[ns](2), int64(2), object(13)\n",
      "memory usage: 295.7+ KB\n"
     ]
    }
   ],
   "source": [
    "dogs_clean.info()"
   ]
  },
  {
   "cell_type": "code",
   "execution_count": 3597,
   "metadata": {},
   "outputs": [
    {
     "data": {
      "text/plain": [
       "['tweet_id',\n",
       " 'timestamp',\n",
       " 'text',\n",
       " 'retweeted_status_id',\n",
       " 'retweeted_status_user_id',\n",
       " 'retweeted_status_timestamp',\n",
       " 'rating_numerator',\n",
       " 'rating_denominator',\n",
       " 'name',\n",
       " 'doggo',\n",
       " 'floofer',\n",
       " 'pupper',\n",
       " 'puppo',\n",
       " 'source_app',\n",
       " 'source_url']"
      ]
     },
     "execution_count": 3597,
     "metadata": {},
     "output_type": "execute_result"
    }
   ],
   "source": [
    "dogs_clean.drop(['shortened_urls', 'expanded_urls'], axis = 1, inplace=True)\n",
    "list(dogs_clean)"
   ]
  },
  {
   "cell_type": "markdown",
   "metadata": {},
   "source": [
    "About the rest of the retweets, As I doubtful of their cleaness, but also sure that they're not retweets of<br>\n",
    "WeRateDogs previous posts conatained in the dogs_clean dataframe, so I'll save them in separate dataframe for future reference and will clean the entires, then drop the column"
   ]
  },
  {
   "cell_type": "code",
   "execution_count": 3612,
   "metadata": {},
   "outputs": [
    {
     "data": {
      "text/plain": [
       "False"
      ]
     },
     "execution_count": 3612,
     "metadata": {},
     "output_type": "execute_result"
    }
   ],
   "source": [
    "### Checking if any of the retweeted_status_ids are in the original tweets\n",
    "any(dogs_clean.retweeted_status_id.dropna().isin(dogs_clean.tweet_id))"
   ]
  },
  {
   "cell_type": "code",
   "execution_count": 3610,
   "metadata": {},
   "outputs": [
    {
     "data": {
      "text/html": [
       "<div>\n",
       "<style scoped>\n",
       "    .dataframe tbody tr th:only-of-type {\n",
       "        vertical-align: middle;\n",
       "    }\n",
       "\n",
       "    .dataframe tbody tr th {\n",
       "        vertical-align: top;\n",
       "    }\n",
       "\n",
       "    .dataframe thead th {\n",
       "        text-align: right;\n",
       "    }\n",
       "</style>\n",
       "<table border=\"1\" class=\"dataframe\">\n",
       "  <thead>\n",
       "    <tr style=\"text-align: right;\">\n",
       "      <th></th>\n",
       "      <th>tweet_id</th>\n",
       "      <th>timestamp</th>\n",
       "      <th>text</th>\n",
       "      <th>retweeted_status_id</th>\n",
       "      <th>retweeted_status_user_id</th>\n",
       "      <th>retweeted_status_timestamp</th>\n",
       "      <th>rating_numerator</th>\n",
       "      <th>rating_denominator</th>\n",
       "      <th>name</th>\n",
       "      <th>doggo</th>\n",
       "      <th>floofer</th>\n",
       "      <th>pupper</th>\n",
       "      <th>puppo</th>\n",
       "      <th>source_app</th>\n",
       "      <th>source_url</th>\n",
       "    </tr>\n",
       "  </thead>\n",
       "  <tbody>\n",
       "    <tr>\n",
       "      <th>32</th>\n",
       "      <td>886054160059072513</td>\n",
       "      <td>2017-07-15 02:45:48</td>\n",
       "      <td>12/10 #BATP</td>\n",
       "      <td>886053734421102592</td>\n",
       "      <td>19607400</td>\n",
       "      <td>2017-07-15 02:44:07</td>\n",
       "      <td>12</td>\n",
       "      <td>10</td>\n",
       "      <td>None</td>\n",
       "      <td>None</td>\n",
       "      <td>None</td>\n",
       "      <td>None</td>\n",
       "      <td>None</td>\n",
       "      <td>Twitter for iPhone</td>\n",
       "      <td>http://twitter.com/download/iphone</td>\n",
       "    </tr>\n",
       "    <tr>\n",
       "      <th>78</th>\n",
       "      <td>877611172832227328</td>\n",
       "      <td>2017-06-21 19:36:23</td>\n",
       "      <td>@dog_rates the boyfriend and his soaking wet pupper h*cking love his new hat 14/10</td>\n",
       "      <td>876850772322988032</td>\n",
       "      <td>512804507</td>\n",
       "      <td>2017-06-19 17:14:49</td>\n",
       "      <td>14</td>\n",
       "      <td>10</td>\n",
       "      <td>None</td>\n",
       "      <td>False</td>\n",
       "      <td>None</td>\n",
       "      <td>True</td>\n",
       "      <td>False</td>\n",
       "      <td>Twitter for iPhone</td>\n",
       "      <td>http://twitter.com/download/iphone</td>\n",
       "    </tr>\n",
       "    <tr>\n",
       "      <th>91</th>\n",
       "      <td>874434818259525634</td>\n",
       "      <td>2017-06-13 01:14:41</td>\n",
       "      <td>This is Coco. At first I thought she was a cloud but clouds don't bork with such passion. 12/10 would hug softly</td>\n",
       "      <td>866334964761202688</td>\n",
       "      <td>4196983835</td>\n",
       "      <td>2017-05-21 16:48:45</td>\n",
       "      <td>12</td>\n",
       "      <td>10</td>\n",
       "      <td>Coco</td>\n",
       "      <td>None</td>\n",
       "      <td>None</td>\n",
       "      <td>None</td>\n",
       "      <td>None</td>\n",
       "      <td>Twitter for iPhone</td>\n",
       "      <td>http://twitter.com/download/iphone</td>\n",
       "    </tr>\n",
       "  </tbody>\n",
       "</table>\n",
       "</div>"
      ],
      "text/plain": [
       "              tweet_id           timestamp  \\\n",
       "32  886054160059072513 2017-07-15 02:45:48   \n",
       "78  877611172832227328 2017-06-21 19:36:23   \n",
       "91  874434818259525634 2017-06-13 01:14:41   \n",
       "\n",
       "                                                                                                                 text  \\\n",
       "32  12/10 #BATP                                                                                                         \n",
       "78  @dog_rates the boyfriend and his soaking wet pupper h*cking love his new hat 14/10                                  \n",
       "91  This is Coco. At first I thought she was a cloud but clouds don't bork with such passion. 12/10 would hug softly    \n",
       "\n",
       "   retweeted_status_id retweeted_status_user_id retweeted_status_timestamp  \\\n",
       "32  886053734421102592  19607400                2017-07-15 02:44:07          \n",
       "78  876850772322988032  512804507               2017-06-19 17:14:49          \n",
       "91  866334964761202688  4196983835              2017-05-21 16:48:45          \n",
       "\n",
       "    rating_numerator  rating_denominator  name  doggo floofer pupper  puppo  \\\n",
       "32  12                10                  None  None   None    None   None    \n",
       "78  14                10                  None  False  None    True   False   \n",
       "91  12                10                  Coco  None   None    None   None    \n",
       "\n",
       "            source_app                          source_url  \n",
       "32  Twitter for iPhone  http://twitter.com/download/iphone  \n",
       "78  Twitter for iPhone  http://twitter.com/download/iphone  \n",
       "91  Twitter for iPhone  http://twitter.com/download/iphone  "
      ]
     },
     "execution_count": 3610,
     "metadata": {},
     "output_type": "execute_result"
    }
   ],
   "source": [
    ".head(3)"
   ]
  },
  {
   "cell_type": "code",
   "execution_count": 3615,
   "metadata": {},
   "outputs": [
    {
     "data": {
      "text/html": [
       "<div>\n",
       "<style scoped>\n",
       "    .dataframe tbody tr th:only-of-type {\n",
       "        vertical-align: middle;\n",
       "    }\n",
       "\n",
       "    .dataframe tbody tr th {\n",
       "        vertical-align: top;\n",
       "    }\n",
       "\n",
       "    .dataframe thead th {\n",
       "        text-align: right;\n",
       "    }\n",
       "</style>\n",
       "<table border=\"1\" class=\"dataframe\">\n",
       "  <thead>\n",
       "    <tr style=\"text-align: right;\">\n",
       "      <th></th>\n",
       "      <th>tweet_id</th>\n",
       "      <th>timestamp</th>\n",
       "      <th>text</th>\n",
       "      <th>retweeted_status_id</th>\n",
       "      <th>retweeted_status_user_id</th>\n",
       "      <th>retweeted_status_timestamp</th>\n",
       "      <th>rating_numerator</th>\n",
       "      <th>rating_denominator</th>\n",
       "      <th>name</th>\n",
       "      <th>doggo</th>\n",
       "      <th>floofer</th>\n",
       "      <th>pupper</th>\n",
       "      <th>puppo</th>\n",
       "      <th>source_app</th>\n",
       "      <th>source_url</th>\n",
       "    </tr>\n",
       "  </thead>\n",
       "  <tbody>\n",
       "    <tr>\n",
       "      <th>32</th>\n",
       "      <td>886054160059072513</td>\n",
       "      <td>2017-07-15 02:45:48</td>\n",
       "      <td>12/10 #BATP</td>\n",
       "      <td>886053734421102592</td>\n",
       "      <td>19607400</td>\n",
       "      <td>2017-07-15 02:44:07</td>\n",
       "      <td>12</td>\n",
       "      <td>10</td>\n",
       "      <td>None</td>\n",
       "      <td>None</td>\n",
       "      <td>None</td>\n",
       "      <td>None</td>\n",
       "      <td>None</td>\n",
       "      <td>Twitter for iPhone</td>\n",
       "      <td>http://twitter.com/download/iphone</td>\n",
       "    </tr>\n",
       "    <tr>\n",
       "      <th>78</th>\n",
       "      <td>877611172832227328</td>\n",
       "      <td>2017-06-21 19:36:23</td>\n",
       "      <td>@dog_rates the boyfriend and his soaking wet pupper h*cking love his new hat 14/10</td>\n",
       "      <td>876850772322988032</td>\n",
       "      <td>512804507</td>\n",
       "      <td>2017-06-19 17:14:49</td>\n",
       "      <td>14</td>\n",
       "      <td>10</td>\n",
       "      <td>None</td>\n",
       "      <td>False</td>\n",
       "      <td>None</td>\n",
       "      <td>True</td>\n",
       "      <td>False</td>\n",
       "      <td>Twitter for iPhone</td>\n",
       "      <td>http://twitter.com/download/iphone</td>\n",
       "    </tr>\n",
       "    <tr>\n",
       "      <th>91</th>\n",
       "      <td>874434818259525634</td>\n",
       "      <td>2017-06-13 01:14:41</td>\n",
       "      <td>This is Coco. At first I thought she was a cloud but clouds don't bork with such passion. 12/10 would hug softly</td>\n",
       "      <td>866334964761202688</td>\n",
       "      <td>4196983835</td>\n",
       "      <td>2017-05-21 16:48:45</td>\n",
       "      <td>12</td>\n",
       "      <td>10</td>\n",
       "      <td>Coco</td>\n",
       "      <td>None</td>\n",
       "      <td>None</td>\n",
       "      <td>None</td>\n",
       "      <td>None</td>\n",
       "      <td>Twitter for iPhone</td>\n",
       "      <td>http://twitter.com/download/iphone</td>\n",
       "    </tr>\n",
       "  </tbody>\n",
       "</table>\n",
       "</div>"
      ],
      "text/plain": [
       "              tweet_id           timestamp  \\\n",
       "32  886054160059072513 2017-07-15 02:45:48   \n",
       "78  877611172832227328 2017-06-21 19:36:23   \n",
       "91  874434818259525634 2017-06-13 01:14:41   \n",
       "\n",
       "                                                                                                                 text  \\\n",
       "32  12/10 #BATP                                                                                                         \n",
       "78  @dog_rates the boyfriend and his soaking wet pupper h*cking love his new hat 14/10                                  \n",
       "91  This is Coco. At first I thought she was a cloud but clouds don't bork with such passion. 12/10 would hug softly    \n",
       "\n",
       "   retweeted_status_id retweeted_status_user_id retweeted_status_timestamp  \\\n",
       "32  886053734421102592  19607400                2017-07-15 02:44:07          \n",
       "78  876850772322988032  512804507               2017-06-19 17:14:49          \n",
       "91  866334964761202688  4196983835              2017-05-21 16:48:45          \n",
       "\n",
       "    rating_numerator  rating_denominator  name  doggo floofer pupper  puppo  \\\n",
       "32  12                10                  None  None   None    None   None    \n",
       "78  14                10                  None  False  None    True   False   \n",
       "91  12                10                  Coco  None   None    None   None    \n",
       "\n",
       "            source_app                          source_url  \n",
       "32  Twitter for iPhone  http://twitter.com/download/iphone  \n",
       "78  Twitter for iPhone  http://twitter.com/download/iphone  \n",
       "91  Twitter for iPhone  http://twitter.com/download/iphone  "
      ]
     },
     "execution_count": 3615,
     "metadata": {},
     "output_type": "execute_result"
    }
   ],
   "source": [
    "retweets_df = dogs_clean.loc[dogs_clean.retweeted_status_id.dropna().index].copy()\n",
    "retweets_df.head(3)"
   ]
  },
  {
   "cell_type": "code",
   "execution_count": 3617,
   "metadata": {},
   "outputs": [
    {
     "name": "stdout",
     "output_type": "stream",
     "text": [
      "<class 'pandas.core.frame.DataFrame'>\n",
      "Int64Index: 2043 entries, 0 to 2355\n",
      "Data columns (total 3 columns):\n",
      "retweeted_status_id           0 non-null object\n",
      "retweeted_status_user_id      0 non-null object\n",
      "retweeted_status_timestamp    0 non-null datetime64[ns]\n",
      "dtypes: datetime64[ns](1), object(2)\n",
      "memory usage: 63.8+ KB\n"
     ]
    }
   ],
   "source": [
    "dogs_clean.drop(retweets_df.index, inplace = True)\n",
    "dogs_clean[['retweeted_status_id', 'retweeted_status_user_id', 'retweeted_status_timestamp']].info()"
   ]
  },
  {
   "cell_type": "code",
   "execution_count": 3618,
   "metadata": {},
   "outputs": [
    {
     "name": "stdout",
     "output_type": "stream",
     "text": [
      "<class 'pandas.core.frame.DataFrame'>\n",
      "Int64Index: 2043 entries, 0 to 2355\n",
      "Data columns (total 12 columns):\n",
      "tweet_id              2043 non-null object\n",
      "timestamp             2043 non-null datetime64[ns]\n",
      "text                  2043 non-null object\n",
      "rating_numerator      2043 non-null int64\n",
      "rating_denominator    2043 non-null int64\n",
      "name                  1401 non-null object\n",
      "doggo                 324 non-null object\n",
      "floofer               10 non-null object\n",
      "pupper                324 non-null object\n",
      "puppo                 324 non-null object\n",
      "source_app            2043 non-null object\n",
      "source_url            2043 non-null object\n",
      "dtypes: datetime64[ns](1), int64(2), object(9)\n",
      "memory usage: 207.5+ KB\n"
     ]
    }
   ],
   "source": [
    "dogs_clean.drop(['retweeted_status_id', 'retweeted_status_user_id', 'retweeted_status_timestamp'],\n",
    "                axis = 1, inplace = True)\n",
    "dogs_clean.info()"
   ]
  },
  {
   "cell_type": "markdown",
   "metadata": {},
   "source": [
    "<hr>"
   ]
  },
  {
   "cell_type": "markdown",
   "metadata": {},
   "source": [
    "> Note: mentions, hashtags, instagram links, I will not extract them and they're easy to extract"
   ]
  },
  {
   "cell_type": "markdown",
   "metadata": {},
   "source": [
    "# Merging Dataframes"
   ]
  },
  {
   "cell_type": "code",
   "execution_count": null,
   "metadata": {},
   "outputs": [],
   "source": []
  },
  {
   "cell_type": "code",
   "execution_count": null,
   "metadata": {},
   "outputs": [],
   "source": []
  },
  {
   "cell_type": "code",
   "execution_count": null,
   "metadata": {},
   "outputs": [],
   "source": []
  },
  {
   "cell_type": "code",
   "execution_count": null,
   "metadata": {},
   "outputs": [],
   "source": []
  },
  {
   "cell_type": "code",
   "execution_count": null,
   "metadata": {},
   "outputs": [],
   "source": []
  },
  {
   "cell_type": "code",
   "execution_count": null,
   "metadata": {},
   "outputs": [],
   "source": []
  },
  {
   "cell_type": "code",
   "execution_count": null,
   "metadata": {},
   "outputs": [],
   "source": []
  }
 ],
 "metadata": {
  "kernelspec": {
   "display_name": "Python [conda env:Anaconda3]",
   "language": "python",
   "name": "conda-env-Anaconda3-py"
  },
  "language_info": {
   "codemirror_mode": {
    "name": "ipython",
    "version": 3
   },
   "file_extension": ".py",
   "mimetype": "text/x-python",
   "name": "python",
   "nbconvert_exporter": "python",
   "pygments_lexer": "ipython3",
   "version": "3.6.5"
  }
 },
 "nbformat": 4,
 "nbformat_minor": 2
}
